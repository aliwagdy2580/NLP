{
 "cells": [
  {
   "cell_type": "code",
   "execution_count": 1,
   "metadata": {},
   "outputs": [],
   "source": [
    "import spacy"
   ]
  },
  {
   "cell_type": "code",
   "execution_count": 2,
   "metadata": {},
   "outputs": [],
   "source": [
    "nlp=spacy.load('en_core_web_lg')"
   ]
  },
  {
   "cell_type": "code",
   "execution_count": 3,
   "metadata": {},
   "outputs": [
    {
     "name": "stdout",
     "output_type": "stream",
     "text": [
      "len stop words :  326\n",
      "{'eight', 'call', 'them', 'that', 'without', 'than', 'but', 'have', 'whether', 'such', 'over', 'i', 'latter', 'again', 'and', 'three', 'amongst', 'whereupon', 'beyond', 'anything', 'too', 'quite', 'seem', 'six', 'be', 'front', 'something', 'it', 'these', 'except', 'hereby', 'nothing', 'can', 'among', 'how', 'your', 'ourselves', 'empty', 'whom', 'still', 'most', 'who', 'full', 'so', 'fifteen', 'same', 'whither', 'had', 'another', 'therefore', 'keep', 'say', '’re', 'does', 'therein', 'next', 'any', 'upon', 'third', 'has', 'due', 'do', 'after', 'few', 'becomes', 'nobody', 'using', 'although', \"'d\", 'anywhere', 'never', 'noone', 'rather', 'further', '‘re', 'there', 'well', 'yourself', 'am', 'also', 'cannot', 'now', 'whenever', 'very', 'a', 'some', 'may', 'onto', 'whereby', 'alone', 'thence', 'together', 'wherever', 'indeed', 'from', '‘ve', \"'re\", 'will', 'we', 'amount', 'those', 'often', '’d', 'about', 'above', \"'ve\", 'various', 're', 'several', 'under', 'otherwise', 'four', 'someone', 'two', 'name', 'mostly', 'ten', 'less', 'where', 'no', 'him', 'elsewhere', 'his', 'see', 'at', 'seemed', \"'ll\", 'however', 'hereupon', 'twelve', 'with', 'their', 'none', 'part', 'hence', 'you', 'which', 'an', 'go', 'itself', 'become', 'top', 'via', '’ve', 'ours', 'he', 'since', 'used', 'the', 'side', '’s', 'many', 'yours', 'thru', 'five', 'per', 'should', 'put', 'everywhere', 'our', 'wherein', 'down', 'hers', 'not', '‘s', 'nowhere', 'its', 'always', 'within', 'besides', 'former', 'whence', 'because', 'made', 'being', 'doing', 'they', 'anyone', '’m', 'ever', 'anyway', 'whole', 'thereby', 'might', 'her', 'both', 'around', 'already', 'to', 'for', 'against', 'show', 'on', 'perhaps', 'by', 'somewhere', 'is', 'or', \"'s\", 'into', 'toward', 'whose', 'beside', 'back', 'bottom', 'least', 'before', 'n’t', 'twenty', 'though', '’ll', 'everyone', '‘d', 'me', 'make', 'somehow', 'whereas', \"'m\", 'neither', 'done', 'once', 'seems', 'across', 'becoming', 'here', 'could', 'my', 'hereafter', 'move', 'she', 'thus', 'others', 'what', 'just', 'throughout', 'hundred', 'nine', 'take', 'until', 'towards', 'beforehand', 'seeming', 'last', 'along', 'why', 'are', '‘m', 'each', 'this', 'one', 'sometime', 'anyhow', 'formerly', 'herself', 'n‘t', 'became', 'if', 'almost', 'were', 'thereafter', 'eleven', 'whereafter', 'afterwards', 'was', 'really', 'give', 'must', 'yourselves', 'myself', 'enough', 'more', 'forty', 'other', 'out', 'sixty', '‘ll', 'when', 'whatever', 'in', 'been', 'up', 'ca', 'either', 'himself', 'as', 'during', 'only', 'latterly', 'of', 'behind', 'mine', 'themselves', 'herein', 'would', 'unless', 'us', 'did', 'please', 'every', 'between', 'nor', 'while', 'yet', 'moreover', \"n't\", 'whoever', 'get', 'regarding', 'all', 'serious', 'thereupon', 'meanwhile', 'then', 'own', 'nevertheless', 'much', 'namely', 'everything', 'below', 'fifty', 'else', 'sometimes', 'first', 'through', 'even', 'off'}\n"
     ]
    }
   ],
   "source": [
    "#show stop words\n",
    "print('len stop words : ',len(nlp.Defaults.stop_words))\n",
    "print(nlp.Defaults.stop_words)"
   ]
  },
  {
   "cell_type": "code",
   "execution_count": 4,
   "metadata": {},
   "outputs": [
    {
     "name": "stdout",
     "output_type": "stream",
     "text": [
      "False\n"
     ]
    }
   ],
   "source": [
    "print(nlp.vocab['ali'].is_stop)"
   ]
  },
  {
   "cell_type": "code",
   "execution_count": 5,
   "metadata": {},
   "outputs": [],
   "source": [
    "#add stopwords\n",
    "nlp.Defaults.stop_words.add('ali')\n",
    "nlp.vocab['ali'].is_stop=True"
   ]
  },
  {
   "cell_type": "code",
   "execution_count": 6,
   "metadata": {},
   "outputs": [
    {
     "name": "stdout",
     "output_type": "stream",
     "text": [
      "True\n"
     ]
    }
   ],
   "source": [
    "print(nlp.vocab['ali'].is_stop)"
   ]
  },
  {
   "cell_type": "code",
   "execution_count": 7,
   "metadata": {},
   "outputs": [],
   "source": [
    "#remode stopwords\n",
    "nlp.Defaults.stop_words.remove('ali')\n",
    "nlp.vocab['ali'].is_stop=False"
   ]
  },
  {
   "cell_type": "code",
   "execution_count": 8,
   "metadata": {},
   "outputs": [
    {
     "name": "stdout",
     "output_type": "stream",
     "text": [
      "False\n"
     ]
    }
   ],
   "source": [
    "print(nlp.vocab['ali'].is_stop)"
   ]
  },
  {
   "cell_type": "code",
   "execution_count": 9,
   "metadata": {},
   "outputs": [],
   "source": [
    "doc=nlp('The Battle of the Saw was the culminating battle of a campaign fought between a Carthaginian army led by Hamilcar Barca and a rebel force led by Spendius in 238 BC in what is now northern Tunisia. Carthage was fighting a coalition of mutinous soldiers and rebellious African cities in the Mercenary War which had started in 240 BC. Unable to confront the Carthaginian war elephants and cavalry on open ground, the rebels stayed on higher and rougher terrain and harassed the Carthaginian army. After several months of campaigning, Hamilcar trapped the rebels. Pinned against local mountains known as \"the Saw\" due to their sawlike shape, with their supply lines blockaded and with their food exhausted, the rebels ate their horses, their prisoners and then their slaves, hoping that their comrades in Tunis would sortie to rescue them. Eventually, the Carthaginians, led by their elephants, attacked the starving rebels and they were all massacred. The captured rebel leaders were crucified (depiction shown) in sight of their comrades in Tunis.')"
   ]
  },
  {
   "cell_type": "code",
   "execution_count": 10,
   "metadata": {},
   "outputs": [],
   "source": [
    "stopwords=set(nlp.Defaults.stop_words)"
   ]
  },
  {
   "cell_type": "code",
   "execution_count": 11,
   "metadata": {},
   "outputs": [],
   "source": [
    "tokens=[]\n",
    "for token in doc:\n",
    "    if not token.text in stopwords:\n",
    "        tokens.append(token.text)"
   ]
  },
  {
   "cell_type": "code",
   "execution_count": 12,
   "metadata": {},
   "outputs": [
    {
     "name": "stdout",
     "output_type": "stream",
     "text": [
      "115\n",
      "['The', 'Battle', 'Saw', 'culminating', 'battle', 'campaign', 'fought', 'Carthaginian', 'army', 'led', 'Hamilcar', 'Barca', 'rebel', 'force', 'led', 'Spendius', '238', 'BC', 'northern', 'Tunisia', '.', 'Carthage', 'fighting', 'coalition', 'mutinous', 'soldiers', 'rebellious', 'African', 'cities', 'Mercenary', 'War', 'started', '240', 'BC', '.', 'Unable', 'confront', 'Carthaginian', 'war', 'elephants', 'cavalry', 'open', 'ground', ',', 'rebels', 'stayed', 'higher', 'rougher', 'terrain', 'harassed', 'Carthaginian', 'army', '.', 'After', 'months', 'campaigning', ',', 'Hamilcar', 'trapped', 'rebels', '.', 'Pinned', 'local', 'mountains', 'known', '\"', 'Saw', '\"', 'sawlike', 'shape', ',', 'supply', 'lines', 'blockaded', 'food', 'exhausted', ',', 'rebels', 'ate', 'horses', ',', 'prisoners', 'slaves', ',', 'hoping', 'comrades', 'Tunis', 'sortie', 'rescue', '.', 'Eventually', ',', 'Carthaginians', ',', 'led', 'elephants', ',', 'attacked', 'starving', 'rebels', 'massacred', '.', 'The', 'captured', 'rebel', 'leaders', 'crucified', '(', 'depiction', 'shown', ')', 'sight', 'comrades', 'Tunis', '.']\n"
     ]
    }
   ],
   "source": [
    "print(len(tokens))\n",
    "print(tokens)"
   ]
  },
  {
   "cell_type": "markdown",
   "metadata": {},
   "source": [
    "# stopwords from nltk"
   ]
  },
  {
   "cell_type": "code",
   "execution_count": 13,
   "metadata": {},
   "outputs": [
    {
     "name": "stderr",
     "output_type": "stream",
     "text": [
      "[nltk_data] Downloading package stopwords to\n",
      "[nltk_data]     C:\\Users\\dell\\AppData\\Roaming\\nltk_data...\n",
      "[nltk_data]   Package stopwords is already up-to-date!\n"
     ]
    },
    {
     "data": {
      "text/plain": [
       "True"
      ]
     },
     "execution_count": 13,
     "metadata": {},
     "output_type": "execute_result"
    }
   ],
   "source": [
    "import nltk \n",
    "nltk.download('stopwords')"
   ]
  },
  {
   "cell_type": "code",
   "execution_count": 14,
   "metadata": {},
   "outputs": [],
   "source": [
    "doc='The Battle of the Saw was the culminating battle of a campaign fought between a Carthaginian army led by Hamilcar Barca and a rebel force led by Spendius in 238 BC in what is now northern Tunisia. Carthage was fighting a coalition of mutinous soldiers and rebellious African cities in the Mercenary War which had started in 240 BC. Unable to confront the Carthaginian war elephants and cavalry on open ground, the rebels stayed on higher and rougher terrain and harassed the Carthaginian army. After several months of campaigning, Hamilcar trapped the rebels. Pinned against local mountains known as \"the Saw\" due to their sawlike shape, with their supply lines blockaded and with their food exhausted, the rebels ate their horses, their prisoners and then their slaves, hoping that their comrades in Tunis would sortie to rescue them. Eventually, the Carthaginians, led by their elephants, attacked the starving rebels and they were all massacred. The captured rebel leaders were crucified (depiction shown) in sight of their comrades in Tunis.'"
   ]
  },
  {
   "cell_type": "code",
   "execution_count": 15,
   "metadata": {},
   "outputs": [],
   "source": [
    "from nltk.corpus import stopwords\n",
    "from nltk.tokenize import word_tokenize"
   ]
  },
  {
   "cell_type": "code",
   "execution_count": 16,
   "metadata": {},
   "outputs": [],
   "source": [
    "stopwords=set(stopwords.words('english'))\n",
    "word_tokenize=word_tokenize(doc)"
   ]
  },
  {
   "cell_type": "code",
   "execution_count": 17,
   "metadata": {},
   "outputs": [
    {
     "name": "stdout",
     "output_type": "stream",
     "text": [
      "189\n",
      "179\n"
     ]
    }
   ],
   "source": [
    "# length of words befor delete stopwords\n",
    "print(len(word_tokenize))\n",
    "print(len(stopwords))"
   ]
  },
  {
   "cell_type": "code",
   "execution_count": 18,
   "metadata": {},
   "outputs": [],
   "source": [
    "filters=[w for w in word_tokenize if not w.lower() in stopwords]"
   ]
  },
  {
   "cell_type": "code",
   "execution_count": 19,
   "metadata": {},
   "outputs": [
    {
     "name": "stdout",
     "output_type": "stream",
     "text": [
      "['Battle', 'Saw', 'culminating', 'battle', 'campaign', 'fought', 'Carthaginian', 'army', 'led', 'Hamilcar', 'Barca', 'rebel', 'force', 'led', 'Spendius', '238', 'BC', 'northern', 'Tunisia', '.', 'Carthage', 'fighting', 'coalition', 'mutinous', 'soldiers', 'rebellious', 'African', 'cities', 'Mercenary', 'War', 'started', '240', 'BC', '.', 'Unable', 'confront', 'Carthaginian', 'war', 'elephants', 'cavalry', 'open', 'ground', ',', 'rebels', 'stayed', 'higher', 'rougher', 'terrain', 'harassed', 'Carthaginian', 'army', '.', 'several', 'months', 'campaigning', ',', 'Hamilcar', 'trapped', 'rebels', '.', 'Pinned', 'local', 'mountains', 'known', '``', 'Saw', \"''\", 'due', 'sawlike', 'shape', ',', 'supply', 'lines', 'blockaded', 'food', 'exhausted', ',', 'rebels', 'ate', 'horses', ',', 'prisoners', 'slaves', ',', 'hoping', 'comrades', 'Tunis', 'would', 'sortie', 'rescue', '.', 'Eventually', ',', 'Carthaginians', ',', 'led', 'elephants', ',', 'attacked', 'starving', 'rebels', 'massacred', '.', 'captured', 'rebel', 'leaders', 'crucified', '(', 'depiction', 'shown', ')', 'sight', 'comrades', 'Tunis', '.']\n"
     ]
    }
   ],
   "source": [
    "print(filters)"
   ]
  },
  {
   "cell_type": "code",
   "execution_count": 20,
   "metadata": {},
   "outputs": [
    {
     "name": "stdout",
     "output_type": "stream",
     "text": [
      "115\n"
     ]
    }
   ],
   "source": [
    "# length of words after delete stopwords\n",
    "\n",
    "print(len(filters))"
   ]
  },
  {
   "cell_type": "markdown",
   "metadata": {},
   "source": [
    "# arabic"
   ]
  },
  {
   "cell_type": "code",
   "execution_count": 21,
   "metadata": {},
   "outputs": [],
   "source": [
    "from nltk.tokenize import word_tokenize\n",
    "from nltk.corpus import stopwords"
   ]
  },
  {
   "cell_type": "code",
   "execution_count": 22,
   "metadata": {},
   "outputs": [],
   "source": [
    "doc1='السلطان الغازي محمد خان الثاني الفاتح هو سابع سلاطين الدولة العثمانية وسلالة آل عثمان، يُلقب، إلى جانب \"الفاتح\"، بأبي الفتوح وأبي الخيرات، وبعد فتح القسطنطينية أضيف لقب \"قيصر\" إلى ألقابه وألقاب باقي السلاطين الذين تلوه. حكم ما يقرب من ثلاثين عامًا عرفت توسعًا كبيرًا للخلافة الإسلامية. يُعرف هذا السلطان بأنه هو من قضى نهائيًا على الإمبراطورية البيزنطية بعد أن استمرّت أحد عشر قرنًا ونيفًا، ويعتبر الكثير من المؤرخين هذا الحدث خاتمة العصور الوسطى وبداية العصور الحديثة، وعند الأتراك فهذا الحدث هو \"فاتحة عصر الملوك\". تابع السلطان محمد فتوحاته في آسيا، فوحّد ممالك الأناضول، وتوغّل في أوروبا حتى بلغراد. من أبرز أعماله الإدارية دمجه للإدارات البيزنطية القديمة في جسم الدولة العثمانية المتوسعة آنذاك. كان محمد الثاني عالي الثقافة ومحباً للعلم والعلماء، ومن شيوخه آق شمس الدين وأحمد الكوراني، وقد تكلّم عدداً من اللغات إلى جانب اللغة التركية، وهي: الفرنسية، واللاتينية، واليونانية، والصربية، والفارسية، والعربية. قاد السلطان حملة لم يحدد وجهتها، لأنه كان شديد الحرص على عدم كشف مخططاته العسكرية حتى لأقرب وأعز قواده. وقد قال في هذا الصدد عندما سئل مرة: \"لو عرفته شعرة من لحيتي لقلعتها\"، لكن المؤرخين يخمنون بأنها كانت إلى إيطاليا. عرض أهل البندقية على طبيبه الخاص \"يعقوب باشا\" أن يقوم هو باغتياله، ولم يكن يعقوب مسلما عند الولادة فقد ولد بإيطاليا، وقد ادعى الهداية، وأسلم. بدأ يعقوب يدس السم تدريجيا للسلطان، ولكن عندما علم بأمر الحملة زاد جرعة السم. وتوفى السلطان في يوم 3 مايو عام 1481م، الموافق 4 ربيع الأول سنة 886هـ . '"
   ]
  },
  {
   "cell_type": "code",
   "execution_count": 23,
   "metadata": {},
   "outputs": [
    {
     "name": "stdout",
     "output_type": "stream",
     "text": [
      "1420\n"
     ]
    }
   ],
   "source": [
    "print(len(doc1))"
   ]
  },
  {
   "cell_type": "code",
   "execution_count": 24,
   "metadata": {},
   "outputs": [],
   "source": [
    "stopwords=set(stopwords.words('arabic'))\n",
    "word_tokenize=word_tokenize(doc1)"
   ]
  },
  {
   "cell_type": "code",
   "execution_count": 25,
   "metadata": {},
   "outputs": [
    {
     "name": "stdout",
     "output_type": "stream",
     "text": [
      "243\n",
      "{'مهما', 'إي', 'لو', 'لسن', 'بها', 'ليسا', 'هو', 'مذ', 'لها', 'آها', 'كأي', 'أيها', 'ذوا', 'نحن', 'منذ', 'لولا', 'عدا', 'إليكما', 'عل', 'هذا', 'بماذا', 'والذي', 'إليكن', 'تلكما', 'شتان', 'مع', 'مما', 'اللتين', 'إنه', 'فإن', 'كيفما', 'ولكن', 'تلكم', 'ليست', 'ممن', 'هؤلاء', 'ألا', 'إنما', 'إلى', 'لكم', 'خلا', 'ليسوا', 'لا', 'حبذا', 'ذلكم', 'من', 'لنا', 'وإذ', 'ذو', 'بما', 'عليك', 'ولو', 'إذن', 'هذه', 'هيا', 'عن', 'لي', 'هاهنا', 'بكما', 'ذانك', 'هن', 'به', 'لكيلا', 'أنى', 'ها', 'لئن', 'كليكما', 'بيد', 'كلما', 'فمن', 'آي', 'قد', 'كم', 'آه', 'ذات', 'إذما', 'يا', 'فيم', 'عسى', 'فيه', 'هيت', 'لكما', 'هكذا', 'أنتم', 'لعل', 'لكن', 'كأن', 'هم', 'لوما', 'إنا', 'كي', 'لاسيما', 'كلا', 'أما', 'إما', 'لكي', 'ذواتا', 'سوف', 'حيثما', 'إذ', 'أن', 'بس', 'اللذين', 'كيف', 'ومن', 'بهن', 'في', 'ذا', 'هذان', 'كذا', 'ماذا', 'إليك', 'لكنما', 'لهن', 'عند', 'كليهما', 'لن', 'تين', 'عما', 'دون', 'لهما', 'على', 'بعض', 'مه', 'إن', 'ثمة', 'هما', 'هاته', 'غير', 'أولئك', 'فيها', 'عليه', 'له', 'هلا', 'ذين', 'والذين', 'أف', 'كأين', 'أنتما', 'كلاهما', 'كيت', 'أينما', 'تينك', 'متى', 'بعد', 'أنا', 'ته', 'ذلك', 'بهما', 'ما', 'هاتين', 'أين', 'أنت', 'الذي', 'بكم', 'ذواتي', 'ليس', 'وما', 'بنا', 'سوى', 'ذلكما', 'كلتا', 'هيهات', 'بمن', 'كأنما', 'أقل', 'هناك', 'بخ', 'منها', 'نحو', 'لسنا', 'كما', 'اللاتي', 'ذلكن', 'حاشا', 'فلا', 'ولا', 'اللتان', 'اللذان', 'حتى', 'لما', 'نعم', 'هاتي', 'ثم', 'تلك', 'إيه', 'لم', 'اللتيا', 'بلى', 'ليت', 'لستم', 'حيث', 'إليكم', 'لستما', 'لك', 'بكن', 'اللواتي', 'بهم', 'التي', 'بين', 'فإذا', 'لدى', 'ذه', 'هنا', 'حين', 'ذاك', 'هل', 'ذي', 'وهو', 'أم', 'هنالك', 'إذا', 'لستن', 'الذين', 'ذان', 'أو', 'كل', 'وإن', 'أولاء', 'هي', 'أنتن', 'أكثر', 'ريث', 'بل', 'بي', 'هاك', 'أي', 'بك', 'تي', 'هذي', 'هذين', 'وإذا', 'منه', 'ليستا', 'لهم', 'ذينك', 'هاتان', 'فيما', 'كذلك', 'اللائي', 'أوه', 'لست', 'إلا'}\n"
     ]
    }
   ],
   "source": [
    "print(len(stopwords))\n",
    "print(stopwords)"
   ]
  },
  {
   "cell_type": "code",
   "execution_count": 26,
   "metadata": {},
   "outputs": [],
   "source": [
    "tokens=[w for w in word_tokenize if not w in stopwords ]"
   ]
  },
  {
   "cell_type": "code",
   "execution_count": 27,
   "metadata": {},
   "outputs": [
    {
     "name": "stdout",
     "output_type": "stream",
     "text": [
      "['السلطان', 'الغازي', 'محمد', 'خان', 'الثاني', 'الفاتح', 'سابع', 'سلاطين', 'الدولة', 'العثمانية', 'وسلالة', 'آل', 'عثمان،', 'يُلقب،', 'جانب', '``', 'الفاتح', \"''\", '،', 'بأبي', 'الفتوح', 'وأبي', 'الخيرات،', 'وبعد', 'فتح', 'القسطنطينية', 'أضيف', 'لقب', '``', 'قيصر', \"''\", 'ألقابه', 'وألقاب', 'باقي', 'السلاطين', 'تلوه', '.', 'حكم', 'يقرب', 'ثلاثين', 'عامًا', 'عرفت', 'توسعًا', 'كبيرًا', 'للخلافة', 'الإسلامية', '.', 'يُعرف', 'السلطان', 'بأنه', 'قضى', 'نهائيًا', 'الإمبراطورية', 'البيزنطية', 'استمرّت', 'أحد', 'عشر', 'قرنًا', 'ونيفًا،', 'ويعتبر', 'الكثير', 'المؤرخين', 'الحدث', 'خاتمة', 'العصور', 'الوسطى', 'وبداية', 'العصور', 'الحديثة،', 'وعند', 'الأتراك', 'فهذا', 'الحدث', '``', 'فاتحة', 'عصر', 'الملوك', \"''\", '.', 'تابع', 'السلطان', 'محمد', 'فتوحاته', 'آسيا،', 'فوحّد', 'ممالك', 'الأناضول،', 'وتوغّل', 'أوروبا', 'بلغراد', '.', 'أبرز', 'أعماله', 'الإدارية', 'دمجه', 'للإدارات', 'البيزنطية', 'القديمة', 'جسم', 'الدولة', 'العثمانية', 'المتوسعة', 'آنذاك', '.', 'كان', 'محمد', 'الثاني', 'عالي', 'الثقافة', 'ومحباً', 'للعلم', 'والعلماء،', 'شيوخه', 'آق', 'شمس', 'الدين', 'وأحمد', 'الكوراني،', 'وقد', 'تكلّم', 'عدداً', 'اللغات', 'جانب', 'اللغة', 'التركية،', 'وهي', ':', 'الفرنسية،', 'واللاتينية،', 'واليونانية،', 'والصربية،', 'والفارسية،', 'والعربية', '.', 'قاد', 'السلطان', 'حملة', 'يحدد', 'وجهتها،', 'لأنه', 'كان', 'شديد', 'الحرص', 'عدم', 'كشف', 'مخططاته', 'العسكرية', 'لأقرب', 'وأعز', 'قواده', '.', 'وقد', 'قال', 'الصدد', 'عندما', 'سئل', 'مرة', ':', '``', 'عرفته', 'شعرة', 'لحيتي', 'لقلعتها', \"''\", '،', 'المؤرخين', 'يخمنون', 'بأنها', 'كانت', 'إيطاليا', '.', 'عرض', 'أهل', 'البندقية', 'طبيبه', 'الخاص', '``', 'يعقوب', 'باشا', \"''\", 'يقوم', 'باغتياله،', 'ولم', 'يكن', 'يعقوب', 'مسلما', 'الولادة', 'فقد', 'ولد', 'بإيطاليا،', 'وقد', 'ادعى', 'الهداية،', 'وأسلم', '.', 'بدأ', 'يعقوب', 'يدس', 'السم', 'تدريجيا', 'للسلطان،', 'عندما', 'علم', 'بأمر', 'الحملة', 'زاد', 'جرعة', 'السم', '.', 'وتوفى', 'السلطان', 'يوم', '3', 'مايو', 'عام', '1481م،', 'الموافق', '4', 'ربيع', 'الأول', 'سنة', '886هـ', '.']\n"
     ]
    }
   ],
   "source": [
    "print(tokens)"
   ]
  },
  {
   "cell_type": "code",
   "execution_count": 28,
   "metadata": {},
   "outputs": [
    {
     "name": "stdout",
     "output_type": "stream",
     "text": [
      "223\n"
     ]
    }
   ],
   "source": [
    "print(len(tokens))"
   ]
  },
  {
   "cell_type": "code",
   "execution_count": null,
   "metadata": {},
   "outputs": [],
   "source": []
  }
 ],
 "metadata": {
  "kernelspec": {
   "display_name": "Python 3",
   "language": "python",
   "name": "python3"
  },
  "language_info": {
   "codemirror_mode": {
    "name": "ipython",
    "version": 3
   },
   "file_extension": ".py",
   "mimetype": "text/x-python",
   "name": "python",
   "nbconvert_exporter": "python",
   "pygments_lexer": "ipython3",
   "version": "3.7.4"
  }
 },
 "nbformat": 4,
 "nbformat_minor": 2
}
