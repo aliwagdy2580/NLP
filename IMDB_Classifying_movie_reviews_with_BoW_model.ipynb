{
  "nbformat": 4,
  "nbformat_minor": 0,
  "metadata": {
    "colab": {
      "name": "IMDB Classifying movie reviews  with BoW model.ipynb",
      "provenance": [],
      "collapsed_sections": [],
      "authorship_tag": "ABX9TyOxs1v5HrUi00bgnZMuO32s",
      "include_colab_link": true
    },
    "kernelspec": {
      "name": "python3",
      "display_name": "Python 3"
    },
    "language_info": {
      "name": "python"
    }
  },
  "cells": [
    {
      "cell_type": "markdown",
      "metadata": {
        "id": "view-in-github",
        "colab_type": "text"
      },
      "source": [
        "<a href=\"https://colab.research.google.com/github/aliwagdy2580/NLP/blob/aliwagdy2580-patch-1/IMDB_Classifying_movie_reviews_with_BoW_model.ipynb\" target=\"_parent\"><img src=\"https://colab.research.google.com/assets/colab-badge.svg\" alt=\"Open In Colab\"/></a>"
      ]
    },
    {
      "cell_type": "code",
      "metadata": {
        "colab": {
          "base_uri": "https://localhost:8080/"
        },
        "id": "EqiXaGauGC75",
        "outputId": "aba42624-cd54-41fe-9e2a-c0421371225e"
      },
      "source": [
        "import numpy as np\n",
        "import pandas as pd\n",
        "import matplotlib.pyplot as plt\n",
        "\n",
        "\n",
        "from keras.datasets import imdb\n",
        "from keras import layers\n",
        "from keras import models\n",
        "from keras import optimizers\n",
        "\n",
        "from sklearn.model_selection import train_test_split\n",
        "import nltk\n",
        "nltk.download('punkt')\n",
        "from nltk.tokenize import word_tokenize\n",
        "from nltk.corpus import stopwords\n",
        "nltk.download('stopwords')\n",
        "from nltk.stem.porter import PorterStemmer\n",
        "from nltk.stem import WordNetLemmatizer\n",
        "nltk.download('wordnet')\n",
        "stop_words=stopwords.words('english')"
      ],
      "execution_count": 1,
      "outputs": [
        {
          "output_type": "stream",
          "text": [
            "[nltk_data] Downloading package punkt to /root/nltk_data...\n",
            "[nltk_data]   Package punkt is already up-to-date!\n",
            "[nltk_data] Downloading package stopwords to /root/nltk_data...\n",
            "[nltk_data]   Package stopwords is already up-to-date!\n",
            "[nltk_data] Downloading package wordnet to /root/nltk_data...\n",
            "[nltk_data]   Package wordnet is already up-to-date!\n"
          ],
          "name": "stdout"
        }
      ]
    },
    {
      "cell_type": "markdown",
      "metadata": {
        "id": "T9WZtot9L06X"
      },
      "source": [
        "# **Classifying movie reviews with BoW model**"
      ]
    },
    {
      "cell_type": "markdown",
      "metadata": {
        "id": "faxbhp6vORBz"
      },
      "source": [
        "# The IMDB dataset"
      ]
    },
    {
      "cell_type": "markdown",
      "metadata": {
        "id": "p5hNAu2OOOAB"
      },
      "source": [
        "We'll be working with \"IMDB dataset\", a set of 50,000 highly-polarized reviews from the Internet Movie Database. They are split into 25,000 reviews for training and 25,000 reviews for testing, each set consisting in 50% negative and 50% positive reviews."
      ]
    },
    {
      "cell_type": "code",
      "metadata": {
        "colab": {
          "base_uri": "https://localhost:8080/"
        },
        "id": "Met53Wa3MB9b",
        "outputId": "97fa67ee-9000-4c0e-d05a-f61f201e0dac"
      },
      "source": [
        "(train_data,train_labels),(test_data,test_labels)=imdb.load_data(num_words=10000)"
      ],
      "execution_count": 2,
      "outputs": [
        {
          "output_type": "stream",
          "text": [
            "<string>:6: VisibleDeprecationWarning: Creating an ndarray from ragged nested sequences (which is a list-or-tuple of lists-or-tuples-or ndarrays with different lengths or shapes) is deprecated. If you meant to do this, you must specify 'dtype=object' when creating the ndarray\n",
            "/usr/local/lib/python3.7/dist-packages/keras/datasets/imdb.py:155: VisibleDeprecationWarning: Creating an ndarray from ragged nested sequences (which is a list-or-tuple of lists-or-tuples-or ndarrays with different lengths or shapes) is deprecated. If you meant to do this, you must specify 'dtype=object' when creating the ndarray\n",
            "  x_train, y_train = np.array(xs[:idx]), np.array(labels[:idx])\n",
            "/usr/local/lib/python3.7/dist-packages/keras/datasets/imdb.py:156: VisibleDeprecationWarning: Creating an ndarray from ragged nested sequences (which is a list-or-tuple of lists-or-tuples-or ndarrays with different lengths or shapes) is deprecated. If you meant to do this, you must specify 'dtype=object' when creating the ndarray\n",
            "  x_test, y_test = np.array(xs[idx:]), np.array(labels[idx:])\n"
          ],
          "name": "stderr"
        }
      ]
    },
    {
      "cell_type": "code",
      "metadata": {
        "colab": {
          "base_uri": "https://localhost:8080/"
        },
        "id": "00qvUlXFMdqb",
        "outputId": "6f23bd5f-7810-4648-d831-1775e23ec2c5"
      },
      "source": [
        "print(train_data.shape)\n",
        "print(test_data.shape)\n",
        "print(train_data[0])"
      ],
      "execution_count": 3,
      "outputs": [
        {
          "output_type": "stream",
          "text": [
            "(25000,)\n",
            "(25000,)\n",
            "[1, 14, 22, 16, 43, 530, 973, 1622, 1385, 65, 458, 4468, 66, 3941, 4, 173, 36, 256, 5, 25, 100, 43, 838, 112, 50, 670, 2, 9, 35, 480, 284, 5, 150, 4, 172, 112, 167, 2, 336, 385, 39, 4, 172, 4536, 1111, 17, 546, 38, 13, 447, 4, 192, 50, 16, 6, 147, 2025, 19, 14, 22, 4, 1920, 4613, 469, 4, 22, 71, 87, 12, 16, 43, 530, 38, 76, 15, 13, 1247, 4, 22, 17, 515, 17, 12, 16, 626, 18, 2, 5, 62, 386, 12, 8, 316, 8, 106, 5, 4, 2223, 5244, 16, 480, 66, 3785, 33, 4, 130, 12, 16, 38, 619, 5, 25, 124, 51, 36, 135, 48, 25, 1415, 33, 6, 22, 12, 215, 28, 77, 52, 5, 14, 407, 16, 82, 2, 8, 4, 107, 117, 5952, 15, 256, 4, 2, 7, 3766, 5, 723, 36, 71, 43, 530, 476, 26, 400, 317, 46, 7, 4, 2, 1029, 13, 104, 88, 4, 381, 15, 297, 98, 32, 2071, 56, 26, 141, 6, 194, 7486, 18, 4, 226, 22, 21, 134, 476, 26, 480, 5, 144, 30, 5535, 18, 51, 36, 28, 224, 92, 25, 104, 4, 226, 65, 16, 38, 1334, 88, 12, 16, 283, 5, 16, 4472, 113, 103, 32, 15, 16, 5345, 19, 178, 32]\n"
          ],
          "name": "stdout"
        }
      ]
    },
    {
      "cell_type": "code",
      "metadata": {
        "colab": {
          "base_uri": "https://localhost:8080/"
        },
        "id": "3kigoOJ4Mi5b",
        "outputId": "da06d610-e3c4-4bfe-a21a-aa8aa737701e"
      },
      "source": [
        "train_labels[0:10]"
      ],
      "execution_count": 4,
      "outputs": [
        {
          "output_type": "execute_result",
          "data": {
            "text/plain": [
              "array([1, 0, 0, 1, 0, 0, 1, 0, 1, 0])"
            ]
          },
          "metadata": {
            "tags": []
          },
          "execution_count": 4
        }
      ]
    },
    {
      "cell_type": "markdown",
      "metadata": {
        "id": "eBf3a_4KSZhM"
      },
      "source": [
        "Since we restricted ourselves to the top 10,000 most frequent words, no word \n",
        "index will exceed 10,000:"
      ]
    },
    {
      "cell_type": "code",
      "metadata": {
        "colab": {
          "base_uri": "https://localhost:8080/"
        },
        "id": "cenYDUXtPf8S",
        "outputId": "fafe019b-3089-433a-f4d5-0d457a6ad014"
      },
      "source": [
        "max([max(sequence) for sequence in train_data])"
      ],
      "execution_count": 5,
      "outputs": [
        {
          "output_type": "execute_result",
          "data": {
            "text/plain": [
              "9999"
            ]
          },
          "metadata": {
            "tags": []
          },
          "execution_count": 5
        }
      ]
    },
    {
      "cell_type": "code",
      "metadata": {
        "id": "8cyguLsKSSBx"
      },
      "source": [
        "# word_index is a dictionary mapping words to an integer index\n",
        "word_index=imdb.get_word_index()\n",
        "# We reverse it, mapping integer indices to words\n",
        "reverse_word_index=dict([(value,key) for (key,value) in word_index.items()])\n",
        "# We decode the review; note that our indices were offset by 3\n",
        "# because 0, 1 and 2 are reserved indices for \"padding\", \"start of sequence\", and \"unknown\".\n",
        "decoded_review = ' '.join([reverse_word_index.get(i - 3, '?') for i in train_data[0]])"
      ],
      "execution_count": 6,
      "outputs": []
    },
    {
      "cell_type": "code",
      "metadata": {
        "colab": {
          "base_uri": "https://localhost:8080/",
          "height": 136
        },
        "id": "KC1bmphzYtVC",
        "outputId": "a20dca48-f1a8-44df-8c96-3c3a3e86f7a3"
      },
      "source": [
        "decoded_review"
      ],
      "execution_count": 7,
      "outputs": [
        {
          "output_type": "execute_result",
          "data": {
            "application/vnd.google.colaboratory.intrinsic+json": {
              "type": "string"
            },
            "text/plain": [
              "\"? this film was just brilliant casting location scenery story direction everyone's really suited the part they played and you could just imagine being there robert ? is an amazing actor and now the same being director ? father came from the same scottish island as myself so i loved the fact there was a real connection with this film the witty remarks throughout the film were great it was just brilliant so much that i bought the film as soon as it was released for ? and would recommend it to everyone to watch and the fly fishing was amazing really cried at the end it was so sad and you know what they say if you cry at a film it must have been good and this definitely was also ? to the two little boy's that played the ? of norman and paul they were just brilliant children are often left out of the ? list i think because the stars that play them all grown up are such a big profile for the whole film but these children are amazing and should be praised for what they have done don't you think the whole story was so lovely because it was true and was someone's life after all that was shared with us all\""
            ]
          },
          "metadata": {
            "tags": []
          },
          "execution_count": 7
        }
      ]
    },
    {
      "cell_type": "code",
      "metadata": {
        "id": "PZp-EhLzYwVQ"
      },
      "source": [
        "def vectorize_sequences(sequences,dimension=10000):\n",
        "   # Create an all-zero matrix of shape (len(sequences), dimension)\n",
        "  bag=np.zeros((len(sequences),dimension))\n",
        "  for i,sequences in enumerate(sequences):\n",
        "    bag[i,sequences]=1\n",
        "  return bag\n",
        "\n",
        "# Our vectorized training data\n",
        "x_train=vectorize_sequences(train_data)\n",
        "# Our vectorized test data\n",
        "x_test=vectorize_sequences(test_data)"
      ],
      "execution_count": 8,
      "outputs": []
    },
    {
      "cell_type": "code",
      "metadata": {
        "colab": {
          "base_uri": "https://localhost:8080/"
        },
        "id": "m-z55K3wZfHA",
        "outputId": "94c116fe-d373-4ebe-b858-4877e7af69e1"
      },
      "source": [
        "x_train[0]"
      ],
      "execution_count": 9,
      "outputs": [
        {
          "output_type": "execute_result",
          "data": {
            "text/plain": [
              "array([0., 1., 1., ..., 0., 0., 0.])"
            ]
          },
          "metadata": {
            "tags": []
          },
          "execution_count": 9
        }
      ]
    },
    {
      "cell_type": "markdown",
      "metadata": {
        "id": "M5FL8BYAjJB5"
      },
      "source": [
        "We should also vectorize our labels"
      ]
    },
    {
      "cell_type": "code",
      "metadata": {
        "id": "l5u67qBsjKGC"
      },
      "source": [
        "y_train=np.array(train_labels).astype('float32')\n",
        "y_test=np.array(test_labels).astype('float32')"
      ],
      "execution_count": 10,
      "outputs": []
    },
    {
      "cell_type": "code",
      "metadata": {
        "colab": {
          "base_uri": "https://localhost:8080/"
        },
        "id": "xQISaTKxjhN5",
        "outputId": "f39e9756-891e-4109-95a4-9a715d085c8a"
      },
      "source": [
        "y_train"
      ],
      "execution_count": 11,
      "outputs": [
        {
          "output_type": "execute_result",
          "data": {
            "text/plain": [
              "array([1., 0., 0., ..., 0., 1., 0.], dtype=float32)"
            ]
          },
          "metadata": {
            "tags": []
          },
          "execution_count": 11
        }
      ]
    },
    {
      "cell_type": "markdown",
      "metadata": {
        "id": "b-6fArBRkuNr"
      },
      "source": [
        "# **Building our network**"
      ]
    },
    {
      "cell_type": "code",
      "metadata": {
        "id": "3NAMpTeQkxoM"
      },
      "source": [
        "model=models.Sequential()\n",
        "model.add(layers.Dense(16 , activation='relu' , input_shape=(10000,)))\n",
        "model.add(layers.Dense(16,activation='relu'))\n",
        "model.add(layers.Dense(1,activation='sigmoid'))"
      ],
      "execution_count": 12,
      "outputs": []
    },
    {
      "cell_type": "code",
      "metadata": {
        "id": "gQxe0Pz-SgKW"
      },
      "source": [
        "model.compile(optimizer='rmsprop',loss='binary_crossentropy',metrics=['accuracy'])"
      ],
      "execution_count": 13,
      "outputs": []
    },
    {
      "cell_type": "markdown",
      "metadata": {
        "id": "tnprD_E4Yiyc"
      },
      "source": [
        "# split train dataset to train and validation\n",
        "In order to monitor during training the accuracy of the model on data that it has never seen before,"
      ]
    },
    {
      "cell_type": "code",
      "metadata": {
        "id": "K4oykdtST5IA"
      },
      "source": [
        "X_train,X_val ,y_train,y_val=train_test_split(x_train,y_train,test_size=0.3,random_state=44)"
      ],
      "execution_count": 14,
      "outputs": []
    },
    {
      "cell_type": "code",
      "metadata": {
        "colab": {
          "base_uri": "https://localhost:8080/"
        },
        "id": "Ncfekmh7WR-O",
        "outputId": "90daaffd-c8b4-468e-9625-e52b703316f6"
      },
      "source": [
        "print('X_train',X_train.shape)\n",
        "print('X_val',X_val.shape)\n",
        "print('y_train',y_train.shape)\n",
        "print('y_val',y_val.shape)"
      ],
      "execution_count": 15,
      "outputs": [
        {
          "output_type": "stream",
          "text": [
            "X_train (17500, 10000)\n",
            "X_val (7500, 10000)\n",
            "y_train (17500,)\n",
            "y_val (7500,)\n"
          ],
          "name": "stdout"
        }
      ]
    },
    {
      "cell_type": "markdown",
      "metadata": {
        "id": "BByFI-JMZADi"
      },
      "source": [
        "We will now train our model for 30 epochs (30 iterations over all samples in the x_train and y_train tensors), in mini-batches of 512 samples."
      ]
    },
    {
      "cell_type": "code",
      "metadata": {
        "colab": {
          "base_uri": "https://localhost:8080/"
        },
        "id": "n_2USrRIWa_l",
        "outputId": "06e0bfc8-1e82-4ef7-a170-ef7739ef224a"
      },
      "source": [
        "history=model.fit(X_train,y_train , batch_size=512 , epochs=30 , validation_data=(X_val,y_val))"
      ],
      "execution_count": 16,
      "outputs": [
        {
          "output_type": "stream",
          "text": [
            "Epoch 1/30\n",
            "35/35 [==============================] - 16s 50ms/step - loss: 0.5764 - accuracy: 0.7071 - val_loss: 0.3512 - val_accuracy: 0.8775\n",
            "Epoch 2/30\n",
            "35/35 [==============================] - 1s 37ms/step - loss: 0.2993 - accuracy: 0.9068 - val_loss: 0.2896 - val_accuracy: 0.8892\n",
            "Epoch 3/30\n",
            "35/35 [==============================] - 1s 32ms/step - loss: 0.2127 - accuracy: 0.9339 - val_loss: 0.2685 - val_accuracy: 0.8911\n",
            "Epoch 4/30\n",
            "35/35 [==============================] - 1s 32ms/step - loss: 0.1695 - accuracy: 0.9444 - val_loss: 0.3018 - val_accuracy: 0.8785\n",
            "Epoch 5/30\n",
            "35/35 [==============================] - 1s 32ms/step - loss: 0.1420 - accuracy: 0.9555 - val_loss: 0.2756 - val_accuracy: 0.8916\n",
            "Epoch 6/30\n",
            "35/35 [==============================] - 1s 32ms/step - loss: 0.1176 - accuracy: 0.9645 - val_loss: 0.2864 - val_accuracy: 0.8908\n",
            "Epoch 7/30\n",
            "35/35 [==============================] - 1s 32ms/step - loss: 0.0977 - accuracy: 0.9696 - val_loss: 0.3130 - val_accuracy: 0.8813\n",
            "Epoch 8/30\n",
            "35/35 [==============================] - 1s 33ms/step - loss: 0.0871 - accuracy: 0.9746 - val_loss: 0.3425 - val_accuracy: 0.8776\n",
            "Epoch 9/30\n",
            "35/35 [==============================] - 1s 32ms/step - loss: 0.0675 - accuracy: 0.9816 - val_loss: 0.3450 - val_accuracy: 0.8851\n",
            "Epoch 10/30\n",
            "35/35 [==============================] - 1s 33ms/step - loss: 0.0550 - accuracy: 0.9850 - val_loss: 0.3734 - val_accuracy: 0.8832\n",
            "Epoch 11/30\n",
            "35/35 [==============================] - 1s 32ms/step - loss: 0.0435 - accuracy: 0.9904 - val_loss: 0.4261 - val_accuracy: 0.8732\n",
            "Epoch 12/30\n",
            "35/35 [==============================] - 1s 32ms/step - loss: 0.0373 - accuracy: 0.9919 - val_loss: 0.4311 - val_accuracy: 0.8760\n",
            "Epoch 13/30\n",
            "35/35 [==============================] - 1s 33ms/step - loss: 0.0267 - accuracy: 0.9950 - val_loss: 0.4598 - val_accuracy: 0.8776\n",
            "Epoch 14/30\n",
            "35/35 [==============================] - 1s 32ms/step - loss: 0.0222 - accuracy: 0.9964 - val_loss: 0.4856 - val_accuracy: 0.8763\n",
            "Epoch 15/30\n",
            "35/35 [==============================] - 1s 32ms/step - loss: 0.0170 - accuracy: 0.9973 - val_loss: 0.5452 - val_accuracy: 0.8683\n",
            "Epoch 16/30\n",
            "35/35 [==============================] - 1s 33ms/step - loss: 0.0140 - accuracy: 0.9981 - val_loss: 0.5557 - val_accuracy: 0.8723\n",
            "Epoch 17/30\n",
            "35/35 [==============================] - 1s 33ms/step - loss: 0.0093 - accuracy: 0.9994 - val_loss: 0.5852 - val_accuracy: 0.8721\n",
            "Epoch 18/30\n",
            "35/35 [==============================] - 1s 32ms/step - loss: 0.0106 - accuracy: 0.9976 - val_loss: 0.6164 - val_accuracy: 0.8700\n",
            "Epoch 19/30\n",
            "35/35 [==============================] - 1s 33ms/step - loss: 0.0066 - accuracy: 0.9989 - val_loss: 0.6503 - val_accuracy: 0.8703\n",
            "Epoch 20/30\n",
            "35/35 [==============================] - 1s 32ms/step - loss: 0.0036 - accuracy: 0.9998 - val_loss: 0.6813 - val_accuracy: 0.8696\n",
            "Epoch 21/30\n",
            "35/35 [==============================] - 1s 32ms/step - loss: 0.0052 - accuracy: 0.9991 - val_loss: 0.7127 - val_accuracy: 0.8676\n",
            "Epoch 22/30\n",
            "35/35 [==============================] - 1s 32ms/step - loss: 0.0020 - accuracy: 0.9999 - val_loss: 0.7505 - val_accuracy: 0.8688\n",
            "Epoch 23/30\n",
            "35/35 [==============================] - 1s 32ms/step - loss: 0.0040 - accuracy: 0.9991 - val_loss: 0.7819 - val_accuracy: 0.8659\n",
            "Epoch 24/30\n",
            "35/35 [==============================] - 1s 33ms/step - loss: 0.0012 - accuracy: 1.0000 - val_loss: 0.8326 - val_accuracy: 0.8643\n",
            "Epoch 25/30\n",
            "35/35 [==============================] - 1s 33ms/step - loss: 0.0030 - accuracy: 0.9994 - val_loss: 0.8515 - val_accuracy: 0.8671\n",
            "Epoch 26/30\n",
            "35/35 [==============================] - 1s 32ms/step - loss: 6.1236e-04 - accuracy: 1.0000 - val_loss: 0.8891 - val_accuracy: 0.8628\n",
            "Epoch 27/30\n",
            "35/35 [==============================] - 1s 33ms/step - loss: 4.8850e-04 - accuracy: 1.0000 - val_loss: 0.9742 - val_accuracy: 0.8585\n",
            "Epoch 28/30\n",
            "35/35 [==============================] - 1s 33ms/step - loss: 4.4591e-04 - accuracy: 1.0000 - val_loss: 0.9458 - val_accuracy: 0.8647\n",
            "Epoch 29/30\n",
            "35/35 [==============================] - 1s 32ms/step - loss: 2.5728e-04 - accuracy: 1.0000 - val_loss: 1.0070 - val_accuracy: 0.8659\n",
            "Epoch 30/30\n",
            "35/35 [==============================] - 1s 33ms/step - loss: 0.0015 - accuracy: 0.9997 - val_loss: 1.0288 - val_accuracy: 0.8640\n"
          ],
          "name": "stdout"
        }
      ]
    },
    {
      "cell_type": "code",
      "metadata": {
        "colab": {
          "base_uri": "https://localhost:8080/"
        },
        "id": "eBngE89qWcr-",
        "outputId": "8aad3a8d-ed62-4183-cf86-cdda785824eb"
      },
      "source": [
        "history_dict=history.history\n",
        "history_dict.keys()"
      ],
      "execution_count": 17,
      "outputs": [
        {
          "output_type": "execute_result",
          "data": {
            "text/plain": [
              "dict_keys(['loss', 'accuracy', 'val_loss', 'val_accuracy'])"
            ]
          },
          "metadata": {
            "tags": []
          },
          "execution_count": 17
        }
      ]
    },
    {
      "cell_type": "code",
      "metadata": {
        "colab": {
          "base_uri": "https://localhost:8080/",
          "height": 295
        },
        "id": "ar3vqNsbYDLj",
        "outputId": "7bf2da80-6df3-48e9-9b01-8907f4cba8f5"
      },
      "source": [
        "acc=history.history['accuracy']\n",
        "val_acc=history.history['val_accuracy']\n",
        "loss=history.history['loss']\n",
        "val_loss=history.history['val_loss']\n",
        "\n",
        "epochs=range(1,len(acc)+1)\n",
        "plt.plot(epochs , loss ,'bo',label='Training Loss')\n",
        "plt.plot(epochs , val_loss ,'b',label='Val Loss')\n",
        "plt.title('Training and validation Loss')\n",
        "plt.xlabel('epochs')\n",
        "plt.ylabel('loss')\n",
        "plt.legend()\n",
        "plt.show()"
      ],
      "execution_count": 18,
      "outputs": [
        {
          "output_type": "display_data",
          "data": {
            "image/png": "[encoded data removed]",
            "text/plain": [
              "<Figure size 432x288 with 1 Axes>"
            ]
          },
          "metadata": {
            "tags": [],
            "needs_background": "light"
          }
        }
      ]
    },
    {
      "cell_type": "code",
      "metadata": {
        "colab": {
          "base_uri": "https://localhost:8080/",
          "height": 295
        },
        "id": "y6j-QGSraBo7",
        "outputId": "0dbc8c79-5cf3-4e72-b2ee-811a3c3055de"
      },
      "source": [
        "acc=history.history['accuracy']\n",
        "val_acc=history.history['val_accuracy']\n",
        "loss=history.history['loss']\n",
        "val_loss=history.history['val_loss']\n",
        "\n",
        "epochs = range(1, len(acc) + 1)\n",
        "\n",
        "plt.plot(epochs , acc,'bo',label='accuracy')\n",
        "plt.plot(epochs , val_acc ,'b',label='val_acccuracy')\n",
        "plt.title('Training and validation accuracy')\n",
        "plt.xlabel('epochs')\n",
        "plt.ylabel('accuracy')\n",
        "plt.legend()\n",
        "plt.show()\n"
      ],
      "execution_count": 19,
      "outputs": [
        {
          "output_type": "display_data",
          "data": {
            "image/png": "[encoded data removed]",
            "text/plain": [
              "<Figure size 432x288 with 1 Axes>"
            ]
          },
          "metadata": {
            "tags": [],
            "needs_background": "light"
          }
        }
      ]
    },
    {
      "cell_type": "code",
      "metadata": {
        "id": "4QkQR1rZaC6U"
      },
      "source": [
        ""
      ],
      "execution_count": 19,
      "outputs": []
    }
  ]
}