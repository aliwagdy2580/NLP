{
 "cells": [
  {
   "cell_type": "code",
   "execution_count": 1,
   "metadata": {},
   "outputs": [],
   "source": [
    "import spacy\n",
    "import numpy \n",
    "import pandas "
   ]
  },
  {
   "cell_type": "code",
   "execution_count": 2,
   "metadata": {},
   "outputs": [],
   "source": [
    "nlp=spacy.load('en_core_web_lg')"
   ]
  },
  {
   "cell_type": "code",
   "execution_count": 3,
   "metadata": {},
   "outputs": [],
   "source": [
    "doc=nlp('السلطان الغازي محمد خان الثاني الفاتح هو سابع سلاطين الدولة العثمانية وسلالة آل عثمان، يُلقب، إلى جانب \"الفاتح\"، بأبي الفتوح وأبي الخيرات، وبعد فتح القسطنطينية أضيف لقب \"قيصر\" إلى ألقابه وألقاب باقي السلاطين الذين تلوه. حكم ما يقرب من ثلاثين عامًا عرفت توسعًا كبيرًا للخلافة الإسلامية. يُعرف هذا السلطان بأنه هو من قضى نهائيًا على الإمبراطورية البيزنطية بعد أن استمرّت أحد عشر قرنًا ونيفًا، ويعتبر الكثير من المؤرخين هذا الحدث خاتمة العصور الوسطى وبداية العصور الحديثة، وعند الأتراك فهذا الحدث هو \"فاتحة عصر الملوك\". تابع السلطان محمد فتوحاته في آسيا، فوحّد ممالك الأناضول، وتوغّل في أوروبا حتى بلغراد. من أبرز أعماله الإدارية دمجه للإدارات البيزنطية القديمة في جسم الدولة العثمانية المتوسعة آنذاك. كان محمد الثاني عالي الثقافة ومحباً للعلم والعلماء، ومن شيوخه آق شمس الدين وأحمد الكوراني، وقد تكلّم عدداً من اللغات إلى جانب اللغة التركية، وهي: الفرنسية، واللاتينية، واليونانية، والصربية، والفارسية، والعربية. قاد السلطان حملة لم يحدد وجهتها، لأنه كان شديد الحرص على عدم كشف مخططاته العسكرية حتى لأقرب وأعز قواده. وقد قال في هذا الصدد عندما سئل مرة: \"لو عرفته شعرة من لحيتي لقلعتها\"، لكن المؤرخين يخمنون بأنها كانت إلى إيطاليا. عرض أهل البندقية على طبيبه الخاص \"يعقوب باشا\" أن يقوم هو باغتياله، ولم يكن يعقوب مسلما عند الولادة فقد ولد بإيطاليا، وقد ادعى الهداية، وأسلم. بدأ يعقوب يدس السم تدريجيا للسلطان، ولكن عندما علم بأمر الحملة زاد جرعة السم. وتوفى السلطان في يوم 3 مايو عام 1481م، الموافق 4 ربيع الأول سنة 886هـ عن ثلاث وخمسين سنة. ')"
   ]
  },
  {
   "cell_type": "code",
   "execution_count": 4,
   "metadata": {},
   "outputs": [
    {
     "name": "stdout",
     "output_type": "stream",
     "text": [
      "، واللاتينية، واليونانية، والصربية،\n",
      "394\n",
      "MONEY\n",
      "Monetary values, including unit\n",
      "لحيتي لقلعتها\n",
      "394\n",
      "MONEY\n",
      "Monetary values, including unit\n",
      "886هـ\n",
      "380\n",
      "PERSON\n",
      "People, including fictional\n"
     ]
    }
   ],
   "source": [
    "for ent in doc.ents:\n",
    "    print(ent.text)\n",
    "    print(ent.label)\n",
    "    print(ent.label_)\n",
    "    print(spacy.explain(ent.label_))"
   ]
  },
  {
   "cell_type": "code",
   "execution_count": 5,
   "metadata": {},
   "outputs": [],
   "source": [
    "doc2=nlp('The Battle of the Saw was the culminating battle of a campaign fought between a Carthaginian army led by Hamilcar Barca and a rebel force led by Spendius in 238 BC in what is now northern Tunisia. Carthage was fighting a coalition of mutinous soldiers and rebellious African cities in the Mercenary War which had started in 240 BC. Unable to confront the Carthaginian war elephants and cavalry on open ground, the rebels stayed on higher and rougher terrain and harassed the Carthaginian army. After several months of campaigning, Hamilcar trapped the rebels. Pinned against local mountains known as \"the Saw\" due to their sawlike shape, with their supply lines blockaded and with their food exhausted, the rebels ate their horses, their prisoners and then their slaves, hoping that their comrades in Tunis would sortie to rescue them. Eventually, the Carthaginians, led by their elephants, attacked the starving rebels and they were all massacred. The captured rebel leaders were crucified (depiction shown) in sight of their comrades in Tunis.')"
   ]
  },
  {
   "cell_type": "code",
   "execution_count": 6,
   "metadata": {},
   "outputs": [
    {
     "name": "stdout",
     "output_type": "stream",
     "text": [
      "Carthaginian\n",
      "381\n",
      "NORP\n",
      "Nationalities or religious or political groups\n",
      "15\n",
      "16\n",
      "======================================\n",
      "Hamilcar Barca\n",
      "383\n",
      "ORG\n",
      "Companies, agencies, institutions, etc.\n",
      "19\n",
      "21\n",
      "======================================\n",
      "238\n",
      "397\n",
      "CARDINAL\n",
      "Numerals that do not fall under another type\n",
      "29\n",
      "30\n",
      "======================================\n",
      "BC\n",
      "383\n",
      "ORG\n",
      "Companies, agencies, institutions, etc.\n",
      "30\n",
      "31\n",
      "======================================\n",
      "Tunisia\n",
      "384\n",
      "GPE\n",
      "Countries, cities, states\n",
      "36\n",
      "37\n",
      "======================================\n",
      "Carthage\n",
      "384\n",
      "GPE\n",
      "Countries, cities, states\n",
      "38\n",
      "39\n",
      "======================================\n",
      "African\n",
      "381\n",
      "NORP\n",
      "Nationalities or religious or political groups\n",
      "48\n",
      "49\n",
      "======================================\n",
      "the Mercenary War\n",
      "387\n",
      "EVENT\n",
      "Named hurricanes, battles, wars, sports events, etc.\n",
      "51\n",
      "54\n",
      "======================================\n",
      "240\n",
      "397\n",
      "CARDINAL\n",
      "Numerals that do not fall under another type\n",
      "58\n",
      "59\n",
      "======================================\n",
      "BC\n",
      "383\n",
      "ORG\n",
      "Companies, agencies, institutions, etc.\n",
      "59\n",
      "60\n",
      "======================================\n",
      "Carthaginian\n",
      "381\n",
      "NORP\n",
      "Nationalities or religious or political groups\n",
      "65\n",
      "66\n",
      "======================================\n",
      "Carthaginian\n",
      "381\n",
      "NORP\n",
      "Nationalities or religious or political groups\n",
      "85\n",
      "86\n",
      "======================================\n",
      "several months\n",
      "391\n",
      "DATE\n",
      "Absolute or relative dates or periods\n",
      "89\n",
      "91\n",
      "======================================\n",
      "Hamilcar\n",
      "380\n",
      "PERSON\n",
      "People, including fictional\n",
      "94\n",
      "95\n",
      "======================================\n",
      "Tunis\n",
      "384\n",
      "GPE\n",
      "Countries, cities, states\n",
      "144\n",
      "145\n",
      "======================================\n",
      "Carthaginians\n",
      "380\n",
      "PERSON\n",
      "People, including fictional\n",
      "154\n",
      "155\n",
      "======================================\n",
      "Tunis\n",
      "384\n",
      "GPE\n",
      "Countries, cities, states\n",
      "187\n",
      "188\n",
      "======================================\n"
     ]
    }
   ],
   "source": [
    "for ent in doc2.ents:\n",
    "    print(ent.text)\n",
    "    print(ent.label)\n",
    "    print(ent.label_)\n",
    "    print(spacy.explain(ent.label_))\n",
    "    print(ent.start)\n",
    "    print(ent.end)\n",
    "    print('======================================')"
   ]
  },
  {
   "cell_type": "markdown",
   "metadata": {},
   "source": [
    "# add entities "
   ]
  },
  {
   "cell_type": "code",
   "execution_count": 7,
   "metadata": {},
   "outputs": [],
   "source": [
    "doc3=nlp('ali wagdy clozen BC')"
   ]
  },
  {
   "cell_type": "code",
   "execution_count": 8,
   "metadata": {},
   "outputs": [
    {
     "name": "stdout",
     "output_type": "stream",
     "text": [
      "ali\n",
      "PERSON\n",
      "===============\n",
      "BC\n",
      "ORG\n",
      "===============\n"
     ]
    }
   ],
   "source": [
    "for ent in doc3.ents:\n",
    "    print(ent.text)\n",
    "    print(ent.label_)\n",
    "    print('===============')"
   ]
  },
  {
   "cell_type": "code",
   "execution_count": 9,
   "metadata": {},
   "outputs": [],
   "source": [
    "from spacy.tokens import Span"
   ]
  },
  {
   "cell_type": "code",
   "execution_count": 10,
   "metadata": {},
   "outputs": [],
   "source": [
    "ORG=doc3.vocab.strings[u'ORG']\n",
    "\n",
    "new_ents=Span(doc3,2,3,label=ORG)\n",
    "\n",
    "doc3.ents=list(doc3.ents)+[new_ents]"
   ]
  },
  {
   "cell_type": "code",
   "execution_count": 11,
   "metadata": {},
   "outputs": [
    {
     "name": "stdout",
     "output_type": "stream",
     "text": [
      "ali\n",
      "PERSON\n",
      "People, including fictional\n",
      "===============\n",
      "clozen\n",
      "ORG\n",
      "Companies, agencies, institutions, etc.\n",
      "===============\n",
      "BC\n",
      "ORG\n",
      "Companies, agencies, institutions, etc.\n",
      "===============\n"
     ]
    }
   ],
   "source": [
    "for ent in doc3.ents:\n",
    "    print(ent.text)\n",
    "    print(ent.label_)\n",
    "    print(spacy.explain(ent.label_))\n",
    "    print('===============')"
   ]
  },
  {
   "cell_type": "code",
   "execution_count": null,
   "metadata": {},
   "outputs": [],
   "source": []
  }
 ],
 "metadata": {
  "kernelspec": {
   "display_name": "Python 3",
   "language": "python",
   "name": "python3"
  },
  "language_info": {
   "codemirror_mode": {
    "name": "ipython",
    "version": 3
   },
   "file_extension": ".py",
   "mimetype": "text/x-python",
   "name": "python",
   "nbconvert_exporter": "python",
   "pygments_lexer": "ipython3",
   "version": "3.7.4"
  }
 },
 "nbformat": 4,
 "nbformat_minor": 2
}
