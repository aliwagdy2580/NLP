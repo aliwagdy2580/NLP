{
 "cells": [
  {
   "cell_type": "code",
   "execution_count": 1,
   "metadata": {},
   "outputs": [],
   "source": [
    "from spacy.matcher import Matcher\n",
    "import spacy"
   ]
  },
  {
   "cell_type": "code",
   "execution_count": 2,
   "metadata": {},
   "outputs": [],
   "source": [
    "nlp=spacy.load('en_core_web_lg')\n",
    "matcher=Matcher(nlp.vocab)"
   ]
  },
  {
   "cell_type": "code",
   "execution_count": 3,
   "metadata": {},
   "outputs": [],
   "source": [
    "# solarpower , SolarPower , soler power"
   ]
  },
  {
   "cell_type": "code",
   "execution_count": 4,
   "metadata": {},
   "outputs": [],
   "source": [
    "doc=nlp('solarpower The Battle of SolarPower the Saw was solar? power the culminating Solar, Power battle solar power of a campaign fought .')"
   ]
  },
  {
   "cell_type": "code",
   "execution_count": 5,
   "metadata": {},
   "outputs": [],
   "source": [
    "\n",
    "pattern=[\n",
    "          [{'LOWER':'solarpower'}],\n",
    "          [{'LOWER':'solar'},{'IS_PUNCT':True},{'LOWER':'power'}],\n",
    "          [{'LOWER': 'solar'}, {'IS_SPACE': True, 'OP':'*'}, {'LOWER': 'power'}],\n",
    "          [{\"LOWER\": \"solar\"}, {\"IS_PUNCT\": True}, {\"LOWER\": \"power\"}]\n",
    "        ]\n",
    "\n",
    "pattern1=[{'LOWER':'solarpower'}]\n",
    "pattern2=[{'LOWER':'solar'},{'IS_PUNCT':True},{'LOWER':'power'}]\n",
    "pattern3=[{\"LOWER\": \"solar\"}, {\"IS_PUNCT\": True ,'OP':'*'}, {\"LOWER\": \"power\"}]"
   ]
  },
  {
   "cell_type": "code",
   "execution_count": 6,
   "metadata": {},
   "outputs": [],
   "source": [
    "matcher.add('SolarPower',pattern) #or matcher.add('SolarPower',[pattern1,pattern2,pattern3])"
   ]
  },
  {
   "cell_type": "code",
   "execution_count": 7,
   "metadata": {},
   "outputs": [
    {
     "name": "stdout",
     "output_type": "stream",
     "text": [
      "word id 8656102463236116519 --->srart 0 ---> 1 end  ---> word is solarpower\n",
      "word id 8656102463236116519 --->srart 4 ---> 5 end  ---> word is SolarPower\n",
      "word id 8656102463236116519 --->srart 8 ---> 11 end  ---> word is solar? power\n",
      "word id 8656102463236116519 --->srart 13 ---> 16 end  ---> word is Solar, Power\n",
      "word id 8656102463236116519 --->srart 17 ---> 19 end  ---> word is solar power\n"
     ]
    }
   ],
   "source": [
    "found_matcher=matcher(doc)\n",
    "\n",
    "for a,b,c in found_matcher:\n",
    "    print(f'word id {a} --->srart {b} ---> {c} end  ---> word is {doc[b:c]}')"
   ]
  },
  {
   "cell_type": "code",
   "execution_count": 8,
   "metadata": {},
   "outputs": [],
   "source": [
    "matcher.remove('SolarPower')"
   ]
  },
  {
   "cell_type": "code",
   "execution_count": null,
   "metadata": {},
   "outputs": [],
   "source": []
  },
  {
   "cell_type": "code",
   "execution_count": null,
   "metadata": {},
   "outputs": [],
   "source": []
  },
  {
   "cell_type": "code",
   "execution_count": 9,
   "metadata": {},
   "outputs": [],
   "source": [
    "from spacy.matcher import PhraseMatcher\n",
    "matcher=PhraseMatcher(nlp.vocab)"
   ]
  },
  {
   "cell_type": "code",
   "execution_count": 10,
   "metadata": {},
   "outputs": [
    {
     "data": {
      "text/plain": [
       "110"
      ]
     },
     "execution_count": 10,
     "metadata": {},
     "output_type": "execute_result"
    }
   ],
   "source": [
    "file=open('test.txt','w')\n",
    "file.write(\"good morning ali hallo sir what's your name GoodMorning sir i love ali Good after none hoor good night hallo  \")"
   ]
  },
  {
   "cell_type": "code",
   "execution_count": 11,
   "metadata": {},
   "outputs": [],
   "source": [
    "pattern=['good morning','Good after none','good night']"
   ]
  },
  {
   "cell_type": "code",
   "execution_count": 12,
   "metadata": {},
   "outputs": [
    {
     "data": {
      "text/plain": [
       "[good morning, Good after none, good night]"
      ]
     },
     "execution_count": 12,
     "metadata": {},
     "output_type": "execute_result"
    }
   ],
   "source": [
    "phrase_pattern=[nlp(text) for text in pattern ]\n",
    "phrase_pattern"
   ]
  },
  {
   "cell_type": "code",
   "execution_count": 13,
   "metadata": {},
   "outputs": [],
   "source": [
    "with open('test.txt') as f:\n",
    "    doc=nlp(f.read())"
   ]
  },
  {
   "cell_type": "code",
   "execution_count": 14,
   "metadata": {},
   "outputs": [],
   "source": [
    "matcher.add('Greeting',None,*phrase_pattern)"
   ]
  },
  {
   "cell_type": "code",
   "execution_count": 15,
   "metadata": {},
   "outputs": [],
   "source": [
    "found_matcher=matcher(doc)\n",
    "\n",
    "for a,b,c in found_matcher:\n",
    "    print(f'word_ID :{a}--->start :{b}--->end :{c}--->word is {doc[b:c]}')\n",
    "    print(\"==================================\")"
   ]
  },
  {
   "cell_type": "code",
   "execution_count": null,
   "metadata": {},
   "outputs": [],
   "source": []
  },
  {
   "cell_type": "code",
   "execution_count": null,
   "metadata": {},
   "outputs": [],
   "source": []
  },
  {
   "cell_type": "markdown",
   "metadata": {},
   "source": [
    "# arabic"
   ]
  },
  {
   "cell_type": "code",
   "execution_count": 16,
   "metadata": {},
   "outputs": [],
   "source": [
    "import spacy\n",
    "nlp = spacy.load('en_core_web_sm')"
   ]
  },
  {
   "cell_type": "code",
   "execution_count": 17,
   "metadata": {},
   "outputs": [],
   "source": [
    "from spacy.matcher import Matcher\n",
    "matcher = Matcher(nlp.vocab)"
   ]
  },
  {
   "cell_type": "code",
   "execution_count": 18,
   "metadata": {},
   "outputs": [],
   "source": [
    "pattern1 = [{'LOWER': 'الذكاءالإصطناعي'}]\n",
    "pattern2 = [{'LOWER': 'الذكاء'}, {'LOWER': 'الإصطناعي'}]\n",
    "pattern3 = [{'LOWER': 'الذكاء'},  {'LOWER': 'الصناعي'}]\n",
    "\n",
    "matcher.add('الذكاء الإصطناعي',[ pattern1, pattern2, pattern3])"
   ]
  },
  {
   "cell_type": "code",
   "execution_count": 19,
   "metadata": {},
   "outputs": [],
   "source": [
    "doc = nlp('''\n",
    "يتميز الذكاءالإصطناعي أنه يسير بسرعة كبيرة نحو المستقبل\n",
    "\n",
    "و قد بدأ الكثير من الطلاب في دراسة الذكاء الإصطناعي\n",
    "\n",
    "و تزداد فرص العمل في الذكاء الصناعي في كل مكان\n",
    "\n",
    "\n",
    "''')"
   ]
  },
  {
   "cell_type": "code",
   "execution_count": 20,
   "metadata": {},
   "outputs": [
    {
     "name": "stdout",
     "output_type": "stream",
     "text": [
      "Word ID 15819748337290189210 , starts at 2 & ends at 3 , and word is الذكاءالإصطناعي\n",
      "Word ID 15819748337290189210 , starts at 18 & ends at 20 , and word is الذكاء الإصطناعي\n",
      "Word ID 15819748337290189210 , starts at 26 & ends at 28 , and word is الذكاء الصناعي\n"
     ]
    }
   ],
   "source": [
    "found_matches = matcher(doc)\n",
    "for a,b,c in  found_matches : \n",
    "    print(f'Word ID {a} , starts at {b} & ends at {c} , and word is {doc[b:c]}')"
   ]
  },
  {
   "cell_type": "code",
   "execution_count": 21,
   "metadata": {},
   "outputs": [],
   "source": [
    "matcher.remove('الذكاء الإصطناعي')"
   ]
  },
  {
   "cell_type": "code",
   "execution_count": null,
   "metadata": {},
   "outputs": [],
   "source": []
  },
  {
   "cell_type": "code",
   "execution_count": null,
   "metadata": {},
   "outputs": [],
   "source": []
  }
 ],
 "metadata": {
  "kernelspec": {
   "display_name": "Python 3",
   "language": "python",
   "name": "python3"
  },
  "language_info": {
   "codemirror_mode": {
    "name": "ipython",
    "version": 3
   },
   "file_extension": ".py",
   "mimetype": "text/x-python",
   "name": "python",
   "nbconvert_exporter": "python",
   "pygments_lexer": "ipython3",
   "version": "3.7.4"
  }
 },
 "nbformat": 4,
 "nbformat_minor": 2
}
