{
 "cells": [
  {
   "cell_type": "markdown",
   "metadata": {},
   "source": [
    "# lemmatization from spacy"
   ]
  },
  {
   "cell_type": "code",
   "execution_count": 1,
   "metadata": {},
   "outputs": [],
   "source": [
    "import spacy "
   ]
  },
  {
   "cell_type": "code",
   "execution_count": 2,
   "metadata": {},
   "outputs": [],
   "source": [
    "nlp=spacy.load('en_core_web_lg')"
   ]
  },
  {
   "cell_type": "code",
   "execution_count": 3,
   "metadata": {},
   "outputs": [],
   "source": [
    "doc=nlp('The Battle of the Saw was the culminating battle of a campaign fought between a Carthaginian army led by Hamilcar Barca and a rebel force led by Spendius in 238 BC in what is now northern Tunisia.')"
   ]
  },
  {
   "cell_type": "code",
   "execution_count": 4,
   "metadata": {},
   "outputs": [
    {
     "name": "stdout",
     "output_type": "stream",
     "text": [
      "(The)--->(7425985699627899538)---->(the)\n",
      "(Battle)--->(8337895036587103419)---->(Battle)\n",
      "(of)--->(886050111519832510)---->(of)\n",
      "(the)--->(7425985699627899538)---->(the)\n",
      "(Saw)--->(11380715829964476340)---->(Saw)\n",
      "(was)--->(10382539506755952630)---->(be)\n",
      "(the)--->(7425985699627899538)---->(the)\n",
      "(culminating)--->(2612759733091016736)---->(culminate)\n",
      "(battle)--->(9848096167948608019)---->(battle)\n",
      "(of)--->(886050111519832510)---->(of)\n",
      "(a)--->(11901859001352538922)---->(a)\n",
      "(campaign)--->(3724113568749218963)---->(campaign)\n",
      "(fought)--->(15486772212226780222)---->(fight)\n",
      "(between)--->(7508752285157982505)---->(between)\n",
      "(a)--->(11901859001352538922)---->(a)\n",
      "(Carthaginian)--->(6343715295398261249)---->(carthaginian)\n",
      "(army)--->(7520829852308252554)---->(army)\n",
      "(led)--->(82546335403996757)---->(lead)\n",
      "(by)--->(16764210730586636600)---->(by)\n",
      "(Hamilcar)--->(12052525280011402714)---->(Hamilcar)\n",
      "(Barca)--->(17526990258327975046)---->(Barca)\n",
      "(and)--->(2283656566040971221)---->(and)\n",
      "(a)--->(11901859001352538922)---->(a)\n",
      "(rebel)--->(11970485252896676139)---->(rebel)\n",
      "(force)--->(6604860186677546691)---->(force)\n",
      "(led)--->(82546335403996757)---->(lead)\n",
      "(by)--->(16764210730586636600)---->(by)\n",
      "(Spendius)--->(11577523173977752327)---->(Spendius)\n",
      "(in)--->(3002984154512732771)---->(in)\n",
      "(238)--->(10664842268520330918)---->(238)\n",
      "(BC)--->(3772047153434118406)---->(BC)\n",
      "(in)--->(3002984154512732771)---->(in)\n",
      "(what)--->(5865838185239622912)---->(what)\n",
      "(is)--->(10382539506755952630)---->(be)\n",
      "(now)--->(17157488710739566268)---->(now)\n",
      "(northern)--->(14402328224860809449)---->(northern)\n",
      "(Tunisia)--->(12567544851935653647)---->(Tunisia)\n",
      "(.)--->(12646065887601541794)---->(.)\n"
     ]
    }
   ],
   "source": [
    "for token in doc:\n",
    "    print(f'({token.text})--->({token.lemma})---->({token.lemma_})')"
   ]
  },
  {
   "cell_type": "markdown",
   "metadata": {},
   "source": [
    "# stemming from nltk"
   ]
  },
  {
   "cell_type": "code",
   "execution_count": 5,
   "metadata": {},
   "outputs": [],
   "source": [
    "from nltk.stem.porter import *\n",
    "from nltk import word_tokenize"
   ]
  },
  {
   "cell_type": "code",
   "execution_count": 6,
   "metadata": {},
   "outputs": [],
   "source": [
    "p_stemmer=PorterStemmer()"
   ]
  },
  {
   "cell_type": "code",
   "execution_count": 7,
   "metadata": {},
   "outputs": [],
   "source": [
    "doc='The Battle of the Saw was the culminating battle of a campaign fought between a Carthaginian army led by Hamilcar Barca and a rebel force led by Spendius in 238 BC in what is now northern Tunisia.'"
   ]
  },
  {
   "cell_type": "code",
   "execution_count": 8,
   "metadata": {},
   "outputs": [
    {
     "name": "stdout",
     "output_type": "stream",
     "text": [
      "(The)----->(the)\n",
      "(Battle)----->(battl)\n",
      "(of)----->(of)\n",
      "(the)----->(the)\n",
      "(Saw)----->(saw)\n",
      "(was)----->(wa)\n",
      "(the)----->(the)\n",
      "(culminating)----->(culmin)\n",
      "(battle)----->(battl)\n",
      "(of)----->(of)\n",
      "(a)----->(a)\n",
      "(campaign)----->(campaign)\n",
      "(fought)----->(fought)\n",
      "(between)----->(between)\n",
      "(a)----->(a)\n",
      "(Carthaginian)----->(carthaginian)\n",
      "(army)----->(armi)\n",
      "(led)----->(led)\n",
      "(by)----->(by)\n",
      "(Hamilcar)----->(hamilcar)\n",
      "(Barca)----->(barca)\n",
      "(and)----->(and)\n",
      "(a)----->(a)\n",
      "(rebel)----->(rebel)\n",
      "(force)----->(forc)\n",
      "(led)----->(led)\n",
      "(by)----->(by)\n",
      "(Spendius)----->(spendiu)\n",
      "(in)----->(in)\n",
      "(238)----->(238)\n",
      "(BC)----->(BC)\n",
      "(in)----->(in)\n",
      "(what)----->(what)\n",
      "(is)----->(is)\n",
      "(now)----->(now)\n",
      "(northern)----->(northern)\n",
      "(Tunisia)----->(tunisia)\n",
      "(.)----->(.)\n"
     ]
    }
   ],
   "source": [
    "for token in word_tokenize(doc):\n",
    "    print(f'({token})----->({p_stemmer.stem(token)})')"
   ]
  },
  {
   "cell_type": "code",
   "execution_count": 9,
   "metadata": {},
   "outputs": [],
   "source": [
    "from nltk.stem import LancasterStemmer"
   ]
  },
  {
   "cell_type": "code",
   "execution_count": 10,
   "metadata": {},
   "outputs": [],
   "source": [
    "l_stemmer=LancasterStemmer()"
   ]
  },
  {
   "cell_type": "code",
   "execution_count": 11,
   "metadata": {},
   "outputs": [
    {
     "name": "stdout",
     "output_type": "stream",
     "text": [
      "(The)----->(the)\n",
      "(Battle)----->(battl)\n",
      "(of)----->(of)\n",
      "(the)----->(the)\n",
      "(Saw)----->(saw)\n",
      "(was)----->(was)\n",
      "(the)----->(the)\n",
      "(culminating)----->(culmin)\n",
      "(battle)----->(battl)\n",
      "(of)----->(of)\n",
      "(a)----->(a)\n",
      "(campaign)----->(campaign)\n",
      "(fought)----->(fought)\n",
      "(between)----->(between)\n",
      "(a)----->(a)\n",
      "(Carthaginian)----->(carthagin)\n",
      "(army)----->(army)\n",
      "(led)----->(led)\n",
      "(by)----->(by)\n",
      "(Hamilcar)----->(hamilc)\n",
      "(Barca)----->(barc)\n",
      "(and)----->(and)\n",
      "(a)----->(a)\n",
      "(rebel)----->(rebel)\n",
      "(force)----->(forc)\n",
      "(led)----->(led)\n",
      "(by)----->(by)\n",
      "(Spendius)----->(spendi)\n",
      "(in)----->(in)\n",
      "(238)----->(238)\n",
      "(BC)----->(bc)\n",
      "(in)----->(in)\n",
      "(what)----->(what)\n",
      "(is)----->(is)\n",
      "(now)----->(now)\n",
      "(northern)----->(northern)\n",
      "(Tunisia)----->(tunis)\n",
      "(.)----->(.)\n"
     ]
    }
   ],
   "source": [
    "for token in word_tokenize(doc):\n",
    "    print(f'({token})----->({l_stemmer.stem(token)})')"
   ]
  },
  {
   "cell_type": "code",
   "execution_count": 12,
   "metadata": {},
   "outputs": [],
   "source": [
    "from nltk.stem import WordNetLemmatizer"
   ]
  },
  {
   "cell_type": "code",
   "execution_count": 13,
   "metadata": {},
   "outputs": [],
   "source": [
    "lemmatizer=WordNetLemmatizer()"
   ]
  },
  {
   "cell_type": "code",
   "execution_count": 14,
   "metadata": {},
   "outputs": [
    {
     "name": "stdout",
     "output_type": "stream",
     "text": [
      "(The)----->(The)\n",
      "(Battle)----->(Battle)\n",
      "(of)----->(of)\n",
      "(the)----->(the)\n",
      "(Saw)----->(Saw)\n",
      "(was)----->(wa)\n",
      "(the)----->(the)\n",
      "(culminating)----->(culminating)\n",
      "(battle)----->(battle)\n",
      "(of)----->(of)\n",
      "(a)----->(a)\n",
      "(campaign)----->(campaign)\n",
      "(fought)----->(fought)\n",
      "(between)----->(between)\n",
      "(a)----->(a)\n",
      "(Carthaginian)----->(Carthaginian)\n",
      "(army)----->(army)\n",
      "(led)----->(led)\n",
      "(by)----->(by)\n",
      "(Hamilcar)----->(Hamilcar)\n",
      "(Barca)----->(Barca)\n",
      "(and)----->(and)\n",
      "(a)----->(a)\n",
      "(rebel)----->(rebel)\n",
      "(force)----->(force)\n",
      "(led)----->(led)\n",
      "(by)----->(by)\n",
      "(Spendius)----->(Spendius)\n",
      "(in)----->(in)\n",
      "(238)----->(238)\n",
      "(BC)----->(BC)\n",
      "(in)----->(in)\n",
      "(what)----->(what)\n",
      "(is)----->(is)\n",
      "(now)----->(now)\n",
      "(northern)----->(northern)\n",
      "(Tunisia)----->(Tunisia)\n",
      "(.)----->(.)\n"
     ]
    }
   ],
   "source": [
    "for token in word_tokenize(doc):\n",
    "    print(f'({token})----->({lemmatizer.lemmatize(token)})')"
   ]
  }
 ],
 "metadata": {
  "kernelspec": {
   "display_name": "Python 3",
   "language": "python",
   "name": "python3"
  },
  "language_info": {
   "codemirror_mode": {
    "name": "ipython",
    "version": 3
   },
   "file_extension": ".py",
   "mimetype": "text/x-python",
   "name": "python",
   "nbconvert_exporter": "python",
   "pygments_lexer": "ipython3",
   "version": "3.7.4"
  }
 },
 "nbformat": 4,
 "nbformat_minor": 2
}
