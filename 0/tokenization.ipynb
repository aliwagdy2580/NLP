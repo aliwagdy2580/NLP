{
 "cells": [
  {
   "cell_type": "markdown",
   "metadata": {},
   "source": [
    "# 1-word tokenizer"
   ]
  },
  {
   "cell_type": "code",
   "execution_count": 1,
   "metadata": {},
   "outputs": [],
   "source": [
    "import spacy"
   ]
  },
  {
   "cell_type": "code",
   "execution_count": 2,
   "metadata": {},
   "outputs": [],
   "source": [
    "nlp=spacy.load('en_core_web_lg')"
   ]
  },
  {
   "cell_type": "markdown",
   "metadata": {},
   "source": [
    "# split from spacy"
   ]
  },
  {
   "cell_type": "code",
   "execution_count": 3,
   "metadata": {},
   "outputs": [],
   "source": [
    "doc=nlp('The Old Spanish Trail half dollar is a commemorative coin struck by the United States Bureau of the Mint in 1935. It was designed by L. W. Hoffecker, a coin dealer who had been the moving force behind the effort for a Gadsden Purchase half dollar, vetoed by President Herbert Hoover in 1930, and he sought another commemorative coin that he could control if authorizing legislation was passed. He chose the travels of Spanish officer Álvar Núñez Cabeza de Vaca in the early 16th century. ')"
   ]
  },
  {
   "cell_type": "code",
   "execution_count": 4,
   "metadata": {},
   "outputs": [
    {
     "name": "stdout",
     "output_type": "stream",
     "text": [
      "The\n",
      "Xxx\n",
      "True\n",
      "True\n",
      "----------------------\n",
      "Old\n",
      "Xxx\n",
      "True\n",
      "False\n",
      "----------------------\n",
      "Spanish\n",
      "Xxxxx\n",
      "True\n",
      "False\n",
      "----------------------\n",
      "Trail\n",
      "Xxxxx\n",
      "True\n",
      "False\n",
      "----------------------\n",
      "half\n",
      "xxxx\n",
      "True\n",
      "False\n",
      "----------------------\n",
      "dollar\n",
      "xxxx\n",
      "True\n",
      "False\n",
      "----------------------\n",
      "is\n",
      "xx\n",
      "True\n",
      "True\n",
      "----------------------\n",
      "a\n",
      "x\n",
      "True\n",
      "True\n",
      "----------------------\n",
      "commemorative\n",
      "xxxx\n",
      "True\n",
      "False\n",
      "----------------------\n",
      "coin\n",
      "xxxx\n",
      "True\n",
      "False\n",
      "----------------------\n",
      "struck\n",
      "xxxx\n",
      "True\n",
      "False\n",
      "----------------------\n",
      "by\n",
      "xx\n",
      "True\n",
      "True\n",
      "----------------------\n",
      "the\n",
      "xxx\n",
      "True\n",
      "True\n",
      "----------------------\n",
      "United\n",
      "Xxxxx\n",
      "True\n",
      "False\n",
      "----------------------\n",
      "States\n",
      "Xxxxx\n",
      "True\n",
      "False\n",
      "----------------------\n",
      "Bureau\n",
      "Xxxxx\n",
      "True\n",
      "False\n",
      "----------------------\n",
      "of\n",
      "xx\n",
      "True\n",
      "True\n",
      "----------------------\n",
      "the\n",
      "xxx\n",
      "True\n",
      "True\n",
      "----------------------\n",
      "Mint\n",
      "Xxxx\n",
      "True\n",
      "False\n",
      "----------------------\n",
      "in\n",
      "xx\n",
      "True\n",
      "True\n",
      "----------------------\n",
      "1935\n",
      "dddd\n",
      "False\n",
      "False\n",
      "----------------------\n",
      ".\n",
      ".\n",
      "False\n",
      "False\n",
      "----------------------\n",
      "It\n",
      "Xx\n",
      "True\n",
      "True\n",
      "----------------------\n",
      "was\n",
      "xxx\n",
      "True\n",
      "True\n",
      "----------------------\n",
      "designed\n",
      "xxxx\n",
      "True\n",
      "False\n",
      "----------------------\n",
      "by\n",
      "xx\n",
      "True\n",
      "True\n",
      "----------------------\n",
      "L.\n",
      "X.\n",
      "False\n",
      "False\n",
      "----------------------\n",
      "W.\n",
      "X.\n",
      "False\n",
      "False\n",
      "----------------------\n",
      "Hoffecker\n",
      "Xxxxx\n",
      "True\n",
      "False\n",
      "----------------------\n",
      ",\n",
      ",\n",
      "False\n",
      "False\n",
      "----------------------\n",
      "a\n",
      "x\n",
      "True\n",
      "True\n",
      "----------------------\n",
      "coin\n",
      "xxxx\n",
      "True\n",
      "False\n",
      "----------------------\n",
      "dealer\n",
      "xxxx\n",
      "True\n",
      "False\n",
      "----------------------\n",
      "who\n",
      "xxx\n",
      "True\n",
      "True\n",
      "----------------------\n",
      "had\n",
      "xxx\n",
      "True\n",
      "True\n",
      "----------------------\n",
      "been\n",
      "xxxx\n",
      "True\n",
      "True\n",
      "----------------------\n",
      "the\n",
      "xxx\n",
      "True\n",
      "True\n",
      "----------------------\n",
      "moving\n",
      "xxxx\n",
      "True\n",
      "False\n",
      "----------------------\n",
      "force\n",
      "xxxx\n",
      "True\n",
      "False\n",
      "----------------------\n",
      "behind\n",
      "xxxx\n",
      "True\n",
      "True\n",
      "----------------------\n",
      "the\n",
      "xxx\n",
      "True\n",
      "True\n",
      "----------------------\n",
      "effort\n",
      "xxxx\n",
      "True\n",
      "False\n",
      "----------------------\n",
      "for\n",
      "xxx\n",
      "True\n",
      "True\n",
      "----------------------\n",
      "a\n",
      "x\n",
      "True\n",
      "True\n",
      "----------------------\n",
      "Gadsden\n",
      "Xxxxx\n",
      "True\n",
      "False\n",
      "----------------------\n",
      "Purchase\n",
      "Xxxxx\n",
      "True\n",
      "False\n",
      "----------------------\n",
      "half\n",
      "xxxx\n",
      "True\n",
      "False\n",
      "----------------------\n",
      "dollar\n",
      "xxxx\n",
      "True\n",
      "False\n",
      "----------------------\n",
      ",\n",
      ",\n",
      "False\n",
      "False\n",
      "----------------------\n",
      "vetoed\n",
      "xxxx\n",
      "True\n",
      "False\n",
      "----------------------\n",
      "by\n",
      "xx\n",
      "True\n",
      "True\n",
      "----------------------\n",
      "President\n",
      "Xxxxx\n",
      "True\n",
      "False\n",
      "----------------------\n",
      "Herbert\n",
      "Xxxxx\n",
      "True\n",
      "False\n",
      "----------------------\n",
      "Hoover\n",
      "Xxxxx\n",
      "True\n",
      "False\n",
      "----------------------\n",
      "in\n",
      "xx\n",
      "True\n",
      "True\n",
      "----------------------\n",
      "1930\n",
      "dddd\n",
      "False\n",
      "False\n",
      "----------------------\n",
      ",\n",
      ",\n",
      "False\n",
      "False\n",
      "----------------------\n",
      "and\n",
      "xxx\n",
      "True\n",
      "True\n",
      "----------------------\n",
      "he\n",
      "xx\n",
      "True\n",
      "True\n",
      "----------------------\n",
      "sought\n",
      "xxxx\n",
      "True\n",
      "False\n",
      "----------------------\n",
      "another\n",
      "xxxx\n",
      "True\n",
      "True\n",
      "----------------------\n",
      "commemorative\n",
      "xxxx\n",
      "True\n",
      "False\n",
      "----------------------\n",
      "coin\n",
      "xxxx\n",
      "True\n",
      "False\n",
      "----------------------\n",
      "that\n",
      "xxxx\n",
      "True\n",
      "True\n",
      "----------------------\n",
      "he\n",
      "xx\n",
      "True\n",
      "True\n",
      "----------------------\n",
      "could\n",
      "xxxx\n",
      "True\n",
      "True\n",
      "----------------------\n",
      "control\n",
      "xxxx\n",
      "True\n",
      "False\n",
      "----------------------\n",
      "if\n",
      "xx\n",
      "True\n",
      "True\n",
      "----------------------\n",
      "authorizing\n",
      "xxxx\n",
      "True\n",
      "False\n",
      "----------------------\n",
      "legislation\n",
      "xxxx\n",
      "True\n",
      "False\n",
      "----------------------\n",
      "was\n",
      "xxx\n",
      "True\n",
      "True\n",
      "----------------------\n",
      "passed\n",
      "xxxx\n",
      "True\n",
      "False\n",
      "----------------------\n",
      ".\n",
      ".\n",
      "False\n",
      "False\n",
      "----------------------\n",
      "He\n",
      "Xx\n",
      "True\n",
      "True\n",
      "----------------------\n",
      "chose\n",
      "xxxx\n",
      "True\n",
      "False\n",
      "----------------------\n",
      "the\n",
      "xxx\n",
      "True\n",
      "True\n",
      "----------------------\n",
      "travels\n",
      "xxxx\n",
      "True\n",
      "False\n",
      "----------------------\n",
      "of\n",
      "xx\n",
      "True\n",
      "True\n",
      "----------------------\n",
      "Spanish\n",
      "Xxxxx\n",
      "True\n",
      "False\n",
      "----------------------\n",
      "officer\n",
      "xxxx\n",
      "True\n",
      "False\n",
      "----------------------\n",
      "Álvar\n",
      "Xxxxx\n",
      "True\n",
      "False\n",
      "----------------------\n",
      "Núñez\n",
      "Xxxxx\n",
      "True\n",
      "False\n",
      "----------------------\n",
      "Cabeza\n",
      "Xxxxx\n",
      "True\n",
      "False\n",
      "----------------------\n",
      "de\n",
      "xx\n",
      "True\n",
      "False\n",
      "----------------------\n",
      "Vaca\n",
      "Xxxx\n",
      "True\n",
      "False\n",
      "----------------------\n",
      "in\n",
      "xx\n",
      "True\n",
      "True\n",
      "----------------------\n",
      "the\n",
      "xxx\n",
      "True\n",
      "True\n",
      "----------------------\n",
      "early\n",
      "xxxx\n",
      "True\n",
      "False\n",
      "----------------------\n",
      "16th\n",
      "ddxx\n",
      "False\n",
      "False\n",
      "----------------------\n",
      "century\n",
      "xxxx\n",
      "True\n",
      "False\n",
      "----------------------\n",
      ".\n",
      ".\n",
      "False\n",
      "False\n",
      "----------------------\n"
     ]
    }
   ],
   "source": [
    "i=0\n",
    "for token in doc:\n",
    "    print(token.text)\n",
    "    print(token.shape_)\n",
    "    print(token.is_alpha)\n",
    "    print(token.is_stop)\n",
    "    i+=1 #number of words\n",
    "    print('----------------------')"
   ]
  },
  {
   "cell_type": "code",
   "execution_count": 5,
   "metadata": {},
   "outputs": [
    {
     "name": "stdout",
     "output_type": "stream",
     "text": [
      "number of words from spacy : 91\n"
     ]
    }
   ],
   "source": [
    "print('number of words from spacy : '+str(i))"
   ]
  },
  {
   "cell_type": "markdown",
   "metadata": {},
   "source": [
    "# split from split function"
   ]
  },
  {
   "cell_type": "code",
   "execution_count": 6,
   "metadata": {},
   "outputs": [],
   "source": [
    "doc2='The Old Spanish Trail half dollar is a commemorative coin struck by the United States Bureau of the Mint in 1935. It was designed by L. W. Hoffecker, a coin dealer who had been the moving force behind the effort for a Gadsden Purchase half dollar, vetoed by President Herbert Hoover in 1930, and he sought another commemorative coin that he could control if authorizing legislation was passed. He chose the travels of Spanish officer Álvar Núñez Cabeza de Vaca in the early 16th century. '"
   ]
  },
  {
   "cell_type": "code",
   "execution_count": 7,
   "metadata": {},
   "outputs": [
    {
     "name": "stdout",
     "output_type": "stream",
     "text": [
      "number of words from spacy : 85\n"
     ]
    }
   ],
   "source": [
    "print('number of words from spacy : ' + str(len(doc2.split())))"
   ]
  },
  {
   "cell_type": "markdown",
   "metadata": {},
   "source": [
    "# tokenizer from nltk"
   ]
  },
  {
   "cell_type": "code",
   "execution_count": 8,
   "metadata": {},
   "outputs": [],
   "source": [
    "from nltk.tokenize import word_tokenize"
   ]
  },
  {
   "cell_type": "code",
   "execution_count": 9,
   "metadata": {},
   "outputs": [],
   "source": [
    "doc3='The Old Spanish Trail half dollar is a commemorative coin struck by the United States Bureau of the Mint in 1935. It was designed by L. W. Hoffecker, a coin dealer who had been the moving force behind the effort for a Gadsden Purchase half dollar, vetoed by President Herbert Hoover in 1930, and he sought another commemorative coin that he could control if authorizing legislation was passed. He chose the travels of Spanish officer Álvar Núñez Cabeza de Vaca in the early 16th century. '"
   ]
  },
  {
   "cell_type": "code",
   "execution_count": 10,
   "metadata": {},
   "outputs": [
    {
     "name": "stdout",
     "output_type": "stream",
     "text": [
      "['The', 'Old', 'Spanish', 'Trail', 'half', 'dollar', 'is', 'a', 'commemorative', 'coin', 'struck', 'by', 'the', 'United', 'States', 'Bureau', 'of', 'the', 'Mint', 'in', '1935', '.', 'It', 'was', 'designed', 'by', 'L.', 'W.', 'Hoffecker', ',', 'a', 'coin', 'dealer', 'who', 'had', 'been', 'the', 'moving', 'force', 'behind', 'the', 'effort', 'for', 'a', 'Gadsden', 'Purchase', 'half', 'dollar', ',', 'vetoed', 'by', 'President', 'Herbert', 'Hoover', 'in', '1930', ',', 'and', 'he', 'sought', 'another', 'commemorative', 'coin', 'that', 'he', 'could', 'control', 'if', 'authorizing', 'legislation', 'was', 'passed', '.', 'He', 'chose', 'the', 'travels', 'of', 'Spanish', 'officer', 'Álvar', 'Núñez', 'Cabeza', 'de', 'Vaca', 'in', 'the', 'early', '16th', 'century', '.']\n"
     ]
    }
   ],
   "source": [
    "print(word_tokenize(doc3))"
   ]
  },
  {
   "cell_type": "code",
   "execution_count": 11,
   "metadata": {},
   "outputs": [
    {
     "name": "stdout",
     "output_type": "stream",
     "text": [
      "number of words from nltk : 91\n"
     ]
    }
   ],
   "source": [
    "print('number of words from nltk : ' + str(len(word_tokenize(doc3))))"
   ]
  },
  {
   "cell_type": "markdown",
   "metadata": {},
   "source": [
    "# 2-Sentence Tokenizer"
   ]
  },
  {
   "cell_type": "markdown",
   "metadata": {},
   "source": [
    "# split sentence from spacy"
   ]
  },
  {
   "cell_type": "code",
   "execution_count": 12,
   "metadata": {},
   "outputs": [],
   "source": [
    "doc=nlp('The Old Spanish Trail half dollar is a commemorative coin struck by the United States Bureau of the Mint in 1935. It was designed by L. W. Hoffecker, a coin dealer who had been the moving force behind the effort for a Gadsden Purchase half dollar, vetoed by President Herbert Hoover in 1930, and he sought another commemorative coin that he could control if authorizing legislation was passed. He chose the travels of Spanish officer Álvar Núñez Cabeza de Vaca in the early 16th century. ')"
   ]
  },
  {
   "cell_type": "code",
   "execution_count": 13,
   "metadata": {},
   "outputs": [
    {
     "name": "stdout",
     "output_type": "stream",
     "text": [
      "1-The Old Spanish Trail half dollar is a commemorative coin struck by the United States Bureau of the Mint in 1935.\n",
      "\n",
      "2-It was designed by L. W. Hoffecker, a coin dealer who had been the moving force behind the effort for a Gadsden Purchase half dollar, vetoed by President Herbert Hoover in 1930, and he sought another commemorative coin that he could control if authorizing legislation was passed.\n",
      "\n",
      "3-He chose the travels of Spanish officer Álvar Núñez Cabeza de Vaca in the early 16th century.\n",
      "\n"
     ]
    }
   ],
   "source": [
    "i=0\n",
    "for sent in doc.sents:\n",
    "    print(str(i+1)+'-'+str(sent) +'\\n')\n",
    "    i+=1"
   ]
  },
  {
   "cell_type": "code",
   "execution_count": 14,
   "metadata": {},
   "outputs": [
    {
     "name": "stdout",
     "output_type": "stream",
     "text": [
      "number of words from spacy : 3\n"
     ]
    }
   ],
   "source": [
    "print('number of words from spacy : ' + str(i))"
   ]
  },
  {
   "cell_type": "code",
   "execution_count": 15,
   "metadata": {},
   "outputs": [
    {
     "data": {
      "text/plain": [
       "It was designed by L. W. Hoffecker, a coin dealer who had been the moving force behind the effort for a Gadsden Purchase half dollar, vetoed by President Herbert Hoover in 1930, and he sought another commemorative coin that he could control if authorizing legislation was passed."
      ]
     },
     "execution_count": 15,
     "metadata": {},
     "output_type": "execute_result"
    }
   ],
   "source": [
    "list(doc.sents)[1]"
   ]
  },
  {
   "cell_type": "code",
   "execution_count": 16,
   "metadata": {},
   "outputs": [],
   "source": [
    "doc_sent=[sent for sent in doc.sents]"
   ]
  },
  {
   "cell_type": "code",
   "execution_count": 17,
   "metadata": {},
   "outputs": [
    {
     "name": "stdout",
     "output_type": "stream",
     "text": [
      "0 22\n"
     ]
    }
   ],
   "source": [
    "print(doc_sent[0].start,doc_sent[0].end)"
   ]
  },
  {
   "cell_type": "markdown",
   "metadata": {},
   "source": [
    "# split sentence from nltk"
   ]
  },
  {
   "cell_type": "code",
   "execution_count": 18,
   "metadata": {},
   "outputs": [],
   "source": [
    "from nltk.tokenize import sent_tokenize"
   ]
  },
  {
   "cell_type": "code",
   "execution_count": 19,
   "metadata": {},
   "outputs": [],
   "source": [
    "doc='The Old Spanish Trail half dollar is a commemorative coin struck by the United States Bureau of the Mint in 1935. It was designed by L. W. Hoffecker, a coin dealer who had been the moving force behind the effort for a Gadsden Purchase half dollar, vetoed by President Herbert Hoover in 1930, and he sought another commemorative coin that he could control if authorizing legislation was passed. He chose the travels of Spanish officer Álvar Núñez Cabeza de Vaca in the early 16th century. '"
   ]
  },
  {
   "cell_type": "code",
   "execution_count": 20,
   "metadata": {},
   "outputs": [
    {
     "name": "stdout",
     "output_type": "stream",
     "text": [
      "The Old Spanish Trail half dollar is a commemorative coin struck by the United States Bureau of the Mint in 1935.\n",
      "=======================\n",
      "It was designed by L. W. Hoffecker, a coin dealer who had been the moving force behind the effort for a Gadsden Purchase half dollar, vetoed by President Herbert Hoover in 1930, and he sought another commemorative coin that he could control if authorizing legislation was passed.\n",
      "=======================\n",
      "He chose the travels of Spanish officer Álvar Núñez Cabeza de Vaca in the early 16th century.\n",
      "=======================\n"
     ]
    }
   ],
   "source": [
    "for s in sent_tokenize(doc):\n",
    "    print(s)\n",
    "    print('=======================')"
   ]
  },
  {
   "cell_type": "markdown",
   "metadata": {},
   "source": [
    "# tokenization arabic language"
   ]
  },
  {
   "cell_type": "code",
   "execution_count": 21,
   "metadata": {},
   "outputs": [],
   "source": [
    "doc_A= nlp('أبو عبد الله محمد بن موسى الخوارزمي عالم رياضيات وفلك وجغرافيا مسلم. يكنى باسم الخوارزمي وأبي جعفر. قيل أنه ولد حوالي 164هـ 781م (وهو غير مؤكد) وقيل أنه توفي بعد 232 هـ أي (بعد 847م).')"
   ]
  },
  {
   "cell_type": "markdown",
   "metadata": {},
   "source": [
    "# tokenize from spacy"
   ]
  },
  {
   "cell_type": "code",
   "execution_count": 22,
   "metadata": {},
   "outputs": [
    {
     "name": "stdout",
     "output_type": "stream",
     "text": [
      "أبو\n",
      "-----------\n",
      "عبد\n",
      "-----------\n",
      "الله\n",
      "-----------\n",
      "محمد\n",
      "-----------\n",
      "بن\n",
      "-----------\n",
      "موسى\n",
      "-----------\n",
      "الخوارزمي\n",
      "-----------\n",
      "عالم\n",
      "-----------\n",
      "رياضيات\n",
      "-----------\n",
      "وفلك\n",
      "-----------\n",
      "وجغرافيا\n",
      "-----------\n",
      "مسلم\n",
      "-----------\n",
      ".\n",
      "-----------\n",
      "يكنى\n",
      "-----------\n",
      "باسم\n",
      "-----------\n",
      "الخوارزمي\n",
      "-----------\n",
      "وأبي\n",
      "-----------\n",
      "جعفر\n",
      "-----------\n",
      ".\n",
      "-----------\n",
      "قيل\n",
      "-----------\n",
      "أنه\n",
      "-----------\n",
      "ولد\n",
      "-----------\n",
      "حوالي\n",
      "-----------\n",
      "164هـ\n",
      "-----------\n",
      "781\n",
      "-----------\n",
      "م\n",
      "-----------\n",
      "(\n",
      "-----------\n",
      "وهو\n",
      "-----------\n",
      "غير\n",
      "-----------\n",
      "مؤكد\n",
      "-----------\n",
      ")\n",
      "-----------\n",
      "وقيل\n",
      "-----------\n",
      "أنه\n",
      "-----------\n",
      "توفي\n",
      "-----------\n",
      "بعد\n",
      "-----------\n",
      "232\n",
      "-----------\n",
      "هـ\n",
      "-----------\n",
      "أي\n",
      "-----------\n",
      "(\n",
      "-----------\n",
      "بعد\n",
      "-----------\n",
      "847\n",
      "-----------\n",
      "م\n",
      "-----------\n",
      ")\n",
      "-----------\n",
      ".\n",
      "-----------\n"
     ]
    }
   ],
   "source": [
    "for token in doc_A:\n",
    "    print(token.text)\n",
    "    print('-----------')"
   ]
  },
  {
   "cell_type": "code",
   "execution_count": 23,
   "metadata": {},
   "outputs": [
    {
     "name": "stdout",
     "output_type": "stream",
     "text": [
      "هذه هي الجملة الأولي .\n",
      "-------------------\n",
      "هذه هي الجملة الثانية ,.\n",
      "-------------------\n",
      "والجملة الثالثة\n",
      "-------------------\n"
     ]
    }
   ],
   "source": [
    "doc1 = nlp('هذه هي الجملة الأولي . هذه هي الجملة الثانية ,. والجملة الثالثة')\n",
    "\n",
    "for sent in doc1.sents:\n",
    "    print(sent)\n",
    "    print('-------------------')"
   ]
  },
  {
   "cell_type": "code",
   "execution_count": 24,
   "metadata": {},
   "outputs": [
    {
     "name": "stdout",
     "output_type": "stream",
     "text": [
      "True  هذه\n",
      "False  هي\n",
      "False  الجملة\n",
      "False  الأولي\n",
      "False  .\n",
      "True  هذه\n",
      "False  هي\n",
      "False  الجملة\n",
      "False  الثانية\n",
      "False  ,\n",
      "False  .\n",
      "True  والجملة\n",
      "False  الثالثة\n"
     ]
    }
   ],
   "source": [
    "doc3 = nlp('هذه هي الجملة الأولي . هذه هي الجملة الثانية ,. والجملة الثالثة')\n",
    "\n",
    "for token in doc3:\n",
    "    print(token.is_sent_start, ' '+token.text)"
   ]
  },
  {
   "cell_type": "markdown",
   "metadata": {},
   "source": [
    "# tokenize from nltk"
   ]
  },
  {
   "cell_type": "code",
   "execution_count": 25,
   "metadata": {},
   "outputs": [
    {
     "name": "stdout",
     "output_type": "stream",
     "text": [
      "هذه\n",
      "هي\n",
      "الجملة\n",
      "الأولي\n",
      ".\n",
      "هذه\n",
      "هي\n",
      "الجملة\n",
      "الثانية\n",
      ",\n",
      ".\n",
      "والجملة\n",
      "الثالثة\n"
     ]
    }
   ],
   "source": [
    "doc1 = 'هذه هي الجملة الأولي . هذه هي الجملة الثانية ,. والجملة الثالثة'\n",
    "\n",
    "for token in word_tokenize(doc1):\n",
    "    print(token)\n"
   ]
  },
  {
   "cell_type": "code",
   "execution_count": 26,
   "metadata": {},
   "outputs": [
    {
     "name": "stdout",
     "output_type": "stream",
     "text": [
      "هذه هي الجملة الأولي .\n",
      "=======================\n",
      "هذه هي الجملة الثانية ,.\n",
      "=======================\n",
      "والجملة الثالثة\n",
      "=======================\n"
     ]
    }
   ],
   "source": [
    "doc2 = 'هذه هي الجملة الأولي . هذه هي الجملة الثانية ,. والجملة الثالثة'\n",
    "\n",
    "for s in sent_tokenize(doc2):\n",
    "    print(s)\n",
    "    print('=======================')"
   ]
  },
  {
   "cell_type": "code",
   "execution_count": null,
   "metadata": {},
   "outputs": [],
   "source": []
  }
 ],
 "metadata": {
  "kernelspec": {
   "display_name": "Python 3",
   "language": "python",
   "name": "python3"
  },
  "language_info": {
   "codemirror_mode": {
    "name": "ipython",
    "version": 3
   },
   "file_extension": ".py",
   "mimetype": "text/x-python",
   "name": "python",
   "nbconvert_exporter": "python",
   "pygments_lexer": "ipython3",
   "version": "3.7.4"
  }
 },
 "nbformat": 4,
 "nbformat_minor": 2
}
