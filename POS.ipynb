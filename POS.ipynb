{
 "cells": [
  {
   "cell_type": "markdown",
   "metadata": {},
   "source": [
    "# part of speech\n",
    "Determine the sentence type grammatically"
   ]
  },
  {
   "cell_type": "code",
   "execution_count": 1,
   "metadata": {},
   "outputs": [],
   "source": [
    "import spacy"
   ]
  },
  {
   "cell_type": "code",
   "execution_count": 2,
   "metadata": {},
   "outputs": [],
   "source": [
    "nlp=spacy.load('en_core_web_lg')"
   ]
  },
  {
   "cell_type": "code",
   "execution_count": 3,
   "metadata": {},
   "outputs": [],
   "source": [
    "doc=nlp('The Battle of the Saw was the culminating battle of a campaign fought .')"
   ]
  },
  {
   "cell_type": "code",
   "execution_count": 4,
   "metadata": {},
   "outputs": [
    {
     "name": "stdout",
     "output_type": "stream",
     "text": [
      "The\n",
      "90\n",
      "DET\n",
      "determiner\n",
      "-------------------------------\n",
      "Battle\n",
      "96\n",
      "PROPN\n",
      "proper noun\n",
      "-------------------------------\n",
      "of\n",
      "85\n",
      "ADP\n",
      "adposition\n",
      "-------------------------------\n",
      "the\n",
      "90\n",
      "DET\n",
      "determiner\n",
      "-------------------------------\n",
      "Saw\n",
      "96\n",
      "PROPN\n",
      "proper noun\n",
      "-------------------------------\n",
      "was\n",
      "87\n",
      "AUX\n",
      "auxiliary\n",
      "-------------------------------\n",
      "the\n",
      "90\n",
      "DET\n",
      "determiner\n",
      "-------------------------------\n",
      "culminating\n",
      "100\n",
      "VERB\n",
      "verb\n",
      "-------------------------------\n",
      "battle\n",
      "92\n",
      "NOUN\n",
      "noun\n",
      "-------------------------------\n",
      "of\n",
      "85\n",
      "ADP\n",
      "adposition\n",
      "-------------------------------\n",
      "a\n",
      "90\n",
      "DET\n",
      "determiner\n",
      "-------------------------------\n",
      "campaign\n",
      "92\n",
      "NOUN\n",
      "noun\n",
      "-------------------------------\n",
      "fought\n",
      "100\n",
      "VERB\n",
      "verb\n",
      "-------------------------------\n",
      ".\n",
      "97\n",
      "PUNCT\n",
      "punctuation\n",
      "-------------------------------\n"
     ]
    }
   ],
   "source": [
    "for token in doc:\n",
    "    print(token.text)\n",
    "    print(token.pos)\n",
    "    print(token.pos_)\n",
    "    print(spacy.explain(token.pos_))\n",
    "    print('-------------------------------')"
   ]
  },
  {
   "cell_type": "code",
   "execution_count": 5,
   "metadata": {},
   "outputs": [
    {
     "name": "stdout",
     "output_type": "stream",
     "text": [
      "The\n",
      "415 ---> det ---> determiner\n",
      "------------------------------------------------\n",
      "Battle\n",
      "429 ---> nsubj ---> nominal subject\n",
      "------------------------------------------------\n",
      "of\n",
      "443 ---> prep ---> prepositional modifier\n",
      "------------------------------------------------\n",
      "the\n",
      "415 ---> det ---> determiner\n",
      "------------------------------------------------\n",
      "Saw\n",
      "439 ---> pobj ---> object of preposition\n",
      "------------------------------------------------\n",
      "was\n",
      "8206900633647566924 ---> ROOT ---> None\n",
      "------------------------------------------------\n",
      "the\n",
      "415 ---> det ---> determiner\n",
      "------------------------------------------------\n",
      "culminating\n",
      "402 ---> amod ---> adjectival modifier\n",
      "------------------------------------------------\n",
      "battle\n",
      "404 ---> attr ---> attribute\n",
      "------------------------------------------------\n",
      "of\n",
      "443 ---> prep ---> prepositional modifier\n",
      "------------------------------------------------\n",
      "a\n",
      "415 ---> det ---> determiner\n",
      "------------------------------------------------\n",
      "campaign\n",
      "439 ---> pobj ---> object of preposition\n",
      "------------------------------------------------\n",
      "fought\n",
      "408 ---> ccomp ---> clausal complement\n",
      "------------------------------------------------\n",
      ".\n",
      "445 ---> punct ---> punctuation\n",
      "------------------------------------------------\n"
     ]
    }
   ],
   "source": [
    "for token in doc:\n",
    "    print(token.text)\n",
    "    print(token.dep,'--->',token.dep_,'--->',spacy.explain(token.dep_))\n",
    "    print('------------------------------------------------')"
   ]
  },
  {
   "cell_type": "code",
   "execution_count": 6,
   "metadata": {},
   "outputs": [
    {
     "name": "stdout",
     "output_type": "stream",
     "text": [
      "The\n",
      "15267657372422890137 ---> DT ---> determiner\n",
      "Battle\n",
      "15794550382381185553 ---> NNP ---> noun, proper singular\n",
      "of\n",
      "1292078113972184607 ---> IN ---> conjunction, subordinating or preposition\n",
      "the\n",
      "15267657372422890137 ---> DT ---> determiner\n",
      "Saw\n",
      "15794550382381185553 ---> NNP ---> noun, proper singular\n",
      "was\n",
      "17109001835818727656 ---> VBD ---> verb, past tense\n",
      "the\n",
      "15267657372422890137 ---> DT ---> determiner\n",
      "culminating\n",
      "1534113631682161808 ---> VBG ---> verb, gerund or present participle\n",
      "battle\n",
      "15308085513773655218 ---> NN ---> noun, singular or mass\n",
      "of\n",
      "1292078113972184607 ---> IN ---> conjunction, subordinating or preposition\n",
      "a\n",
      "15267657372422890137 ---> DT ---> determiner\n",
      "campaign\n",
      "15308085513773655218 ---> NN ---> noun, singular or mass\n",
      "fought\n",
      "17109001835818727656 ---> VBD ---> verb, past tense\n",
      ".\n",
      "12646065887601541794 ---> . ---> punctuation mark, sentence closer\n"
     ]
    }
   ],
   "source": [
    "for token in doc:\n",
    "    print(token.text)\n",
    "    print(token.tag,'--->',token.tag_,'--->',spacy.explain(token.tag_))"
   ]
  },
  {
   "cell_type": "markdown",
   "metadata": {},
   "source": [
    "# from nltk "
   ]
  },
  {
   "cell_type": "code",
   "execution_count": 7,
   "metadata": {},
   "outputs": [],
   "source": [
    "from nltk import pos_tag\n",
    "from nltk import word_tokenize"
   ]
  },
  {
   "cell_type": "code",
   "execution_count": 8,
   "metadata": {},
   "outputs": [],
   "source": [
    "doc='The Battle of the Saw was the culminating battle of a campaign fought .'"
   ]
  },
  {
   "cell_type": "code",
   "execution_count": 9,
   "metadata": {},
   "outputs": [
    {
     "name": "stdout",
     "output_type": "stream",
     "text": [
      "word :(The)---->type :(DT)---->mean :(determiner)\n",
      "word :(Battle)---->type :(NNP)---->mean :(noun, proper singular)\n",
      "word :(of)---->type :(IN)---->mean :(conjunction, subordinating or preposition)\n",
      "word :(the)---->type :(DT)---->mean :(determiner)\n",
      "word :(Saw)---->type :(NNP)---->mean :(noun, proper singular)\n",
      "word :(was)---->type :(VBD)---->mean :(verb, past tense)\n",
      "word :(the)---->type :(DT)---->mean :(determiner)\n",
      "word :(culminating)---->type :(JJ)---->mean :(adjective)\n",
      "word :(battle)---->type :(NN)---->mean :(noun, singular or mass)\n",
      "word :(of)---->type :(IN)---->mean :(conjunction, subordinating or preposition)\n",
      "word :(a)---->type :(DT)---->mean :(determiner)\n",
      "word :(campaign)---->type :(NN)---->mean :(noun, singular or mass)\n",
      "word :(fought)---->type :(NN)---->mean :(noun, singular or mass)\n",
      "word :(.)---->type :(.)---->mean :(punctuation mark, sentence closer)\n"
     ]
    }
   ],
   "source": [
    "for w , m in pos_tag(word_tokenize(doc)):\n",
    "    print(f'word :({w})---->type :({m})---->mean :({spacy.explain(m)})')"
   ]
  },
  {
   "cell_type": "markdown",
   "metadata": {},
   "source": [
    "# arabic language"
   ]
  },
  {
   "cell_type": "code",
   "execution_count": 10,
   "metadata": {},
   "outputs": [],
   "source": [
    "doc=nlp('السلطان الغازي محمد خان الثاني الفاتح هو سابع سلاطين الدولة العثمانية وسلالة آل عثمان، يُلقب')"
   ]
  },
  {
   "cell_type": "code",
   "execution_count": 11,
   "metadata": {},
   "outputs": [
    {
     "name": "stdout",
     "output_type": "stream",
     "text": [
      "السلطان\n",
      "pos:  101 ---> X ---> other\n",
      "tag:  15401913388386482565 ---> FW ---> foreign word\n",
      "dep:  426 ---> nmod ---> modifier of nominal\n",
      "--------------------------------------------\n",
      "الغازي\n",
      "pos:  101 ---> X ---> other\n",
      "tag:  15401913388386482565 ---> FW ---> foreign word\n",
      "dep:  426 ---> nmod ---> modifier of nominal\n",
      "--------------------------------------------\n",
      "محمد\n",
      "pos:  92 ---> NOUN ---> noun\n",
      "tag:  15308085513773655218 ---> NN ---> noun, singular or mass\n",
      "dep:  426 ---> nmod ---> modifier of nominal\n",
      "--------------------------------------------\n",
      "خان\n",
      "pos:  84 ---> ADJ ---> adjective\n",
      "tag:  10554686591937588953 ---> JJ ---> adjective\n",
      "dep:  426 ---> nmod ---> modifier of nominal\n",
      "--------------------------------------------\n",
      "الثاني\n",
      "pos:  92 ---> NOUN ---> noun\n",
      "tag:  15308085513773655218 ---> NN ---> noun, singular or mass\n",
      "dep:  426 ---> nmod ---> modifier of nominal\n",
      "--------------------------------------------\n",
      "الفاتح\n",
      "pos:  101 ---> X ---> other\n",
      "tag:  14968597813295776895 ---> XX ---> unknown\n",
      "dep:  8206900633647566924 ---> ROOT ---> None\n",
      "--------------------------------------------\n",
      "هو\n",
      "pos:  101 ---> X ---> other\n",
      "tag:  15401913388386482565 ---> FW ---> foreign word\n",
      "dep:  426 ---> nmod ---> modifier of nominal\n",
      "--------------------------------------------\n",
      "سابع\n",
      "pos:  84 ---> ADJ ---> adjective\n",
      "tag:  10554686591937588953 ---> JJ ---> adjective\n",
      "dep:  426 ---> nmod ---> modifier of nominal\n",
      "--------------------------------------------\n",
      "سلاطين\n",
      "pos:  101 ---> X ---> other\n",
      "tag:  15401913388386482565 ---> FW ---> foreign word\n",
      "dep:  426 ---> nmod ---> modifier of nominal\n",
      "--------------------------------------------\n",
      "الدولة\n",
      "pos:  92 ---> NOUN ---> noun\n",
      "tag:  15308085513773655218 ---> NN ---> noun, singular or mass\n",
      "dep:  403 ---> appos ---> appositional modifier\n",
      "--------------------------------------------\n",
      "العثمانية\n",
      "pos:  92 ---> NOUN ---> noun\n",
      "tag:  15308085513773655218 ---> NN ---> noun, singular or mass\n",
      "dep:  426 ---> nmod ---> modifier of nominal\n",
      "--------------------------------------------\n",
      "وسلالة\n",
      "pos:  92 ---> NOUN ---> noun\n",
      "tag:  15308085513773655218 ---> NN ---> noun, singular or mass\n",
      "dep:  426 ---> nmod ---> modifier of nominal\n",
      "--------------------------------------------\n",
      "آل\n",
      "pos:  92 ---> NOUN ---> noun\n",
      "tag:  15308085513773655218 ---> NN ---> noun, singular or mass\n",
      "dep:  426 ---> nmod ---> modifier of nominal\n",
      "--------------------------------------------\n",
      "عثمان\n",
      "pos:  92 ---> NOUN ---> noun\n",
      "tag:  15308085513773655218 ---> NN ---> noun, singular or mass\n",
      "dep:  403 ---> appos ---> appositional modifier\n",
      "--------------------------------------------\n",
      "،\n",
      "pos:  96 ---> PROPN ---> proper noun\n",
      "tag:  15794550382381185553 ---> NNP ---> noun, proper singular\n",
      "dep:  428 ---> npadvmod ---> noun phrase as adverbial modifier\n",
      "--------------------------------------------\n",
      "يُلقب\n",
      "pos:  96 ---> PROPN ---> proper noun\n",
      "tag:  15794550382381185553 ---> NNP ---> noun, proper singular\n",
      "dep:  428 ---> npadvmod ---> noun phrase as adverbial modifier\n",
      "--------------------------------------------\n"
     ]
    }
   ],
   "source": [
    "for token in doc:\n",
    "    print(token.text)\n",
    "    print('pos: ',token.pos,'--->',token.pos_,'--->',spacy.explain(token.pos_))\n",
    "    print('tag: ',token.tag,'--->',token.tag_,'--->',spacy.explain(token.tag_))\n",
    "    print('dep: ',token.dep,'--->',token.dep_,'--->',spacy.explain(token.dep_))\n",
    "    print('--------------------------------------------')\n"
   ]
  },
  {
   "cell_type": "markdown",
   "metadata": {},
   "source": [
    "# from nltk"
   ]
  },
  {
   "cell_type": "code",
   "execution_count": 12,
   "metadata": {},
   "outputs": [],
   "source": [
    "doc='السلطان الغازي محمد خان الثاني الفاتح هو سابع سلاطين الدولة العثمانية وسلالة آل عثمان، يُلقب'"
   ]
  },
  {
   "cell_type": "code",
   "execution_count": 13,
   "metadata": {},
   "outputs": [
    {
     "name": "stdout",
     "output_type": "stream",
     "text": [
      "word :(السلطان)---->type :(JJ)---->mean :(adjective)\n",
      "word :(الغازي)---->type :(NNP)---->mean :(noun, proper singular)\n",
      "word :(محمد)---->type :(NNP)---->mean :(noun, proper singular)\n",
      "word :(خان)---->type :(NNP)---->mean :(noun, proper singular)\n",
      "word :(الثاني)---->type :(NNP)---->mean :(noun, proper singular)\n",
      "word :(الفاتح)---->type :(NNP)---->mean :(noun, proper singular)\n",
      "word :(هو)---->type :(NNP)---->mean :(noun, proper singular)\n",
      "word :(سابع)---->type :(NNP)---->mean :(noun, proper singular)\n",
      "word :(سلاطين)---->type :(NNP)---->mean :(noun, proper singular)\n",
      "word :(الدولة)---->type :(NNP)---->mean :(noun, proper singular)\n",
      "word :(العثمانية)---->type :(NNP)---->mean :(noun, proper singular)\n",
      "word :(وسلالة)---->type :(NNP)---->mean :(noun, proper singular)\n",
      "word :(آل)---->type :(NNP)---->mean :(noun, proper singular)\n",
      "word :(عثمان،)---->type :(NNP)---->mean :(noun, proper singular)\n",
      "word :(يُلقب)---->type :(NN)---->mean :(noun, singular or mass)\n"
     ]
    }
   ],
   "source": [
    "for w,m in pos_tag(word_tokenize(doc)):\n",
    "    print(f'word :({w})---->type :({m})---->mean :({spacy.explain(m)})')"
   ]
  },
  {
   "cell_type": "code",
   "execution_count": null,
   "metadata": {},
   "outputs": [],
   "source": []
  }
 ],
 "metadata": {
  "kernelspec": {
   "display_name": "Python 3",
   "language": "python",
   "name": "python3"
  },
  "language_info": {
   "codemirror_mode": {
    "name": "ipython",
    "version": 3
   },
   "file_extension": ".py",
   "mimetype": "text/x-python",
   "name": "python",
   "nbconvert_exporter": "python",
   "pygments_lexer": "ipython3",
   "version": "3.7.4"
  }
 },
 "nbformat": 4,
 "nbformat_minor": 2
}
