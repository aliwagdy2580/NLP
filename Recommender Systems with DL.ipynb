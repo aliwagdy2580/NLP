{
  "nbformat": 4,
  "nbformat_minor": 0,
  "metadata": {
    "colab": {
      "name": "Outline.ipynb",
      "provenance": [],
      "collapsed_sections": [
        "ZRZ3GyHC0nAx"
      ],
      "machine_shape": "hm",
      "include_colab_link": true
    },
    "kernelspec": {
      "name": "python3",
      "display_name": "Python 3"
    }
  },
  "cells": [
    {
      "cell_type": "markdown",
      "metadata": {
        "id": "view-in-github",
        "colab_type": "text"
      },
      "source": [
        "<a href=\"https://colab.research.google.com/github/aliwagdy2580/NLP/blob/main/Recommender%20Systems%20with%20DL.ipynb\" target=\"_parent\"><img src=\"https://colab.research.google.com/assets/colab-badge.svg\" alt=\"Open In Colab\"/></a>"
      ]
    },
    {
      "cell_type": "markdown",
      "metadata": {
        "id": "chs4UpWpcP51"
      },
      "source": [
        "# Chapter 1: Introduction to Recommendation Engines"
      ]
    },
    {
      "cell_type": "markdown",
      "metadata": {
        "id": "cczB4fkzu1a4"
      },
      "source": [
        "## Basic imports"
      ]
    },
    {
      "cell_type": "code",
      "metadata": {
        "id": "LN3kAZp4l8IR",
        "colab": {
          "base_uri": "https://localhost:8080/",
          "height": 123
        },
        "outputId": "1605302d-e477-47fa-eb95-ed6bc1ede6db"
      },
      "source": [
        "# Imports\n",
        "import pandas as pd\n",
        "import numpy as np\n",
        "from sklearn.preprocessing import LabelEncoder\n",
        "from sklearn.model_selection import train_test_split\n",
        "from sklearn.feature_extraction.text import TfidfVectorizer\n",
        "from sklearn.feature_extraction.text import CountVectorizer\n",
        "from sklearn.metrics.pairwise import linear_kernel\n",
        "from sklearn.metrics.pairwise import cosine_similarity\n",
        "from sklearn.metrics import pairwise_distances\n",
        "from sklearn.metrics.pairwise import pairwise_kernels\n",
        "from sklearn.preprocessing import LabelEncoder\n",
        "\n",
        "import matplotlib.pyplot as plt\n",
        "\n",
        "from pathlib import Path\n",
        "import os\n",
        "import re\n",
        "import html\n",
        "import string\n",
        "\n",
        "import unicodedata\n",
        "\n",
        "\n",
        "import nltk\n",
        "nltk.download('punkt')\n",
        "from nltk.corpus import stopwords\n",
        "nltk.download('stopwords')\n",
        "nltk.download('wordnet')\n",
        "from nltk.stem import PorterStemmer\n",
        "from nltk.tokenize import word_tokenize, sent_tokenize\n",
        "from nltk.stem import WordNetLemmatizer\n",
        "\n",
        "\n",
        "from tensorflow.keras import models\n",
        "from tensorflow.keras import layers\n",
        "from tensorflow.keras import optimizers\n",
        "from tensorflow.keras import losses\n",
        "from tensorflow.keras import regularizers\n",
        "from tensorflow.keras import metrics\n",
        "from tensorflow.keras.utils import plot_model\n",
        "from tensorflow.keras.datasets import imdb\n",
        "from tensorflow.keras.preprocessing.text import text_to_word_sequence\n",
        "from tensorflow.keras.preprocessing.text import Tokenizer\n",
        "from tensorflow.keras.preprocessing.sequence import pad_sequences\n",
        "\n",
        "\n",
        "\n"
      ],
      "execution_count": null,
      "outputs": [
        {
          "output_type": "stream",
          "text": [
            "[nltk_data] Downloading package punkt to /root/nltk_data...\n",
            "[nltk_data]   Unzipping tokenizers/punkt.zip.\n",
            "[nltk_data] Downloading package stopwords to /root/nltk_data...\n",
            "[nltk_data]   Unzipping corpora/stopwords.zip.\n",
            "[nltk_data] Downloading package wordnet to /root/nltk_data...\n",
            "[nltk_data]   Unzipping corpora/wordnet.zip.\n"
          ],
          "name": "stdout"
        }
      ]
    },
    {
      "cell_type": "markdown",
      "metadata": {
        "id": "Xz1jmf_2cStS"
      },
      "source": [
        "# Lesson 1: What are recommendation engines?\n",
        "\n",
        "## Learning Objectives\n",
        "\n",
        "- Learner will be able to be able to define what recommender systems are\n",
        "- Learner will be able to be able to list the different approaches to recommender systems\n",
        "- Learner will be able to identify different applications of recommender systems"
      ]
    },
    {
      "cell_type": "markdown",
      "metadata": {
        "id": "YtsiQwSYjXu1"
      },
      "source": [
        "# Lesson 2: Simple Recommender system\n"
      ]
    },
    {
      "cell_type": "markdown",
      "metadata": {
        "id": "MX8EwS9mjgYS"
      },
      "source": [
        "## Learning Objectives\n",
        "\n",
        "- Learner will be able to build simple recommender with sklearn based on movie popularity/votes based on IMDB dataset.\n",
        "- Learner will be able to decide a metric for items to recommend based on that.\n",
        "- Learner will be able to calculate a score for every item/movie.\n",
        "- Learner will be able to sort items/movies based on their scores.\n"
      ]
    },
    {
      "cell_type": "markdown",
      "metadata": {
        "id": "hbAWNVGfmdhw"
      },
      "source": [
        "##  Preparation code\n",
        "Not part of the excercise answer"
      ]
    },
    {
      "cell_type": "code",
      "metadata": {
        "id": "Ruw1Jz3unmG0",
        "colab": {
          "base_uri": "https://localhost:8080/",
          "height": 34
        },
        "outputId": "e3218d1a-960d-4654-f5e4-405477489c02"
      },
      "source": [
        "from google.colab import drive \n",
        "drive.mount('/content/drive')"
      ],
      "execution_count": null,
      "outputs": [
        {
          "output_type": "stream",
          "text": [
            "Drive already mounted at /content/drive; to attempt to forcibly remount, call drive.mount(\"/content/drive\", force_remount=True).\n"
          ],
          "name": "stdout"
        }
      ]
    },
    {
      "cell_type": "markdown",
      "metadata": {
        "id": "a7uhIR04sT9g"
      },
      "source": [
        "Download data from [kaggle](https://www.kaggle.com/rounakbanik/the-movies-dataset/download), or this [link](https://drive.google.com/drive/folders/1JnQXDCsGAb75I4PRRMDHUO0WxmXT-usv?usp=sharing)"
      ]
    },
    {
      "cell_type": "code",
      "metadata": {
        "id": "VNBX0Bs3_CdM"
      },
      "source": [
        "# Load Movies Metadata\n",
        "imdb_data_dir = '/content/drive/My Drive/Colab Notebooks/Recommendation/DataCamp/imdb/'"
      ],
      "execution_count": null,
      "outputs": []
    },
    {
      "cell_type": "code",
      "metadata": {
        "id": "b8_7yZllmDF1",
        "colab": {
          "base_uri": "https://localhost:8080/",
          "height": 458
        },
        "outputId": "2ba2f129-0144-4de1-8f23-0d4d42d134d7"
      },
      "source": [
        "\n",
        "metadata = pd.read_csv(imdb_data_dir + 'movies_metadata.csv')\n",
        "\n",
        "# Print the first three rows\n",
        "metadata.head(3)"
      ],
      "execution_count": null,
      "outputs": [
        {
          "output_type": "stream",
          "text": [
            "/usr/local/lib/python3.6/dist-packages/IPython/core/interactiveshell.py:2718: DtypeWarning: Columns (10) have mixed types.Specify dtype option on import or set low_memory=False.\n",
            "  interactivity=interactivity, compiler=compiler, result=result)\n"
          ],
          "name": "stderr"
        },
        {
          "output_type": "execute_result",
          "data": {
            "text/html": [
              "<div>\n",
              "<style scoped>\n",
              "    .dataframe tbody tr th:only-of-type {\n",
              "        vertical-align: middle;\n",
              "    }\n",
              "\n",
              "    .dataframe tbody tr th {\n",
              "        vertical-align: top;\n",
              "    }\n",
              "\n",
              "    .dataframe thead th {\n",
              "        text-align: right;\n",
              "    }\n",
              "</style>\n",
              "<table border=\"1\" class=\"dataframe\">\n",
              "  <thead>\n",
              "    <tr style=\"text-align: right;\">\n",
              "      <th></th>\n",
              "      <th>adult</th>\n",
              "      <th>belongs_to_collection</th>\n",
              "      <th>budget</th>\n",
              "      <th>genres</th>\n",
              "      <th>homepage</th>\n",
              "      <th>id</th>\n",
              "      <th>imdb_id</th>\n",
              "      <th>original_language</th>\n",
              "      <th>original_title</th>\n",
              "      <th>overview</th>\n",
              "      <th>popularity</th>\n",
              "      <th>poster_path</th>\n",
              "      <th>production_companies</th>\n",
              "      <th>production_countries</th>\n",
              "      <th>release_date</th>\n",
              "      <th>revenue</th>\n",
              "      <th>runtime</th>\n",
              "      <th>spoken_languages</th>\n",
              "      <th>status</th>\n",
              "      <th>tagline</th>\n",
              "      <th>title</th>\n",
              "      <th>video</th>\n",
              "      <th>vote_average</th>\n",
              "      <th>vote_count</th>\n",
              "    </tr>\n",
              "  </thead>\n",
              "  <tbody>\n",
              "    <tr>\n",
              "      <th>0</th>\n",
              "      <td>False</td>\n",
              "      <td>{'id': 10194, 'name': 'Toy Story Collection', ...</td>\n",
              "      <td>30000000</td>\n",
              "      <td>[{'id': 16, 'name': 'Animation'}, {'id': 35, '...</td>\n",
              "      <td>http://toystory.disney.com/toy-story</td>\n",
              "      <td>862</td>\n",
              "      <td>tt0114709</td>\n",
              "      <td>en</td>\n",
              "      <td>Toy Story</td>\n",
              "      <td>Led by Woody, Andy's toys live happily in his ...</td>\n",
              "      <td>21.9469</td>\n",
              "      <td>/rhIRbceoE9lR4veEXuwCC2wARtG.jpg</td>\n",
              "      <td>[{'name': 'Pixar Animation Studios', 'id': 3}]</td>\n",
              "      <td>[{'iso_3166_1': 'US', 'name': 'United States o...</td>\n",
              "      <td>1995-10-30</td>\n",
              "      <td>373554033.0</td>\n",
              "      <td>81.0</td>\n",
              "      <td>[{'iso_639_1': 'en', 'name': 'English'}]</td>\n",
              "      <td>Released</td>\n",
              "      <td>NaN</td>\n",
              "      <td>Toy Story</td>\n",
              "      <td>False</td>\n",
              "      <td>7.7</td>\n",
              "      <td>5415.0</td>\n",
              "    </tr>\n",
              "    <tr>\n",
              "      <th>1</th>\n",
              "      <td>False</td>\n",
              "      <td>NaN</td>\n",
              "      <td>65000000</td>\n",
              "      <td>[{'id': 12, 'name': 'Adventure'}, {'id': 14, '...</td>\n",
              "      <td>NaN</td>\n",
              "      <td>8844</td>\n",
              "      <td>tt0113497</td>\n",
              "      <td>en</td>\n",
              "      <td>Jumanji</td>\n",
              "      <td>When siblings Judy and Peter discover an encha...</td>\n",
              "      <td>17.0155</td>\n",
              "      <td>/vzmL6fP7aPKNKPRTFnZmiUfciyV.jpg</td>\n",
              "      <td>[{'name': 'TriStar Pictures', 'id': 559}, {'na...</td>\n",
              "      <td>[{'iso_3166_1': 'US', 'name': 'United States o...</td>\n",
              "      <td>1995-12-15</td>\n",
              "      <td>262797249.0</td>\n",
              "      <td>104.0</td>\n",
              "      <td>[{'iso_639_1': 'en', 'name': 'English'}, {'iso...</td>\n",
              "      <td>Released</td>\n",
              "      <td>Roll the dice and unleash the excitement!</td>\n",
              "      <td>Jumanji</td>\n",
              "      <td>False</td>\n",
              "      <td>6.9</td>\n",
              "      <td>2413.0</td>\n",
              "    </tr>\n",
              "    <tr>\n",
              "      <th>2</th>\n",
              "      <td>False</td>\n",
              "      <td>{'id': 119050, 'name': 'Grumpy Old Men Collect...</td>\n",
              "      <td>0</td>\n",
              "      <td>[{'id': 10749, 'name': 'Romance'}, {'id': 35, ...</td>\n",
              "      <td>NaN</td>\n",
              "      <td>15602</td>\n",
              "      <td>tt0113228</td>\n",
              "      <td>en</td>\n",
              "      <td>Grumpier Old Men</td>\n",
              "      <td>A family wedding reignites the ancient feud be...</td>\n",
              "      <td>11.7129</td>\n",
              "      <td>/6ksm1sjKMFLbO7UY2i6G1ju9SML.jpg</td>\n",
              "      <td>[{'name': 'Warner Bros.', 'id': 6194}, {'name'...</td>\n",
              "      <td>[{'iso_3166_1': 'US', 'name': 'United States o...</td>\n",
              "      <td>1995-12-22</td>\n",
              "      <td>0.0</td>\n",
              "      <td>101.0</td>\n",
              "      <td>[{'iso_639_1': 'en', 'name': 'English'}]</td>\n",
              "      <td>Released</td>\n",
              "      <td>Still Yelling. Still Fighting. Still Ready for...</td>\n",
              "      <td>Grumpier Old Men</td>\n",
              "      <td>False</td>\n",
              "      <td>6.5</td>\n",
              "      <td>92.0</td>\n",
              "    </tr>\n",
              "  </tbody>\n",
              "</table>\n",
              "</div>"
            ],
            "text/plain": [
              "   adult  ... vote_count\n",
              "0  False  ...     5415.0\n",
              "1  False  ...     2413.0\n",
              "2  False  ...       92.0\n",
              "\n",
              "[3 rows x 24 columns]"
            ]
          },
          "metadata": {
            "tags": []
          },
          "execution_count": 9
        }
      ]
    },
    {
      "cell_type": "code",
      "metadata": {
        "id": "5CKf6fO3_wnh",
        "colab": {
          "base_uri": "https://localhost:8080/",
          "height": 34
        },
        "outputId": "e8882e76-f136-4aa0-c36d-594330547336"
      },
      "source": [
        "len(metadata)"
      ],
      "execution_count": null,
      "outputs": [
        {
          "output_type": "execute_result",
          "data": {
            "text/plain": [
              "45466"
            ]
          },
          "metadata": {
            "tags": []
          },
          "execution_count": 5
        }
      ]
    },
    {
      "cell_type": "code",
      "metadata": {
        "id": "X73LvvmwtXfI",
        "colab": {
          "base_uri": "https://localhost:8080/",
          "height": 134
        },
        "outputId": "27374758-c204-4b9a-b39e-dbfc940448cb"
      },
      "source": [
        "# data columns\n",
        "print(metadata.columns)"
      ],
      "execution_count": null,
      "outputs": [
        {
          "output_type": "stream",
          "text": [
            "Index(['adult', 'belongs_to_collection', 'budget', 'genres', 'homepage', 'id',\n",
            "       'imdb_id', 'original_language', 'original_title', 'overview',\n",
            "       'popularity', 'poster_path', 'production_companies',\n",
            "       'production_countries', 'release_date', 'revenue', 'runtime',\n",
            "       'spoken_languages', 'status', 'tagline', 'title', 'video',\n",
            "       'vote_average', 'vote_count'],\n",
            "      dtype='object')\n"
          ],
          "name": "stdout"
        }
      ]
    },
    {
      "cell_type": "code",
      "metadata": {
        "id": "edUUkpEHtZYY",
        "colab": {
          "base_uri": "https://localhost:8080/",
          "height": 34
        },
        "outputId": "794af507-2fd0-44b0-e686-b1ffee4bfd95"
      },
      "source": [
        "# calculate C\n",
        "C = metadata['vote_average'].mean()\n",
        "print(C)"
      ],
      "execution_count": null,
      "outputs": [
        {
          "output_type": "stream",
          "text": [
            "5.618207215133889\n"
          ],
          "name": "stdout"
        }
      ]
    },
    {
      "cell_type": "code",
      "metadata": {
        "id": "mLeAX_heta7c",
        "colab": {
          "base_uri": "https://localhost:8080/",
          "height": 50
        },
        "outputId": "6c0cf4c3-0a9a-4253-8a7b-630305850d4e"
      },
      "source": [
        "# Calculate M\n",
        "M = metadata['vote_count'].quantile(0.90)\n",
        "print(M)\n",
        "print(metadata.shape)"
      ],
      "execution_count": null,
      "outputs": [
        {
          "output_type": "stream",
          "text": [
            "160.0\n",
            "(45466, 24)\n"
          ],
          "name": "stdout"
        }
      ]
    },
    {
      "cell_type": "code",
      "metadata": {
        "id": "3dUP0V7ntd4C",
        "colab": {
          "base_uri": "https://localhost:8080/",
          "height": 34
        },
        "outputId": "82ed1a89-ce86-4db8-e540-a982947910ae"
      },
      "source": [
        "# Filter out all qualified movies into a new DataFrame\n",
        "q_movies = metadata.copy().loc[metadata['vote_count'] >= M]\n",
        "q_movies.shape"
      ],
      "execution_count": null,
      "outputs": [
        {
          "output_type": "execute_result",
          "data": {
            "text/plain": [
              "(4555, 24)"
            ]
          },
          "metadata": {
            "tags": []
          },
          "execution_count": 8
        }
      ]
    },
    {
      "cell_type": "code",
      "metadata": {
        "id": "f3m6KOZ-tlv4"
      },
      "source": [
        "# Function that computes the weighted rating of each movie\n",
        "def weighted_rating(x, M=M, C=C):\n",
        "    v = x['vote_count']\n",
        "    R = x['vote_average']\n",
        "    # Calculation based on the IMDB formula\n",
        "    return (v/(v+M) * R) + (M/(M+v) * C)\n"
      ],
      "execution_count": null,
      "outputs": []
    },
    {
      "cell_type": "code",
      "metadata": {
        "id": "iCTKZwUotoPQ",
        "colab": {
          "base_uri": "https://localhost:8080/",
          "height": 134
        },
        "outputId": "77879605-a26c-441a-facb-682376bb86ca"
      },
      "source": [
        "print(q_movies.columns)"
      ],
      "execution_count": null,
      "outputs": [
        {
          "output_type": "stream",
          "text": [
            "Index(['adult', 'belongs_to_collection', 'budget', 'genres', 'homepage', 'id',\n",
            "       'imdb_id', 'original_language', 'original_title', 'overview',\n",
            "       'popularity', 'poster_path', 'production_companies',\n",
            "       'production_countries', 'release_date', 'revenue', 'runtime',\n",
            "       'spoken_languages', 'status', 'tagline', 'title', 'video',\n",
            "       'vote_average', 'vote_count'],\n",
            "      dtype='object')\n"
          ],
          "name": "stdout"
        }
      ]
    },
    {
      "cell_type": "code",
      "metadata": {
        "id": "M5kBGu75ts3D"
      },
      "source": [
        "# Define a new feature 'score' and calculate its value with `weighted_rating()`\n",
        "q_movies['score'] = q_movies.apply(weighted_rating, axis=1)"
      ],
      "execution_count": null,
      "outputs": []
    },
    {
      "cell_type": "code",
      "metadata": {
        "id": "f4oEW_BotusY",
        "colab": {
          "base_uri": "https://localhost:8080/",
          "height": 491
        },
        "outputId": "28a1596a-30df-4382-cf0a-baf93d350823"
      },
      "source": [
        "#Sort movies based on score calculated above\n",
        "q_movies = q_movies.sort_values('score', ascending=False)\n",
        "\n",
        "#Print the top 15 movies\n",
        "q_movies[['title', 'vote_count', 'vote_average', 'score']].head(15)"
      ],
      "execution_count": null,
      "outputs": [
        {
          "output_type": "execute_result",
          "data": {
            "text/html": [
              "<div>\n",
              "<style scoped>\n",
              "    .dataframe tbody tr th:only-of-type {\n",
              "        vertical-align: middle;\n",
              "    }\n",
              "\n",
              "    .dataframe tbody tr th {\n",
              "        vertical-align: top;\n",
              "    }\n",
              "\n",
              "    .dataframe thead th {\n",
              "        text-align: right;\n",
              "    }\n",
              "</style>\n",
              "<table border=\"1\" class=\"dataframe\">\n",
              "  <thead>\n",
              "    <tr style=\"text-align: right;\">\n",
              "      <th></th>\n",
              "      <th>title</th>\n",
              "      <th>vote_count</th>\n",
              "      <th>vote_average</th>\n",
              "      <th>score</th>\n",
              "    </tr>\n",
              "  </thead>\n",
              "  <tbody>\n",
              "    <tr>\n",
              "      <th>314</th>\n",
              "      <td>The Shawshank Redemption</td>\n",
              "      <td>8358.0</td>\n",
              "      <td>8.5</td>\n",
              "      <td>8.445869</td>\n",
              "    </tr>\n",
              "    <tr>\n",
              "      <th>834</th>\n",
              "      <td>The Godfather</td>\n",
              "      <td>6024.0</td>\n",
              "      <td>8.5</td>\n",
              "      <td>8.425439</td>\n",
              "    </tr>\n",
              "    <tr>\n",
              "      <th>10309</th>\n",
              "      <td>Dilwale Dulhania Le Jayenge</td>\n",
              "      <td>661.0</td>\n",
              "      <td>9.1</td>\n",
              "      <td>8.421453</td>\n",
              "    </tr>\n",
              "    <tr>\n",
              "      <th>12481</th>\n",
              "      <td>The Dark Knight</td>\n",
              "      <td>12269.0</td>\n",
              "      <td>8.3</td>\n",
              "      <td>8.265477</td>\n",
              "    </tr>\n",
              "    <tr>\n",
              "      <th>2843</th>\n",
              "      <td>Fight Club</td>\n",
              "      <td>9678.0</td>\n",
              "      <td>8.3</td>\n",
              "      <td>8.256385</td>\n",
              "    </tr>\n",
              "    <tr>\n",
              "      <th>292</th>\n",
              "      <td>Pulp Fiction</td>\n",
              "      <td>8670.0</td>\n",
              "      <td>8.3</td>\n",
              "      <td>8.251406</td>\n",
              "    </tr>\n",
              "    <tr>\n",
              "      <th>522</th>\n",
              "      <td>Schindler's List</td>\n",
              "      <td>4436.0</td>\n",
              "      <td>8.3</td>\n",
              "      <td>8.206639</td>\n",
              "    </tr>\n",
              "    <tr>\n",
              "      <th>23673</th>\n",
              "      <td>Whiplash</td>\n",
              "      <td>4376.0</td>\n",
              "      <td>8.3</td>\n",
              "      <td>8.205404</td>\n",
              "    </tr>\n",
              "    <tr>\n",
              "      <th>5481</th>\n",
              "      <td>Spirited Away</td>\n",
              "      <td>3968.0</td>\n",
              "      <td>8.3</td>\n",
              "      <td>8.196055</td>\n",
              "    </tr>\n",
              "    <tr>\n",
              "      <th>2211</th>\n",
              "      <td>Life Is Beautiful</td>\n",
              "      <td>3643.0</td>\n",
              "      <td>8.3</td>\n",
              "      <td>8.187171</td>\n",
              "    </tr>\n",
              "    <tr>\n",
              "      <th>1178</th>\n",
              "      <td>The Godfather: Part II</td>\n",
              "      <td>3418.0</td>\n",
              "      <td>8.3</td>\n",
              "      <td>8.180076</td>\n",
              "    </tr>\n",
              "    <tr>\n",
              "      <th>1152</th>\n",
              "      <td>One Flew Over the Cuckoo's Nest</td>\n",
              "      <td>3001.0</td>\n",
              "      <td>8.3</td>\n",
              "      <td>8.164256</td>\n",
              "    </tr>\n",
              "    <tr>\n",
              "      <th>351</th>\n",
              "      <td>Forrest Gump</td>\n",
              "      <td>8147.0</td>\n",
              "      <td>8.2</td>\n",
              "      <td>8.150272</td>\n",
              "    </tr>\n",
              "    <tr>\n",
              "      <th>1154</th>\n",
              "      <td>The Empire Strikes Back</td>\n",
              "      <td>5998.0</td>\n",
              "      <td>8.2</td>\n",
              "      <td>8.132919</td>\n",
              "    </tr>\n",
              "    <tr>\n",
              "      <th>1176</th>\n",
              "      <td>Psycho</td>\n",
              "      <td>2405.0</td>\n",
              "      <td>8.3</td>\n",
              "      <td>8.132715</td>\n",
              "    </tr>\n",
              "  </tbody>\n",
              "</table>\n",
              "</div>"
            ],
            "text/plain": [
              "                                 title  vote_count  vote_average     score\n",
              "314           The Shawshank Redemption      8358.0           8.5  8.445869\n",
              "834                      The Godfather      6024.0           8.5  8.425439\n",
              "10309      Dilwale Dulhania Le Jayenge       661.0           9.1  8.421453\n",
              "12481                  The Dark Knight     12269.0           8.3  8.265477\n",
              "2843                        Fight Club      9678.0           8.3  8.256385\n",
              "292                       Pulp Fiction      8670.0           8.3  8.251406\n",
              "522                   Schindler's List      4436.0           8.3  8.206639\n",
              "23673                         Whiplash      4376.0           8.3  8.205404\n",
              "5481                     Spirited Away      3968.0           8.3  8.196055\n",
              "2211                 Life Is Beautiful      3643.0           8.3  8.187171\n",
              "1178            The Godfather: Part II      3418.0           8.3  8.180076\n",
              "1152   One Flew Over the Cuckoo's Nest      3001.0           8.3  8.164256\n",
              "351                       Forrest Gump      8147.0           8.2  8.150272\n",
              "1154           The Empire Strikes Back      5998.0           8.2  8.132919\n",
              "1176                            Psycho      2405.0           8.3  8.132715"
            ]
          },
          "metadata": {
            "tags": []
          },
          "execution_count": 12
        }
      ]
    },
    {
      "cell_type": "markdown",
      "metadata": {
        "id": "1PmzBj2quL-u"
      },
      "source": [
        "Build score function"
      ]
    },
    {
      "cell_type": "code",
      "metadata": {
        "id": "FtyAg0cbmBc1"
      },
      "source": [
        "# Function that computes the weighted rating of each movie\n",
        "C = metadata['vote_average'].mean()\n",
        "M = metadata['vote_count'].quantile(0.90)\n",
        "\n",
        "def weighted_rating(x, M=M, C=C):\n",
        "    v = x['vote_count']\n",
        "    R = x['vote_average']\n",
        "    # Calculation based on the IMDB formula\n",
        "    return (v/(v+M) * R) + (M/(M+v) * C)\n",
        "\n"
      ],
      "execution_count": null,
      "outputs": []
    },
    {
      "cell_type": "markdown",
      "metadata": {
        "id": "NHKwasOXvMSf"
      },
      "source": [
        "\n",
        "\n",
        "Use the recommendation score to recommend the top 15 movies"
      ]
    },
    {
      "cell_type": "code",
      "metadata": {
        "id": "hopCdMmXvV3S",
        "colab": {
          "base_uri": "https://localhost:8080/",
          "height": 491
        },
        "outputId": "1ca8c0a2-6937-4279-d6b2-e42aebe51fe1"
      },
      "source": [
        "# Filter out all qualified movies into a new DataFrame\n",
        "q_movies = metadata.copy().loc[metadata['vote_count'] >= M]\n",
        "# Define a new feature 'score' and calculate its value with `weighted_rating()`\n",
        "q_movies['score'] = q_movies.apply(weighted_rating, axis=1)\n",
        "#Sort movies based on score calculated above\n",
        "q_movies = q_movies.sort_values('score', ascending=False)\n",
        "\n",
        "#Print the top 15 movies\n",
        "q_movies[['title', 'vote_count', 'vote_average', 'score']].head(15)"
      ],
      "execution_count": null,
      "outputs": [
        {
          "output_type": "execute_result",
          "data": {
            "text/html": [
              "<div>\n",
              "<style scoped>\n",
              "    .dataframe tbody tr th:only-of-type {\n",
              "        vertical-align: middle;\n",
              "    }\n",
              "\n",
              "    .dataframe tbody tr th {\n",
              "        vertical-align: top;\n",
              "    }\n",
              "\n",
              "    .dataframe thead th {\n",
              "        text-align: right;\n",
              "    }\n",
              "</style>\n",
              "<table border=\"1\" class=\"dataframe\">\n",
              "  <thead>\n",
              "    <tr style=\"text-align: right;\">\n",
              "      <th></th>\n",
              "      <th>title</th>\n",
              "      <th>vote_count</th>\n",
              "      <th>vote_average</th>\n",
              "      <th>score</th>\n",
              "    </tr>\n",
              "  </thead>\n",
              "  <tbody>\n",
              "    <tr>\n",
              "      <th>314</th>\n",
              "      <td>The Shawshank Redemption</td>\n",
              "      <td>8358.0</td>\n",
              "      <td>8.5</td>\n",
              "      <td>8.445869</td>\n",
              "    </tr>\n",
              "    <tr>\n",
              "      <th>834</th>\n",
              "      <td>The Godfather</td>\n",
              "      <td>6024.0</td>\n",
              "      <td>8.5</td>\n",
              "      <td>8.425439</td>\n",
              "    </tr>\n",
              "    <tr>\n",
              "      <th>10309</th>\n",
              "      <td>Dilwale Dulhania Le Jayenge</td>\n",
              "      <td>661.0</td>\n",
              "      <td>9.1</td>\n",
              "      <td>8.421453</td>\n",
              "    </tr>\n",
              "    <tr>\n",
              "      <th>12481</th>\n",
              "      <td>The Dark Knight</td>\n",
              "      <td>12269.0</td>\n",
              "      <td>8.3</td>\n",
              "      <td>8.265477</td>\n",
              "    </tr>\n",
              "    <tr>\n",
              "      <th>2843</th>\n",
              "      <td>Fight Club</td>\n",
              "      <td>9678.0</td>\n",
              "      <td>8.3</td>\n",
              "      <td>8.256385</td>\n",
              "    </tr>\n",
              "    <tr>\n",
              "      <th>292</th>\n",
              "      <td>Pulp Fiction</td>\n",
              "      <td>8670.0</td>\n",
              "      <td>8.3</td>\n",
              "      <td>8.251406</td>\n",
              "    </tr>\n",
              "    <tr>\n",
              "      <th>522</th>\n",
              "      <td>Schindler's List</td>\n",
              "      <td>4436.0</td>\n",
              "      <td>8.3</td>\n",
              "      <td>8.206639</td>\n",
              "    </tr>\n",
              "    <tr>\n",
              "      <th>23673</th>\n",
              "      <td>Whiplash</td>\n",
              "      <td>4376.0</td>\n",
              "      <td>8.3</td>\n",
              "      <td>8.205404</td>\n",
              "    </tr>\n",
              "    <tr>\n",
              "      <th>5481</th>\n",
              "      <td>Spirited Away</td>\n",
              "      <td>3968.0</td>\n",
              "      <td>8.3</td>\n",
              "      <td>8.196055</td>\n",
              "    </tr>\n",
              "    <tr>\n",
              "      <th>2211</th>\n",
              "      <td>Life Is Beautiful</td>\n",
              "      <td>3643.0</td>\n",
              "      <td>8.3</td>\n",
              "      <td>8.187171</td>\n",
              "    </tr>\n",
              "    <tr>\n",
              "      <th>1178</th>\n",
              "      <td>The Godfather: Part II</td>\n",
              "      <td>3418.0</td>\n",
              "      <td>8.3</td>\n",
              "      <td>8.180076</td>\n",
              "    </tr>\n",
              "    <tr>\n",
              "      <th>1152</th>\n",
              "      <td>One Flew Over the Cuckoo's Nest</td>\n",
              "      <td>3001.0</td>\n",
              "      <td>8.3</td>\n",
              "      <td>8.164256</td>\n",
              "    </tr>\n",
              "    <tr>\n",
              "      <th>351</th>\n",
              "      <td>Forrest Gump</td>\n",
              "      <td>8147.0</td>\n",
              "      <td>8.2</td>\n",
              "      <td>8.150272</td>\n",
              "    </tr>\n",
              "    <tr>\n",
              "      <th>1154</th>\n",
              "      <td>The Empire Strikes Back</td>\n",
              "      <td>5998.0</td>\n",
              "      <td>8.2</td>\n",
              "      <td>8.132919</td>\n",
              "    </tr>\n",
              "    <tr>\n",
              "      <th>1176</th>\n",
              "      <td>Psycho</td>\n",
              "      <td>2405.0</td>\n",
              "      <td>8.3</td>\n",
              "      <td>8.132715</td>\n",
              "    </tr>\n",
              "  </tbody>\n",
              "</table>\n",
              "</div>"
            ],
            "text/plain": [
              "                                 title  vote_count  vote_average     score\n",
              "314           The Shawshank Redemption      8358.0           8.5  8.445869\n",
              "834                      The Godfather      6024.0           8.5  8.425439\n",
              "10309      Dilwale Dulhania Le Jayenge       661.0           9.1  8.421453\n",
              "12481                  The Dark Knight     12269.0           8.3  8.265477\n",
              "2843                        Fight Club      9678.0           8.3  8.256385\n",
              "292                       Pulp Fiction      8670.0           8.3  8.251406\n",
              "522                   Schindler's List      4436.0           8.3  8.206639\n",
              "23673                         Whiplash      4376.0           8.3  8.205404\n",
              "5481                     Spirited Away      3968.0           8.3  8.196055\n",
              "2211                 Life Is Beautiful      3643.0           8.3  8.187171\n",
              "1178            The Godfather: Part II      3418.0           8.3  8.180076\n",
              "1152   One Flew Over the Cuckoo's Nest      3001.0           8.3  8.164256\n",
              "351                       Forrest Gump      8147.0           8.2  8.150272\n",
              "1154           The Empire Strikes Back      5998.0           8.2  8.132919\n",
              "1176                            Psycho      2405.0           8.3  8.132715"
            ]
          },
          "metadata": {
            "tags": []
          },
          "execution_count": 14
        }
      ]
    },
    {
      "cell_type": "markdown",
      "metadata": {
        "id": "Y_axRSfxvbG2"
      },
      "source": [
        "# Lesson 3: Content based recommender systems"
      ]
    },
    {
      "cell_type": "markdown",
      "metadata": {
        "id": "MaROIsP5v7xK"
      },
      "source": [
        "## Learning Objectives\n",
        "\n",
        "- Learner will be able to understand and calculate the TF-IDF using sklearn for text sentence (item/movie overview).\n",
        "- Learner will be able to understand what is meant by Dot product, and relation to Cosine similarity.\n",
        "- Learner will be able to calculate cosine similarity with sklearn for two TF-IDF vectors.\n",
        "- Learner will be able to recommend movies based on their cosine similarity to other movies overview text description.\n",
        "- Learner will be able to use CountVectorizer in sklearn to recommend movies based on other meta-data, like credits, genres and keywords."
      ]
    },
    {
      "cell_type": "markdown",
      "metadata": {
        "id": "ZSL3osNLwx2E"
      },
      "source": [
        "## Preparation code"
      ]
    },
    {
      "cell_type": "code",
      "metadata": {
        "id": "w9S44W3Nw1gf",
        "colab": {
          "base_uri": "https://localhost:8080/",
          "height": 118
        },
        "outputId": "0211d6c7-ded1-42ea-ede1-c4d66bef41b1"
      },
      "source": [
        "#Print plot overviews of the first 5 movies.\n",
        "metadata['overview'].head()"
      ],
      "execution_count": null,
      "outputs": [
        {
          "output_type": "execute_result",
          "data": {
            "text/plain": [
              "0    Led by Woody, Andy's toys live happily in his ...\n",
              "1    When siblings Judy and Peter discover an encha...\n",
              "2    A family wedding reignites the ancient feud be...\n",
              "3    Cheated on, mistreated and stepped on, the wom...\n",
              "4    Just when George Banks has recovered from his ...\n",
              "Name: overview, dtype: object"
            ]
          },
          "metadata": {
            "tags": []
          },
          "execution_count": 15
        }
      ]
    },
    {
      "cell_type": "markdown",
      "metadata": {
        "id": "Y9mo6zi4wtv2"
      },
      "source": [
        "\n",
        "Calculate the TF-IDF transform for the movies overview texts"
      ]
    },
    {
      "cell_type": "code",
      "metadata": {
        "id": "cfQYbxz3w_ZF",
        "colab": {
          "base_uri": "https://localhost:8080/",
          "height": 34
        },
        "outputId": "151932f9-0505-4a9f-c017-3d51eccf4d7a"
      },
      "source": [
        "#Define a TF-IDF Vectorizer Object. Remove all english stop words such as 'the', 'a'\n",
        "tfidf = TfidfVectorizer(stop_words='english')\n",
        "\n",
        "#Replace NaN with an empty string\n",
        "metadata['overview'] = metadata['overview'].fillna('')\n",
        "\n",
        "#Construct the required TF-IDF matrix by fitting and transforming the data\n",
        "tfidf_matrix = tfidf.fit_transform(metadata['overview'])\n",
        "\n",
        "#Output the shape of tfidf_matrix\n",
        "tfidf_matrix.shape"
      ],
      "execution_count": null,
      "outputs": [
        {
          "output_type": "execute_result",
          "data": {
            "text/plain": [
              "(45466, 75827)"
            ]
          },
          "metadata": {
            "tags": []
          },
          "execution_count": 16
        }
      ]
    },
    {
      "cell_type": "markdown",
      "metadata": {
        "id": "5fiPMPvzxOjr"
      },
      "source": [
        "\n",
        "Compute the pair-wise cosine similarity between all overviews of movies. \n",
        "\n",
        "\n",
        "Remember: since that:\n",
        "\n",
        "$$x.y = ||x||.||y||.cos(\\theta)$$\n",
        "\n",
        "So \n",
        "$$cos(\\theta) = \\frac{x.y}{||x||||y||}$$\n",
        "\n",
        "So we can use the `linear_kernel` from sklearn, which is faster than `cosine_similarity`"
      ]
    },
    {
      "cell_type": "code",
      "metadata": {
        "id": "RZ2VDmWxyHn_"
      },
      "source": [
        "# Compute the cosine Similarity matrix\n",
        "cosine_sim = linear_kernel(tfidf_matrix, tfidf_matrix)"
      ],
      "execution_count": null,
      "outputs": []
    },
    {
      "cell_type": "markdown",
      "metadata": {
        "id": "vb_94M23ySpg"
      },
      "source": [
        "\n",
        "Implement the function `get_recommendations` that produces 10 most similar movies, based on cosine_similarity between the TF-IDF scores of descriptions"
      ]
    },
    {
      "cell_type": "code",
      "metadata": {
        "id": "cOqFb6chzHFz"
      },
      "source": [
        "#Construct a reverse map of indices and movie titles\n",
        "indices = pd.Series(metadata.index, index=metadata['title']).drop_duplicates()"
      ],
      "execution_count": null,
      "outputs": []
    },
    {
      "cell_type": "code",
      "metadata": {
        "id": "-qbnEe2zyx76"
      },
      "source": [
        "\n",
        "# Function that takes in movie title as input and outputs most similar movies\n",
        "def get_recommendations(title, cosine_sim=cosine_sim):\n",
        "    # Get the index of the movie that matches the title\n",
        "    idx = indices[title]\n",
        "\n",
        "    # Get the pairwsie similarity scores of all movies with that movie\n",
        "    sim_scores = list(enumerate(cosine_sim[idx]))\n",
        "\n",
        "    # Sort the movies based on the similarity scores\n",
        "    sim_scores = sorted(sim_scores, key=lambda x: x[1], reverse=True)\n",
        "\n",
        "    # Get the scores of the 10 most similar movies\n",
        "    sim_scores = sim_scores[1:11]\n",
        "\n",
        "    # Get the movie indices\n",
        "    movie_indices = [i[0] for i in sim_scores]\n",
        "\n",
        "    # Return the top 10 most similar movies\n",
        "    return metadata['title'].iloc[movie_indices]"
      ],
      "execution_count": null,
      "outputs": []
    },
    {
      "cell_type": "code",
      "metadata": {
        "id": "e2hRjsfwyz5F",
        "colab": {
          "base_uri": "https://localhost:8080/",
          "height": 202
        },
        "outputId": "48bcf97f-6015-4cbc-950e-d4cb0225fa60"
      },
      "source": [
        "print(get_recommendations('The Dark Knight Rises'))"
      ],
      "execution_count": null,
      "outputs": [
        {
          "output_type": "stream",
          "text": [
            "12481                                      The Dark Knight\n",
            "150                                         Batman Forever\n",
            "1328                                        Batman Returns\n",
            "15511                           Batman: Under the Red Hood\n",
            "585                                                 Batman\n",
            "21194    Batman Unmasked: The Psychology of the Dark Kn...\n",
            "9230                    Batman Beyond: Return of the Joker\n",
            "18035                                     Batman: Year One\n",
            "19792              Batman: The Dark Knight Returns, Part 1\n",
            "3095                          Batman: Mask of the Phantasm\n",
            "Name: title, dtype: object\n"
          ],
          "name": "stdout"
        }
      ]
    },
    {
      "cell_type": "code",
      "metadata": {
        "id": "7dFlfrtmzQT0",
        "colab": {
          "base_uri": "https://localhost:8080/",
          "height": 202
        },
        "outputId": "c36fd6cb-2ae4-4eb3-8b75-df937732ef1e"
      },
      "source": [
        "get_recommendations('The Godfather')"
      ],
      "execution_count": null,
      "outputs": [
        {
          "output_type": "execute_result",
          "data": {
            "text/plain": [
              "1178               The Godfather: Part II\n",
              "44030    The Godfather Trilogy: 1972-1990\n",
              "1914              The Godfather: Part III\n",
              "23126                          Blood Ties\n",
              "11297                    Household Saints\n",
              "34717                   Start Liquidation\n",
              "10821                            Election\n",
              "38030            A Mother Should Be Loved\n",
              "17729                   Short Sharp Shock\n",
              "26293                  Beck 28 - Familjen\n",
              "Name: title, dtype: object"
            ]
          },
          "metadata": {
            "tags": []
          },
          "execution_count": 23
        }
      ]
    },
    {
      "cell_type": "markdown",
      "metadata": {
        "id": "E0ZisnopzhKQ"
      },
      "source": [
        "\n",
        " we want to recommend movies based on some extra metadata _features_, like `'cast', 'crew', 'keywords', 'genres'`. One important difference is that you use the `CountVectorizer()` instead of TF-IDF. This is because you do not want to down-weight the presence of an actor/director if he or she has acted or directed in relatively more movies. It doesn't make much intuitive sense.\n",
        "\n",
        "You are asked to recommend movies on the new cosine_similarity, pair wise `CountVectorizer()` scores."
      ]
    },
    {
      "cell_type": "markdown",
      "metadata": {
        "id": "ZRZ3GyHC0nAx"
      },
      "source": [
        "##  Preparation code\n"
      ]
    },
    {
      "cell_type": "code",
      "metadata": {
        "id": "m5h0Yyhkz7AL"
      },
      "source": [
        "# Load keywords and credits\n",
        "credits = pd.read_csv(imdb_data_dir + 'credits.csv')\n",
        "keywords = pd.read_csv(imdb_data_dir + 'keywords.csv')\n",
        "\n",
        "# Remove rows with bad IDs.\n",
        "metadata = metadata.drop([19730, 29503, 35587])\n",
        "\n",
        "# Convert IDs to int. Required for merging\n",
        "keywords['id'] = keywords['id'].astype('int')\n",
        "credits['id'] = credits['id'].astype('int')\n",
        "metadata['id'] = metadata['id'].astype('int')\n",
        "\n",
        "# Merge keywords and credits into your main metadata dataframe\n",
        "metadata = metadata.merge(credits, on='id')\n",
        "metadata = metadata.merge(keywords, on='id')"
      ],
      "execution_count": null,
      "outputs": []
    },
    {
      "cell_type": "code",
      "metadata": {
        "id": "-0dUi1T00F0b",
        "colab": {
          "base_uri": "https://localhost:8080/",
          "height": 311
        },
        "outputId": "c5125fbb-80c2-4c00-d4a0-e3d361c2524b"
      },
      "source": [
        "# Print the first two movies of your newly merged metadata\n",
        "metadata.head(2)"
      ],
      "execution_count": null,
      "outputs": [
        {
          "output_type": "execute_result",
          "data": {
            "text/html": [
              "<div>\n",
              "<style scoped>\n",
              "    .dataframe tbody tr th:only-of-type {\n",
              "        vertical-align: middle;\n",
              "    }\n",
              "\n",
              "    .dataframe tbody tr th {\n",
              "        vertical-align: top;\n",
              "    }\n",
              "\n",
              "    .dataframe thead th {\n",
              "        text-align: right;\n",
              "    }\n",
              "</style>\n",
              "<table border=\"1\" class=\"dataframe\">\n",
              "  <thead>\n",
              "    <tr style=\"text-align: right;\">\n",
              "      <th></th>\n",
              "      <th>adult</th>\n",
              "      <th>belongs_to_collection</th>\n",
              "      <th>budget</th>\n",
              "      <th>genres</th>\n",
              "      <th>homepage</th>\n",
              "      <th>id</th>\n",
              "      <th>imdb_id</th>\n",
              "      <th>original_language</th>\n",
              "      <th>original_title</th>\n",
              "      <th>overview</th>\n",
              "      <th>popularity</th>\n",
              "      <th>poster_path</th>\n",
              "      <th>production_companies</th>\n",
              "      <th>production_countries</th>\n",
              "      <th>release_date</th>\n",
              "      <th>revenue</th>\n",
              "      <th>runtime</th>\n",
              "      <th>spoken_languages</th>\n",
              "      <th>status</th>\n",
              "      <th>tagline</th>\n",
              "      <th>title</th>\n",
              "      <th>video</th>\n",
              "      <th>vote_average</th>\n",
              "      <th>vote_count</th>\n",
              "      <th>cast</th>\n",
              "      <th>crew</th>\n",
              "      <th>keywords</th>\n",
              "    </tr>\n",
              "  </thead>\n",
              "  <tbody>\n",
              "    <tr>\n",
              "      <th>0</th>\n",
              "      <td>False</td>\n",
              "      <td>{'id': 10194, 'name': 'Toy Story Collection', ...</td>\n",
              "      <td>30000000</td>\n",
              "      <td>[{'id': 16, 'name': 'Animation'}, {'id': 35, '...</td>\n",
              "      <td>http://toystory.disney.com/toy-story</td>\n",
              "      <td>862</td>\n",
              "      <td>tt0114709</td>\n",
              "      <td>en</td>\n",
              "      <td>Toy Story</td>\n",
              "      <td>Led by Woody, Andy's toys live happily in his ...</td>\n",
              "      <td>21.9469</td>\n",
              "      <td>/rhIRbceoE9lR4veEXuwCC2wARtG.jpg</td>\n",
              "      <td>[{'name': 'Pixar Animation Studios', 'id': 3}]</td>\n",
              "      <td>[{'iso_3166_1': 'US', 'name': 'United States o...</td>\n",
              "      <td>1995-10-30</td>\n",
              "      <td>373554033.0</td>\n",
              "      <td>81.0</td>\n",
              "      <td>[{'iso_639_1': 'en', 'name': 'English'}]</td>\n",
              "      <td>Released</td>\n",
              "      <td>NaN</td>\n",
              "      <td>Toy Story</td>\n",
              "      <td>False</td>\n",
              "      <td>7.7</td>\n",
              "      <td>5415.0</td>\n",
              "      <td>[{'cast_id': 14, 'character': 'Woody (voice)',...</td>\n",
              "      <td>[{'credit_id': '52fe4284c3a36847f8024f49', 'de...</td>\n",
              "      <td>[{'id': 931, 'name': 'jealousy'}, {'id': 4290,...</td>\n",
              "    </tr>\n",
              "    <tr>\n",
              "      <th>1</th>\n",
              "      <td>False</td>\n",
              "      <td>NaN</td>\n",
              "      <td>65000000</td>\n",
              "      <td>[{'id': 12, 'name': 'Adventure'}, {'id': 14, '...</td>\n",
              "      <td>NaN</td>\n",
              "      <td>8844</td>\n",
              "      <td>tt0113497</td>\n",
              "      <td>en</td>\n",
              "      <td>Jumanji</td>\n",
              "      <td>When siblings Judy and Peter discover an encha...</td>\n",
              "      <td>17.0155</td>\n",
              "      <td>/vzmL6fP7aPKNKPRTFnZmiUfciyV.jpg</td>\n",
              "      <td>[{'name': 'TriStar Pictures', 'id': 559}, {'na...</td>\n",
              "      <td>[{'iso_3166_1': 'US', 'name': 'United States o...</td>\n",
              "      <td>1995-12-15</td>\n",
              "      <td>262797249.0</td>\n",
              "      <td>104.0</td>\n",
              "      <td>[{'iso_639_1': 'en', 'name': 'English'}, {'iso...</td>\n",
              "      <td>Released</td>\n",
              "      <td>Roll the dice and unleash the excitement!</td>\n",
              "      <td>Jumanji</td>\n",
              "      <td>False</td>\n",
              "      <td>6.9</td>\n",
              "      <td>2413.0</td>\n",
              "      <td>[{'cast_id': 1, 'character': 'Alan Parrish', '...</td>\n",
              "      <td>[{'credit_id': '52fe44bfc3a36847f80a7cd1', 'de...</td>\n",
              "      <td>[{'id': 10090, 'name': 'board game'}, {'id': 1...</td>\n",
              "    </tr>\n",
              "  </tbody>\n",
              "</table>\n",
              "</div>"
            ],
            "text/plain": [
              "   adult  ...                                           keywords\n",
              "0  False  ...  [{'id': 931, 'name': 'jealousy'}, {'id': 4290,...\n",
              "1  False  ...  [{'id': 10090, 'name': 'board game'}, {'id': 1...\n",
              "\n",
              "[2 rows x 27 columns]"
            ]
          },
          "metadata": {
            "tags": []
          },
          "execution_count": 11
        }
      ]
    },
    {
      "cell_type": "code",
      "metadata": {
        "id": "uEG0ZvlVAEqc",
        "colab": {
          "base_uri": "https://localhost:8080/",
          "height": 34
        },
        "outputId": "571625da-0994-4655-8fc4-7c3fe9d7cc96"
      },
      "source": [
        "len(metadata)"
      ],
      "execution_count": null,
      "outputs": [
        {
          "output_type": "execute_result",
          "data": {
            "text/plain": [
              "46628"
            ]
          },
          "metadata": {
            "tags": []
          },
          "execution_count": 12
        }
      ]
    },
    {
      "cell_type": "code",
      "metadata": {
        "id": "eQEwGM_4AHAd"
      },
      "source": [
        "# Limit the data for memory size\n",
        "metadata = metadata[:10000]"
      ],
      "execution_count": null,
      "outputs": []
    },
    {
      "cell_type": "code",
      "metadata": {
        "id": "iKD-IRZU0gf8"
      },
      "source": [
        "# Parse the stringified features into their corresponding python objects\n",
        "from ast import literal_eval\n",
        "\n",
        "features = ['cast', 'crew', 'keywords', 'genres']\n",
        "for feature in features:\n",
        "    metadata[feature] = metadata[feature].apply(literal_eval)"
      ],
      "execution_count": null,
      "outputs": []
    },
    {
      "cell_type": "code",
      "metadata": {
        "id": "Yz-ZtT810sVl"
      },
      "source": [
        "# Get the director's name from the crew feature. If director is not listed, return NaN\n",
        "def get_director(x):\n",
        "    for i in x:\n",
        "        if i['job'] == 'Director':\n",
        "            return i['name']\n",
        "    return np.nan"
      ],
      "execution_count": null,
      "outputs": []
    },
    {
      "cell_type": "code",
      "metadata": {
        "id": "hwiIW2vF0uhC"
      },
      "source": [
        "# Returns the list top 3 elements or entire list; whichever is more.\n",
        "def get_list(x):\n",
        "    if isinstance(x, list):\n",
        "        names = [i['name'] for i in x]\n",
        "        #Check if more than 3 elements exist. If yes, return only first three. If no, return entire list.\n",
        "        if len(names) > 3:\n",
        "            names = names[:3]\n",
        "        return names\n",
        "\n",
        "    #Return empty list in case of missing/malformed data\n",
        "    return []"
      ],
      "execution_count": null,
      "outputs": []
    },
    {
      "cell_type": "code",
      "metadata": {
        "id": "7H1Zruw_0xwS"
      },
      "source": [
        "# Define new director, cast, genres and keywords features that are in a suitable form.\n",
        "metadata['director'] = metadata['crew'].apply(get_director)\n",
        "\n",
        "features = ['cast', 'keywords', 'genres']\n",
        "for feature in features:\n",
        "    metadata[feature] = metadata[feature].apply(get_list)"
      ],
      "execution_count": null,
      "outputs": []
    },
    {
      "cell_type": "code",
      "metadata": {
        "id": "T_q6zqZF0zrA",
        "colab": {
          "base_uri": "https://localhost:8080/",
          "height": 343
        },
        "outputId": "228737cf-6ec2-41c7-cbc2-9d3f378ed3f2"
      },
      "source": [
        "# Print the new features of the first 3 films\n",
        "metadata[['title', 'cast', 'director', 'keywords', 'genres']].head(10)"
      ],
      "execution_count": null,
      "outputs": [
        {
          "output_type": "execute_result",
          "data": {
            "text/html": [
              "<div>\n",
              "<style scoped>\n",
              "    .dataframe tbody tr th:only-of-type {\n",
              "        vertical-align: middle;\n",
              "    }\n",
              "\n",
              "    .dataframe tbody tr th {\n",
              "        vertical-align: top;\n",
              "    }\n",
              "\n",
              "    .dataframe thead th {\n",
              "        text-align: right;\n",
              "    }\n",
              "</style>\n",
              "<table border=\"1\" class=\"dataframe\">\n",
              "  <thead>\n",
              "    <tr style=\"text-align: right;\">\n",
              "      <th></th>\n",
              "      <th>title</th>\n",
              "      <th>cast</th>\n",
              "      <th>director</th>\n",
              "      <th>keywords</th>\n",
              "      <th>genres</th>\n",
              "    </tr>\n",
              "  </thead>\n",
              "  <tbody>\n",
              "    <tr>\n",
              "      <th>0</th>\n",
              "      <td>Toy Story</td>\n",
              "      <td>[tomhanks, timallen, donrickles]</td>\n",
              "      <td>johnlasseter</td>\n",
              "      <td>[jealousy, toy, boy]</td>\n",
              "      <td>[animation, comedy, family]</td>\n",
              "    </tr>\n",
              "    <tr>\n",
              "      <th>1</th>\n",
              "      <td>Jumanji</td>\n",
              "      <td>[robinwilliams, jonathanhyde, kirstendunst]</td>\n",
              "      <td>joejohnston</td>\n",
              "      <td>[boardgame, disappearance, basedonchildren'sbook]</td>\n",
              "      <td>[adventure, fantasy, family]</td>\n",
              "    </tr>\n",
              "    <tr>\n",
              "      <th>2</th>\n",
              "      <td>Grumpier Old Men</td>\n",
              "      <td>[waltermatthau, jacklemmon, ann-margret]</td>\n",
              "      <td>howarddeutch</td>\n",
              "      <td>[fishing, bestfriend, duringcreditsstinger]</td>\n",
              "      <td>[romance, comedy]</td>\n",
              "    </tr>\n",
              "    <tr>\n",
              "      <th>3</th>\n",
              "      <td>Waiting to Exhale</td>\n",
              "      <td>[whitneyhouston, angelabassett, lorettadevine]</td>\n",
              "      <td>forestwhitaker</td>\n",
              "      <td>[basedonnovel, interracialrelationship, single...</td>\n",
              "      <td>[comedy, drama, romance]</td>\n",
              "    </tr>\n",
              "    <tr>\n",
              "      <th>4</th>\n",
              "      <td>Father of the Bride Part II</td>\n",
              "      <td>[stevemartin, dianekeaton, martinshort]</td>\n",
              "      <td>charlesshyer</td>\n",
              "      <td>[baby, midlifecrisis, confidence]</td>\n",
              "      <td>[comedy]</td>\n",
              "    </tr>\n",
              "    <tr>\n",
              "      <th>5</th>\n",
              "      <td>Heat</td>\n",
              "      <td>[alpacino, robertdeniro, valkilmer]</td>\n",
              "      <td>michaelmann</td>\n",
              "      <td>[robbery, detective, bank]</td>\n",
              "      <td>[action, crime, drama]</td>\n",
              "    </tr>\n",
              "    <tr>\n",
              "      <th>6</th>\n",
              "      <td>Sabrina</td>\n",
              "      <td>[harrisonford, juliaormond, gregkinnear]</td>\n",
              "      <td>sydneypollack</td>\n",
              "      <td>[paris, brotherbrotherrelationship, chauffeur]</td>\n",
              "      <td>[comedy, romance]</td>\n",
              "    </tr>\n",
              "    <tr>\n",
              "      <th>7</th>\n",
              "      <td>Tom and Huck</td>\n",
              "      <td>[jonathantaylorthomas, bradrenfro, rachaelleig...</td>\n",
              "      <td>peterhewitt</td>\n",
              "      <td>[]</td>\n",
              "      <td>[action, adventure, drama]</td>\n",
              "    </tr>\n",
              "    <tr>\n",
              "      <th>8</th>\n",
              "      <td>Sudden Death</td>\n",
              "      <td>[jean-claudevandamme, powersboothe, dorianhare...</td>\n",
              "      <td>peterhyams</td>\n",
              "      <td>[terrorist, hostage, explosive]</td>\n",
              "      <td>[action, adventure, thriller]</td>\n",
              "    </tr>\n",
              "    <tr>\n",
              "      <th>9</th>\n",
              "      <td>GoldenEye</td>\n",
              "      <td>[piercebrosnan, seanbean, izabellascorupco]</td>\n",
              "      <td>martincampbell</td>\n",
              "      <td>[cuba, falselyaccused, secretidentity]</td>\n",
              "      <td>[adventure, action, thriller]</td>\n",
              "    </tr>\n",
              "  </tbody>\n",
              "</table>\n",
              "</div>"
            ],
            "text/plain": [
              "                         title  ...                         genres\n",
              "0                    Toy Story  ...    [animation, comedy, family]\n",
              "1                      Jumanji  ...   [adventure, fantasy, family]\n",
              "2             Grumpier Old Men  ...              [romance, comedy]\n",
              "3            Waiting to Exhale  ...       [comedy, drama, romance]\n",
              "4  Father of the Bride Part II  ...                       [comedy]\n",
              "5                         Heat  ...         [action, crime, drama]\n",
              "6                      Sabrina  ...              [comedy, romance]\n",
              "7                 Tom and Huck  ...     [action, adventure, drama]\n",
              "8                 Sudden Death  ...  [action, adventure, thriller]\n",
              "9                    GoldenEye  ...  [adventure, action, thriller]\n",
              "\n",
              "[10 rows x 5 columns]"
            ]
          },
          "metadata": {
            "tags": []
          },
          "execution_count": 33
        }
      ]
    },
    {
      "cell_type": "code",
      "metadata": {
        "id": "GtEXOsMI05B5"
      },
      "source": [
        "# Function to convert all strings to lower case and strip names of spaces\n",
        "def clean_data(x):\n",
        "    if isinstance(x, list):\n",
        "        return [str.lower(i.replace(\" \", \"\")) for i in x]\n",
        "    else:\n",
        "        #Check if director exists. If not, return empty string\n",
        "        if isinstance(x, str):\n",
        "            return str.lower(x.replace(\" \", \"\"))\n",
        "        else:\n",
        "            return ''"
      ],
      "execution_count": null,
      "outputs": []
    },
    {
      "cell_type": "code",
      "metadata": {
        "id": "2dxtOihu07JT"
      },
      "source": [
        "# Apply clean_data function to your features.\n",
        "features = ['cast', 'keywords', 'director', 'genres']\n",
        "\n",
        "for feature in features:\n",
        "    metadata[feature] = metadata[feature].apply(clean_data)"
      ],
      "execution_count": null,
      "outputs": []
    },
    {
      "cell_type": "code",
      "metadata": {
        "id": "WzHcnBM50_FH"
      },
      "source": [
        "def create_soup(x):\n",
        "    return ' '.join(x['keywords']) + ' ' + ' '.join(x['cast']) + ' ' + x['director'] + ' ' + ' '.join(x['genres'])"
      ],
      "execution_count": null,
      "outputs": []
    },
    {
      "cell_type": "code",
      "metadata": {
        "id": "-ryLEni50_xh"
      },
      "source": [
        "# Create a new soup feature\n",
        "metadata['soup'] = metadata.apply(create_soup, axis=1)"
      ],
      "execution_count": null,
      "outputs": []
    },
    {
      "cell_type": "code",
      "metadata": {
        "id": "xwCKd7v81kJz"
      },
      "source": [
        "\n",
        "\n",
        "count = CountVectorizer(stop_words='english')\n",
        "count_matrix = count.fit_transform(metadata['soup'])\n",
        "cosine_sim2 = cosine_similarity(count_matrix, count_matrix)\n",
        "# Reset index of your main DataFrame and construct reverse mapping as before\n",
        "metadata = metadata.reset_index()\n",
        "indices = pd.Series(metadata.index, index=metadata['title'])"
      ],
      "execution_count": null,
      "outputs": []
    },
    {
      "cell_type": "markdown",
      "metadata": {
        "id": "M3KIontdBiyG"
      },
      "source": [
        "Implement the function `get_recommendations` that produces 10 most similar movies, using the Counts based pair-wise cosine similarity to give recommendations based on meta data."
      ]
    },
    {
      "cell_type": "code",
      "metadata": {
        "id": "uDiWKWrLAiFP"
      },
      "source": [
        "\n",
        "# Function that takes in movie title as input and outputs most similar movies\n",
        "def get_recommendations(title, cosine_sim=cosine_sim2):\n",
        "    # Get the index of the movie that matches the title\n",
        "    idx = indices[title]\n",
        "\n",
        "    # Get the pairwsie similarity scores of all movies with that movie\n",
        "    sim_scores = list(enumerate(cosine_sim[idx]))\n",
        "\n",
        "    # Sort the movies based on the similarity scores\n",
        "    sim_scores = sorted(sim_scores, key=lambda x: x[1], reverse=True)\n",
        "\n",
        "    # Get the scores of the 10 most similar movies\n",
        "    sim_scores = sim_scores[1:11]\n",
        "\n",
        "    # Get the movie indices\n",
        "    movie_indices = [i[0] for i in sim_scores]\n",
        "\n",
        "    # Return the top 10 most similar movies\n",
        "    return metadata['title'].iloc[movie_indices]"
      ],
      "execution_count": null,
      "outputs": []
    },
    {
      "cell_type": "code",
      "metadata": {
        "id": "JcxsZmyw-I5u",
        "colab": {
          "base_uri": "https://localhost:8080/",
          "height": 202
        },
        "outputId": "96ad4603-60cd-4277-bf3b-556760560394"
      },
      "source": [
        "get_recommendations('The Godfather', cosine_sim2)"
      ],
      "execution_count": null,
      "outputs": [
        {
          "output_type": "execute_result",
          "data": {
            "text/plain": [
              "1934           The Godfather: Part III\n",
              "1199            The Godfather: Part II\n",
              "8001    The Night of the Following Day\n",
              "7772                          Mitchell\n",
              "1186                    Apocalypse Now\n",
              "1648                  Ill Gotten Gains\n",
              "3487        Jails, Hospitals & Hip-Hop\n",
              "4012                  Gardens of Stone\n",
              "5309                       The Gambler\n",
              "5                                 Heat\n",
              "Name: title, dtype: object"
            ]
          },
          "metadata": {
            "tags": []
          },
          "execution_count": 34
        }
      ]
    },
    {
      "cell_type": "markdown",
      "metadata": {
        "id": "qtI0IGo7fQk1"
      },
      "source": [
        "# Chapter 3: Collaborative filtering\n"
      ]
    },
    {
      "cell_type": "markdown",
      "metadata": {
        "id": "MRSHX1PeGiYa"
      },
      "source": [
        "## Lesson 1: What are collaborative filters?"
      ]
    },
    {
      "cell_type": "markdown",
      "metadata": {
        "id": "5QuiVupMGiV0"
      },
      "source": [
        "## Learning Objectives\n",
        "- Learner will be able to identify the difference between the collaborative filtering approach and content based approach.\n",
        "- Learner will be able to capture the overall model architecture using the ML workflow.\n",
        "- Learner will be able to describe the learning process and the involved loss optimization using neural networks to build a colaborative filter."
      ]
    },
    {
      "cell_type": "markdown",
      "metadata": {
        "id": "U6G35vFvGiTL"
      },
      "source": [
        "Describe collaborative filtering and its relation to SVD and Matrix factorization"
      ]
    },
    {
      "cell_type": "markdown",
      "metadata": {
        "id": "uX8UhJ4OGtPs"
      },
      "source": [
        "# Lesson 2: The use of dot products to measure similarity\n",
        "- Learner will be able to apply dot products to measure vectors similarity\n",
        "- Learner will be able to use sklearn to measure different similarity metrics, like cosine similarity\n",
        "- Learner will be able to build models with Keras involving Dot product"
      ]
    },
    {
      "cell_type": "markdown",
      "metadata": {
        "id": "KzVfNzoqGtND"
      },
      "source": [
        "Find the simialrity score between the following group of vectors using dot product in sklearn"
      ]
    },
    {
      "cell_type": "code",
      "metadata": {
        "id": "l_JPCi6CG1tv"
      },
      "source": [
        "X = np.array([[2, 3], [3, 5], [5, 8]])\n",
        "Y = np.array([[1, 0], [2, 1]])"
      ],
      "execution_count": null,
      "outputs": []
    },
    {
      "cell_type": "code",
      "metadata": {
        "id": "GsdpOEo0fP5B",
        "colab": {
          "base_uri": "https://localhost:8080/",
          "height": 67
        },
        "outputId": "d02772de-0478-4e22-d700-92c73c1f95e1"
      },
      "source": [
        "pairwise_kernels(X, Y, metric='linear')"
      ],
      "execution_count": null,
      "outputs": [
        {
          "output_type": "execute_result",
          "data": {
            "text/plain": [
              "array([[ 2.,  7.],\n",
              "       [ 3., 11.],\n",
              "       [ 5., 18.]])"
            ]
          },
          "metadata": {
            "tags": []
          },
          "execution_count": 71
        }
      ]
    },
    {
      "cell_type": "markdown",
      "metadata": {
        "id": "BDZt_4_QfWQm"
      },
      "source": [
        "## Excercise\n",
        "\n",
        "Find the simialrity score between the following group of vectors using cosine similarity in sklearn"
      ]
    },
    {
      "cell_type": "code",
      "metadata": {
        "id": "rgBA41epfqar"
      },
      "source": [
        "X = np.array([[2, 3], [3, 5], [5, 8]])\n",
        "Y = np.array([[1, 0], [2, 1]])"
      ],
      "execution_count": null,
      "outputs": []
    },
    {
      "cell_type": "markdown",
      "metadata": {
        "id": "T5TmnQJDfrlr"
      },
      "source": [
        "## Answer"
      ]
    },
    {
      "cell_type": "code",
      "metadata": {
        "id": "4O-c5-PkfrHr",
        "colab": {
          "base_uri": "https://localhost:8080/",
          "height": 67
        },
        "outputId": "2b261dca-648d-4cf8-e2cb-9053bcbc9570"
      },
      "source": [
        "cosine_similarity(X, Y)"
      ],
      "execution_count": null,
      "outputs": [
        {
          "output_type": "execute_result",
          "data": {
            "text/plain": [
              "array([[0.5547002 , 0.86824314],\n",
              "       [0.51449576, 0.84366149],\n",
              "       [0.52999894, 0.85328183]])"
            ]
          },
          "metadata": {
            "tags": []
          },
          "execution_count": 72
        }
      ]
    },
    {
      "cell_type": "markdown",
      "metadata": {
        "id": "K7SUD180gFs1"
      },
      "source": [
        "Build keras `Model` that applies Dot operation on two inputs of size (10000,)"
      ]
    },
    {
      "cell_type": "markdown",
      "metadata": {
        "id": "cAPNBKLfgPQK"
      },
      "source": [
        "## Answer"
      ]
    },
    {
      "cell_type": "code",
      "metadata": {
        "id": "1jckq4ifgOuN",
        "colab": {
          "base_uri": "https://localhost:8080/",
          "height": 426
        },
        "outputId": "cba5e248-52fd-4d92-85d8-0d674544ce23"
      },
      "source": [
        "inp_1 = layers.Input(shape=(10000,))\n",
        "inp_2 = layers.Input(shape=(10000,))\n",
        "out = layers.Dot(axes=1)([inp_1, inp_2])\n",
        "model = models.Model(inputs=[inp_1, inp_2], outputs=out)\n",
        "model.summary()\n",
        "plot_model(model)"
      ],
      "execution_count": null,
      "outputs": [
        {
          "output_type": "stream",
          "text": [
            "Model: \"model_3\"\n",
            "__________________________________________________________________________________________________\n",
            "Layer (type)                    Output Shape         Param #     Connected to                     \n",
            "==================================================================================================\n",
            "input_7 (InputLayer)            [(None, 10000)]      0                                            \n",
            "__________________________________________________________________________________________________\n",
            "input_8 (InputLayer)            [(None, 10000)]      0                                            \n",
            "__________________________________________________________________________________________________\n",
            "dot (Dot)                       (None, 1)            0           input_7[0][0]                    \n",
            "                                                                 input_8[0][0]                    \n",
            "==================================================================================================\n",
            "Total params: 0\n",
            "Trainable params: 0\n",
            "Non-trainable params: 0\n",
            "__________________________________________________________________________________________________\n"
          ],
          "name": "stdout"
        },
        {
          "output_type": "execute_result",
          "data": {
            "image/png": "[encoded data removed]",
            "text/plain": [
              "<IPython.core.display.Image object>"
            ]
          },
          "metadata": {
            "tags": []
          },
          "execution_count": 74
        }
      ]
    },
    {
      "cell_type": "markdown",
      "metadata": {
        "id": "gCsmzoSDgxfV"
      },
      "source": [
        "# Lesson 3: The use of categorical Embeddings to encode Latent factors and Meta data"
      ]
    },
    {
      "cell_type": "markdown",
      "metadata": {
        "id": "ejSD1zY-gymy"
      },
      "source": [
        "## Learning Objectives\n",
        "- Learner will be able to use categorical variables as inputs to keras models\n",
        "- Learner will be able to encode different meta data from MovieLens dataset as inputs to Keras model"
      ]
    },
    {
      "cell_type": "markdown",
      "metadata": {
        "id": "LDXN9vCohJLz"
      },
      "source": [
        "## Excercise\n",
        "\n",
        "Use the Embedding layer to build the following model\n",
        "- inp_1 = categorical/scalar value, range = 1000 values\n",
        "- inp_2 = categorical/scalar value, range = 2000 values\n",
        "- out = 100 dimensions"
      ]
    },
    {
      "cell_type": "code",
      "metadata": {
        "id": "DS_OOHRyhaAX",
        "colab": {
          "base_uri": "https://localhost:8080/",
          "height": 738
        },
        "outputId": "547385b5-4821-4fc3-b1ca-0cdb61153d12"
      },
      "source": [
        "# Number of latent factors\n",
        "emb_sz = 100\n",
        "\n",
        "# User embeddings\n",
        "inp_1 = layers.Input(shape=(1,))\n",
        "emb_1 = layers.Embedding(1000, emb_sz)(inp_1)\n",
        "\n",
        "# Movie embeddings\n",
        "inp_2 = layers.Input(shape=(1,))\n",
        "emb_2 = layers.Embedding(2000, emb_sz)(inp_2)\n",
        "\n",
        "emb = layers.concatenate([emb_1, emb_2])\n",
        "out = layers.Dense(100)(emb)\n",
        "\n",
        "model = models.Model(inputs=[inp_1, inp_2], outputs=out)\n",
        "print(model.summary())\n",
        "plot_model(model)"
      ],
      "execution_count": null,
      "outputs": [
        {
          "output_type": "stream",
          "text": [
            "Model: \"model_5\"\n",
            "__________________________________________________________________________________________________\n",
            "Layer (type)                    Output Shape         Param #     Connected to                     \n",
            "==================================================================================================\n",
            "input_11 (InputLayer)           [(None, 1)]          0                                            \n",
            "__________________________________________________________________________________________________\n",
            "input_12 (InputLayer)           [(None, 1)]          0                                            \n",
            "__________________________________________________________________________________________________\n",
            "embedding_9 (Embedding)         (None, 1, 100)       100000      input_11[0][0]                   \n",
            "__________________________________________________________________________________________________\n",
            "embedding_10 (Embedding)        (None, 1, 100)       200000      input_12[0][0]                   \n",
            "__________________________________________________________________________________________________\n",
            "concatenate_2 (Concatenate)     (None, 1, 200)       0           embedding_9[0][0]                \n",
            "                                                                 embedding_10[0][0]               \n",
            "__________________________________________________________________________________________________\n",
            "dense_45 (Dense)                (None, 1, 100)       20100       concatenate_2[0][0]              \n",
            "==================================================================================================\n",
            "Total params: 320,100\n",
            "Trainable params: 320,100\n",
            "Non-trainable params: 0\n",
            "__________________________________________________________________________________________________\n",
            "None\n"
          ],
          "name": "stdout"
        },
        {
          "output_type": "execute_result",
          "data": {
            "image/png": "[encoded data removed]",
            "text/plain": [
              "<IPython.core.display.Image object>"
            ]
          },
          "metadata": {
            "tags": []
          },
          "execution_count": 77
        }
      ]
    },
    {
      "cell_type": "markdown",
      "metadata": {
        "id": "yEDIOnRMiSjc"
      },
      "source": [
        "# Lesson 4: Putting it all togehter! "
      ]
    },
    {
      "cell_type": "markdown",
      "metadata": {
        "id": "d2NzohKaiXmi"
      },
      "source": [
        "## Learning Objectives\n",
        "- Learner will be able to extract the user/movie rating matrix from MovieLens dataset using pandas\n",
        "- Learner will be able to prepare the categorical variables of meta data for MovieLens dataset\n",
        "- Learner will be able to build a collaborative filter for MovieLens dataset\n"
      ]
    },
    {
      "cell_type": "markdown",
      "metadata": {
        "id": "Xeq-zNoGjDwr"
      },
      "source": [
        "## Excercise\n",
        "\n",
        "Extract the user/movie rating matrix from MovieLens dataset using pandas, for the top 15 movies and users."
      ]
    },
    {
      "cell_type": "markdown",
      "metadata": {
        "id": "VF6i09KljKaz"
      },
      "source": [
        "## Preparation\n",
        "Not part of the answer"
      ]
    },
    {
      "cell_type": "code",
      "metadata": {
        "id": "i_UxUXEsjMsa",
        "colab": {
          "base_uri": "https://localhost:8080/",
          "height": 212
        },
        "outputId": "f4489fa3-138e-43d3-965c-20054785cac3"
      },
      "source": [
        "!wget http://files.grouplens.org/datasets/movielens/ml-latest-small.zip"
      ],
      "execution_count": null,
      "outputs": [
        {
          "output_type": "stream",
          "text": [
            "--2020-05-10 14:05:47--  http://files.grouplens.org/datasets/movielens/ml-latest-small.zip\n",
            "Resolving files.grouplens.org (files.grouplens.org)... 128.101.65.152\n",
            "Connecting to files.grouplens.org (files.grouplens.org)|128.101.65.152|:80... connected.\n",
            "HTTP request sent, awaiting response... 200 OK\n",
            "Length: 978202 (955K) [application/zip]\n",
            "Saving to: ‘ml-latest-small.zip’\n",
            "\n",
            "ml-latest-small.zip 100%[===================>] 955.28K   972KB/s    in 1.0s    \n",
            "\n",
            "2020-05-10 14:05:48 (972 KB/s) - ‘ml-latest-small.zip’ saved [978202/978202]\n",
            "\n"
          ],
          "name": "stdout"
        }
      ]
    },
    {
      "cell_type": "code",
      "metadata": {
        "id": "P_hJLvt-jfYZ",
        "colab": {
          "base_uri": "https://localhost:8080/",
          "height": 141
        },
        "outputId": "72e76fa1-4bf1-4c68-845f-b60ac275d955"
      },
      "source": [
        "!unzip ml-latest-small.zip"
      ],
      "execution_count": null,
      "outputs": [
        {
          "output_type": "stream",
          "text": [
            "Archive:  ml-latest-small.zip\n",
            "   creating: ml-latest-small/\n",
            "  inflating: ml-latest-small/links.csv  \n",
            "  inflating: ml-latest-small/tags.csv  \n",
            "  inflating: ml-latest-small/ratings.csv  \n",
            "  inflating: ml-latest-small/README.txt  \n",
            "  inflating: ml-latest-small/movies.csv  \n"
          ],
          "name": "stdout"
        }
      ]
    },
    {
      "cell_type": "code",
      "metadata": {
        "id": "X-TbGU9Wjh0d",
        "colab": {
          "base_uri": "https://localhost:8080/",
          "height": 197
        },
        "outputId": "cc5d08dc-7506-41bf-f1f1-476aab181a77"
      },
      "source": [
        "movies = pd.read_csv('ml-latest-small/movies.csv')\n",
        "movies.head()"
      ],
      "execution_count": null,
      "outputs": [
        {
          "output_type": "execute_result",
          "data": {
            "text/html": [
              "<div>\n",
              "<style scoped>\n",
              "    .dataframe tbody tr th:only-of-type {\n",
              "        vertical-align: middle;\n",
              "    }\n",
              "\n",
              "    .dataframe tbody tr th {\n",
              "        vertical-align: top;\n",
              "    }\n",
              "\n",
              "    .dataframe thead th {\n",
              "        text-align: right;\n",
              "    }\n",
              "</style>\n",
              "<table border=\"1\" class=\"dataframe\">\n",
              "  <thead>\n",
              "    <tr style=\"text-align: right;\">\n",
              "      <th></th>\n",
              "      <th>movieId</th>\n",
              "      <th>title</th>\n",
              "      <th>genres</th>\n",
              "    </tr>\n",
              "  </thead>\n",
              "  <tbody>\n",
              "    <tr>\n",
              "      <th>0</th>\n",
              "      <td>1</td>\n",
              "      <td>Toy Story (1995)</td>\n",
              "      <td>Adventure|Animation|Children|Comedy|Fantasy</td>\n",
              "    </tr>\n",
              "    <tr>\n",
              "      <th>1</th>\n",
              "      <td>2</td>\n",
              "      <td>Jumanji (1995)</td>\n",
              "      <td>Adventure|Children|Fantasy</td>\n",
              "    </tr>\n",
              "    <tr>\n",
              "      <th>2</th>\n",
              "      <td>3</td>\n",
              "      <td>Grumpier Old Men (1995)</td>\n",
              "      <td>Comedy|Romance</td>\n",
              "    </tr>\n",
              "    <tr>\n",
              "      <th>3</th>\n",
              "      <td>4</td>\n",
              "      <td>Waiting to Exhale (1995)</td>\n",
              "      <td>Comedy|Drama|Romance</td>\n",
              "    </tr>\n",
              "    <tr>\n",
              "      <th>4</th>\n",
              "      <td>5</td>\n",
              "      <td>Father of the Bride Part II (1995)</td>\n",
              "      <td>Comedy</td>\n",
              "    </tr>\n",
              "  </tbody>\n",
              "</table>\n",
              "</div>"
            ],
            "text/plain": [
              "   movieId  ...                                       genres\n",
              "0        1  ...  Adventure|Animation|Children|Comedy|Fantasy\n",
              "1        2  ...                   Adventure|Children|Fantasy\n",
              "2        3  ...                               Comedy|Romance\n",
              "3        4  ...                         Comedy|Drama|Romance\n",
              "4        5  ...                                       Comedy\n",
              "\n",
              "[5 rows x 3 columns]"
            ]
          },
          "metadata": {
            "tags": []
          },
          "execution_count": 5
        }
      ]
    },
    {
      "cell_type": "code",
      "metadata": {
        "id": "oXi2oJsojjsZ",
        "colab": {
          "base_uri": "https://localhost:8080/",
          "height": 197
        },
        "outputId": "ffc4106e-f353-41db-c852-378e2de73de5"
      },
      "source": [
        "ratings = pd.read_csv('ml-latest-small/ratings.csv')\n",
        "ratings.head()"
      ],
      "execution_count": null,
      "outputs": [
        {
          "output_type": "execute_result",
          "data": {
            "text/html": [
              "<div>\n",
              "<style scoped>\n",
              "    .dataframe tbody tr th:only-of-type {\n",
              "        vertical-align: middle;\n",
              "    }\n",
              "\n",
              "    .dataframe tbody tr th {\n",
              "        vertical-align: top;\n",
              "    }\n",
              "\n",
              "    .dataframe thead th {\n",
              "        text-align: right;\n",
              "    }\n",
              "</style>\n",
              "<table border=\"1\" class=\"dataframe\">\n",
              "  <thead>\n",
              "    <tr style=\"text-align: right;\">\n",
              "      <th></th>\n",
              "      <th>userId</th>\n",
              "      <th>movieId</th>\n",
              "      <th>rating</th>\n",
              "      <th>timestamp</th>\n",
              "    </tr>\n",
              "  </thead>\n",
              "  <tbody>\n",
              "    <tr>\n",
              "      <th>0</th>\n",
              "      <td>1</td>\n",
              "      <td>1</td>\n",
              "      <td>4.0</td>\n",
              "      <td>964982703</td>\n",
              "    </tr>\n",
              "    <tr>\n",
              "      <th>1</th>\n",
              "      <td>1</td>\n",
              "      <td>3</td>\n",
              "      <td>4.0</td>\n",
              "      <td>964981247</td>\n",
              "    </tr>\n",
              "    <tr>\n",
              "      <th>2</th>\n",
              "      <td>1</td>\n",
              "      <td>6</td>\n",
              "      <td>4.0</td>\n",
              "      <td>964982224</td>\n",
              "    </tr>\n",
              "    <tr>\n",
              "      <th>3</th>\n",
              "      <td>1</td>\n",
              "      <td>47</td>\n",
              "      <td>5.0</td>\n",
              "      <td>964983815</td>\n",
              "    </tr>\n",
              "    <tr>\n",
              "      <th>4</th>\n",
              "      <td>1</td>\n",
              "      <td>50</td>\n",
              "      <td>5.0</td>\n",
              "      <td>964982931</td>\n",
              "    </tr>\n",
              "  </tbody>\n",
              "</table>\n",
              "</div>"
            ],
            "text/plain": [
              "   userId  movieId  rating  timestamp\n",
              "0       1        1     4.0  964982703\n",
              "1       1        3     4.0  964981247\n",
              "2       1        6     4.0  964982224\n",
              "3       1       47     5.0  964983815\n",
              "4       1       50     5.0  964982931"
            ]
          },
          "metadata": {
            "tags": []
          },
          "execution_count": 6
        }
      ]
    },
    {
      "cell_type": "code",
      "metadata": {
        "id": "FrpEPWAvjrFl",
        "colab": {
          "base_uri": "https://localhost:8080/",
          "height": 274
        },
        "outputId": "5ebe76e4-ef40-4ccd-cb97-785e2442a79c"
      },
      "source": [
        "pd.crosstab(ratings.userId, ratings.movieId).head()"
      ],
      "execution_count": null,
      "outputs": [
        {
          "output_type": "execute_result",
          "data": {
            "text/html": [
              "<div>\n",
              "<style scoped>\n",
              "    .dataframe tbody tr th:only-of-type {\n",
              "        vertical-align: middle;\n",
              "    }\n",
              "\n",
              "    .dataframe tbody tr th {\n",
              "        vertical-align: top;\n",
              "    }\n",
              "\n",
              "    .dataframe thead th {\n",
              "        text-align: right;\n",
              "    }\n",
              "</style>\n",
              "<table border=\"1\" class=\"dataframe\">\n",
              "  <thead>\n",
              "    <tr style=\"text-align: right;\">\n",
              "      <th>movieId</th>\n",
              "      <th>1</th>\n",
              "      <th>2</th>\n",
              "      <th>3</th>\n",
              "      <th>4</th>\n",
              "      <th>5</th>\n",
              "      <th>6</th>\n",
              "      <th>7</th>\n",
              "      <th>8</th>\n",
              "      <th>9</th>\n",
              "      <th>10</th>\n",
              "      <th>11</th>\n",
              "      <th>12</th>\n",
              "      <th>13</th>\n",
              "      <th>14</th>\n",
              "      <th>15</th>\n",
              "      <th>16</th>\n",
              "      <th>17</th>\n",
              "      <th>18</th>\n",
              "      <th>19</th>\n",
              "      <th>20</th>\n",
              "      <th>21</th>\n",
              "      <th>22</th>\n",
              "      <th>23</th>\n",
              "      <th>24</th>\n",
              "      <th>25</th>\n",
              "      <th>26</th>\n",
              "      <th>27</th>\n",
              "      <th>28</th>\n",
              "      <th>29</th>\n",
              "      <th>30</th>\n",
              "      <th>31</th>\n",
              "      <th>32</th>\n",
              "      <th>34</th>\n",
              "      <th>36</th>\n",
              "      <th>38</th>\n",
              "      <th>39</th>\n",
              "      <th>40</th>\n",
              "      <th>41</th>\n",
              "      <th>42</th>\n",
              "      <th>43</th>\n",
              "      <th>...</th>\n",
              "      <th>185135</th>\n",
              "      <th>185435</th>\n",
              "      <th>185473</th>\n",
              "      <th>185585</th>\n",
              "      <th>186587</th>\n",
              "      <th>187031</th>\n",
              "      <th>187541</th>\n",
              "      <th>187593</th>\n",
              "      <th>187595</th>\n",
              "      <th>187717</th>\n",
              "      <th>188189</th>\n",
              "      <th>188301</th>\n",
              "      <th>188675</th>\n",
              "      <th>188751</th>\n",
              "      <th>188797</th>\n",
              "      <th>188833</th>\n",
              "      <th>189043</th>\n",
              "      <th>189111</th>\n",
              "      <th>189333</th>\n",
              "      <th>189381</th>\n",
              "      <th>189547</th>\n",
              "      <th>189713</th>\n",
              "      <th>190183</th>\n",
              "      <th>190207</th>\n",
              "      <th>190209</th>\n",
              "      <th>190213</th>\n",
              "      <th>190215</th>\n",
              "      <th>190219</th>\n",
              "      <th>190221</th>\n",
              "      <th>191005</th>\n",
              "      <th>193565</th>\n",
              "      <th>193567</th>\n",
              "      <th>193571</th>\n",
              "      <th>193573</th>\n",
              "      <th>193579</th>\n",
              "      <th>193581</th>\n",
              "      <th>193583</th>\n",
              "      <th>193585</th>\n",
              "      <th>193587</th>\n",
              "      <th>193609</th>\n",
              "    </tr>\n",
              "    <tr>\n",
              "      <th>userId</th>\n",
              "      <th></th>\n",
              "      <th></th>\n",
              "      <th></th>\n",
              "      <th></th>\n",
              "      <th></th>\n",
              "      <th></th>\n",
              "      <th></th>\n",
              "      <th></th>\n",
              "      <th></th>\n",
              "      <th></th>\n",
              "      <th></th>\n",
              "      <th></th>\n",
              "      <th></th>\n",
              "      <th></th>\n",
              "      <th></th>\n",
              "      <th></th>\n",
              "      <th></th>\n",
              "      <th></th>\n",
              "      <th></th>\n",
              "      <th></th>\n",
              "      <th></th>\n",
              "      <th></th>\n",
              "      <th></th>\n",
              "      <th></th>\n",
              "      <th></th>\n",
              "      <th></th>\n",
              "      <th></th>\n",
              "      <th></th>\n",
              "      <th></th>\n",
              "      <th></th>\n",
              "      <th></th>\n",
              "      <th></th>\n",
              "      <th></th>\n",
              "      <th></th>\n",
              "      <th></th>\n",
              "      <th></th>\n",
              "      <th></th>\n",
              "      <th></th>\n",
              "      <th></th>\n",
              "      <th></th>\n",
              "      <th></th>\n",
              "      <th></th>\n",
              "      <th></th>\n",
              "      <th></th>\n",
              "      <th></th>\n",
              "      <th></th>\n",
              "      <th></th>\n",
              "      <th></th>\n",
              "      <th></th>\n",
              "      <th></th>\n",
              "      <th></th>\n",
              "      <th></th>\n",
              "      <th></th>\n",
              "      <th></th>\n",
              "      <th></th>\n",
              "      <th></th>\n",
              "      <th></th>\n",
              "      <th></th>\n",
              "      <th></th>\n",
              "      <th></th>\n",
              "      <th></th>\n",
              "      <th></th>\n",
              "      <th></th>\n",
              "      <th></th>\n",
              "      <th></th>\n",
              "      <th></th>\n",
              "      <th></th>\n",
              "      <th></th>\n",
              "      <th></th>\n",
              "      <th></th>\n",
              "      <th></th>\n",
              "      <th></th>\n",
              "      <th></th>\n",
              "      <th></th>\n",
              "      <th></th>\n",
              "      <th></th>\n",
              "      <th></th>\n",
              "      <th></th>\n",
              "      <th></th>\n",
              "      <th></th>\n",
              "      <th></th>\n",
              "    </tr>\n",
              "  </thead>\n",
              "  <tbody>\n",
              "    <tr>\n",
              "      <th>1</th>\n",
              "      <td>1</td>\n",
              "      <td>0</td>\n",
              "      <td>1</td>\n",
              "      <td>0</td>\n",
              "      <td>0</td>\n",
              "      <td>1</td>\n",
              "      <td>0</td>\n",
              "      <td>0</td>\n",
              "      <td>0</td>\n",
              "      <td>0</td>\n",
              "      <td>0</td>\n",
              "      <td>0</td>\n",
              "      <td>0</td>\n",
              "      <td>0</td>\n",
              "      <td>0</td>\n",
              "      <td>0</td>\n",
              "      <td>0</td>\n",
              "      <td>0</td>\n",
              "      <td>0</td>\n",
              "      <td>0</td>\n",
              "      <td>0</td>\n",
              "      <td>0</td>\n",
              "      <td>0</td>\n",
              "      <td>0</td>\n",
              "      <td>0</td>\n",
              "      <td>0</td>\n",
              "      <td>0</td>\n",
              "      <td>0</td>\n",
              "      <td>0</td>\n",
              "      <td>0</td>\n",
              "      <td>0</td>\n",
              "      <td>0</td>\n",
              "      <td>0</td>\n",
              "      <td>0</td>\n",
              "      <td>0</td>\n",
              "      <td>0</td>\n",
              "      <td>0</td>\n",
              "      <td>0</td>\n",
              "      <td>0</td>\n",
              "      <td>0</td>\n",
              "      <td>...</td>\n",
              "      <td>0</td>\n",
              "      <td>0</td>\n",
              "      <td>0</td>\n",
              "      <td>0</td>\n",
              "      <td>0</td>\n",
              "      <td>0</td>\n",
              "      <td>0</td>\n",
              "      <td>0</td>\n",
              "      <td>0</td>\n",
              "      <td>0</td>\n",
              "      <td>0</td>\n",
              "      <td>0</td>\n",
              "      <td>0</td>\n",
              "      <td>0</td>\n",
              "      <td>0</td>\n",
              "      <td>0</td>\n",
              "      <td>0</td>\n",
              "      <td>0</td>\n",
              "      <td>0</td>\n",
              "      <td>0</td>\n",
              "      <td>0</td>\n",
              "      <td>0</td>\n",
              "      <td>0</td>\n",
              "      <td>0</td>\n",
              "      <td>0</td>\n",
              "      <td>0</td>\n",
              "      <td>0</td>\n",
              "      <td>0</td>\n",
              "      <td>0</td>\n",
              "      <td>0</td>\n",
              "      <td>0</td>\n",
              "      <td>0</td>\n",
              "      <td>0</td>\n",
              "      <td>0</td>\n",
              "      <td>0</td>\n",
              "      <td>0</td>\n",
              "      <td>0</td>\n",
              "      <td>0</td>\n",
              "      <td>0</td>\n",
              "      <td>0</td>\n",
              "    </tr>\n",
              "    <tr>\n",
              "      <th>2</th>\n",
              "      <td>0</td>\n",
              "      <td>0</td>\n",
              "      <td>0</td>\n",
              "      <td>0</td>\n",
              "      <td>0</td>\n",
              "      <td>0</td>\n",
              "      <td>0</td>\n",
              "      <td>0</td>\n",
              "      <td>0</td>\n",
              "      <td>0</td>\n",
              "      <td>0</td>\n",
              "      <td>0</td>\n",
              "      <td>0</td>\n",
              "      <td>0</td>\n",
              "      <td>0</td>\n",
              "      <td>0</td>\n",
              "      <td>0</td>\n",
              "      <td>0</td>\n",
              "      <td>0</td>\n",
              "      <td>0</td>\n",
              "      <td>0</td>\n",
              "      <td>0</td>\n",
              "      <td>0</td>\n",
              "      <td>0</td>\n",
              "      <td>0</td>\n",
              "      <td>0</td>\n",
              "      <td>0</td>\n",
              "      <td>0</td>\n",
              "      <td>0</td>\n",
              "      <td>0</td>\n",
              "      <td>0</td>\n",
              "      <td>0</td>\n",
              "      <td>0</td>\n",
              "      <td>0</td>\n",
              "      <td>0</td>\n",
              "      <td>0</td>\n",
              "      <td>0</td>\n",
              "      <td>0</td>\n",
              "      <td>0</td>\n",
              "      <td>0</td>\n",
              "      <td>...</td>\n",
              "      <td>0</td>\n",
              "      <td>0</td>\n",
              "      <td>0</td>\n",
              "      <td>0</td>\n",
              "      <td>0</td>\n",
              "      <td>0</td>\n",
              "      <td>0</td>\n",
              "      <td>0</td>\n",
              "      <td>0</td>\n",
              "      <td>0</td>\n",
              "      <td>0</td>\n",
              "      <td>0</td>\n",
              "      <td>0</td>\n",
              "      <td>0</td>\n",
              "      <td>0</td>\n",
              "      <td>0</td>\n",
              "      <td>0</td>\n",
              "      <td>0</td>\n",
              "      <td>0</td>\n",
              "      <td>0</td>\n",
              "      <td>0</td>\n",
              "      <td>0</td>\n",
              "      <td>0</td>\n",
              "      <td>0</td>\n",
              "      <td>0</td>\n",
              "      <td>0</td>\n",
              "      <td>0</td>\n",
              "      <td>0</td>\n",
              "      <td>0</td>\n",
              "      <td>0</td>\n",
              "      <td>0</td>\n",
              "      <td>0</td>\n",
              "      <td>0</td>\n",
              "      <td>0</td>\n",
              "      <td>0</td>\n",
              "      <td>0</td>\n",
              "      <td>0</td>\n",
              "      <td>0</td>\n",
              "      <td>0</td>\n",
              "      <td>0</td>\n",
              "    </tr>\n",
              "    <tr>\n",
              "      <th>3</th>\n",
              "      <td>0</td>\n",
              "      <td>0</td>\n",
              "      <td>0</td>\n",
              "      <td>0</td>\n",
              "      <td>0</td>\n",
              "      <td>0</td>\n",
              "      <td>0</td>\n",
              "      <td>0</td>\n",
              "      <td>0</td>\n",
              "      <td>0</td>\n",
              "      <td>0</td>\n",
              "      <td>0</td>\n",
              "      <td>0</td>\n",
              "      <td>0</td>\n",
              "      <td>0</td>\n",
              "      <td>0</td>\n",
              "      <td>0</td>\n",
              "      <td>0</td>\n",
              "      <td>0</td>\n",
              "      <td>0</td>\n",
              "      <td>0</td>\n",
              "      <td>0</td>\n",
              "      <td>0</td>\n",
              "      <td>0</td>\n",
              "      <td>0</td>\n",
              "      <td>0</td>\n",
              "      <td>0</td>\n",
              "      <td>0</td>\n",
              "      <td>0</td>\n",
              "      <td>0</td>\n",
              "      <td>1</td>\n",
              "      <td>0</td>\n",
              "      <td>0</td>\n",
              "      <td>0</td>\n",
              "      <td>0</td>\n",
              "      <td>0</td>\n",
              "      <td>0</td>\n",
              "      <td>0</td>\n",
              "      <td>0</td>\n",
              "      <td>0</td>\n",
              "      <td>...</td>\n",
              "      <td>0</td>\n",
              "      <td>0</td>\n",
              "      <td>0</td>\n",
              "      <td>0</td>\n",
              "      <td>0</td>\n",
              "      <td>0</td>\n",
              "      <td>0</td>\n",
              "      <td>0</td>\n",
              "      <td>0</td>\n",
              "      <td>0</td>\n",
              "      <td>0</td>\n",
              "      <td>0</td>\n",
              "      <td>0</td>\n",
              "      <td>0</td>\n",
              "      <td>0</td>\n",
              "      <td>0</td>\n",
              "      <td>0</td>\n",
              "      <td>0</td>\n",
              "      <td>0</td>\n",
              "      <td>0</td>\n",
              "      <td>0</td>\n",
              "      <td>0</td>\n",
              "      <td>0</td>\n",
              "      <td>0</td>\n",
              "      <td>0</td>\n",
              "      <td>0</td>\n",
              "      <td>0</td>\n",
              "      <td>0</td>\n",
              "      <td>0</td>\n",
              "      <td>0</td>\n",
              "      <td>0</td>\n",
              "      <td>0</td>\n",
              "      <td>0</td>\n",
              "      <td>0</td>\n",
              "      <td>0</td>\n",
              "      <td>0</td>\n",
              "      <td>0</td>\n",
              "      <td>0</td>\n",
              "      <td>0</td>\n",
              "      <td>0</td>\n",
              "    </tr>\n",
              "    <tr>\n",
              "      <th>4</th>\n",
              "      <td>0</td>\n",
              "      <td>0</td>\n",
              "      <td>0</td>\n",
              "      <td>0</td>\n",
              "      <td>0</td>\n",
              "      <td>0</td>\n",
              "      <td>0</td>\n",
              "      <td>0</td>\n",
              "      <td>0</td>\n",
              "      <td>0</td>\n",
              "      <td>0</td>\n",
              "      <td>0</td>\n",
              "      <td>0</td>\n",
              "      <td>0</td>\n",
              "      <td>0</td>\n",
              "      <td>0</td>\n",
              "      <td>0</td>\n",
              "      <td>0</td>\n",
              "      <td>0</td>\n",
              "      <td>0</td>\n",
              "      <td>1</td>\n",
              "      <td>0</td>\n",
              "      <td>0</td>\n",
              "      <td>0</td>\n",
              "      <td>0</td>\n",
              "      <td>0</td>\n",
              "      <td>0</td>\n",
              "      <td>0</td>\n",
              "      <td>0</td>\n",
              "      <td>0</td>\n",
              "      <td>0</td>\n",
              "      <td>1</td>\n",
              "      <td>0</td>\n",
              "      <td>0</td>\n",
              "      <td>0</td>\n",
              "      <td>0</td>\n",
              "      <td>0</td>\n",
              "      <td>0</td>\n",
              "      <td>0</td>\n",
              "      <td>0</td>\n",
              "      <td>...</td>\n",
              "      <td>0</td>\n",
              "      <td>0</td>\n",
              "      <td>0</td>\n",
              "      <td>0</td>\n",
              "      <td>0</td>\n",
              "      <td>0</td>\n",
              "      <td>0</td>\n",
              "      <td>0</td>\n",
              "      <td>0</td>\n",
              "      <td>0</td>\n",
              "      <td>0</td>\n",
              "      <td>0</td>\n",
              "      <td>0</td>\n",
              "      <td>0</td>\n",
              "      <td>0</td>\n",
              "      <td>0</td>\n",
              "      <td>0</td>\n",
              "      <td>0</td>\n",
              "      <td>0</td>\n",
              "      <td>0</td>\n",
              "      <td>0</td>\n",
              "      <td>0</td>\n",
              "      <td>0</td>\n",
              "      <td>0</td>\n",
              "      <td>0</td>\n",
              "      <td>0</td>\n",
              "      <td>0</td>\n",
              "      <td>0</td>\n",
              "      <td>0</td>\n",
              "      <td>0</td>\n",
              "      <td>0</td>\n",
              "      <td>0</td>\n",
              "      <td>0</td>\n",
              "      <td>0</td>\n",
              "      <td>0</td>\n",
              "      <td>0</td>\n",
              "      <td>0</td>\n",
              "      <td>0</td>\n",
              "      <td>0</td>\n",
              "      <td>0</td>\n",
              "    </tr>\n",
              "    <tr>\n",
              "      <th>5</th>\n",
              "      <td>1</td>\n",
              "      <td>0</td>\n",
              "      <td>0</td>\n",
              "      <td>0</td>\n",
              "      <td>0</td>\n",
              "      <td>0</td>\n",
              "      <td>0</td>\n",
              "      <td>0</td>\n",
              "      <td>0</td>\n",
              "      <td>0</td>\n",
              "      <td>0</td>\n",
              "      <td>0</td>\n",
              "      <td>0</td>\n",
              "      <td>0</td>\n",
              "      <td>0</td>\n",
              "      <td>0</td>\n",
              "      <td>0</td>\n",
              "      <td>0</td>\n",
              "      <td>0</td>\n",
              "      <td>0</td>\n",
              "      <td>1</td>\n",
              "      <td>0</td>\n",
              "      <td>0</td>\n",
              "      <td>0</td>\n",
              "      <td>0</td>\n",
              "      <td>0</td>\n",
              "      <td>0</td>\n",
              "      <td>0</td>\n",
              "      <td>0</td>\n",
              "      <td>0</td>\n",
              "      <td>0</td>\n",
              "      <td>0</td>\n",
              "      <td>1</td>\n",
              "      <td>1</td>\n",
              "      <td>0</td>\n",
              "      <td>1</td>\n",
              "      <td>0</td>\n",
              "      <td>0</td>\n",
              "      <td>0</td>\n",
              "      <td>0</td>\n",
              "      <td>...</td>\n",
              "      <td>0</td>\n",
              "      <td>0</td>\n",
              "      <td>0</td>\n",
              "      <td>0</td>\n",
              "      <td>0</td>\n",
              "      <td>0</td>\n",
              "      <td>0</td>\n",
              "      <td>0</td>\n",
              "      <td>0</td>\n",
              "      <td>0</td>\n",
              "      <td>0</td>\n",
              "      <td>0</td>\n",
              "      <td>0</td>\n",
              "      <td>0</td>\n",
              "      <td>0</td>\n",
              "      <td>0</td>\n",
              "      <td>0</td>\n",
              "      <td>0</td>\n",
              "      <td>0</td>\n",
              "      <td>0</td>\n",
              "      <td>0</td>\n",
              "      <td>0</td>\n",
              "      <td>0</td>\n",
              "      <td>0</td>\n",
              "      <td>0</td>\n",
              "      <td>0</td>\n",
              "      <td>0</td>\n",
              "      <td>0</td>\n",
              "      <td>0</td>\n",
              "      <td>0</td>\n",
              "      <td>0</td>\n",
              "      <td>0</td>\n",
              "      <td>0</td>\n",
              "      <td>0</td>\n",
              "      <td>0</td>\n",
              "      <td>0</td>\n",
              "      <td>0</td>\n",
              "      <td>0</td>\n",
              "      <td>0</td>\n",
              "      <td>0</td>\n",
              "    </tr>\n",
              "  </tbody>\n",
              "</table>\n",
              "<p>5 rows × 9724 columns</p>\n",
              "</div>"
            ],
            "text/plain": [
              "movieId  1       2       3       4       ...  193583  193585  193587  193609\n",
              "userId                                   ...                                \n",
              "1             1       0       1       0  ...       0       0       0       0\n",
              "2             0       0       0       0  ...       0       0       0       0\n",
              "3             0       0       0       0  ...       0       0       0       0\n",
              "4             0       0       0       0  ...       0       0       0       0\n",
              "5             1       0       0       0  ...       0       0       0       0\n",
              "\n",
              "[5 rows x 9724 columns]"
            ]
          },
          "metadata": {
            "tags": []
          },
          "execution_count": 83
        }
      ]
    },
    {
      "cell_type": "markdown",
      "metadata": {
        "id": "xOnE5TrCjrua"
      },
      "source": [
        "## Answer"
      ]
    },
    {
      "cell_type": "code",
      "metadata": {
        "id": "SCRKHgnejuUF",
        "colab": {
          "base_uri": "https://localhost:8080/",
          "height": 527
        },
        "outputId": "f18f3565-edc5-4f53-dd24-255639b7f7f0"
      },
      "source": [
        "k = 15\n",
        "g = ratings.groupby('userId')['rating'].count()\n",
        "top_users = g.sort_values(ascending=False)[:k]\n",
        "\n",
        "g = ratings.groupby('movieId')['rating'].count()\n",
        "top_movies = g.sort_values(ascending=False)[:k]\n",
        "\n",
        "top_r = ratings.join(top_users, rsuffix='_r', how='inner', on='userId')\n",
        "top_r = top_r.join(top_movies, rsuffix='_r', how='inner', on='movieId')\n",
        "\n",
        "pd.crosstab(top_r.userId, top_r.movieId, top_r.rating, aggfunc=np.sum)"
      ],
      "execution_count": null,
      "outputs": [
        {
          "output_type": "execute_result",
          "data": {
            "text/html": [
              "<div>\n",
              "<style scoped>\n",
              "    .dataframe tbody tr th:only-of-type {\n",
              "        vertical-align: middle;\n",
              "    }\n",
              "\n",
              "    .dataframe tbody tr th {\n",
              "        vertical-align: top;\n",
              "    }\n",
              "\n",
              "    .dataframe thead th {\n",
              "        text-align: right;\n",
              "    }\n",
              "</style>\n",
              "<table border=\"1\" class=\"dataframe\">\n",
              "  <thead>\n",
              "    <tr style=\"text-align: right;\">\n",
              "      <th>movieId</th>\n",
              "      <th>1</th>\n",
              "      <th>50</th>\n",
              "      <th>110</th>\n",
              "      <th>260</th>\n",
              "      <th>296</th>\n",
              "      <th>318</th>\n",
              "      <th>356</th>\n",
              "      <th>480</th>\n",
              "      <th>527</th>\n",
              "      <th>589</th>\n",
              "      <th>593</th>\n",
              "      <th>1196</th>\n",
              "      <th>2571</th>\n",
              "      <th>2858</th>\n",
              "      <th>2959</th>\n",
              "    </tr>\n",
              "    <tr>\n",
              "      <th>userId</th>\n",
              "      <th></th>\n",
              "      <th></th>\n",
              "      <th></th>\n",
              "      <th></th>\n",
              "      <th></th>\n",
              "      <th></th>\n",
              "      <th></th>\n",
              "      <th></th>\n",
              "      <th></th>\n",
              "      <th></th>\n",
              "      <th></th>\n",
              "      <th></th>\n",
              "      <th></th>\n",
              "      <th></th>\n",
              "      <th></th>\n",
              "    </tr>\n",
              "  </thead>\n",
              "  <tbody>\n",
              "    <tr>\n",
              "      <th>68</th>\n",
              "      <td>2.5</td>\n",
              "      <td>3.0</td>\n",
              "      <td>2.5</td>\n",
              "      <td>5.0</td>\n",
              "      <td>2.0</td>\n",
              "      <td>3.0</td>\n",
              "      <td>3.5</td>\n",
              "      <td>3.5</td>\n",
              "      <td>4.0</td>\n",
              "      <td>3.5</td>\n",
              "      <td>3.5</td>\n",
              "      <td>5.0</td>\n",
              "      <td>4.5</td>\n",
              "      <td>5.0</td>\n",
              "      <td>2.5</td>\n",
              "    </tr>\n",
              "    <tr>\n",
              "      <th>182</th>\n",
              "      <td>4.0</td>\n",
              "      <td>4.5</td>\n",
              "      <td>3.5</td>\n",
              "      <td>3.5</td>\n",
              "      <td>5.0</td>\n",
              "      <td>4.5</td>\n",
              "      <td>5.0</td>\n",
              "      <td>3.5</td>\n",
              "      <td>4.0</td>\n",
              "      <td>2.0</td>\n",
              "      <td>4.5</td>\n",
              "      <td>3.0</td>\n",
              "      <td>5.0</td>\n",
              "      <td>5.0</td>\n",
              "      <td>5.0</td>\n",
              "    </tr>\n",
              "    <tr>\n",
              "      <th>249</th>\n",
              "      <td>4.0</td>\n",
              "      <td>4.0</td>\n",
              "      <td>5.0</td>\n",
              "      <td>5.0</td>\n",
              "      <td>4.0</td>\n",
              "      <td>4.5</td>\n",
              "      <td>4.5</td>\n",
              "      <td>4.0</td>\n",
              "      <td>4.5</td>\n",
              "      <td>4.0</td>\n",
              "      <td>4.0</td>\n",
              "      <td>5.0</td>\n",
              "      <td>5.0</td>\n",
              "      <td>4.5</td>\n",
              "      <td>5.0</td>\n",
              "    </tr>\n",
              "    <tr>\n",
              "      <th>274</th>\n",
              "      <td>4.0</td>\n",
              "      <td>4.0</td>\n",
              "      <td>4.5</td>\n",
              "      <td>3.0</td>\n",
              "      <td>5.0</td>\n",
              "      <td>4.5</td>\n",
              "      <td>4.5</td>\n",
              "      <td>3.5</td>\n",
              "      <td>4.0</td>\n",
              "      <td>4.5</td>\n",
              "      <td>4.0</td>\n",
              "      <td>4.5</td>\n",
              "      <td>4.0</td>\n",
              "      <td>5.0</td>\n",
              "      <td>5.0</td>\n",
              "    </tr>\n",
              "    <tr>\n",
              "      <th>288</th>\n",
              "      <td>4.5</td>\n",
              "      <td>NaN</td>\n",
              "      <td>5.0</td>\n",
              "      <td>5.0</td>\n",
              "      <td>5.0</td>\n",
              "      <td>5.0</td>\n",
              "      <td>5.0</td>\n",
              "      <td>2.0</td>\n",
              "      <td>5.0</td>\n",
              "      <td>4.0</td>\n",
              "      <td>5.0</td>\n",
              "      <td>4.5</td>\n",
              "      <td>3.0</td>\n",
              "      <td>NaN</td>\n",
              "      <td>3.5</td>\n",
              "    </tr>\n",
              "    <tr>\n",
              "      <th>307</th>\n",
              "      <td>4.0</td>\n",
              "      <td>4.5</td>\n",
              "      <td>3.5</td>\n",
              "      <td>3.5</td>\n",
              "      <td>4.5</td>\n",
              "      <td>4.5</td>\n",
              "      <td>4.0</td>\n",
              "      <td>3.5</td>\n",
              "      <td>4.5</td>\n",
              "      <td>2.5</td>\n",
              "      <td>4.5</td>\n",
              "      <td>3.0</td>\n",
              "      <td>3.5</td>\n",
              "      <td>4.0</td>\n",
              "      <td>4.0</td>\n",
              "    </tr>\n",
              "    <tr>\n",
              "      <th>380</th>\n",
              "      <td>5.0</td>\n",
              "      <td>4.0</td>\n",
              "      <td>4.0</td>\n",
              "      <td>5.0</td>\n",
              "      <td>5.0</td>\n",
              "      <td>3.0</td>\n",
              "      <td>5.0</td>\n",
              "      <td>5.0</td>\n",
              "      <td>NaN</td>\n",
              "      <td>5.0</td>\n",
              "      <td>5.0</td>\n",
              "      <td>5.0</td>\n",
              "      <td>4.5</td>\n",
              "      <td>NaN</td>\n",
              "      <td>4.0</td>\n",
              "    </tr>\n",
              "    <tr>\n",
              "      <th>387</th>\n",
              "      <td>NaN</td>\n",
              "      <td>4.5</td>\n",
              "      <td>3.5</td>\n",
              "      <td>4.5</td>\n",
              "      <td>5.0</td>\n",
              "      <td>3.5</td>\n",
              "      <td>4.0</td>\n",
              "      <td>3.0</td>\n",
              "      <td>NaN</td>\n",
              "      <td>3.5</td>\n",
              "      <td>4.0</td>\n",
              "      <td>4.5</td>\n",
              "      <td>4.0</td>\n",
              "      <td>4.5</td>\n",
              "      <td>4.5</td>\n",
              "    </tr>\n",
              "    <tr>\n",
              "      <th>414</th>\n",
              "      <td>4.0</td>\n",
              "      <td>5.0</td>\n",
              "      <td>5.0</td>\n",
              "      <td>5.0</td>\n",
              "      <td>5.0</td>\n",
              "      <td>5.0</td>\n",
              "      <td>5.0</td>\n",
              "      <td>4.0</td>\n",
              "      <td>4.0</td>\n",
              "      <td>5.0</td>\n",
              "      <td>4.0</td>\n",
              "      <td>5.0</td>\n",
              "      <td>5.0</td>\n",
              "      <td>5.0</td>\n",
              "      <td>5.0</td>\n",
              "    </tr>\n",
              "    <tr>\n",
              "      <th>448</th>\n",
              "      <td>5.0</td>\n",
              "      <td>4.0</td>\n",
              "      <td>NaN</td>\n",
              "      <td>5.0</td>\n",
              "      <td>5.0</td>\n",
              "      <td>NaN</td>\n",
              "      <td>3.0</td>\n",
              "      <td>3.0</td>\n",
              "      <td>NaN</td>\n",
              "      <td>3.0</td>\n",
              "      <td>5.0</td>\n",
              "      <td>5.0</td>\n",
              "      <td>2.0</td>\n",
              "      <td>4.0</td>\n",
              "      <td>4.0</td>\n",
              "    </tr>\n",
              "    <tr>\n",
              "      <th>474</th>\n",
              "      <td>4.0</td>\n",
              "      <td>4.0</td>\n",
              "      <td>3.0</td>\n",
              "      <td>4.0</td>\n",
              "      <td>4.0</td>\n",
              "      <td>5.0</td>\n",
              "      <td>3.0</td>\n",
              "      <td>4.5</td>\n",
              "      <td>5.0</td>\n",
              "      <td>4.0</td>\n",
              "      <td>4.5</td>\n",
              "      <td>5.0</td>\n",
              "      <td>4.5</td>\n",
              "      <td>3.5</td>\n",
              "      <td>4.0</td>\n",
              "    </tr>\n",
              "    <tr>\n",
              "      <th>599</th>\n",
              "      <td>3.0</td>\n",
              "      <td>3.5</td>\n",
              "      <td>3.5</td>\n",
              "      <td>5.0</td>\n",
              "      <td>5.0</td>\n",
              "      <td>4.0</td>\n",
              "      <td>3.5</td>\n",
              "      <td>4.0</td>\n",
              "      <td>NaN</td>\n",
              "      <td>4.5</td>\n",
              "      <td>3.0</td>\n",
              "      <td>5.0</td>\n",
              "      <td>5.0</td>\n",
              "      <td>5.0</td>\n",
              "      <td>5.0</td>\n",
              "    </tr>\n",
              "    <tr>\n",
              "      <th>603</th>\n",
              "      <td>4.0</td>\n",
              "      <td>NaN</td>\n",
              "      <td>1.0</td>\n",
              "      <td>4.0</td>\n",
              "      <td>5.0</td>\n",
              "      <td>NaN</td>\n",
              "      <td>3.0</td>\n",
              "      <td>NaN</td>\n",
              "      <td>3.0</td>\n",
              "      <td>NaN</td>\n",
              "      <td>5.0</td>\n",
              "      <td>3.0</td>\n",
              "      <td>5.0</td>\n",
              "      <td>5.0</td>\n",
              "      <td>4.0</td>\n",
              "    </tr>\n",
              "    <tr>\n",
              "      <th>606</th>\n",
              "      <td>2.5</td>\n",
              "      <td>4.5</td>\n",
              "      <td>3.5</td>\n",
              "      <td>4.5</td>\n",
              "      <td>5.0</td>\n",
              "      <td>3.5</td>\n",
              "      <td>4.0</td>\n",
              "      <td>2.5</td>\n",
              "      <td>5.0</td>\n",
              "      <td>3.5</td>\n",
              "      <td>4.5</td>\n",
              "      <td>4.5</td>\n",
              "      <td>5.0</td>\n",
              "      <td>4.5</td>\n",
              "      <td>5.0</td>\n",
              "    </tr>\n",
              "    <tr>\n",
              "      <th>610</th>\n",
              "      <td>5.0</td>\n",
              "      <td>4.0</td>\n",
              "      <td>4.5</td>\n",
              "      <td>5.0</td>\n",
              "      <td>5.0</td>\n",
              "      <td>3.0</td>\n",
              "      <td>3.0</td>\n",
              "      <td>5.0</td>\n",
              "      <td>3.5</td>\n",
              "      <td>5.0</td>\n",
              "      <td>4.5</td>\n",
              "      <td>5.0</td>\n",
              "      <td>5.0</td>\n",
              "      <td>3.5</td>\n",
              "      <td>5.0</td>\n",
              "    </tr>\n",
              "  </tbody>\n",
              "</table>\n",
              "</div>"
            ],
            "text/plain": [
              "movieId  1     50    110   260   296   318   ...  589   593   1196  2571  2858  2959\n",
              "userId                                       ...                                    \n",
              "68        2.5   3.0   2.5   5.0   2.0   3.0  ...   3.5   3.5   5.0   4.5   5.0   2.5\n",
              "182       4.0   4.5   3.5   3.5   5.0   4.5  ...   2.0   4.5   3.0   5.0   5.0   5.0\n",
              "249       4.0   4.0   5.0   5.0   4.0   4.5  ...   4.0   4.0   5.0   5.0   4.5   5.0\n",
              "274       4.0   4.0   4.5   3.0   5.0   4.5  ...   4.5   4.0   4.5   4.0   5.0   5.0\n",
              "288       4.5   NaN   5.0   5.0   5.0   5.0  ...   4.0   5.0   4.5   3.0   NaN   3.5\n",
              "307       4.0   4.5   3.5   3.5   4.5   4.5  ...   2.5   4.5   3.0   3.5   4.0   4.0\n",
              "380       5.0   4.0   4.0   5.0   5.0   3.0  ...   5.0   5.0   5.0   4.5   NaN   4.0\n",
              "387       NaN   4.5   3.5   4.5   5.0   3.5  ...   3.5   4.0   4.5   4.0   4.5   4.5\n",
              "414       4.0   5.0   5.0   5.0   5.0   5.0  ...   5.0   4.0   5.0   5.0   5.0   5.0\n",
              "448       5.0   4.0   NaN   5.0   5.0   NaN  ...   3.0   5.0   5.0   2.0   4.0   4.0\n",
              "474       4.0   4.0   3.0   4.0   4.0   5.0  ...   4.0   4.5   5.0   4.5   3.5   4.0\n",
              "599       3.0   3.5   3.5   5.0   5.0   4.0  ...   4.5   3.0   5.0   5.0   5.0   5.0\n",
              "603       4.0   NaN   1.0   4.0   5.0   NaN  ...   NaN   5.0   3.0   5.0   5.0   4.0\n",
              "606       2.5   4.5   3.5   4.5   5.0   3.5  ...   3.5   4.5   4.5   5.0   4.5   5.0\n",
              "610       5.0   4.0   4.5   5.0   5.0   3.0  ...   5.0   4.5   5.0   5.0   3.5   5.0\n",
              "\n",
              "[15 rows x 15 columns]"
            ]
          },
          "metadata": {
            "tags": []
          },
          "execution_count": 7
        }
      ]
    },
    {
      "cell_type": "markdown",
      "metadata": {
        "id": "_Mtw8-J_jv-H"
      },
      "source": [
        "## Excercise\n",
        "\n",
        "Encode the user id, and movie id categorical variables, using sklean LabelEncoder to be used with the Embedding layer."
      ]
    },
    {
      "cell_type": "markdown",
      "metadata": {
        "id": "DsZiquwGj9c8"
      },
      "source": [
        "## Answer"
      ]
    },
    {
      "cell_type": "code",
      "metadata": {
        "id": "7oA-inQ8j72c",
        "colab": {
          "base_uri": "https://localhost:8080/",
          "height": 34
        },
        "outputId": "c33a2809-d316-4c63-82cc-54f7c5e4eb4e"
      },
      "source": [
        "user_enc = LabelEncoder()\n",
        "ratings['user'] = user_enc.fit_transform(ratings.userId.values)\n",
        "n_users = ratings['user'].nunique()\n",
        "\n",
        "item_enc = LabelEncoder()\n",
        "ratings['movie'] = user_enc.fit_transform(ratings.movieId.values)\n",
        "n_movies = ratings['movie'].nunique()\n",
        "\n",
        "ratings['rating'] = ratings['rating'].values.astype(np.float32)\n",
        "min_rating = min(ratings['rating'])\n",
        "max_rating = max(ratings['rating'])\n",
        "\n",
        "n_users, n_movies, min_rating, max_rating"
      ],
      "execution_count": null,
      "outputs": [
        {
          "output_type": "execute_result",
          "data": {
            "text/plain": [
              "(610, 9724, 0.5, 5.0)"
            ]
          },
          "metadata": {
            "tags": []
          },
          "execution_count": 8
        }
      ]
    },
    {
      "cell_type": "markdown",
      "metadata": {
        "id": "hYqDNCNPkB0T"
      },
      "source": [
        "## Excercise\n",
        "\n",
        "Build the collaborative filtering model, using keras Embedding and Dot layers"
      ]
    },
    {
      "cell_type": "markdown",
      "metadata": {
        "id": "y9I34D3tkKkS"
      },
      "source": [
        "## Answer"
      ]
    },
    {
      "cell_type": "code",
      "metadata": {
        "id": "KYE4PuXlkLWV",
        "colab": {
          "base_uri": "https://localhost:8080/",
          "height": 831
        },
        "outputId": "e880dc44-93a5-492e-db56-565ed6cce7df"
      },
      "source": [
        "# Number of latent factors\n",
        "emb_sz = 50\n",
        "\n",
        "# User embeddings\n",
        "user = layers.Input(shape=(1,), name='user_id')\n",
        "user_emb = layers.Embedding(n_users, emb_sz, embeddings_regularizer=regularizers.l2(1e-6), name='user_embedding_LUT')(user) #to create embedding matrix \n",
        "user_emb = layers.Reshape((emb_sz,))(user_emb)\n",
        "\n",
        "# Movie embeddings\n",
        "movie = layers.Input(shape=(1,), name='movie_id')\n",
        "movie_emb = layers.Embedding(n_movies, emb_sz, embeddings_regularizer=regularizers.l2(1e-6), name='movie_embedding_LUT')(movie)\n",
        "movie_emb = layers.Reshape((emb_sz,))(movie_emb)\n",
        "\n",
        "# Dot product\n",
        "rating = layers.Dot(axes=1, name='similarity_measure')([user_emb, movie_emb])\n",
        "\n",
        "\n",
        "# Model\n",
        "model = models.Model([user, movie], rating)\n",
        "\n",
        "# Compile the model\n",
        "model.compile(loss='mse',  metrics=metrics.RootMeanSquaredError(),\n",
        "              optimizer=optimizers.Adam(lr=0.001))\n",
        "\n",
        "# Show model summary\n",
        "model.summary()\n",
        "plot_model(model, show_shapes=True, show_layer_names=True)"
      ],
      "execution_count": null,
      "outputs": [
        {
          "output_type": "stream",
          "text": [
            "Model: \"model_2\"\n",
            "__________________________________________________________________________________________________\n",
            "Layer (type)                    Output Shape         Param #     Connected to                     \n",
            "==================================================================================================\n",
            "user_id (InputLayer)            [(None, 1)]          0                                            \n",
            "__________________________________________________________________________________________________\n",
            "movie_id (InputLayer)           [(None, 1)]          0                                            \n",
            "__________________________________________________________________________________________________\n",
            "user_embedding_LUT (Embedding)  (None, 1, 50)        30500       user_id[0][0]                    \n",
            "__________________________________________________________________________________________________\n",
            "movie_embedding_LUT (Embedding) (None, 1, 50)        486200      movie_id[0][0]                   \n",
            "__________________________________________________________________________________________________\n",
            "reshape_6 (Reshape)             (None, 50)           0           user_embedding_LUT[0][0]         \n",
            "__________________________________________________________________________________________________\n",
            "reshape_7 (Reshape)             (None, 50)           0           movie_embedding_LUT[0][0]        \n",
            "__________________________________________________________________________________________________\n",
            "similarity_measure (Dot)        (None, 1)            0           reshape_6[0][0]                  \n",
            "                                                                 reshape_7[0][0]                  \n",
            "==================================================================================================\n",
            "Total params: 516,700\n",
            "Trainable params: 516,700\n",
            "Non-trainable params: 0\n",
            "__________________________________________________________________________________________________\n"
          ],
          "name": "stdout"
        },
        {
          "output_type": "execute_result",
          "data": {
            "image/png": "[encoded data removed]",
            "text/plain": [
              "<IPython.core.display.Image object>"
            ]
          },
          "metadata": {
            "tags": []
          },
          "execution_count": 13
        }
      ]
    },
    {
      "cell_type": "markdown",
      "metadata": {
        "id": "_zuGCDPpkg9r"
      },
      "source": [
        "## Excercise\n",
        "Extract the train and test data for MovieLens"
      ]
    },
    {
      "cell_type": "code",
      "metadata": {
        "id": "9cNU0j2Oklqs",
        "colab": {
          "base_uri": "https://localhost:8080/",
          "height": 50
        },
        "outputId": "91af022f-2010-40d0-bc70-ee4746e1c705"
      },
      "source": [
        "X = ratings[['user', 'movie']].values\n",
        "y = ratings['rating'].values\n",
        "X_train, X_test, y_train, y_test = train_test_split(X, y, test_size=0.1, random_state=42)\n",
        "\n",
        "print(X_train.shape, y_train.shape)\n",
        "print(X_test.shape, y_test.shape)"
      ],
      "execution_count": null,
      "outputs": [
        {
          "output_type": "stream",
          "text": [
            "(90752, 2) (90752,)\n",
            "(10084, 2) (10084,)\n"
          ],
          "name": "stdout"
        }
      ]
    },
    {
      "cell_type": "markdown",
      "metadata": {
        "id": "3Uw8YuDKkP83"
      },
      "source": [
        "## Excercise\n",
        "Compile and train the model on MovieLens dataset"
      ]
    },
    {
      "cell_type": "markdown",
      "metadata": {
        "id": "zOaw1mRekUwL"
      },
      "source": [
        "## Answer"
      ]
    },
    {
      "cell_type": "code",
      "metadata": {
        "id": "6DdJvqX_kpeG",
        "colab": {
          "base_uri": "https://localhost:8080/",
          "height": 255
        },
        "outputId": "842ff131-b2df-485f-a615-72abff4dd101"
      },
      "source": [
        "# Compile the model\n",
        "model.compile(loss='mse',  metrics=metrics.RootMeanSquaredError(),\n",
        "              optimizer=optimizers.Adam(lr=0.001))\n",
        "model.fit(x=[X_train[:,0], X_train[:,1]], y=y_train,\n",
        "          batch_size=64, epochs=5, verbose=1,\n",
        "          validation_data=([X_test[:,0], X_test[:,1]], y_test))"
      ],
      "execution_count": null,
      "outputs": [
        {
          "output_type": "stream",
          "text": [
            "Epoch 1/5\n"
          ],
          "name": "stdout"
        },
        {
          "output_type": "stream",
          "text": [
            "/usr/local/lib/python3.6/dist-packages/tensorflow/python/framework/indexed_slices.py:434: UserWarning: Converting sparse IndexedSlices to a dense Tensor of unknown shape. This may consume a large amount of memory.\n",
            "  \"Converting sparse IndexedSlices to a dense Tensor of unknown shape. \"\n"
          ],
          "name": "stderr"
        },
        {
          "output_type": "stream",
          "text": [
            "1418/1418 [==============================] - 5s 4ms/step - loss: 9.3721 - root_mean_squared_error: 3.0611 - val_loss: 3.2083 - val_root_mean_squared_error: 1.7907\n",
            "Epoch 2/5\n",
            "1418/1418 [==============================] - 5s 3ms/step - loss: 1.9927 - root_mean_squared_error: 1.4088 - val_loss: 1.6493 - val_root_mean_squared_error: 1.2814\n",
            "Epoch 3/5\n",
            "1418/1418 [==============================] - 5s 3ms/step - loss: 1.1534 - root_mean_squared_error: 1.0687 - val_loss: 1.3665 - val_root_mean_squared_error: 1.1643\n",
            "Epoch 4/5\n",
            "1418/1418 [==============================] - 5s 3ms/step - loss: 0.8975 - root_mean_squared_error: 0.9403 - val_loss: 1.2743 - val_root_mean_squared_error: 1.1231\n",
            "Epoch 5/5\n",
            "1418/1418 [==============================] - 5s 3ms/step - loss: 0.7693 - root_mean_squared_error: 0.8686 - val_loss: 1.2384 - val_root_mean_squared_error: 1.1065\n"
          ],
          "name": "stdout"
        },
        {
          "output_type": "execute_result",
          "data": {
            "text/plain": [
              "<tensorflow.python.keras.callbacks.History at 0x7fb1c89db748>"
            ]
          },
          "metadata": {
            "tags": []
          },
          "execution_count": 89
        }
      ]
    },
    {
      "cell_type": "markdown",
      "metadata": {
        "id": "HcJG_Stew-zK"
      },
      "source": [
        "# Chapter 4: Improving the recommendation engine and analysis"
      ]
    },
    {
      "cell_type": "markdown",
      "metadata": {
        "id": "08uFg43dxRZM"
      },
      "source": [
        "## Lesson 1: Scaling the model output with sigmoid"
      ]
    },
    {
      "cell_type": "markdown",
      "metadata": {
        "id": "p5OzYf4hxXWq"
      },
      "source": [
        "## Learning Objectives:\n",
        "- Learner will be able to beat the SoTA benchmarks of the best recommender engine on MovieLens.\n",
        "- Learner will be able to improve the recommendation engine by scaling the output of the model according to the range of ratings.\n"
      ]
    },
    {
      "cell_type": "markdown",
      "metadata": {
        "id": "qBPNly5WxzH6"
      },
      "source": [
        "## Excercise\n",
        "\n",
        "To help the model to scale the output within the required range, we pass the output of the Dot product to a sigmoid, which ranges from [0,1], then we scale that up to the range of min_rating to max_rating."
      ]
    },
    {
      "cell_type": "markdown",
      "metadata": {
        "id": "Um3vOOaHx2e9"
      },
      "source": [
        "## Answer"
      ]
    },
    {
      "cell_type": "code",
      "metadata": {
        "id": "7mjE_ty9x3ak",
        "colab": {
          "base_uri": "https://localhost:8080/",
          "height": 1000
        },
        "outputId": "6973f351-a09e-4f2b-d2e9-ea54dcf622da"
      },
      "source": [
        "# Number of latent factors\n",
        "emb_sz = 50\n",
        "\n",
        "# User embeddings\n",
        "user = layers.Input(shape=(1,))\n",
        "user_emb = layers.Embedding(n_users, emb_sz, embeddings_regularizer=regularizers.l2(1e-6))(user)\n",
        "user_emb = layers.Reshape((emb_sz,))(user_emb)\n",
        "\n",
        "# Movie embeddings\n",
        "movie = layers.Input(shape=(1,))\n",
        "movie_emb = layers.Embedding(n_movies, emb_sz, embeddings_regularizer=regularizers.l2(1e-6))(movie)\n",
        "movie_emb = layers.Reshape((emb_sz,))(movie_emb)\n",
        "\n",
        "# Dot product\n",
        "rating = layers.Dot(axes=1)([user_emb, movie_emb])\n",
        "rating = layers.Activation('sigmoid')(rating)\n",
        "rating = layers.Lambda(lambda x:x*(max_rating - min_rating) + min_rating)(rating)\n",
        "\n",
        "# Model\n",
        "model = models.Model([user, movie], rating)\n",
        "\n",
        "# Compile the model\n",
        "model.compile(loss='mse', metrics=metrics.RootMeanSquaredError(),\n",
        "              optimizer=optimizers.Adam(lr=0.001))\n",
        "\n",
        "# Show model summary\n",
        "model.summary()\n",
        "plot_model(model)"
      ],
      "execution_count": null,
      "outputs": [
        {
          "output_type": "stream",
          "text": [
            "Model: \"model_7\"\n",
            "__________________________________________________________________________________________________\n",
            "Layer (type)                    Output Shape         Param #     Connected to                     \n",
            "==================================================================================================\n",
            "input_15 (InputLayer)           [(None, 1)]          0                                            \n",
            "__________________________________________________________________________________________________\n",
            "input_16 (InputLayer)           [(None, 1)]          0                                            \n",
            "__________________________________________________________________________________________________\n",
            "embedding_13 (Embedding)        (None, 1, 50)        30500       input_15[0][0]                   \n",
            "__________________________________________________________________________________________________\n",
            "embedding_14 (Embedding)        (None, 1, 50)        486200      input_16[0][0]                   \n",
            "__________________________________________________________________________________________________\n",
            "reshape_2 (Reshape)             (None, 50)           0           embedding_13[0][0]               \n",
            "__________________________________________________________________________________________________\n",
            "reshape_3 (Reshape)             (None, 50)           0           embedding_14[0][0]               \n",
            "__________________________________________________________________________________________________\n",
            "dot_2 (Dot)                     (None, 1)            0           reshape_2[0][0]                  \n",
            "                                                                 reshape_3[0][0]                  \n",
            "__________________________________________________________________________________________________\n",
            "activation (Activation)         (None, 1)            0           dot_2[0][0]                      \n",
            "__________________________________________________________________________________________________\n",
            "lambda (Lambda)                 (None, 1)            0           activation[0][0]                 \n",
            "==================================================================================================\n",
            "Total params: 516,700\n",
            "Trainable params: 516,700\n",
            "Non-trainable params: 0\n",
            "__________________________________________________________________________________________________\n"
          ],
          "name": "stdout"
        },
        {
          "output_type": "execute_result",
          "data": {
            "image/png": "[encoded data removed]",
            "text/plain": [
              "<IPython.core.display.Image object>"
            ]
          },
          "metadata": {
            "tags": []
          },
          "execution_count": 90
        }
      ]
    },
    {
      "cell_type": "markdown",
      "metadata": {
        "id": "p9AHLIFAx9ao"
      },
      "source": [
        "Not part of the answer"
      ]
    },
    {
      "cell_type": "code",
      "metadata": {
        "id": "9YzzgAKux_r8",
        "colab": {
          "base_uri": "https://localhost:8080/",
          "height": 255
        },
        "outputId": "a32c431e-3436-4465-d8ef-d371df415318"
      },
      "source": [
        "model.fit(x=[X_train[:,0], X_train[:,1]], y=y_train,\n",
        "          batch_size=64, epochs=5, verbose=1,\n",
        "          validation_data=([X_test[:,0], X_test[:,1]], y_test))"
      ],
      "execution_count": null,
      "outputs": [
        {
          "output_type": "stream",
          "text": [
            "Epoch 1/5\n"
          ],
          "name": "stdout"
        },
        {
          "output_type": "stream",
          "text": [
            "/usr/local/lib/python3.6/dist-packages/tensorflow/python/framework/indexed_slices.py:434: UserWarning: Converting sparse IndexedSlices to a dense Tensor of unknown shape. This may consume a large amount of memory.\n",
            "  \"Converting sparse IndexedSlices to a dense Tensor of unknown shape. \"\n"
          ],
          "name": "stderr"
        },
        {
          "output_type": "stream",
          "text": [
            "1418/1418 [==============================] - 5s 3ms/step - loss: 1.4039 - root_mean_squared_error: 1.1846 - val_loss: 0.9433 - val_root_mean_squared_error: 0.9704\n",
            "Epoch 2/5\n",
            "1418/1418 [==============================] - 5s 3ms/step - loss: 0.7723 - root_mean_squared_error: 0.8773 - val_loss: 0.8003 - val_root_mean_squared_error: 0.8927\n",
            "Epoch 3/5\n",
            "1418/1418 [==============================] - 5s 3ms/step - loss: 0.5954 - root_mean_squared_error: 0.7689 - val_loss: 0.7749 - val_root_mean_squared_error: 0.8774\n",
            "Epoch 4/5\n",
            "1418/1418 [==============================] - 5s 3ms/step - loss: 0.4743 - root_mean_squared_error: 0.6845 - val_loss: 0.7739 - val_root_mean_squared_error: 0.8761\n",
            "Epoch 5/5\n",
            "1418/1418 [==============================] - 6s 4ms/step - loss: 0.3797 - root_mean_squared_error: 0.6105 - val_loss: 0.7837 - val_root_mean_squared_error: 0.8808\n"
          ],
          "name": "stdout"
        },
        {
          "output_type": "execute_result",
          "data": {
            "text/plain": [
              "<tensorflow.python.keras.callbacks.History at 0x7fb19b5aeac8>"
            ]
          },
          "metadata": {
            "tags": []
          },
          "execution_count": 91
        }
      ]
    },
    {
      "cell_type": "markdown",
      "metadata": {
        "id": "XeEedD-PyM3s"
      },
      "source": [
        "## Lesson 2: Adding user and movie biases"
      ]
    },
    {
      "cell_type": "markdown",
      "metadata": {
        "id": "ZBzHL74byTQG"
      },
      "source": [
        "## Learning Objectives\n",
        "\n",
        "- Learner will be able to incorporate users and movies priors (biases) in the model.\n",
        "- Learner will be able to incorporate extra meta data as information to the model."
      ]
    },
    {
      "cell_type": "markdown",
      "metadata": {
        "id": "iDz71kkQy_UL"
      },
      "source": [
        "## Excercise\n",
        "\n",
        "Build the model that accounts for movie and user bias"
      ]
    },
    {
      "cell_type": "code",
      "metadata": {
        "id": "1zpPsNRIzDwt",
        "colab": {
          "base_uri": "https://localhost:8080/",
          "height": 1000
        },
        "outputId": "fa76cb41-b572-4aad-be53-cc875d15e486"
      },
      "source": [
        "# Number of latent factors\n",
        "emb_sz = 50\n",
        "\n",
        "# User embeddings\n",
        "user = layers.Input(shape=(1),name='user_id')\n",
        "user_emb = layers.Embedding(n_users, emb_sz, embeddings_regularizer=regularizers.l2(1e-6),name='user_embedding')(user)\n",
        "user_emb = layers.Reshape((emb_sz,))(user_emb)\n",
        "\n",
        "# User bias\n",
        "user_bias = layers.Embedding(n_users, 1, embeddings_regularizer=regularizers.l2(1e-6),name='user_bias')(user)\n",
        "user_bias = layers.Reshape((1,))(user_bias)\n",
        "\n",
        "# Movie embeddings\n",
        "movie = layers.Input(shape=(1,),name='movie_id')\n",
        "movie_emb = layers.Embedding(n_movies, emb_sz, embeddings_regularizer=regularizers.l2(1e-6),name='movie_embedding')(movie)\n",
        "movie_emb = layers.Reshape((emb_sz,))(movie_emb)\n",
        "\n",
        "# Movie bias\n",
        "movie_bias = layers.Embedding(n_movies, 1, embeddings_regularizer=regularizers.l2(1e-6),name='movie_bias')(movie)\n",
        "movie_bias = layers.Reshape((1,))(movie_bias)\n",
        "\n",
        "# Dot product\n",
        "rating = layers.Dot(axes=1,name='similarity_measure')([user_emb, movie_emb])\n",
        "\n",
        "# Add biases\n",
        "rating = layers.Add()([rating, user_bias, movie_bias])\n",
        "rating = layers.Activation('sigmoid',name='rating_scaling')(rating)\n",
        "rating = layers.Lambda(lambda x:x*(max_rating - min_rating) + min_rating)(rating)\n",
        "\n",
        "# Model\n",
        "model = models.Model([user, movie], rating)\n",
        "\n",
        "# Compile the model\n",
        "model.compile(loss='mse', metrics=metrics.RootMeanSquaredError(),\n",
        "              optimizer=optimizers.Adam(lr=0.001))\n",
        "\n",
        "# Show model summary\n",
        "print(model.summary())\n",
        "plot_model(model, to_file='model.png')"
      ],
      "execution_count": null,
      "outputs": [
        {
          "output_type": "stream",
          "text": [
            "Model: \"model_4\"\n",
            "__________________________________________________________________________________________________\n",
            "Layer (type)                    Output Shape         Param #     Connected to                     \n",
            "==================================================================================================\n",
            "user_id (InputLayer)            [(None, 1)]          0                                            \n",
            "__________________________________________________________________________________________________\n",
            "movie_id (InputLayer)           [(None, 1)]          0                                            \n",
            "__________________________________________________________________________________________________\n",
            "user_embedding (Embedding)      (None, 1, 50)        30500       user_id[0][0]                    \n",
            "__________________________________________________________________________________________________\n",
            "movie_embedding (Embedding)     (None, 1, 50)        486200      movie_id[0][0]                   \n",
            "__________________________________________________________________________________________________\n",
            "reshape_12 (Reshape)            (None, 50)           0           user_embedding[0][0]             \n",
            "__________________________________________________________________________________________________\n",
            "reshape_14 (Reshape)            (None, 50)           0           movie_embedding[0][0]            \n",
            "__________________________________________________________________________________________________\n",
            "user_bias (Embedding)           (None, 1, 1)         610         user_id[0][0]                    \n",
            "__________________________________________________________________________________________________\n",
            "movie_bias (Embedding)          (None, 1, 1)         9724        movie_id[0][0]                   \n",
            "__________________________________________________________________________________________________\n",
            "similarity_measure (Dot)        (None, 1)            0           reshape_12[0][0]                 \n",
            "                                                                 reshape_14[0][0]                 \n",
            "__________________________________________________________________________________________________\n",
            "reshape_13 (Reshape)            (None, 1)            0           user_bias[0][0]                  \n",
            "__________________________________________________________________________________________________\n",
            "reshape_15 (Reshape)            (None, 1)            0           movie_bias[0][0]                 \n",
            "__________________________________________________________________________________________________\n",
            "add_1 (Add)                     (None, 1)            0           similarity_measure[0][0]         \n",
            "                                                                 reshape_13[0][0]                 \n",
            "                                                                 reshape_15[0][0]                 \n",
            "__________________________________________________________________________________________________\n",
            "rating_scaling (Activation)     (None, 1)            0           add_1[0][0]                      \n",
            "__________________________________________________________________________________________________\n",
            "lambda_1 (Lambda)               (None, 1)            0           rating_scaling[0][0]             \n",
            "==================================================================================================\n",
            "Total params: 527,034\n",
            "Trainable params: 527,034\n",
            "Non-trainable params: 0\n",
            "__________________________________________________________________________________________________\n",
            "None\n"
          ],
          "name": "stdout"
        },
        {
          "output_type": "execute_result",
          "data": {
            "image/png": "[encoded data removed]",
            "text/plain": [
              "<IPython.core.display.Image object>"
            ]
          },
          "metadata": {
            "tags": []
          },
          "execution_count": 15
        }
      ]
    },
    {
      "cell_type": "code",
      "metadata": {
        "id": "9r811e8IzGvL",
        "colab": {
          "base_uri": "https://localhost:8080/",
          "height": 255
        },
        "outputId": "eab86eea-ee6e-4bf7-f78d-306cee272771"
      },
      "source": [
        "model.fit(x=[X_train[:,0], X_train[:,1]], y=y_train,\n",
        "          batch_size=64, epochs=5, verbose=1,\n",
        "          validation_data=([X_test[:,0], X_test[:,1]], y_test))"
      ],
      "execution_count": null,
      "outputs": [
        {
          "output_type": "stream",
          "text": [
            "Epoch 1/5\n"
          ],
          "name": "stdout"
        },
        {
          "output_type": "stream",
          "text": [
            "/usr/local/lib/python3.6/dist-packages/tensorflow/python/framework/indexed_slices.py:434: UserWarning: Converting sparse IndexedSlices to a dense Tensor of unknown shape. This may consume a large amount of memory.\n",
            "  \"Converting sparse IndexedSlices to a dense Tensor of unknown shape. \"\n"
          ],
          "name": "stderr"
        },
        {
          "output_type": "stream",
          "text": [
            "1418/1418 [==============================] - 5s 3ms/step - loss: 1.2040 - root_mean_squared_error: 1.0970 - val_loss: 0.8552 - val_root_mean_squared_error: 0.9240\n",
            "Epoch 2/5\n",
            "1418/1418 [==============================] - 5s 3ms/step - loss: 0.7081 - root_mean_squared_error: 0.8402 - val_loss: 0.7499 - val_root_mean_squared_error: 0.8642\n",
            "Epoch 3/5\n",
            "1418/1418 [==============================] - 5s 3ms/step - loss: 0.5480 - root_mean_squared_error: 0.7378 - val_loss: 0.7285 - val_root_mean_squared_error: 0.8507\n",
            "Epoch 4/5\n",
            "1418/1418 [==============================] - 5s 3ms/step - loss: 0.4219 - root_mean_squared_error: 0.6456 - val_loss: 0.7321 - val_root_mean_squared_error: 0.8519\n",
            "Epoch 5/5\n",
            "1418/1418 [==============================] - 5s 3ms/step - loss: 0.3254 - root_mean_squared_error: 0.5648 - val_loss: 0.7450 - val_root_mean_squared_error: 0.8587\n"
          ],
          "name": "stdout"
        },
        {
          "output_type": "execute_result",
          "data": {
            "text/plain": [
              "<tensorflow.python.keras.callbacks.History at 0x7fb1c8ff29b0>"
            ]
          },
          "metadata": {
            "tags": []
          },
          "execution_count": 93
        }
      ]
    },
    {
      "cell_type": "markdown",
      "metadata": {
        "id": "BpyaCPEozINu"
      },
      "source": [
        "## Lesson 3: Going deeper\n",
        "- Learner will be able to use Dense layers to build deeper models.\n"
      ]
    },
    {
      "cell_type": "markdown",
      "metadata": {
        "id": "Qc4Ds17uzZpC"
      },
      "source": [
        "## Excercise\n",
        "\n",
        "Build a deeper model by adding Dense layer before the output"
      ]
    },
    {
      "cell_type": "markdown",
      "metadata": {
        "id": "KHhUuQUS0EVw"
      },
      "source": [
        "## Answer"
      ]
    },
    {
      "cell_type": "code",
      "metadata": {
        "id": "4owcfgtu0FLt",
        "colab": {
          "base_uri": "https://localhost:8080/",
          "height": 1000
        },
        "outputId": "3c562c83-f0d9-407b-98a3-ce139adac14e"
      },
      "source": [
        "# Number of latent factors\n",
        "emb_sz = 50\n",
        "\n",
        "# User embeddings\n",
        "user = layers.Input(shape=(1,))\n",
        "user_emb = layers.Embedding(n_users, emb_sz)(user)\n",
        "user_emb = layers.Reshape((emb_sz,))(user_emb)\n",
        "\n",
        "# User bias\n",
        "user_bias = layers.Embedding(n_users, 1)(user)\n",
        "user_bias = layers.Reshape((1,))(user_bias)\n",
        "\n",
        "# Movie embeddings\n",
        "movie = layers.Input(shape=(1,))\n",
        "movie_emb = layers.Embedding(n_movies, emb_sz)(movie)\n",
        "movie_emb = layers.Reshape((emb_sz,))(movie_emb)\n",
        "\n",
        "# Movie bias\n",
        "movie_bias = layers.Embedding(n_movies, 1)(movie)\n",
        "movie_bias = layers.Reshape((1,))(movie_bias)\n",
        "\n",
        "# Dot product\n",
        "rating = layers.Concatenate()([user_emb, movie_emb])\n",
        "\n",
        "# Add biases\n",
        "rating = layers.Add()([rating, user_bias, movie_bias])\n",
        "rating = layers.Dense(10, activation='relu')(rating)\n",
        "rating = layers.Dense(1, activation='sigmoid')(rating)\n",
        "rating = layers.Lambda(lambda x:x*(max_rating - min_rating) + min_rating)(rating)\n",
        "\n",
        "# Model\n",
        "model = models.Model([user, movie], rating)\n",
        "\n",
        "# Compile the model\n",
        "model.compile(loss='mse',  metrics=metrics.RootMeanSquaredError(),\n",
        "              optimizer=optimizers.Adam(lr=0.001))\n",
        "\n",
        "# Show model summary\n",
        "print(model.summary())\n",
        "plot_model(model, to_file='model.png')"
      ],
      "execution_count": null,
      "outputs": [
        {
          "output_type": "stream",
          "text": [
            "Model: \"model_9\"\n",
            "__________________________________________________________________________________________________\n",
            "Layer (type)                    Output Shape         Param #     Connected to                     \n",
            "==================================================================================================\n",
            "input_19 (InputLayer)           [(None, 1)]          0                                            \n",
            "__________________________________________________________________________________________________\n",
            "input_20 (InputLayer)           [(None, 1)]          0                                            \n",
            "__________________________________________________________________________________________________\n",
            "embedding_19 (Embedding)        (None, 1, 50)        30500       input_19[0][0]                   \n",
            "__________________________________________________________________________________________________\n",
            "embedding_21 (Embedding)        (None, 1, 50)        486200      input_20[0][0]                   \n",
            "__________________________________________________________________________________________________\n",
            "reshape_8 (Reshape)             (None, 50)           0           embedding_19[0][0]               \n",
            "__________________________________________________________________________________________________\n",
            "reshape_10 (Reshape)            (None, 50)           0           embedding_21[0][0]               \n",
            "__________________________________________________________________________________________________\n",
            "embedding_20 (Embedding)        (None, 1, 1)         610         input_19[0][0]                   \n",
            "__________________________________________________________________________________________________\n",
            "embedding_22 (Embedding)        (None, 1, 1)         9724        input_20[0][0]                   \n",
            "__________________________________________________________________________________________________\n",
            "concatenate_3 (Concatenate)     (None, 100)          0           reshape_8[0][0]                  \n",
            "                                                                 reshape_10[0][0]                 \n",
            "__________________________________________________________________________________________________\n",
            "reshape_9 (Reshape)             (None, 1)            0           embedding_20[0][0]               \n",
            "__________________________________________________________________________________________________\n",
            "reshape_11 (Reshape)            (None, 1)            0           embedding_22[0][0]               \n",
            "__________________________________________________________________________________________________\n",
            "add_1 (Add)                     (None, 100)          0           concatenate_3[0][0]              \n",
            "                                                                 reshape_9[0][0]                  \n",
            "                                                                 reshape_11[0][0]                 \n",
            "__________________________________________________________________________________________________\n",
            "dense_46 (Dense)                (None, 10)           1010        add_1[0][0]                      \n",
            "__________________________________________________________________________________________________\n",
            "dense_47 (Dense)                (None, 1)            11          dense_46[0][0]                   \n",
            "__________________________________________________________________________________________________\n",
            "lambda_2 (Lambda)               (None, 1)            0           dense_47[0][0]                   \n",
            "==================================================================================================\n",
            "Total params: 528,055\n",
            "Trainable params: 528,055\n",
            "Non-trainable params: 0\n",
            "__________________________________________________________________________________________________\n",
            "None\n"
          ],
          "name": "stdout"
        },
        {
          "output_type": "execute_result",
          "data": {
            "image/png": "[encoded data removed]",
            "text/plain": [
              "<IPython.core.display.Image object>"
            ]
          },
          "metadata": {
            "tags": []
          },
          "execution_count": 94
        }
      ]
    },
    {
      "cell_type": "code",
      "metadata": {
        "id": "kLCohrEv0Ngb",
        "colab": {
          "base_uri": "https://localhost:8080/",
          "height": 202
        },
        "outputId": "69691f1c-d58a-4388-fce6-bcd4ecb85d79"
      },
      "source": [
        "model.fit(x=[X_train[:,0], X_train[:,1]], y=y_train,\n",
        "          batch_size=64, epochs=5, verbose=1,\n",
        "          validation_data=([X_test[:,0], X_test[:,1]], y_test))"
      ],
      "execution_count": null,
      "outputs": [
        {
          "output_type": "stream",
          "text": [
            "Epoch 1/5\n",
            "1418/1418 [==============================] - 6s 4ms/step - loss: 0.8406 - root_mean_squared_error: 0.9168 - val_loss: 0.7791 - val_root_mean_squared_error: 0.8827\n",
            "Epoch 2/5\n",
            "1418/1418 [==============================] - 6s 4ms/step - loss: 0.6862 - root_mean_squared_error: 0.8284 - val_loss: 0.7653 - val_root_mean_squared_error: 0.8749\n",
            "Epoch 3/5\n",
            "1418/1418 [==============================] - 6s 4ms/step - loss: 0.6388 - root_mean_squared_error: 0.7992 - val_loss: 0.7747 - val_root_mean_squared_error: 0.8803\n",
            "Epoch 4/5\n",
            "1418/1418 [==============================] - 6s 4ms/step - loss: 0.6051 - root_mean_squared_error: 0.7779 - val_loss: 0.7803 - val_root_mean_squared_error: 0.8835\n",
            "Epoch 5/5\n",
            "1418/1418 [==============================] - 6s 4ms/step - loss: 0.5771 - root_mean_squared_error: 0.7597 - val_loss: 0.7858 - val_root_mean_squared_error: 0.8866\n"
          ],
          "name": "stdout"
        },
        {
          "output_type": "execute_result",
          "data": {
            "text/plain": [
              "<tensorflow.python.keras.callbacks.History at 0x7fb1d6ce6a20>"
            ]
          },
          "metadata": {
            "tags": []
          },
          "execution_count": 95
        }
      ]
    },
    {
      "cell_type": "markdown",
      "metadata": {
        "id": "qL_7ywjpzg5a"
      },
      "source": [
        "## Lesson 4: Use regularization to help model generalization\n"
      ]
    },
    {
      "cell_type": "markdown",
      "metadata": {
        "id": "jWabsp3bzmRM"
      },
      "source": [
        "## Learning Objectives\n",
        "- Learner will be able to incorporate Embedding regualization to help recommender system generalization.\n",
        "- Learner will be able to incorporate Dropout to help recommender system generalization."
      ]
    },
    {
      "cell_type": "markdown",
      "metadata": {
        "id": "Pmd1FPKhzxGq"
      },
      "source": [
        "## Excercise\n",
        "\n",
        "Add Embedding regularization"
      ]
    },
    {
      "cell_type": "markdown",
      "metadata": {
        "id": "NPKmA7Lez1Vy"
      },
      "source": [
        "## Answer"
      ]
    },
    {
      "cell_type": "code",
      "metadata": {
        "id": "HqcTiPgqz3wz",
        "colab": {
          "base_uri": "https://localhost:8080/",
          "height": 1000
        },
        "outputId": "98168305-f1a6-4059-f947-8eea13c50687"
      },
      "source": [
        "# Number of latent factors\n",
        "emb_sz = 50\n",
        "\n",
        "# User embeddings\n",
        "user = layers.Input(shape=(1,))\n",
        "user_emb = layers.Embedding(n_users, emb_sz, embeddings_regularizer=regularizers.l2(1e-6))(user)\n",
        "user_emb = layers.Reshape((emb_sz,))(user_emb)\n",
        "\n",
        "# User bias\n",
        "user_bias = layers.Embedding(n_users, 1, embeddings_regularizer=regularizers.l2(1e-6))(user)\n",
        "user_bias = layers.Reshape((1,))(user_bias)\n",
        "\n",
        "# Movie embeddings\n",
        "movie = layers.Input(shape=(1,))\n",
        "movie_emb = layers.Embedding(n_movies, emb_sz, embeddings_regularizer=regularizers.l2(1e-6))(movie)\n",
        "movie_emb = layers.Reshape((emb_sz,))(movie_emb)\n",
        "\n",
        "# Movie bias\n",
        "movie_bias = layers.Embedding(n_movies, 1, embeddings_regularizer=regularizers.l2(1e-6))(movie)\n",
        "movie_bias = layers.Reshape((1,))(movie_bias)\n",
        "\n",
        "# Dot product\n",
        "rating = layers.Concatenate()([user_emb, movie_emb])\n",
        "\n",
        "# Add biases\n",
        "rating = layers.Add()([rating, user_bias, movie_bias])\n",
        "rating = layers.Dense(10, activation='relu')(rating)\n",
        "rating = layers.Dense(1, activation='sigmoid')(rating)\n",
        "rating = layers.Lambda(lambda x:x*(max_rating - min_rating) + min_rating)(rating)\n",
        "\n",
        "# Model\n",
        "model = models.Model([user, movie], rating)\n",
        "\n",
        "# Compile the model\n",
        "model.compile(loss='mse',  metrics=metrics.RootMeanSquaredError(),\n",
        "              optimizer=optimizers.Adam(lr=0.001))\n",
        "\n",
        "# Show model summary\n",
        "print(model.summary())\n",
        "plot_model(model, to_file='model.png')"
      ],
      "execution_count": null,
      "outputs": [
        {
          "output_type": "stream",
          "text": [
            "Model: \"model_10\"\n",
            "__________________________________________________________________________________________________\n",
            "Layer (type)                    Output Shape         Param #     Connected to                     \n",
            "==================================================================================================\n",
            "input_21 (InputLayer)           [(None, 1)]          0                                            \n",
            "__________________________________________________________________________________________________\n",
            "input_22 (InputLayer)           [(None, 1)]          0                                            \n",
            "__________________________________________________________________________________________________\n",
            "embedding_23 (Embedding)        (None, 1, 50)        30500       input_21[0][0]                   \n",
            "__________________________________________________________________________________________________\n",
            "embedding_25 (Embedding)        (None, 1, 50)        486200      input_22[0][0]                   \n",
            "__________________________________________________________________________________________________\n",
            "reshape_12 (Reshape)            (None, 50)           0           embedding_23[0][0]               \n",
            "__________________________________________________________________________________________________\n",
            "reshape_14 (Reshape)            (None, 50)           0           embedding_25[0][0]               \n",
            "__________________________________________________________________________________________________\n",
            "embedding_24 (Embedding)        (None, 1, 1)         610         input_21[0][0]                   \n",
            "__________________________________________________________________________________________________\n",
            "embedding_26 (Embedding)        (None, 1, 1)         9724        input_22[0][0]                   \n",
            "__________________________________________________________________________________________________\n",
            "concatenate_4 (Concatenate)     (None, 100)          0           reshape_12[0][0]                 \n",
            "                                                                 reshape_14[0][0]                 \n",
            "__________________________________________________________________________________________________\n",
            "reshape_13 (Reshape)            (None, 1)            0           embedding_24[0][0]               \n",
            "__________________________________________________________________________________________________\n",
            "reshape_15 (Reshape)            (None, 1)            0           embedding_26[0][0]               \n",
            "__________________________________________________________________________________________________\n",
            "add_2 (Add)                     (None, 100)          0           concatenate_4[0][0]              \n",
            "                                                                 reshape_13[0][0]                 \n",
            "                                                                 reshape_15[0][0]                 \n",
            "__________________________________________________________________________________________________\n",
            "dense_48 (Dense)                (None, 10)           1010        add_2[0][0]                      \n",
            "__________________________________________________________________________________________________\n",
            "dense_49 (Dense)                (None, 1)            11          dense_48[0][0]                   \n",
            "__________________________________________________________________________________________________\n",
            "lambda_3 (Lambda)               (None, 1)            0           dense_49[0][0]                   \n",
            "==================================================================================================\n",
            "Total params: 528,055\n",
            "Trainable params: 528,055\n",
            "Non-trainable params: 0\n",
            "__________________________________________________________________________________________________\n",
            "None\n"
          ],
          "name": "stdout"
        },
        {
          "output_type": "execute_result",
          "data": {
            "image/png": "[encoded data removed]",
            "text/plain": [
              "<IPython.core.display.Image object>"
            ]
          },
          "metadata": {
            "tags": []
          },
          "execution_count": 96
        }
      ]
    },
    {
      "cell_type": "code",
      "metadata": {
        "id": "UIZBXYrQ0T_g",
        "colab": {
          "base_uri": "https://localhost:8080/",
          "height": 255
        },
        "outputId": "612ff9d2-0ba7-4bb8-c30d-b82f4c56246c"
      },
      "source": [
        "model.fit(x=[X_train[:,0], X_train[:,1]], y=y_train,\n",
        "          batch_size=64, epochs=5, verbose=1,\n",
        "          validation_data=([X_test[:,0], X_test[:,1]], y_test))"
      ],
      "execution_count": null,
      "outputs": [
        {
          "output_type": "stream",
          "text": [
            "Epoch 1/5\n"
          ],
          "name": "stdout"
        },
        {
          "output_type": "stream",
          "text": [
            "/usr/local/lib/python3.6/dist-packages/tensorflow/python/framework/indexed_slices.py:434: UserWarning: Converting sparse IndexedSlices to a dense Tensor of unknown shape. This may consume a large amount of memory.\n",
            "  \"Converting sparse IndexedSlices to a dense Tensor of unknown shape. \"\n"
          ],
          "name": "stderr"
        },
        {
          "output_type": "stream",
          "text": [
            "1418/1418 [==============================] - 5s 4ms/step - loss: 0.8321 - root_mean_squared_error: 0.9120 - val_loss: 0.7855 - val_root_mean_squared_error: 0.8860\n",
            "Epoch 2/5\n",
            "1418/1418 [==============================] - 5s 4ms/step - loss: 0.6844 - root_mean_squared_error: 0.8268 - val_loss: 0.7728 - val_root_mean_squared_error: 0.8785\n",
            "Epoch 3/5\n",
            "1418/1418 [==============================] - 6s 4ms/step - loss: 0.6352 - root_mean_squared_error: 0.7962 - val_loss: 0.7765 - val_root_mean_squared_error: 0.8805\n",
            "Epoch 4/5\n",
            "1418/1418 [==============================] - 7s 5ms/step - loss: 0.6029 - root_mean_squared_error: 0.7753 - val_loss: 0.7833 - val_root_mean_squared_error: 0.8840\n",
            "Epoch 5/5\n",
            "1418/1418 [==============================] - 5s 4ms/step - loss: 0.5768 - root_mean_squared_error: 0.7579 - val_loss: 0.7931 - val_root_mean_squared_error: 0.8893\n"
          ],
          "name": "stdout"
        },
        {
          "output_type": "execute_result",
          "data": {
            "text/plain": [
              "<tensorflow.python.keras.callbacks.History at 0x7fb1d7333828>"
            ]
          },
          "metadata": {
            "tags": []
          },
          "execution_count": 97
        }
      ]
    },
    {
      "cell_type": "markdown",
      "metadata": {
        "id": "ysus2Sj2z36E"
      },
      "source": [
        "## Excercise\n",
        "\n",
        "Add Dropout layer to the model"
      ]
    },
    {
      "cell_type": "code",
      "metadata": {
        "id": "dOxVQ4csz7iZ",
        "colab": {
          "base_uri": "https://localhost:8080/",
          "height": 1000
        },
        "outputId": "d189d995-cafb-434d-fd8c-b5c6f1a37376"
      },
      "source": [
        "# Number of latent factors\n",
        "emb_sz = 50\n",
        "\n",
        "# User embeddings\n",
        "user = layers.Input(shape=(1,))\n",
        "user_emb = layers.Embedding(n_users, emb_sz, embeddings_regularizer=regularizers.l2(1e-6))(user)\n",
        "user_emb = layers.Reshape((emb_sz,))(user_emb)\n",
        "\n",
        "# User bias\n",
        "user_bias = layers.Embedding(n_users, 1, embeddings_regularizer=regularizers.l2(1e-6))(user)\n",
        "user_bias = layers.Reshape((1,))(user_bias)\n",
        "\n",
        "# Movie embeddings\n",
        "movie = layers.Input(shape=(1,))\n",
        "movie_emb = layers.Embedding(n_movies, emb_sz, embeddings_regularizer=regularizers.l2(1e-6))(movie)\n",
        "movie_emb = layers.Reshape((emb_sz,))(movie_emb)\n",
        "\n",
        "# Movie bias\n",
        "movie_bias = layers.Embedding(n_movies, 1, embeddings_regularizer=regularizers.l2(1e-6))(movie)\n",
        "movie_bias = layers.Reshape((1,))(movie_bias)\n",
        "\n",
        "# Dot product\n",
        "rating = layers.Concatenate()([user_emb, movie_emb])\n",
        "\n",
        "# Add biases\n",
        "rating = layers.Add()([rating, user_bias, movie_bias])\n",
        "rating = layers.Dense(10, activation='relu')(rating)\n",
        "rating = layers.Dropout(0.5)(rating)\n",
        "rating = layers.Dense(1, activation='sigmoid')(rating)\n",
        "rating = layers.Lambda(lambda x:x*(max_rating - min_rating) + min_rating)(rating)\n",
        "\n",
        "# Model\n",
        "model = models.Model([user, movie], rating)\n",
        "\n",
        "# Compile the model\n",
        "model.compile(loss='mse',  metrics=metrics.RootMeanSquaredError(),\n",
        "              optimizer=optimizers.Adam(lr=0.001))\n",
        "\n",
        "# Show model summary\n",
        "print(model.summary())\n",
        "plot_model(model, to_file='model.png')"
      ],
      "execution_count": null,
      "outputs": [
        {
          "output_type": "stream",
          "text": [
            "Model: \"model_11\"\n",
            "__________________________________________________________________________________________________\n",
            "Layer (type)                    Output Shape         Param #     Connected to                     \n",
            "==================================================================================================\n",
            "input_23 (InputLayer)           [(None, 1)]          0                                            \n",
            "__________________________________________________________________________________________________\n",
            "input_24 (InputLayer)           [(None, 1)]          0                                            \n",
            "__________________________________________________________________________________________________\n",
            "embedding_27 (Embedding)        (None, 1, 50)        30500       input_23[0][0]                   \n",
            "__________________________________________________________________________________________________\n",
            "embedding_29 (Embedding)        (None, 1, 50)        486200      input_24[0][0]                   \n",
            "__________________________________________________________________________________________________\n",
            "reshape_16 (Reshape)            (None, 50)           0           embedding_27[0][0]               \n",
            "__________________________________________________________________________________________________\n",
            "reshape_18 (Reshape)            (None, 50)           0           embedding_29[0][0]               \n",
            "__________________________________________________________________________________________________\n",
            "embedding_28 (Embedding)        (None, 1, 1)         610         input_23[0][0]                   \n",
            "__________________________________________________________________________________________________\n",
            "embedding_30 (Embedding)        (None, 1, 1)         9724        input_24[0][0]                   \n",
            "__________________________________________________________________________________________________\n",
            "concatenate_5 (Concatenate)     (None, 100)          0           reshape_16[0][0]                 \n",
            "                                                                 reshape_18[0][0]                 \n",
            "__________________________________________________________________________________________________\n",
            "reshape_17 (Reshape)            (None, 1)            0           embedding_28[0][0]               \n",
            "__________________________________________________________________________________________________\n",
            "reshape_19 (Reshape)            (None, 1)            0           embedding_30[0][0]               \n",
            "__________________________________________________________________________________________________\n",
            "add_3 (Add)                     (None, 100)          0           concatenate_5[0][0]              \n",
            "                                                                 reshape_17[0][0]                 \n",
            "                                                                 reshape_19[0][0]                 \n",
            "__________________________________________________________________________________________________\n",
            "dense_50 (Dense)                (None, 10)           1010        add_3[0][0]                      \n",
            "__________________________________________________________________________________________________\n",
            "dropout (Dropout)               (None, 10)           0           dense_50[0][0]                   \n",
            "__________________________________________________________________________________________________\n",
            "dense_51 (Dense)                (None, 1)            11          dropout[0][0]                    \n",
            "__________________________________________________________________________________________________\n",
            "lambda_4 (Lambda)               (None, 1)            0           dense_51[0][0]                   \n",
            "==================================================================================================\n",
            "Total params: 528,055\n",
            "Trainable params: 528,055\n",
            "Non-trainable params: 0\n",
            "__________________________________________________________________________________________________\n",
            "None\n"
          ],
          "name": "stdout"
        },
        {
          "output_type": "execute_result",
          "data": {
            "image/png": "[encoded data removed]",
            "text/plain": [
              "<IPython.core.display.Image object>"
            ]
          },
          "metadata": {
            "tags": []
          },
          "execution_count": 98
        }
      ]
    },
    {
      "cell_type": "markdown",
      "metadata": {
        "id": "2lRfTcT3z7y6"
      },
      "source": [
        "## Answer"
      ]
    },
    {
      "cell_type": "code",
      "metadata": {
        "id": "Bq37kCJwz8y9",
        "colab": {
          "base_uri": "https://localhost:8080/",
          "height": 255
        },
        "outputId": "a3312fb9-3e2d-4e5f-df73-8e0c2c8cf16e"
      },
      "source": [
        "model.fit(x=[X_train[:,0], X_train[:,1]], y=y_train,\n",
        "          batch_size=64, epochs=5, verbose=1,\n",
        "          validation_data=([X_test[:,0], X_test[:,1]], y_test))"
      ],
      "execution_count": null,
      "outputs": [
        {
          "output_type": "stream",
          "text": [
            "Epoch 1/5\n"
          ],
          "name": "stdout"
        },
        {
          "output_type": "stream",
          "text": [
            "/usr/local/lib/python3.6/dist-packages/tensorflow/python/framework/indexed_slices.py:434: UserWarning: Converting sparse IndexedSlices to a dense Tensor of unknown shape. This may consume a large amount of memory.\n",
            "  \"Converting sparse IndexedSlices to a dense Tensor of unknown shape. \"\n"
          ],
          "name": "stderr"
        },
        {
          "output_type": "stream",
          "text": [
            "1418/1418 [==============================] - 5s 4ms/step - loss: 0.9589 - root_mean_squared_error: 0.9791 - val_loss: 0.7942 - val_root_mean_squared_error: 0.8908\n",
            "Epoch 2/5\n",
            "1418/1418 [==============================] - 5s 4ms/step - loss: 0.7692 - root_mean_squared_error: 0.8766 - val_loss: 0.7777 - val_root_mean_squared_error: 0.8813\n",
            "Epoch 3/5\n",
            "1418/1418 [==============================] - 5s 4ms/step - loss: 0.7311 - root_mean_squared_error: 0.8543 - val_loss: 0.7740 - val_root_mean_squared_error: 0.8791\n",
            "Epoch 4/5\n",
            "1418/1418 [==============================] - 5s 4ms/step - loss: 0.7090 - root_mean_squared_error: 0.8410 - val_loss: 0.7803 - val_root_mean_squared_error: 0.8824\n",
            "Epoch 5/5\n",
            "1418/1418 [==============================] - 5s 4ms/step - loss: 0.6982 - root_mean_squared_error: 0.8344 - val_loss: 0.7832 - val_root_mean_squared_error: 0.8838\n"
          ],
          "name": "stdout"
        },
        {
          "output_type": "execute_result",
          "data": {
            "text/plain": [
              "<tensorflow.python.keras.callbacks.History at 0x7fb1d826b710>"
            ]
          },
          "metadata": {
            "tags": []
          },
          "execution_count": 99
        }
      ]
    },
    {
      "cell_type": "markdown",
      "metadata": {
        "id": "DDnVz1pkh5hf"
      },
      "source": [
        "# References\n",
        "- https://developers.google.com/machine-learning/recommendation/overview\n",
        "- https://machinelearningmastery.com/use-word-embedding-layers-deep-learning-keras/\n",
        "- https://www.youtube.com/watch?v=gbceqO8PpBg&t=6893s\n",
        "- https://www.youtube.com/watch?v=qvRL74L81lg&t=1179s\n",
        "- https://github.com/jalajthanaki/Movie_recommendation_engine\n",
        "- https://www.datacamp.com/community/tutorials/recommender-systems-python?utm_source=adwords_ppc&utm_campaignid=1455363063&utm_adgroupid=65083631748&utm_device=c&utm_keyword=&utm_matchtype=b&utm_network=g&utm_adpostion=&utm_creative=332602034364&utm_targetid=aud-763347114660:dsa-473406569915&utm_loc_interest_ms=&utm_loc_physical_ms=9073656&gclid=Cj0KCQjws_r0BRCwARIsAMxfDRiqkUn4KsOkpT75T3HPhw8A68G6b36t0kpe0XFFLUt_QGcvVPV_u1saAkfMEALw_wcB"
      ]
    }
  ]
}