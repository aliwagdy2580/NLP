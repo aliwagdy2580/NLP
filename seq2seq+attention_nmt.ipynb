{
  "nbformat": 4,
  "nbformat_minor": 0,
  "metadata": {
    "colab": {
      "name": "seq2seq_nmt.ipynb",
      "provenance": [],
      "authorship_tag": "ABX9TyPgC8SXkEKXKs8cVS/hJSUA",
      "include_colab_link": true
    },
    "kernelspec": {
      "name": "python3",
      "display_name": "Python 3"
    },
    "language_info": {
      "name": "python"
    },
    "accelerator": "GPU"
  },
  "cells": [
    {
      "cell_type": "markdown",
      "metadata": {
        "id": "view-in-github",
        "colab_type": "text"
      },
      "source": [
        "<a href=\"https://colab.research.google.com/github/aliwagdy2580/NLP/blob/main/seq2seq%2Battention_nmt.ipynb\" target=\"_parent\"><img src=\"https://colab.research.google.com/assets/colab-badge.svg\" alt=\"Open In Colab\"/></a>"
      ]
    },
    {
      "cell_type": "markdown",
      "metadata": {
        "id": "IsLSt1W9pDG-"
      },
      "source": [
        "# Seq2seq models tutorial\n",
        "\n",
        "In this tutorial we go through the details of building seq2seq models in Keras, and explore different models for different problem setups.\n",
        "\n",
        "This tutorial includes:\n",
        "- Adding attention + visualization: Luong \n"
      ]
    },
    {
      "cell_type": "code",
      "metadata": {
        "id": "9k2YmYoKnnBh",
        "colab": {
          "base_uri": "https://localhost:8080/"
        },
        "outputId": "8bcef5b9-0597-4bba-fb0a-e6098932bf7e"
      },
      "source": [
        "import pandas as pd\n",
        "import numpy as np\n",
        "import string\n",
        "from string import digits\n",
        "import matplotlib.pyplot as plt\n",
        "import seaborn as sns\n",
        "%matplotlib inline\n",
        "import re\n",
        "from sklearn.model_selection import train_test_split\n",
        "import nltk\n",
        "nltk.download('punkt')\n",
        "\n",
        "from nltk.tokenize import word_tokenize\n",
        "\n",
        "from keras.layers import Input, LSTM, Embedding, Dense, Bidirectional, Concatenate, Dot, Activation, TimeDistributed\n",
        "from keras.models import Model\n"
      ],
      "execution_count": 1,
      "outputs": [
        {
          "output_type": "stream",
          "name": "stdout",
          "text": [
            "[nltk_data] Downloading package punkt to /root/nltk_data...\n",
            "[nltk_data]   Unzipping tokenizers/punkt.zip.\n"
          ]
        }
      ]
    },
    {
      "cell_type": "markdown",
      "metadata": {
        "id": "MgYRKLVHriWW"
      },
      "source": [
        "# Data loading"
      ]
    },
    {
      "cell_type": "code",
      "metadata": {
        "colab": {
          "base_uri": "https://localhost:8080/"
        },
        "id": "ADuphMW9q6S5",
        "outputId": "ebc2ad3d-6d66-4875-e129-424b0516bd55"
      },
      "source": [
        "!wget http://www.manythings.org/anki/fra-eng.zip\n",
        "!unzip fra-eng.zip -d fra-eng\n"
      ],
      "execution_count": 2,
      "outputs": [
        {
          "output_type": "stream",
          "name": "stdout",
          "text": [
            "--2021-09-04 16:20:56--  http://www.manythings.org/anki/fra-eng.zip\n",
            "Resolving www.manythings.org (www.manythings.org)... 172.67.186.54, 104.21.92.44, 2606:4700:3033::ac43:ba36, ...\n",
            "Connecting to www.manythings.org (www.manythings.org)|172.67.186.54|:80... connected.\n",
            "HTTP request sent, awaiting response... 200 OK\n",
            "Length: 6451478 (6.2M) [application/zip]\n",
            "Saving to: ‘fra-eng.zip’\n",
            "\n",
            "fra-eng.zip         100%[===================>]   6.15M  5.40MB/s    in 1.1s    \n",
            "\n",
            "2021-09-04 16:20:58 (5.40 MB/s) - ‘fra-eng.zip’ saved [6451478/6451478]\n",
            "\n",
            "Archive:  fra-eng.zip\n",
            "  inflating: fra-eng/_about.txt      \n",
            "  inflating: fra-eng/fra.txt         \n"
          ]
        }
      ]
    },
    {
      "cell_type": "code",
      "metadata": {
        "id": "hyMmolmprkKR"
      },
      "source": [
        "data_path = 'fra-eng/fra.txt'\n",
        "with open(data_path, 'r', encoding='utf-8') as f:\n",
        "    lines = f.read().split('\\n')\n",
        "inputs = []\n",
        "targets = []\n",
        "num_samples = 10000  # Number of samples to train on.\n",
        "for line in lines[: min(num_samples, len(lines) - 1)]:\n",
        "  input, target, _ = line.split('\\t')  \n",
        "  inputs.append(input)\n",
        "  targets.append(target)"
      ],
      "execution_count": 3,
      "outputs": []
    },
    {
      "cell_type": "code",
      "metadata": {
        "id": "F0lv_lKbslYy"
      },
      "source": [
        "lines=pd.DataFrame({'input':inputs,'target':targets})"
      ],
      "execution_count": 4,
      "outputs": []
    },
    {
      "cell_type": "code",
      "metadata": {
        "id": "Xf9UEEjrtiO4"
      },
      "source": [
        "num_samples = 10000\n",
        "lines = lines[0:num_samples]\n"
      ],
      "execution_count": 5,
      "outputs": []
    },
    {
      "cell_type": "code",
      "metadata": {
        "colab": {
          "base_uri": "https://localhost:8080/"
        },
        "id": "Js_FE4xtG_KA",
        "outputId": "94ebd5a2-ad8b-4aeb-c4c4-47d2bac6faeb"
      },
      "source": [
        "lines.shape"
      ],
      "execution_count": 6,
      "outputs": [
        {
          "output_type": "execute_result",
          "data": {
            "text/plain": [
              "(10000, 2)"
            ]
          },
          "metadata": {},
          "execution_count": 6
        }
      ]
    },
    {
      "cell_type": "code",
      "metadata": {
        "colab": {
          "base_uri": "https://localhost:8080/",
          "height": 349
        },
        "id": "oicoj3SyG_HF",
        "outputId": "5da95563-6c65-4485-a602-0634a854f202"
      },
      "source": [
        "lines.head(10)"
      ],
      "execution_count": 7,
      "outputs": [
        {
          "output_type": "execute_result",
          "data": {
            "text/html": [
              "<div>\n",
              "<style scoped>\n",
              "    .dataframe tbody tr th:only-of-type {\n",
              "        vertical-align: middle;\n",
              "    }\n",
              "\n",
              "    .dataframe tbody tr th {\n",
              "        vertical-align: top;\n",
              "    }\n",
              "\n",
              "    .dataframe thead th {\n",
              "        text-align: right;\n",
              "    }\n",
              "</style>\n",
              "<table border=\"1\" class=\"dataframe\">\n",
              "  <thead>\n",
              "    <tr style=\"text-align: right;\">\n",
              "      <th></th>\n",
              "      <th>input</th>\n",
              "      <th>target</th>\n",
              "    </tr>\n",
              "  </thead>\n",
              "  <tbody>\n",
              "    <tr>\n",
              "      <th>0</th>\n",
              "      <td>Go.</td>\n",
              "      <td>Va !</td>\n",
              "    </tr>\n",
              "    <tr>\n",
              "      <th>1</th>\n",
              "      <td>Go.</td>\n",
              "      <td>Marche.</td>\n",
              "    </tr>\n",
              "    <tr>\n",
              "      <th>2</th>\n",
              "      <td>Go.</td>\n",
              "      <td>Bouge !</td>\n",
              "    </tr>\n",
              "    <tr>\n",
              "      <th>3</th>\n",
              "      <td>Hi.</td>\n",
              "      <td>Salut !</td>\n",
              "    </tr>\n",
              "    <tr>\n",
              "      <th>4</th>\n",
              "      <td>Hi.</td>\n",
              "      <td>Salut.</td>\n",
              "    </tr>\n",
              "    <tr>\n",
              "      <th>5</th>\n",
              "      <td>Run!</td>\n",
              "      <td>Cours !</td>\n",
              "    </tr>\n",
              "    <tr>\n",
              "      <th>6</th>\n",
              "      <td>Run!</td>\n",
              "      <td>Courez !</td>\n",
              "    </tr>\n",
              "    <tr>\n",
              "      <th>7</th>\n",
              "      <td>Run!</td>\n",
              "      <td>Prenez vos jambes à vos cous !</td>\n",
              "    </tr>\n",
              "    <tr>\n",
              "      <th>8</th>\n",
              "      <td>Run!</td>\n",
              "      <td>File !</td>\n",
              "    </tr>\n",
              "    <tr>\n",
              "      <th>9</th>\n",
              "      <td>Run!</td>\n",
              "      <td>Filez !</td>\n",
              "    </tr>\n",
              "  </tbody>\n",
              "</table>\n",
              "</div>"
            ],
            "text/plain": [
              "  input                          target\n",
              "0   Go.                            Va !\n",
              "1   Go.                         Marche.\n",
              "2   Go.                         Bouge !\n",
              "3   Hi.                         Salut !\n",
              "4   Hi.                          Salut.\n",
              "5  Run!                         Cours !\n",
              "6  Run!                        Courez !\n",
              "7  Run!  Prenez vos jambes à vos cous !\n",
              "8  Run!                          File !\n",
              "9  Run!                         Filez !"
            ]
          },
          "metadata": {},
          "execution_count": 7
        }
      ]
    },
    {
      "cell_type": "markdown",
      "metadata": {
        "id": "0qH0UyxZKezV"
      },
      "source": [
        "# Data preparation"
      ]
    },
    {
      "cell_type": "code",
      "metadata": {
        "id": "Y6mjJU6-17dt"
      },
      "source": [
        "def cleanup(lines):\n",
        "  # Since we work on word level, if we normalize the text to lower case, this will reduce the vocabulary. It's easy to recover the case later. \n",
        "  lines.input=lines.input.apply(lambda x: x.lower())\n",
        "  lines.target=lines.target.apply(lambda x: x.lower())\n",
        "\n",
        "  # To help the model capture the word separations, mark the comma with special token:\n",
        "  lines.input=lines.input.apply(lambda x:re.sub(\"'\",'',x)).apply(lambda x: re.sub(\",\", ' COMMA', x))\n",
        "  lines.target=lines.target.apply(lambda x:re.sub(\"'\",'',x)).apply(lambda x: re.sub(\",\", ' COMMA', x))\n",
        "\n",
        "  # Clean up punctuations and digits. Such special chars are common to both domains, and can just be copied with no error.\n",
        "  exclude = set(string.punctuation)\n",
        "  lines.input=lines.input.apply(lambda x: ''.join(ch for ch in x if ch not in exclude))\n",
        "  lines.target=lines.target.apply(lambda x: ''.join(ch for ch in x if ch not in exclude))\n",
        "\n",
        "  remove_digits = str.maketrans('', '', digits)\n",
        "  lines.input=lines.input.apply(lambda x: x.translate(remove_digits))\n",
        "  lines.target=lines.target.apply(lambda x: x.translate(remove_digits))\n",
        "  #return lines\n",
        "    "
      ],
      "execution_count": 8,
      "outputs": []
    },
    {
      "cell_type": "code",
      "metadata": {
        "id": "B3NWR2S0FnGl"
      },
      "source": [
        "st_tok='START_'\n",
        "end_tok='_END'\n",
        "def data_prep(lines):\n",
        "  cleanup(lines)\n",
        "  lines.target=lines.target.apply(lambda x: st_tok + ' ' + x + ' ' + end_tok)"
      ],
      "execution_count": 9,
      "outputs": []
    },
    {
      "cell_type": "markdown",
      "metadata": {
        "id": "fKJpTFC9KjIt"
      },
      "source": [
        "To help the model identiy the start and end of sequence, we mark them by special tokens. This will help the decoding process later:"
      ]
    },
    {
      "cell_type": "code",
      "metadata": {
        "id": "gBUYKRpqFnJc"
      },
      "source": [
        "data_prep(lines)"
      ],
      "execution_count": 10,
      "outputs": []
    },
    {
      "cell_type": "code",
      "metadata": {
        "colab": {
          "base_uri": "https://localhost:8080/",
          "height": 349
        },
        "id": "zjllZhyqKE1c",
        "outputId": "da1fae42-a583-4a70-cd02-f9ac22701443"
      },
      "source": [
        "lines.head(10)"
      ],
      "execution_count": 11,
      "outputs": [
        {
          "output_type": "execute_result",
          "data": {
            "text/html": [
              "<div>\n",
              "<style scoped>\n",
              "    .dataframe tbody tr th:only-of-type {\n",
              "        vertical-align: middle;\n",
              "    }\n",
              "\n",
              "    .dataframe tbody tr th {\n",
              "        vertical-align: top;\n",
              "    }\n",
              "\n",
              "    .dataframe thead th {\n",
              "        text-align: right;\n",
              "    }\n",
              "</style>\n",
              "<table border=\"1\" class=\"dataframe\">\n",
              "  <thead>\n",
              "    <tr style=\"text-align: right;\">\n",
              "      <th></th>\n",
              "      <th>input</th>\n",
              "      <th>target</th>\n",
              "    </tr>\n",
              "  </thead>\n",
              "  <tbody>\n",
              "    <tr>\n",
              "      <th>0</th>\n",
              "      <td>go</td>\n",
              "      <td>START_ va  _END</td>\n",
              "    </tr>\n",
              "    <tr>\n",
              "      <th>1</th>\n",
              "      <td>go</td>\n",
              "      <td>START_ marche _END</td>\n",
              "    </tr>\n",
              "    <tr>\n",
              "      <th>2</th>\n",
              "      <td>go</td>\n",
              "      <td>START_ bouge  _END</td>\n",
              "    </tr>\n",
              "    <tr>\n",
              "      <th>3</th>\n",
              "      <td>hi</td>\n",
              "      <td>START_ salut  _END</td>\n",
              "    </tr>\n",
              "    <tr>\n",
              "      <th>4</th>\n",
              "      <td>hi</td>\n",
              "      <td>START_ salut _END</td>\n",
              "    </tr>\n",
              "    <tr>\n",
              "      <th>5</th>\n",
              "      <td>run</td>\n",
              "      <td>START_ cours  _END</td>\n",
              "    </tr>\n",
              "    <tr>\n",
              "      <th>6</th>\n",
              "      <td>run</td>\n",
              "      <td>START_ courez  _END</td>\n",
              "    </tr>\n",
              "    <tr>\n",
              "      <th>7</th>\n",
              "      <td>run</td>\n",
              "      <td>START_ prenez vos jambes à vos cous  _END</td>\n",
              "    </tr>\n",
              "    <tr>\n",
              "      <th>8</th>\n",
              "      <td>run</td>\n",
              "      <td>START_ file  _END</td>\n",
              "    </tr>\n",
              "    <tr>\n",
              "      <th>9</th>\n",
              "      <td>run</td>\n",
              "      <td>START_ filez  _END</td>\n",
              "    </tr>\n",
              "  </tbody>\n",
              "</table>\n",
              "</div>"
            ],
            "text/plain": [
              "  input                                     target\n",
              "0    go                            START_ va  _END\n",
              "1    go                         START_ marche _END\n",
              "2    go                         START_ bouge  _END\n",
              "3    hi                         START_ salut  _END\n",
              "4    hi                          START_ salut _END\n",
              "5   run                         START_ cours  _END\n",
              "6   run                        START_ courez  _END\n",
              "7   run  START_ prenez vos jambes à vos cous  _END\n",
              "8   run                          START_ file  _END\n",
              "9   run                         START_ filez  _END"
            ]
          },
          "metadata": {},
          "execution_count": 11
        }
      ]
    },
    {
      "cell_type": "markdown",
      "metadata": {
        "id": "7_Ple2P5KmVN"
      },
      "source": [
        "# Word level model (word2word)\n",
        "\n",
        "In this section we process the text at the word level, both for `input` and `target` domains."
      ]
    },
    {
      "cell_type": "code",
      "metadata": {
        "id": "hh5nJrDqFnML"
      },
      "source": [
        "def tok_split_word2word(data):\n",
        "  return data.split()"
      ],
      "execution_count": 12,
      "outputs": []
    },
    {
      "cell_type": "code",
      "metadata": {
        "id": "ealuqtopFtrc"
      },
      "source": [
        "tok_split_fn = tok_split_word2word"
      ],
      "execution_count": 13,
      "outputs": []
    },
    {
      "cell_type": "code",
      "metadata": {
        "id": "jgUaBMaMFtwi"
      },
      "source": [
        "def data_stats(lines, input_tok_split_fn, target_tok_split_fn):\n",
        "  input_tokens=set()\n",
        "  for line in lines.input:\n",
        "      for tok in input_tok_split_fn(line):\n",
        "          if tok not in input_tokens:\n",
        "              input_tokens.add(tok)\n",
        "      \n",
        "  target_tokens=set()\n",
        "  for line in lines.target:\n",
        "      for tok in target_tok_split_fn(line):\n",
        "          if tok not in target_tokens:\n",
        "              target_tokens.add(tok)\n",
        "  input_tokens = sorted(list(input_tokens))\n",
        "  target_tokens = sorted(list(target_tokens))\n",
        "\n",
        "  num_encoder_tokens = len(input_tokens)\n",
        "  num_decoder_tokens = len(target_tokens)\n",
        "  max_encoder_seq_length = np.max([len(input_tok_split_fn(l)) for l in lines.input])\n",
        "  max_decoder_seq_length = np.max([len(target_tok_split_fn(l)) for l in lines.target])\n",
        "\n",
        "  return input_tokens, target_tokens, num_encoder_tokens, num_decoder_tokens, max_encoder_seq_length, max_decoder_seq_length\n",
        "\n"
      ],
      "execution_count": 14,
      "outputs": []
    },
    {
      "cell_type": "code",
      "metadata": {
        "colab": {
          "base_uri": "https://localhost:8080/"
        },
        "id": "l28ARUZ_SVaR",
        "outputId": "8c910f9f-84d8-4c6d-8261-720ffe2c5fdb"
      },
      "source": [
        "input_tokens,target_tokens,num_encoder_tokens,num_decoder_tokens,max_encoder_seq_length,max_decoder_seq_length=data_stats(lines,input_tok_split_fn=tok_split_fn,target_tok_split_fn=tok_split_fn)\n",
        "print('Number of samples:', len(lines))\n",
        "print('Number of unique input tokens:', num_encoder_tokens)\n",
        "print('Number of unique output tokens:', num_decoder_tokens)\n",
        "print('Max sequence length for inputs:', max_encoder_seq_length)\n",
        "print('Max sequence length for outputs:', max_decoder_seq_length)"
      ],
      "execution_count": 15,
      "outputs": [
        {
          "output_type": "stream",
          "name": "stdout",
          "text": [
            "Number of samples: 10000\n",
            "Number of unique input tokens: 2017\n",
            "Number of unique output tokens: 4472\n",
            "Max sequence length for inputs: 5\n",
            "Max sequence length for outputs: 12\n"
          ]
        }
      ]
    },
    {
      "cell_type": "markdown",
      "metadata": {
        "id": "bCDYd0E0Vgzm"
      },
      "source": [
        "#Vocab"
      ]
    },
    {
      "cell_type": "markdown",
      "metadata": {
        "id": "fAn2yXnlVj3h"
      },
      "source": [
        "When building our vocab, we should keep a special entry for the PAD \n",
        "\n",
        "1.   List item\n",
        "2.   List item\n",
        "\n",
        "token, _always_ at the entry 0 of the vocab table. Of course this only happens when we pad with 0's. In general the padded token should be reserved, and NEVER used by any other token (otherwise we won't tell the difference between REAL 0 and PAD 0)."
      ]
    },
    {
      "cell_type": "code",
      "metadata": {
        "id": "Lt_7KwGPFtyg"
      },
      "source": [
        "pad_tok = 'PAD'\n",
        "sep_tok = ' '\n",
        "special_tokens = [pad_tok, sep_tok, st_tok, end_tok] \n",
        "num_encoder_tokens += len(special_tokens)\n",
        "num_decoder_tokens += len(special_tokens)"
      ],
      "execution_count": 16,
      "outputs": []
    },
    {
      "cell_type": "code",
      "metadata": {
        "id": "vPbomiK8FyZk"
      },
      "source": [
        "\n",
        "def vocab(input_tokens, target_tokens):\n",
        "  \n",
        "  input_token_index = {}\n",
        "  target_token_index = {}\n",
        "  for i,tok in enumerate(special_tokens):\n",
        "    input_token_index[tok] = i\n",
        "    target_token_index[tok] = i \n",
        "\n",
        "  offset = len(special_tokens)\n",
        "  for i, tok in enumerate(input_tokens):\n",
        "    input_token_index[tok] = i+offset\n",
        "\n",
        "  for i, tok in enumerate(target_tokens):\n",
        "    target_token_index[tok] = i+offset\n",
        "   \n",
        "  # Reverse-lookup token index to decode sequences back to something readable.\n",
        "  reverse_input_tok_index = dict(\n",
        "      (i, tok) for tok, i in input_token_index.items())\n",
        "  reverse_target_tok_index = dict(\n",
        "      (i, tok) for tok, i in target_token_index.items())\n",
        "  return input_token_index, target_token_index, reverse_input_tok_index, reverse_target_tok_index"
      ],
      "execution_count": 17,
      "outputs": []
    },
    {
      "cell_type": "code",
      "metadata": {
        "id": "GMug8-dTFycU"
      },
      "source": [
        "input_token_index, target_token_index, reverse_input_tok_index, reverse_target_tok_index = vocab(input_tokens, target_tokens)"
      ],
      "execution_count": 18,
      "outputs": []
    },
    {
      "cell_type": "markdown",
      "metadata": {
        "id": "yC1lu-ppY1JI"
      },
      "source": [
        "# Vectorization"
      ]
    },
    {
      "cell_type": "markdown",
      "metadata": {
        "id": "BJbnztywY1L3"
      },
      "source": [
        "Also, when we vectorize, if we pad 0 (or any token), we need to set the corresponding target.\n",
        "\n",
        "Below, we should set all `decoder_target_data` to the OHE corresponding the entry 0 (or whatever entry of PAD).\n",
        "\n",
        "For example, if we pad with 0, and 0 is the first entry in vocab, then it's `decoder_target_data` must be [1,0,0,....0].\n",
        "However, this is not needed if we use `mask_zero` in `Embedding`, or using a masking layer with LSTM, because those values wont be fed fwd anyway, and will not be considered in loss."
      ]
    },
    {
      "cell_type": "code",
      "metadata": {
        "id": "RjpfqwRlF3ab"
      },
      "source": [
        "max_encoder_seq_length = 16\n",
        "max_decoder_seq_length = 16"
      ],
      "execution_count": 19,
      "outputs": []
    },
    {
      "cell_type": "code",
      "metadata": {
        "id": "8npCTEaGF3c9"
      },
      "source": [
        "def init_model_inputs(lines, max_encoder_seq_length, max_decoder_seq_length, num_decoder_tokens):\n",
        "  encoder_input_data = np.zeros(\n",
        "      (len(lines.input), max_encoder_seq_length),\n",
        "      dtype='float32')\n",
        "  decoder_input_data = np.zeros(\n",
        "      (len(lines.target), max_decoder_seq_length),\n",
        "      dtype='float32')\n",
        "  decoder_target_data = np.zeros(\n",
        "      (len(lines.target), max_decoder_seq_length, num_decoder_tokens),\n",
        "      dtype='float32')\n",
        "  \n",
        "  return encoder_input_data, decoder_input_data, decoder_target_data"
      ],
      "execution_count": 20,
      "outputs": []
    },
    {
      "cell_type": "code",
      "metadata": {
        "id": "ZyfeW6UAK1ZQ"
      },
      "source": [
        "  encoder_input_data, decoder_input_data, decoder_target_data = init_model_inputs(lines, max_encoder_seq_length, max_decoder_seq_length, num_decoder_tokens)\n"
      ],
      "execution_count": 21,
      "outputs": []
    },
    {
      "cell_type": "code",
      "metadata": {
        "id": "4zZLDOeifMyv"
      },
      "source": [
        "def vectorize(lines, max_encoder_seq_length, max_decoder_seq_length, num_decoder_tokens, input_tok_split_fn, target_tok_split_fn):\n",
        "  encoder_input_data, decoder_input_data, decoder_target_data = init_model_inputs(lines, max_encoder_seq_length, max_decoder_seq_length, num_decoder_tokens)\n",
        "  for i, (input_text, target_text) in enumerate(zip(lines.input, lines.target)):\n",
        "      for t, tok in enumerate(input_tok_split_fn(input_text)):\n",
        "          encoder_input_data[i, t] = input_token_index[tok]\n",
        "      encoder_input_data[i, t+1:] = input_token_index[pad_tok]\n",
        "      for t, tok in enumerate(target_tok_split_fn(target_text)):\n",
        "          # decoder_target_data is ahead of decoder_input_data by one timestep\n",
        "          decoder_input_data[i, t] = target_token_index[tok]         \n",
        "          if t > 0:\n",
        "              # decoder_target_data will be ahead by one timestep\n",
        "              # and will not include the start character.\n",
        "              decoder_target_data[i, t - 1, target_token_index[tok]] = 1.\n",
        "      decoder_input_data[i, t+1:] = target_token_index[pad_tok] \n",
        "      decoder_target_data[i, t:, target_token_index[pad_tok]] = 1.          \n",
        "              \n",
        "  return encoder_input_data, decoder_input_data, decoder_target_data              "
      ],
      "execution_count": 22,
      "outputs": []
    },
    {
      "cell_type": "code",
      "metadata": {
        "id": "lhSOAQU5F3mM"
      },
      "source": [
        "encoder_input_data, decoder_input_data, decoder_target_data  = vectorize(lines, max_encoder_seq_length, max_decoder_seq_length, num_decoder_tokens, input_tok_split_fn=tok_split_fn, target_tok_split_fn=tok_split_fn)"
      ],
      "execution_count": 23,
      "outputs": []
    },
    {
      "cell_type": "markdown",
      "metadata": {
        "id": "V4z4mLCTlfec"
      },
      "source": [
        "# seq2seq + Attention\n",
        "\n",
        "The vanilla seq2seq suffers a severe drawback, all the decoded outputs are initiated from the _final_ internal state of the encoder. The objective is to mimic the reading process in humans, where the whole sequence is comprehended first, then translation (decoding) happens based on that. \n",
        "\n",
        "However, it is clear that, even we as humans will not generate the whole translations without looking back at the _concerned_ parts of the input text. In other words, every translated word is usually generated by _attending_ to certain words in the input, in sequence.\n",
        "\n",
        "So it is better to _condition_ the decoded words on certain words of the input. But who decides which words to attend to when generating/decoding output word?\n",
        "\n",
        "The decoder LSTM will have the following inputs:\n",
        "- previous outputs $y_{t-1}$\n",
        "- state composed of concatenation of:\n",
        "\n",
        "1- previous state $s_{t-1}$ = $[h_{t-1}, C_{t-1}]$\n",
        "\n",
        "2- context vector $c_t$ = weighted/gated encoder states $h_j$ = $\\sum_{j=0}^{j=T} \\alpha_{tj}h_j$ \n",
        "\n",
        "$\\alpha_{tj}$ are the ___attention___ weights. Those can be visualized as the importance of input word $j$ when decoding output word $t$:\n",
        "\n",
        "![att_map](https://miro.medium.com/max/6400/1*T6oosC9Y9vS5AIh4GzcsNQ.png)\n",
        "\n",
        "\n",
        "__How to find those weights?__\n",
        "\n",
        "The alphas can be learnable. However, they must be related somehow to the simialrity between input word $j$ and output word $t$.\n",
        "\n",
        "In the paper [Neural Machine Translation by Jointly Learning to Align and Translate](https://arxiv.org/abs/1409.0473), this simialrity measure was _leaned_ using a feedforward NN $a$, which generates a score $e_{tj}$ based on leanable weights over the last decoder state and the encoder state: $e_{tj} = a(s_{t-1}, h_j)$. Those scores are then normalized via simple _softmax_.\n",
        "\n",
        "\n"
      ]
    },
    {
      "cell_type": "markdown",
      "metadata": {
        "id": "ZDw57pUvUX3E"
      },
      "source": [
        "## Luong attention\n",
        "In [Effective Approaches to Attention-based Neural Machine Translation](https://arxiv.org/abs/1508.04025), other simialrity measures are studied to encode the _attention map weights_ or $\\alpha_{tj}$. Three simialrity scores $e_{tj}$are studied:\n",
        "- general = weighted dot product\n",
        "- concat = Bahdanau (weighted dot + tanh)\n",
        "- dot = simple dot product\n",
        "\n",
        "Again, the alphas are just simple softmax: $\\alpha_{tj} = softmax(e_{tj})$ over $j \\in [0,T]$ in the encoder state $h_j$\n",
        "Moreover, in Bahdanaus, in Bi-LSTM, both directions states are concatenated. While in Luong, only the top one is used.\n",
        "\n",
        "![Luing_vs_Bahdanau](https://miro.medium.com/max/1184/1*KBKsDHiUBM__dxRV31wZpw.png)\n",
        "\n",
        "In our experiments, we adopt the simpler Luong, with dot configuration."
      ]
    },
    {
      "cell_type": "code",
      "metadata": {
        "id": "YcSw55d3Fyer"
      },
      "source": [
        "emb_sz = 256"
      ],
      "execution_count": 24,
      "outputs": []
    },
    {
      "cell_type": "code",
      "metadata": {
        "id": "V1yI39ENWoF4"
      },
      "source": [
        "def seq2seq_attention(num_encoder_tokens, num_decoder_tokens, emb_sz, latent_dim):\n",
        "    # Define an input sequence and process it.\n",
        "    encoder_inputs = Input(shape=(None,), dtype='float32')\n",
        "    encoder_inputs_ = Embedding(num_encoder_tokens, emb_sz, mask_zero=True)(encoder_inputs)    \n",
        "    \n",
        "    encoder = Bidirectional(LSTM(latent_dim, return_state=True, return_sequences=True)) # init LSTM  forword and LSTM backword\n",
        "    encoder_outputs, state_f_h, state_f_c, state_b_h, state_b_c = encoder(encoder_inputs_)# Bi LSTM\n",
        "    state_h = Concatenate()([state_f_h, state_b_h])# Bi LSTM\n",
        "    state_c = Concatenate()([state_f_c, state_b_c])# Bi LSTM\n",
        "\n",
        "    # We discard `encoder_outputs` and only keep the states.\n",
        "    encoder_states = [state_h, state_c]# Bi GRU, LSTM, BHi LSTM\n",
        "    \n",
        "    decoder_inputs = Input(shape=(None,))\n",
        "    decoder_inputs_ = Embedding(num_decoder_tokens, emb_sz, mask_zero=True)(decoder_inputs)    \n",
        "    # We set up our decoder to return full output sequences,\n",
        "    # and to return internal states as well. We don't use the\n",
        "    # return states in the training model, but we will use them in inference.\n",
        "    decoder_lstm = LSTM(latent_dim*2, return_sequences=True, return_state=True)# Bi LSTM\n",
        "    \n",
        "    decoder_outputs, _, _ = decoder_lstm(decoder_inputs_, initial_state=encoder_states)\n",
        "\n",
        "    # Equation (7) with 'dot' score from Section 3.1 in the paper.\n",
        "    # Note that we reuse Softmax-activation layer instead of writing tensor calculation\n",
        "    \n",
        "    att_dot = Dot(axes=[2, 2])\n",
        "    attention = att_dot([decoder_outputs, encoder_outputs])\n",
        "    att_activation = Activation('softmax', name='attention')\n",
        "    attention = att_activation(attention)\n",
        "    context_dot = Dot(axes=[2,1])\n",
        "    context = context_dot([attention, encoder_outputs])\n",
        "    att_context_concat = Concatenate()\n",
        "    decoder_combined_context = att_context_concat([context, decoder_outputs])\n",
        "\n",
        "    # Has another weight + tanh layer as described in equation (5) of the paper\n",
        "\n",
        "    decoder_dense = Dense(num_decoder_tokens, activation='softmax')\n",
        "    #decoder_outputs = decoder_dense(decoder_outputs)\n",
        "    decoder_outputs = decoder_dense(decoder_combined_context)\n",
        "\n",
        "    # Define the model that will turn\n",
        "    # `encoder_input_data` & `decoder_input_data` into `decoder_target_data`\n",
        "    model = Model([encoder_inputs, decoder_inputs], decoder_outputs)\n",
        "\n",
        "    model.compile(optimizer='rmsprop', loss='categorical_crossentropy', metrics=['acc'])\n",
        "\n",
        "    print('encoder-decoder  model:')\n",
        "    print(model.summary()) \n",
        "    \n",
        "    encoder_model = Model(encoder_inputs, [encoder_outputs] + encoder_states)\n",
        "\n",
        "    decoder_encoder_inputs = Input(shape=(None, latent_dim*2,)) \n",
        "    decoder_state_input_h = Input(shape=(latent_dim*2,))# Bi LSTM\n",
        "    decoder_state_input_c = Input(shape=(latent_dim*2,)) # Bi LSTM\n",
        "    \n",
        "    decoder_states_inputs = [decoder_state_input_h, decoder_state_input_c]# state vector from encoder\n",
        "    \n",
        "    decoder_outputs, state_h, state_c = decoder_lstm(decoder_inputs_, initial_state=decoder_states_inputs)\n",
        "\n",
        "    \n",
        "    decoder_states = [state_h, state_c]\n",
        "    \n",
        "    # Equation (7) with 'dot' score from Section 3.1 in the paper.\n",
        "    # Note that we reuse Softmax-activation layer instead of writing tensor calculation\n",
        "    \n",
        "    attention = att_dot([decoder_outputs, decoder_encoder_inputs])\n",
        "    \n",
        "    attention = att_activation(attention)\n",
        "    \n",
        "    context = context_dot([attention, decoder_encoder_inputs])\n",
        "    \n",
        "    \n",
        "    \n",
        "    decoder_combined_context = att_context_concat([context, decoder_outputs])\n",
        "    \n",
        "    # Has another weight + tanh layer as described in equation (5) of the paper\n",
        "    \n",
        "    decoder_outputs = decoder_dense(decoder_combined_context)\n",
        "    \n",
        "    decoder_model = Model(\n",
        "        [decoder_inputs, decoder_encoder_inputs] + decoder_states_inputs,\n",
        "        [decoder_outputs, attention] + decoder_states)\n",
        "    \n",
        "    return model, encoder_model, decoder_model"
      ],
      "execution_count": 25,
      "outputs": []
    },
    {
      "cell_type": "code",
      "metadata": {
        "id": "T79DtmrgLjPQ",
        "outputId": "61688d5c-e301-4250-8189-4214474014c2",
        "colab": {
          "base_uri": "https://localhost:8080/"
        }
      },
      "source": [
        "model, encoder_model, decoder_model = seq2seq_attention(num_encoder_tokens, num_decoder_tokens, emb_sz=emb_sz, latent_dim=emb_sz)\n"
      ],
      "execution_count": 26,
      "outputs": [
        {
          "output_type": "stream",
          "name": "stdout",
          "text": [
            "encoder-decoder  model:\n",
            "Model: \"model\"\n",
            "__________________________________________________________________________________________________\n",
            "Layer (type)                    Output Shape         Param #     Connected to                     \n",
            "==================================================================================================\n",
            "input_1 (InputLayer)            [(None, None)]       0                                            \n",
            "__________________________________________________________________________________________________\n",
            "embedding (Embedding)           (None, None, 256)    517376      input_1[0][0]                    \n",
            "__________________________________________________________________________________________________\n",
            "input_2 (InputLayer)            [(None, None)]       0                                            \n",
            "__________________________________________________________________________________________________\n",
            "bidirectional (Bidirectional)   [(None, None, 512),  1050624     embedding[0][0]                  \n",
            "__________________________________________________________________________________________________\n",
            "embedding_1 (Embedding)         (None, None, 256)    1145856     input_2[0][0]                    \n",
            "__________________________________________________________________________________________________\n",
            "concatenate (Concatenate)       (None, 512)          0           bidirectional[0][1]              \n",
            "                                                                 bidirectional[0][3]              \n",
            "__________________________________________________________________________________________________\n",
            "concatenate_1 (Concatenate)     (None, 512)          0           bidirectional[0][2]              \n",
            "                                                                 bidirectional[0][4]              \n",
            "__________________________________________________________________________________________________\n",
            "lstm_1 (LSTM)                   [(None, None, 512),  1574912     embedding_1[0][0]                \n",
            "                                                                 concatenate[0][0]                \n",
            "                                                                 concatenate_1[0][0]              \n",
            "__________________________________________________________________________________________________\n",
            "dot (Dot)                       (None, None, None)   0           lstm_1[0][0]                     \n",
            "                                                                 bidirectional[0][0]              \n",
            "__________________________________________________________________________________________________\n",
            "attention (Activation)          (None, None, None)   0           dot[0][0]                        \n",
            "__________________________________________________________________________________________________\n",
            "dot_1 (Dot)                     (None, None, 512)    0           attention[0][0]                  \n",
            "                                                                 bidirectional[0][0]              \n",
            "__________________________________________________________________________________________________\n",
            "concatenate_2 (Concatenate)     (None, None, 1024)   0           dot_1[0][0]                      \n",
            "                                                                 lstm_1[0][0]                     \n",
            "__________________________________________________________________________________________________\n",
            "dense (Dense)                   (None, None, 4476)   4587900     concatenate_2[0][0]              \n",
            "==================================================================================================\n",
            "Total params: 8,876,668\n",
            "Trainable params: 8,876,668\n",
            "Non-trainable params: 0\n",
            "__________________________________________________________________________________________________\n",
            "None\n",
            "Model: \"model\"\n",
            "__________________________________________________________________________________________________\n",
            "Layer (type)                    Output Shape         Param #     Connected to                     \n",
            "==================================================================================================\n",
            "input_1 (InputLayer)            [(None, None)]       0                                            \n",
            "__________________________________________________________________________________________________\n",
            "embedding (Embedding)           (None, None, 256)    517376      input_1[0][0]                    \n",
            "__________________________________________________________________________________________________\n",
            "input_2 (InputLayer)            [(None, None)]       0                                            \n",
            "__________________________________________________________________________________________________\n",
            "bidirectional (Bidirectional)   [(None, None, 512),  1050624     embedding[0][0]                  \n",
            "__________________________________________________________________________________________________\n",
            "embedding_1 (Embedding)         (None, None, 256)    1145856     input_2[0][0]                    \n",
            "__________________________________________________________________________________________________\n",
            "concatenate (Concatenate)       (None, 512)          0           bidirectional[0][1]              \n",
            "                                                                 bidirectional[0][3]              \n",
            "__________________________________________________________________________________________________\n",
            "concatenate_1 (Concatenate)     (None, 512)          0           bidirectional[0][2]              \n",
            "                                                                 bidirectional[0][4]              \n",
            "__________________________________________________________________________________________________\n",
            "lstm_1 (LSTM)                   [(None, None, 512),  1574912     embedding_1[0][0]                \n",
            "                                                                 concatenate[0][0]                \n",
            "                                                                 concatenate_1[0][0]              \n",
            "__________________________________________________________________________________________________\n",
            "dot (Dot)                       (None, None, None)   0           lstm_1[0][0]                     \n",
            "                                                                 bidirectional[0][0]              \n",
            "__________________________________________________________________________________________________\n",
            "attention (Activation)          (None, None, None)   0           dot[0][0]                        \n",
            "__________________________________________________________________________________________________\n",
            "dot_1 (Dot)                     (None, None, 512)    0           attention[0][0]                  \n",
            "                                                                 bidirectional[0][0]              \n",
            "__________________________________________________________________________________________________\n",
            "concatenate_2 (Concatenate)     (None, None, 1024)   0           dot_1[0][0]                      \n",
            "                                                                 lstm_1[0][0]                     \n",
            "__________________________________________________________________________________________________\n",
            "dense (Dense)                   (None, None, 4476)   4587900     concatenate_2[0][0]              \n",
            "==================================================================================================\n",
            "Total params: 8,876,668\n",
            "Trainable params: 8,876,668\n",
            "Non-trainable params: 0\n",
            "__________________________________________________________________________________________________\n",
            "None\n"
          ]
        }
      ]
    },
    {
      "cell_type": "code",
      "metadata": {
        "id": "j0EseJdCLjSW",
        "outputId": "90aa0f97-8bd7-47e4-d740-70051cd3fcdb",
        "colab": {
          "base_uri": "https://localhost:8080/"
        }
      },
      "source": [
        "model.fit([encoder_input_data, decoder_input_data], decoder_target_data,\n",
        "          batch_size=128,\n",
        "          epochs=20,\n",
        "          validation_split=0.05)"
      ],
      "execution_count": 27,
      "outputs": [
        {
          "output_type": "stream",
          "name": "stdout",
          "text": [
            "Epoch 1/20\n",
            "75/75 [==============================] - 29s 145ms/step - loss: 1.4079 - acc: 0.3775 - val_loss: 1.4800 - val_acc: 0.3759\n",
            "Epoch 2/20\n",
            "75/75 [==============================] - 6s 84ms/step - loss: 1.0498 - acc: 0.4894 - val_loss: 1.3601 - val_acc: 0.4549\n",
            "Epoch 3/20\n",
            "75/75 [==============================] - 6s 84ms/step - loss: 0.9055 - acc: 0.5411 - val_loss: 1.2852 - val_acc: 0.4900\n",
            "Epoch 4/20\n",
            "75/75 [==============================] - 6s 84ms/step - loss: 0.8031 - acc: 0.5753 - val_loss: 1.2176 - val_acc: 0.5165\n",
            "Epoch 5/20\n",
            "75/75 [==============================] - 6s 84ms/step - loss: 0.7213 - acc: 0.6002 - val_loss: 1.2076 - val_acc: 0.5336\n",
            "Epoch 6/20\n",
            "75/75 [==============================] - 6s 84ms/step - loss: 0.6522 - acc: 0.6225 - val_loss: 1.1756 - val_acc: 0.5447\n",
            "Epoch 7/20\n",
            "75/75 [==============================] - 6s 85ms/step - loss: 0.5918 - acc: 0.6441 - val_loss: 1.1573 - val_acc: 0.5515\n",
            "Epoch 8/20\n",
            "75/75 [==============================] - 6s 85ms/step - loss: 0.5371 - acc: 0.6645 - val_loss: 1.1520 - val_acc: 0.5461\n",
            "Epoch 9/20\n",
            "75/75 [==============================] - 6s 83ms/step - loss: 0.4885 - acc: 0.6850 - val_loss: 1.1456 - val_acc: 0.5494\n",
            "Epoch 10/20\n",
            "75/75 [==============================] - 6s 83ms/step - loss: 0.4448 - acc: 0.7023 - val_loss: 1.1521 - val_acc: 0.5529\n",
            "Epoch 11/20\n",
            "75/75 [==============================] - 6s 83ms/step - loss: 0.4056 - acc: 0.7217 - val_loss: 1.1371 - val_acc: 0.5597\n",
            "Epoch 12/20\n",
            "75/75 [==============================] - 6s 83ms/step - loss: 0.3699 - acc: 0.7366 - val_loss: 1.1461 - val_acc: 0.5633\n",
            "Epoch 13/20\n",
            "75/75 [==============================] - 6s 83ms/step - loss: 0.3382 - acc: 0.7499 - val_loss: 1.1474 - val_acc: 0.5615\n",
            "Epoch 14/20\n",
            "75/75 [==============================] - 6s 83ms/step - loss: 0.3094 - acc: 0.7678 - val_loss: 1.1376 - val_acc: 0.5751\n",
            "Epoch 15/20\n",
            "75/75 [==============================] - 6s 84ms/step - loss: 0.2838 - acc: 0.7806 - val_loss: 1.1464 - val_acc: 0.5665\n",
            "Epoch 16/20\n",
            "75/75 [==============================] - 6s 84ms/step - loss: 0.2605 - acc: 0.7928 - val_loss: 1.1583 - val_acc: 0.5647\n",
            "Epoch 17/20\n",
            "75/75 [==============================] - 6s 83ms/step - loss: 0.2404 - acc: 0.8052 - val_loss: 1.1510 - val_acc: 0.5722\n",
            "Epoch 18/20\n",
            "75/75 [==============================] - 6s 83ms/step - loss: 0.2222 - acc: 0.8147 - val_loss: 1.1580 - val_acc: 0.5687\n",
            "Epoch 19/20\n",
            "75/75 [==============================] - 6s 83ms/step - loss: 0.2072 - acc: 0.8226 - val_loss: 1.1713 - val_acc: 0.5762\n",
            "Epoch 20/20\n",
            "75/75 [==============================] - 6s 82ms/step - loss: 0.1930 - acc: 0.8296 - val_loss: 1.1728 - val_acc: 0.5694\n"
          ]
        },
        {
          "output_type": "execute_result",
          "data": {
            "text/plain": [
              "<keras.callbacks.History at 0x7fc5bc15ef50>"
            ]
          },
          "metadata": {},
          "execution_count": 27
        }
      ]
    },
    {
      "cell_type": "code",
      "metadata": {
        "id": "5Y794XPYpKba"
      },
      "source": [
        "def decode_sequence_attention(input_seq, sep=' '):\n",
        "    # Encode the input as state vectors.\n",
        "    encoder_outputs, h, c = encoder_model.predict(input_seq)\n",
        "    states_value = [h,c]\n",
        "    # Generate empty target sequence of length 1.\n",
        "    target_seq = np.zeros((1,1))\n",
        "    # Populate the first character of target sequence with the start character.\n",
        "    target_seq[0, 0] = target_token_index[st_tok]\n",
        "\n",
        "    # Sampling loop for a batch of sequences\n",
        "    # (to simplify, here we assume a batch of size 1).\n",
        "    stop_condition = False\n",
        "    decoded_sentence = ''\n",
        "    \n",
        "    attention_density = []\n",
        "    \n",
        "    while not stop_condition:\n",
        "        output_tokens, attention, h, c  = decoder_model.predict(\n",
        "            [target_seq, encoder_outputs] + states_value)\n",
        "        attention_density.append(attention[0][0])# attention is max_sent_len x 1 since we have num_time_steps = 1 for the output\n",
        "        # Sample a token\n",
        "        print('++++++++++++++++++++++++++++++++')\n",
        "        print('output_tokens: ',output_tokens)\n",
        "        print('--------------------------------')\n",
        "        sampled_token_index = np.argmax(output_tokens[0, -1, :])\n",
        "        print('sampled_token_index : ',sampled_token_index)\n",
        "        sampled_tok = reverse_target_tok_index[sampled_token_index]\n",
        "        print('================================')\n",
        "        print('sampled_tok : ',sampled_tok)\n",
        "        decoded_sentence += sep + sampled_tok\n",
        "\n",
        "        # Exit condition: either hit max length\n",
        "        # or find stop character.\n",
        "        if (sampled_tok == end_tok or\n",
        "           len(decoded_sentence) > 52):\n",
        "            stop_condition = True\n",
        "\n",
        "        # Update the target sequence (of length 1).\n",
        "        target_seq = np.zeros((1,1))\n",
        "        target_seq[0, 0] = sampled_token_index\n",
        "\n",
        "        # Update states\n",
        "        states_value = [h, c]\n",
        "    attention_density = np.array(attention_density)\n",
        "    print('====================')\n",
        "    print('attention_density : ',attention_density)\n",
        "    return decoded_sentence, attention_density"
      ],
      "execution_count": 38,
      "outputs": []
    },
    {
      "cell_type": "code",
      "metadata": {
        "id": "3A7PJmlsssuE",
        "outputId": "2b7d6570-64ad-447b-ee9f-e96bed5729d7",
        "colab": {
          "base_uri": "https://localhost:8080/"
        }
      },
      "source": [
        "word_decoded_sents = []\n",
        "for seq_index in range(5): #[14077,20122,40035,40064, 40056, 40068, 40090, 40095, 40100, 40119, 40131, 40136, 40150, 40153]:\n",
        "    input_seq = encoder_input_data[seq_index: seq_index + 1]\n",
        "    decoded_sentence, attention = decode_sequence_attention(input_seq)\n",
        "    print('-')\n",
        "    print('Input sentence:', lines.input[seq_index: seq_index + 1])\n",
        "    print('Decoded sentence:', decoded_sentence)\n",
        "    word_decoded_sents.append(decoded_sentence)"
      ],
      "execution_count": 39,
      "outputs": [
        {
          "output_type": "stream",
          "name": "stdout",
          "text": [
            "++++++++++++++++++++++++++++++++\n",
            "output_tokens:  [[[2.84576274e-09 1.09485455e-07 1.02550011e-07 ... 6.61186368e-06\n",
            "   7.47031982e-06 1.33756243e-04]]]\n",
            "--------------------------------\n",
            "sampled_token_index :  4184\n",
            "================================\n",
            "sampled_tok :  va\n",
            "++++++++++++++++++++++++++++++++\n",
            "output_tokens:  [[[4.5718851e-10 2.7628603e-08 3.1290114e-08 ... 4.3029883e-07\n",
            "   1.0578457e-09 2.8898071e-09]]]\n",
            "--------------------------------\n",
            "sampled_token_index :  6\n",
            "================================\n",
            "sampled_tok :  _END\n",
            "====================\n",
            "attention_density :  [[1.0000000e+00 1.1343488e-26 1.1343488e-26 1.1343488e-26 1.1343488e-26\n",
            "  1.1343488e-26 1.1343488e-26 1.1343488e-26 1.1343488e-26 1.1343488e-26\n",
            "  1.1343488e-26 1.1343488e-26 1.1343488e-26 1.1343488e-26 1.1343488e-26\n",
            "  1.1343488e-26]\n",
            " [1.0000000e+00 8.5344236e-15 8.5344236e-15 8.5344236e-15 8.5344236e-15\n",
            "  8.5344236e-15 8.5344236e-15 8.5344236e-15 8.5344236e-15 8.5344236e-15\n",
            "  8.5344236e-15 8.5344236e-15 8.5344236e-15 8.5344236e-15 8.5344236e-15\n",
            "  8.5344236e-15]]\n",
            "-\n",
            "Input sentence: 0    go\n",
            "Name: input, dtype: object\n",
            "Decoded sentence:  va _END\n",
            "++++++++++++++++++++++++++++++++\n",
            "output_tokens:  [[[2.84576274e-09 1.09485455e-07 1.02550011e-07 ... 6.61186368e-06\n",
            "   7.47031982e-06 1.33756243e-04]]]\n",
            "--------------------------------\n",
            "sampled_token_index :  4184\n",
            "================================\n",
            "sampled_tok :  va\n",
            "++++++++++++++++++++++++++++++++\n",
            "output_tokens:  [[[4.5718851e-10 2.7628603e-08 3.1290114e-08 ... 4.3029883e-07\n",
            "   1.0578457e-09 2.8898071e-09]]]\n",
            "--------------------------------\n",
            "sampled_token_index :  6\n",
            "================================\n",
            "sampled_tok :  _END\n",
            "====================\n",
            "attention_density :  [[1.0000000e+00 1.1343488e-26 1.1343488e-26 1.1343488e-26 1.1343488e-26\n",
            "  1.1343488e-26 1.1343488e-26 1.1343488e-26 1.1343488e-26 1.1343488e-26\n",
            "  1.1343488e-26 1.1343488e-26 1.1343488e-26 1.1343488e-26 1.1343488e-26\n",
            "  1.1343488e-26]\n",
            " [1.0000000e+00 8.5344236e-15 8.5344236e-15 8.5344236e-15 8.5344236e-15\n",
            "  8.5344236e-15 8.5344236e-15 8.5344236e-15 8.5344236e-15 8.5344236e-15\n",
            "  8.5344236e-15 8.5344236e-15 8.5344236e-15 8.5344236e-15 8.5344236e-15\n",
            "  8.5344236e-15]]\n",
            "-\n",
            "Input sentence: 1    go\n",
            "Name: input, dtype: object\n",
            "Decoded sentence:  va _END\n",
            "++++++++++++++++++++++++++++++++\n",
            "output_tokens:  [[[2.84576274e-09 1.09485455e-07 1.02550011e-07 ... 6.61186368e-06\n",
            "   7.47031982e-06 1.33756243e-04]]]\n",
            "--------------------------------\n",
            "sampled_token_index :  4184\n",
            "================================\n",
            "sampled_tok :  va\n",
            "++++++++++++++++++++++++++++++++\n",
            "output_tokens:  [[[4.5718851e-10 2.7628603e-08 3.1290114e-08 ... 4.3029883e-07\n",
            "   1.0578457e-09 2.8898071e-09]]]\n",
            "--------------------------------\n",
            "sampled_token_index :  6\n",
            "================================\n",
            "sampled_tok :  _END\n",
            "====================\n",
            "attention_density :  [[1.0000000e+00 1.1343488e-26 1.1343488e-26 1.1343488e-26 1.1343488e-26\n",
            "  1.1343488e-26 1.1343488e-26 1.1343488e-26 1.1343488e-26 1.1343488e-26\n",
            "  1.1343488e-26 1.1343488e-26 1.1343488e-26 1.1343488e-26 1.1343488e-26\n",
            "  1.1343488e-26]\n",
            " [1.0000000e+00 8.5344236e-15 8.5344236e-15 8.5344236e-15 8.5344236e-15\n",
            "  8.5344236e-15 8.5344236e-15 8.5344236e-15 8.5344236e-15 8.5344236e-15\n",
            "  8.5344236e-15 8.5344236e-15 8.5344236e-15 8.5344236e-15 8.5344236e-15\n",
            "  8.5344236e-15]]\n",
            "-\n",
            "Input sentence: 2    go\n",
            "Name: input, dtype: object\n",
            "Decoded sentence:  va _END\n",
            "++++++++++++++++++++++++++++++++\n",
            "output_tokens:  [[[3.7186734e-08 1.4347000e-07 1.7686352e-07 ... 6.0288407e-06\n",
            "   5.7665525e-06 1.2508391e-05]]]\n",
            "--------------------------------\n",
            "sampled_token_index :  3618\n",
            "================================\n",
            "sampled_tok :  salut\n",
            "++++++++++++++++++++++++++++++++\n",
            "output_tokens:  [[[5.5559973e-08 5.7303648e-11 5.9566137e-11 ... 6.5680156e-11\n",
            "   1.8953715e-13 6.8516533e-15]]]\n",
            "--------------------------------\n",
            "sampled_token_index :  6\n",
            "================================\n",
            "sampled_tok :  _END\n",
            "====================\n",
            "attention_density :  [[1.0000000e+00 1.6660370e-09 1.6660370e-09 1.6660370e-09 1.6660370e-09\n",
            "  1.6660370e-09 1.6660370e-09 1.6660370e-09 1.6660370e-09 1.6660370e-09\n",
            "  1.6660370e-09 1.6660370e-09 1.6660370e-09 1.6660370e-09 1.6660370e-09\n",
            "  1.6660370e-09]\n",
            " [9.9981219e-01 1.2527154e-05 1.2527154e-05 1.2527154e-05 1.2527154e-05\n",
            "  1.2527154e-05 1.2527154e-05 1.2527154e-05 1.2527154e-05 1.2527154e-05\n",
            "  1.2527154e-05 1.2527154e-05 1.2527154e-05 1.2527154e-05 1.2527154e-05\n",
            "  1.2527154e-05]]\n",
            "-\n",
            "Input sentence: 3    hi\n",
            "Name: input, dtype: object\n",
            "Decoded sentence:  salut _END\n",
            "++++++++++++++++++++++++++++++++\n",
            "output_tokens:  [[[3.7186734e-08 1.4347000e-07 1.7686352e-07 ... 6.0288407e-06\n",
            "   5.7665525e-06 1.2508391e-05]]]\n",
            "--------------------------------\n",
            "sampled_token_index :  3618\n",
            "================================\n",
            "sampled_tok :  salut\n",
            "++++++++++++++++++++++++++++++++\n",
            "output_tokens:  [[[5.5559973e-08 5.7303648e-11 5.9566137e-11 ... 6.5680156e-11\n",
            "   1.8953715e-13 6.8516533e-15]]]\n",
            "--------------------------------\n",
            "sampled_token_index :  6\n",
            "================================\n",
            "sampled_tok :  _END\n",
            "====================\n",
            "attention_density :  [[1.0000000e+00 1.6660370e-09 1.6660370e-09 1.6660370e-09 1.6660370e-09\n",
            "  1.6660370e-09 1.6660370e-09 1.6660370e-09 1.6660370e-09 1.6660370e-09\n",
            "  1.6660370e-09 1.6660370e-09 1.6660370e-09 1.6660370e-09 1.6660370e-09\n",
            "  1.6660370e-09]\n",
            " [9.9981219e-01 1.2527154e-05 1.2527154e-05 1.2527154e-05 1.2527154e-05\n",
            "  1.2527154e-05 1.2527154e-05 1.2527154e-05 1.2527154e-05 1.2527154e-05\n",
            "  1.2527154e-05 1.2527154e-05 1.2527154e-05 1.2527154e-05 1.2527154e-05\n",
            "  1.2527154e-05]]\n",
            "-\n",
            "Input sentence: 4    hi\n",
            "Name: input, dtype: object\n",
            "Decoded sentence:  salut _END\n"
          ]
        }
      ]
    },
    {
      "cell_type": "code",
      "metadata": {
        "id": "Rc7SuHKXs4Wt"
      },
      "source": [
        "def visualize_attention(text, encoder_model, decoder_model, max_encoder_seq_length, num_decoder_tokens, vocab_to_int, int_to_vocab, tok_split_fn, sep= ' '):\n",
        "\n",
        "    encoder_input_data = np.zeros((1, max_encoder_seq_length), dtype='float32')\n",
        "    \n",
        "    for t, word in enumerate(tok_split_fn(text)):\n",
        "        encoder_input_data[0, t] = input_token_index[word]\n",
        "\n",
        "    input_seq = encoder_input_data[0:1]\n",
        "\n",
        "    decoded_sentence, attention_density = decode_sequence_attention(input_seq, sep)\n",
        "\n",
        "    plt.clf()\n",
        "    plt.figure(figsize=(28,12))\n",
        "    \n",
        "    ax = sns.heatmap(attention_density[:, : len(text) + 2],\n",
        "        xticklabels=[w for w in tok_split_fn(text)],\n",
        "        yticklabels=[w for w in tok_split_fn(decoded_sentence)])\n",
        "\n",
        "    ax.invert_yaxis()\n",
        "    plt.show()\n",
        "    \n",
        "    return decoded_sentence"
      ],
      "execution_count": 40,
      "outputs": []
    },
    {
      "cell_type": "code",
      "metadata": {
        "id": "7cZdduoTvw54",
        "outputId": "5aea1877-3faf-457e-a2f7-c208b3125405",
        "colab": {
          "base_uri": "https://localhost:8080/",
          "height": 1000
        }
      },
      "source": [
        "for seq_index in range(5):\n",
        "\n",
        "    target_text = lines.target[seq_index]\n",
        "    text = lines.input[seq_index]\n",
        "    print('-')\n",
        "    print('Input sentence:', text)    \n",
        "    print('GT sentence:', target_text)\n",
        "    decoded_sentence = visualize_attention(text, encoder_model, decoder_model, max_encoder_seq_length, num_decoder_tokens, input_token_index, reverse_target_tok_index, tok_split_fn)\n",
        "\n",
        "    \n",
        "    print('Decoded sentence:', decoded_sentence)   \n"
      ],
      "execution_count": 41,
      "outputs": [
        {
          "output_type": "stream",
          "name": "stdout",
          "text": [
            "-\n",
            "Input sentence: go\n",
            "GT sentence: START_ va  _END\n",
            "++++++++++++++++++++++++++++++++\n",
            "output_tokens:  [[[2.84576274e-09 1.09485455e-07 1.02550011e-07 ... 6.61186368e-06\n",
            "   7.47031982e-06 1.33756243e-04]]]\n",
            "--------------------------------\n",
            "sampled_token_index :  4184\n",
            "================================\n",
            "sampled_tok :  va\n",
            "++++++++++++++++++++++++++++++++\n",
            "output_tokens:  [[[4.5718851e-10 2.7628603e-08 3.1290114e-08 ... 4.3029883e-07\n",
            "   1.0578457e-09 2.8898071e-09]]]\n",
            "--------------------------------\n",
            "sampled_token_index :  6\n",
            "================================\n",
            "sampled_tok :  _END\n",
            "====================\n",
            "attention_density :  [[1.0000000e+00 1.1343488e-26 1.1343488e-26 1.1343488e-26 1.1343488e-26\n",
            "  1.1343488e-26 1.1343488e-26 1.1343488e-26 1.1343488e-26 1.1343488e-26\n",
            "  1.1343488e-26 1.1343488e-26 1.1343488e-26 1.1343488e-26 1.1343488e-26\n",
            "  1.1343488e-26]\n",
            " [1.0000000e+00 8.5344236e-15 8.5344236e-15 8.5344236e-15 8.5344236e-15\n",
            "  8.5344236e-15 8.5344236e-15 8.5344236e-15 8.5344236e-15 8.5344236e-15\n",
            "  8.5344236e-15 8.5344236e-15 8.5344236e-15 8.5344236e-15 8.5344236e-15\n",
            "  8.5344236e-15]]\n"
          ]
        },
        {
          "output_type": "display_data",
          "data": {
            "text/plain": [
              "<Figure size 432x288 with 0 Axes>"
            ]
          },
          "metadata": {}
        },
        {
          "output_type": "display_data",
          "data": {
            "image/png": "[encoded data removed]",
            "text/plain": [
              "<Figure size 2016x864 with 2 Axes>"
            ]
          },
          "metadata": {
            "needs_background": "light"
          }
        },
        {
          "output_type": "stream",
          "name": "stdout",
          "text": [
            "Decoded sentence:  va _END\n",
            "-\n",
            "Input sentence: go\n",
            "GT sentence: START_ marche _END\n",
            "++++++++++++++++++++++++++++++++\n",
            "output_tokens:  [[[2.84576274e-09 1.09485455e-07 1.02550011e-07 ... 6.61186368e-06\n",
            "   7.47031982e-06 1.33756243e-04]]]\n",
            "--------------------------------\n",
            "sampled_token_index :  4184\n",
            "================================\n",
            "sampled_tok :  va\n",
            "++++++++++++++++++++++++++++++++\n",
            "output_tokens:  [[[4.5718851e-10 2.7628603e-08 3.1290114e-08 ... 4.3029883e-07\n",
            "   1.0578457e-09 2.8898071e-09]]]\n",
            "--------------------------------\n",
            "sampled_token_index :  6\n",
            "================================\n",
            "sampled_tok :  _END\n",
            "====================\n",
            "attention_density :  [[1.0000000e+00 1.1343488e-26 1.1343488e-26 1.1343488e-26 1.1343488e-26\n",
            "  1.1343488e-26 1.1343488e-26 1.1343488e-26 1.1343488e-26 1.1343488e-26\n",
            "  1.1343488e-26 1.1343488e-26 1.1343488e-26 1.1343488e-26 1.1343488e-26\n",
            "  1.1343488e-26]\n",
            " [1.0000000e+00 8.5344236e-15 8.5344236e-15 8.5344236e-15 8.5344236e-15\n",
            "  8.5344236e-15 8.5344236e-15 8.5344236e-15 8.5344236e-15 8.5344236e-15\n",
            "  8.5344236e-15 8.5344236e-15 8.5344236e-15 8.5344236e-15 8.5344236e-15\n",
            "  8.5344236e-15]]\n"
          ]
        },
        {
          "output_type": "display_data",
          "data": {
            "text/plain": [
              "<Figure size 432x288 with 0 Axes>"
            ]
          },
          "metadata": {}
        },
        {
          "output_type": "display_data",
          "data": {
            "image/png": "[encoded data removed]",
            "text/plain": [
              "<Figure size 2016x864 with 2 Axes>"
            ]
          },
          "metadata": {
            "needs_background": "light"
          }
        },
        {
          "output_type": "stream",
          "name": "stdout",
          "text": [
            "Decoded sentence:  va _END\n",
            "-\n",
            "Input sentence: go\n",
            "GT sentence: START_ bouge  _END\n",
            "++++++++++++++++++++++++++++++++\n",
            "output_tokens:  [[[2.84576274e-09 1.09485455e-07 1.02550011e-07 ... 6.61186368e-06\n",
            "   7.47031982e-06 1.33756243e-04]]]\n",
            "--------------------------------\n",
            "sampled_token_index :  4184\n",
            "================================\n",
            "sampled_tok :  va\n",
            "++++++++++++++++++++++++++++++++\n",
            "output_tokens:  [[[4.5718851e-10 2.7628603e-08 3.1290114e-08 ... 4.3029883e-07\n",
            "   1.0578457e-09 2.8898071e-09]]]\n",
            "--------------------------------\n",
            "sampled_token_index :  6\n",
            "================================\n",
            "sampled_tok :  _END\n",
            "====================\n",
            "attention_density :  [[1.0000000e+00 1.1343488e-26 1.1343488e-26 1.1343488e-26 1.1343488e-26\n",
            "  1.1343488e-26 1.1343488e-26 1.1343488e-26 1.1343488e-26 1.1343488e-26\n",
            "  1.1343488e-26 1.1343488e-26 1.1343488e-26 1.1343488e-26 1.1343488e-26\n",
            "  1.1343488e-26]\n",
            " [1.0000000e+00 8.5344236e-15 8.5344236e-15 8.5344236e-15 8.5344236e-15\n",
            "  8.5344236e-15 8.5344236e-15 8.5344236e-15 8.5344236e-15 8.5344236e-15\n",
            "  8.5344236e-15 8.5344236e-15 8.5344236e-15 8.5344236e-15 8.5344236e-15\n",
            "  8.5344236e-15]]\n"
          ]
        },
        {
          "output_type": "display_data",
          "data": {
            "text/plain": [
              "<Figure size 432x288 with 0 Axes>"
            ]
          },
          "metadata": {}
        },
        {
          "output_type": "display_data",
          "data": {
            "image/png": "[encoded data removed]",
            "text/plain": [
              "<Figure size 2016x864 with 2 Axes>"
            ]
          },
          "metadata": {
            "needs_background": "light"
          }
        },
        {
          "output_type": "stream",
          "name": "stdout",
          "text": [
            "Decoded sentence:  va _END\n",
            "-\n",
            "Input sentence: hi\n",
            "GT sentence: START_ salut  _END\n",
            "++++++++++++++++++++++++++++++++\n",
            "output_tokens:  [[[3.7186734e-08 1.4347000e-07 1.7686352e-07 ... 6.0288407e-06\n",
            "   5.7665525e-06 1.2508391e-05]]]\n",
            "--------------------------------\n",
            "sampled_token_index :  3618\n",
            "================================\n",
            "sampled_tok :  salut\n",
            "++++++++++++++++++++++++++++++++\n",
            "output_tokens:  [[[5.5559973e-08 5.7303648e-11 5.9566137e-11 ... 6.5680156e-11\n",
            "   1.8953715e-13 6.8516533e-15]]]\n",
            "--------------------------------\n",
            "sampled_token_index :  6\n",
            "================================\n",
            "sampled_tok :  _END\n",
            "====================\n",
            "attention_density :  [[1.0000000e+00 1.6660370e-09 1.6660370e-09 1.6660370e-09 1.6660370e-09\n",
            "  1.6660370e-09 1.6660370e-09 1.6660370e-09 1.6660370e-09 1.6660370e-09\n",
            "  1.6660370e-09 1.6660370e-09 1.6660370e-09 1.6660370e-09 1.6660370e-09\n",
            "  1.6660370e-09]\n",
            " [9.9981219e-01 1.2527154e-05 1.2527154e-05 1.2527154e-05 1.2527154e-05\n",
            "  1.2527154e-05 1.2527154e-05 1.2527154e-05 1.2527154e-05 1.2527154e-05\n",
            "  1.2527154e-05 1.2527154e-05 1.2527154e-05 1.2527154e-05 1.2527154e-05\n",
            "  1.2527154e-05]]\n"
          ]
        },
        {
          "output_type": "display_data",
          "data": {
            "text/plain": [
              "<Figure size 432x288 with 0 Axes>"
            ]
          },
          "metadata": {}
        },
        {
          "output_type": "display_data",
          "data": {
            "image/png": "[encoded data removed]",
            "text/plain": [
              "<Figure size 2016x864 with 2 Axes>"
            ]
          },
          "metadata": {
            "needs_background": "light"
          }
        },
        {
          "output_type": "stream",
          "name": "stdout",
          "text": [
            "Decoded sentence:  salut _END\n",
            "-\n",
            "Input sentence: hi\n",
            "GT sentence: START_ salut _END\n",
            "++++++++++++++++++++++++++++++++\n",
            "output_tokens:  [[[3.7186734e-08 1.4347000e-07 1.7686352e-07 ... 6.0288407e-06\n",
            "   5.7665525e-06 1.2508391e-05]]]\n",
            "--------------------------------\n",
            "sampled_token_index :  3618\n",
            "================================\n",
            "sampled_tok :  salut\n",
            "++++++++++++++++++++++++++++++++\n",
            "output_tokens:  [[[5.5559973e-08 5.7303648e-11 5.9566137e-11 ... 6.5680156e-11\n",
            "   1.8953715e-13 6.8516533e-15]]]\n",
            "--------------------------------\n",
            "sampled_token_index :  6\n",
            "================================\n",
            "sampled_tok :  _END\n",
            "====================\n",
            "attention_density :  [[1.0000000e+00 1.6660370e-09 1.6660370e-09 1.6660370e-09 1.6660370e-09\n",
            "  1.6660370e-09 1.6660370e-09 1.6660370e-09 1.6660370e-09 1.6660370e-09\n",
            "  1.6660370e-09 1.6660370e-09 1.6660370e-09 1.6660370e-09 1.6660370e-09\n",
            "  1.6660370e-09]\n",
            " [9.9981219e-01 1.2527154e-05 1.2527154e-05 1.2527154e-05 1.2527154e-05\n",
            "  1.2527154e-05 1.2527154e-05 1.2527154e-05 1.2527154e-05 1.2527154e-05\n",
            "  1.2527154e-05 1.2527154e-05 1.2527154e-05 1.2527154e-05 1.2527154e-05\n",
            "  1.2527154e-05]]\n"
          ]
        },
        {
          "output_type": "display_data",
          "data": {
            "text/plain": [
              "<Figure size 432x288 with 0 Axes>"
            ]
          },
          "metadata": {}
        },
        {
          "output_type": "display_data",
          "data": {
            "image/png": "[encoded data removed]",
            "text/plain": [
              "<Figure size 2016x864 with 2 Axes>"
            ]
          },
          "metadata": {
            "needs_background": "light"
          }
        },
        {
          "output_type": "stream",
          "name": "stdout",
          "text": [
            "Decoded sentence:  salut _END\n"
          ]
        }
      ]
    },
    {
      "cell_type": "code",
      "metadata": {
        "id": "NLJFJDhPv2YY"
      },
      "source": [
        ""
      ],
      "execution_count": null,
      "outputs": []
    }
  ]
}