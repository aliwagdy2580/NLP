{
  "nbformat": 4,
  "nbformat_minor": 0,
  "metadata": {
    "colab": {
      "name": "Classifying movie reviews from scratch.ipynb",
      "provenance": [],
      "collapsed_sections": [],
      "mount_file_id": "1EsV0n91LyXaBFAbGJJG1nLjgtBFsEm53",
      "authorship_tag": "ABX9TyOv5y7ecZKBFtLw5/Q8cTyI",
      "include_colab_link": true
    },
    "kernelspec": {
      "name": "python3",
      "display_name": "Python 3"
    },
    "language_info": {
      "name": "python"
    }
  },
  "cells": [
    {
      "cell_type": "markdown",
      "metadata": {
        "id": "view-in-github",
        "colab_type": "text"
      },
      "source": [
        "<a href=\"https://colab.research.google.com/github/aliwagdy2580/NLP/blob/aliwagdy2580-patch-1/Classifying_movie_reviews_from_scratch.ipynb\" target=\"_parent\"><img src=\"https://colab.research.google.com/assets/colab-badge.svg\" alt=\"Open In Colab\"/></a>"
      ]
    },
    {
      "cell_type": "markdown",
      "metadata": {
        "id": "j-Ulo3_NdH0e"
      },
      "source": [
        "# Classifying movie reviews from scratch"
      ]
    },
    {
      "cell_type": "code",
      "metadata": {
        "colab": {
          "base_uri": "https://localhost:8080/"
        },
        "id": "gGWHG9Gkkvhp",
        "outputId": "80602a6f-e131-44be-ef71-4a18d02faa64"
      },
      "source": [
        "import numpy as np\n",
        "import pandas as pd\n",
        "import matplotlib.pyplot as plt\n",
        "import os\n",
        "from pathlib import Path\n",
        "import re\n",
        "import string\n",
        "import html\n",
        "import unicodedata\n",
        "\n",
        "import nltk\n",
        "nltk.download('punkt')\n",
        "from nltk import PorterStemmer\n",
        "from nltk.stem import WordNetLemmatizer\n",
        "nltk.download('wordnet')\n",
        "\n"
      ],
      "execution_count": 1,
      "outputs": [
        {
          "output_type": "stream",
          "text": [
            "[nltk_data] Downloading package punkt to /root/nltk_data...\n",
            "[nltk_data]   Package punkt is already up-to-date!\n",
            "[nltk_data] Downloading package wordnet to /root/nltk_data...\n",
            "[nltk_data]   Package wordnet is already up-to-date!\n"
          ],
          "name": "stdout"
        },
        {
          "output_type": "execute_result",
          "data": {
            "text/plain": [
              "True"
            ]
          },
          "metadata": {
            "tags": []
          },
          "execution_count": 1
        }
      ]
    },
    {
      "cell_type": "markdown",
      "metadata": {
        "id": "SUhDR2B2jq3l"
      },
      "source": [
        "load data from URL"
      ]
    },
    {
      "cell_type": "code",
      "metadata": {
        "id": "4jHFjEQJdKAu"
      },
      "source": [
        "from pathlib import Path\n",
        "import os\n",
        "DATA_PATH=Path('./data/')# make file on colab with name -->data\n",
        "DATA_PATH.mkdir(exist_ok=True) #To make sure the file exists\n",
        "\n",
        "if not os.path.exists('./data/aclImdb'):\n",
        "    #this commend like linux\n",
        "    !curl -O http://ai.stanford.edu/~amaas/data/sentiment/aclImdb_v1.tar.gz # to load data from URL\n",
        "    !tar -xf aclImdb_v1.tar.gz -C {DATA_PATH}\n"
      ],
      "execution_count": 2,
      "outputs": []
    },
    {
      "cell_type": "markdown",
      "metadata": {
        "id": "4sm02FtqfYje"
      },
      "source": [
        "The data is already split into train/test. Moreover, we have 3 class folders:\n",
        "\n",
        "- pos\n",
        "\n",
        "- neg\n",
        "\n",
        "- unsup (no specific label)"
      ]
    },
    {
      "cell_type": "code",
      "metadata": {
        "id": "BvyJSq1qfZh2"
      },
      "source": [
        "CLASS=['neg','pos']\n",
        "PATH=Path('./data/aclImdb')\n",
        "def get_text(path):\n",
        "  text,labels=[],[]\n",
        "  for idx,label in enumerate(CLASS):\n",
        "    for fname in (path/label).glob('*.*'):\n",
        "      text.append(fname.open('r',encoding='utf-8').read()) \n",
        "      labels.append(idx)\n",
        "  \n",
        "  return text,labels\n"
      ],
      "execution_count": 3,
      "outputs": []
    },
    {
      "cell_type": "code",
      "metadata": {
        "id": "-53ua6iknJ9e"
      },
      "source": [
        "train_text,train_labels=get_text(PATH/'train')\n",
        "test_text,test_labels=get_text(PATH/'test')"
      ],
      "execution_count": 4,
      "outputs": []
    },
    {
      "cell_type": "code",
      "metadata": {
        "colab": {
          "base_uri": "https://localhost:8080/"
        },
        "id": "xNiripRdnl4c",
        "outputId": "aad3fbae-464f-4671-ab87-c1fc23ce3f16"
      },
      "source": [
        "for i in train_text[:3]:\n",
        "  print(i)\n",
        "  print('\\n')"
      ],
      "execution_count": 5,
      "outputs": [
        {
          "output_type": "stream",
          "text": [
            "I should have listened. I was warned, and still, I paid money for this, after reading all the reviews, after knowing the original is \"so bad it's good\", and that part 2 does not fit into that category at all, still, even then, I couldn't resist. Exactly what happened here? Part one was Hilarious, it had so much politically incorrectness, and other Crazy, Fat Entertainment, and this one, there just couldn't possibly be a worse sequel on God's green earth, not Basket Case 2, hell, not even Troll 2. This is truly the worst sequel in history and that's really saying something considering the groundbreaking, bottom of the barrel qualities of the original. Criminally Insane part 2 was just a completely different brand of bad. Shot on Video, zero score, zero entertainment value, 1/3 consists of flashbacks of the original, and on top of all that, crazy, fat Ethel has lost a portion of her girth. I mean, honestly, is this some kind of sick joke?!? Thank's a lot, Nick Milliard. 1/1\n",
            "\n",
            "\n",
            "This film features two of my favorite guilty pleasures. Sure, the effects are laughable, the story confused, but just watching Hasselhoff in his Knight Rider days is always fun. I especially like the old hotel they used to shoot this in, it added to what little suspense was mustered. Give it a 3.\n",
            "\n",
            "\n",
            "I wish I could give this movie a zero, or even lower, because sadly that's what it deserves. I honestly never walk out of a movie, but this one was so dreadfully awful that I couldn't stand another minute of it. Please,please, please- for the sake of mankind- skip this movie. If you want a hot lesbian movie that you can really delve into, this isn't it.<br /><br />It has unattractive, unappealing leads, choppy structure, ridiculous dialog, and it is absolutely unconvincing in every imaginable way. On an absolutely basic level, it fails to entertain. Everything about \"Mango Kiss\" is so stagey, it is WORSE than any student film I have seen.<br /><br />As if that weren't enough, the entire movie relies on constant (and I mean CONSTANT) voice over narration. The script writer may as well have written a novel, because they insisted on TELLING everything, instead of SHOWING it. We are just supposed to assume that Lou and Sassafras are the best of friends and have a special connection, even though there is no character development to illustrate this. Also, this film continues to introduce to new characters after the first five minutes, and not in a natural way, but in a freeze-frame of the characters with their name written over the screen. There is no introduction, no development of any of the characters. We don't really get to know any of them.<br /><br />This is the most amateur movie I have ever seen.<br /><br />I am a gay woman, who watched this film with my roommate (another gay woman) and we both found this movie to be a depressing representation of queer cinema. I am beginning to think that lesbian and gay movies are a lot like Christian rock - it doesn't matter how atrocious it is, people will still flock to it, and champion it, no matter how poor the quality is. Please don't rent this!! Instead, let's encourage the production of QUALITY gay and lesbian movies by renting \"But I'm a Cheerleader\" or \"Fire\" or \"Heavenly Creatures\", instead of swallowing whatever mindless tripe they aim at the gay community (i.e. Queer as Folk).\n",
            "\n",
            "\n"
          ],
          "name": "stdout"
        }
      ]
    },
    {
      "cell_type": "code",
      "metadata": {
        "colab": {
          "base_uri": "https://localhost:8080/"
        },
        "id": "lB3Rh2ISoU_a",
        "outputId": "c36a3f05-45f2-4a4f-c10c-9e3cb83cd098"
      },
      "source": [
        "train_labels[:10]"
      ],
      "execution_count": 6,
      "outputs": [
        {
          "output_type": "execute_result",
          "data": {
            "text/plain": [
              "[0, 0, 0, 0, 0, 0, 0, 0, 0, 0]"
            ]
          },
          "metadata": {
            "tags": []
          },
          "execution_count": 6
        }
      ]
    },
    {
      "cell_type": "markdown",
      "metadata": {
        "id": "ILjKcEJPuZr0"
      },
      "source": [
        "## So what it takes to go from the raw form to the prepared form?\n",
        "\n",
        "__A - Text preprocessing__\n",
        "\n",
        "1- Data sequencing: each sentence --> sequence (list) of words\n",
        "\n",
        "2- Data cleaning: This step varies from task to task. For some tasks it's better to remove special characters and punctuations, for other they are critical (emotiocons). Good for perfromance.\n",
        "\n",
        "3- Text normalization: in general text morphology is a big issue in NLP. Upper and lower cases, stemming and lemmatization, ...etc. Again it's task dependent.\n",
        "\n",
        "4- Padding (model dependent): Dense and CNN. RNN can skip this step.\n",
        "\n",
        "__B- Text preparation__\n",
        "\n",
        "5- Binarization/vectorization/digitization: transform words into numbers according to a vocab index."
      ]
    },
    {
      "cell_type": "markdown",
      "metadata": {
        "id": "vGszagetuoN6"
      },
      "source": [
        "# text preprocessing"
      ]
    },
    {
      "cell_type": "markdown",
      "metadata": {
        "id": "jFxjyLZ_v12H"
      },
      "source": [
        "### Manual (split on white spaces)"
      ]
    },
    {
      "cell_type": "code",
      "metadata": {
        "colab": {
          "base_uri": "https://localhost:8080/"
        },
        "id": "D1_lMMYHozkx",
        "outputId": "b66efcce-012f-42b5-8326-c5218d3b3c36"
      },
      "source": [
        "s=train_text[0].split()\n",
        "s"
      ],
      "execution_count": 7,
      "outputs": [
        {
          "output_type": "execute_result",
          "data": {
            "text/plain": [
              "['I',\n",
              " 'should',\n",
              " 'have',\n",
              " 'listened.',\n",
              " 'I',\n",
              " 'was',\n",
              " 'warned,',\n",
              " 'and',\n",
              " 'still,',\n",
              " 'I',\n",
              " 'paid',\n",
              " 'money',\n",
              " 'for',\n",
              " 'this,',\n",
              " 'after',\n",
              " 'reading',\n",
              " 'all',\n",
              " 'the',\n",
              " 'reviews,',\n",
              " 'after',\n",
              " 'knowing',\n",
              " 'the',\n",
              " 'original',\n",
              " 'is',\n",
              " '\"so',\n",
              " 'bad',\n",
              " \"it's\",\n",
              " 'good\",',\n",
              " 'and',\n",
              " 'that',\n",
              " 'part',\n",
              " '2',\n",
              " 'does',\n",
              " 'not',\n",
              " 'fit',\n",
              " 'into',\n",
              " 'that',\n",
              " 'category',\n",
              " 'at',\n",
              " 'all,',\n",
              " 'still,',\n",
              " 'even',\n",
              " 'then,',\n",
              " 'I',\n",
              " \"couldn't\",\n",
              " 'resist.',\n",
              " 'Exactly',\n",
              " 'what',\n",
              " 'happened',\n",
              " 'here?',\n",
              " 'Part',\n",
              " 'one',\n",
              " 'was',\n",
              " 'Hilarious,',\n",
              " 'it',\n",
              " 'had',\n",
              " 'so',\n",
              " 'much',\n",
              " 'politically',\n",
              " 'incorrectness,',\n",
              " 'and',\n",
              " 'other',\n",
              " 'Crazy,',\n",
              " 'Fat',\n",
              " 'Entertainment,',\n",
              " 'and',\n",
              " 'this',\n",
              " 'one,',\n",
              " 'there',\n",
              " 'just',\n",
              " \"couldn't\",\n",
              " 'possibly',\n",
              " 'be',\n",
              " 'a',\n",
              " 'worse',\n",
              " 'sequel',\n",
              " 'on',\n",
              " \"God's\",\n",
              " 'green',\n",
              " 'earth,',\n",
              " 'not',\n",
              " 'Basket',\n",
              " 'Case',\n",
              " '2,',\n",
              " 'hell,',\n",
              " 'not',\n",
              " 'even',\n",
              " 'Troll',\n",
              " '2.',\n",
              " 'This',\n",
              " 'is',\n",
              " 'truly',\n",
              " 'the',\n",
              " 'worst',\n",
              " 'sequel',\n",
              " 'in',\n",
              " 'history',\n",
              " 'and',\n",
              " \"that's\",\n",
              " 'really',\n",
              " 'saying',\n",
              " 'something',\n",
              " 'considering',\n",
              " 'the',\n",
              " 'groundbreaking,',\n",
              " 'bottom',\n",
              " 'of',\n",
              " 'the',\n",
              " 'barrel',\n",
              " 'qualities',\n",
              " 'of',\n",
              " 'the',\n",
              " 'original.',\n",
              " 'Criminally',\n",
              " 'Insane',\n",
              " 'part',\n",
              " '2',\n",
              " 'was',\n",
              " 'just',\n",
              " 'a',\n",
              " 'completely',\n",
              " 'different',\n",
              " 'brand',\n",
              " 'of',\n",
              " 'bad.',\n",
              " 'Shot',\n",
              " 'on',\n",
              " 'Video,',\n",
              " 'zero',\n",
              " 'score,',\n",
              " 'zero',\n",
              " 'entertainment',\n",
              " 'value,',\n",
              " '1/3',\n",
              " 'consists',\n",
              " 'of',\n",
              " 'flashbacks',\n",
              " 'of',\n",
              " 'the',\n",
              " 'original,',\n",
              " 'and',\n",
              " 'on',\n",
              " 'top',\n",
              " 'of',\n",
              " 'all',\n",
              " 'that,',\n",
              " 'crazy,',\n",
              " 'fat',\n",
              " 'Ethel',\n",
              " 'has',\n",
              " 'lost',\n",
              " 'a',\n",
              " 'portion',\n",
              " 'of',\n",
              " 'her',\n",
              " 'girth.',\n",
              " 'I',\n",
              " 'mean,',\n",
              " 'honestly,',\n",
              " 'is',\n",
              " 'this',\n",
              " 'some',\n",
              " 'kind',\n",
              " 'of',\n",
              " 'sick',\n",
              " 'joke?!?',\n",
              " \"Thank's\",\n",
              " 'a',\n",
              " 'lot,',\n",
              " 'Nick',\n",
              " 'Milliard.',\n",
              " '1/1']"
            ]
          },
          "metadata": {
            "tags": []
          },
          "execution_count": 7
        }
      ]
    },
    {
      "cell_type": "markdown",
      "metadata": {
        "id": "5FLv-v2-H8Yp"
      },
      "source": [
        "# NLTK \n",
        "\n",
        "So far, we have split the words using manual approaches (white spaces mainly).\n",
        "\n",
        "Is there more mature method?\n",
        "\n",
        "Actually there is: __tokenizers__\n",
        "\n",
        "The most basic tokenizers take care of punctuation \n",
        "\n",
        "NLTK can be used for that."
      ]
    },
    {
      "cell_type": "markdown",
      "metadata": {
        "id": "lpUoUpFWIbAI"
      },
      "source": [
        "## Sentence tokenization\n",
        "\n",
        "Before we dive into words splitting, let's talk a little about sentence tokenization. Sometimes, the data comes in very long bult of text, a document or long paragraphs for example. \n",
        "\n",
        "In most NLP models, such long sequences are not desirable (forgetting effect).\n",
        "\n",
        "\n",
        "`sent_tokenize` can be used to tokenize into shorter sequences, mapped to sentences as we know it. This tokenization is mostly driven by punctuations like full stop."
      ]
    },
    {
      "cell_type": "code",
      "metadata": {
        "colab": {
          "base_uri": "https://localhost:8080/",
          "height": 135
        },
        "id": "sGBgz0Rpo1Lz",
        "outputId": "5d024902-07f7-4360-8d87-69ed88b4bddc"
      },
      "source": [
        "s=train_text[0]\n",
        "s"
      ],
      "execution_count": 8,
      "outputs": [
        {
          "output_type": "execute_result",
          "data": {
            "application/vnd.google.colaboratory.intrinsic+json": {
              "type": "string"
            },
            "text/plain": [
              "'I should have listened. I was warned, and still, I paid money for this, after reading all the reviews, after knowing the original is \"so bad it\\'s good\", and that part 2 does not fit into that category at all, still, even then, I couldn\\'t resist. Exactly what happened here? Part one was Hilarious, it had so much politically incorrectness, and other Crazy, Fat Entertainment, and this one, there just couldn\\'t possibly be a worse sequel on God\\'s green earth, not Basket Case 2, hell, not even Troll 2. This is truly the worst sequel in history and that\\'s really saying something considering the groundbreaking, bottom of the barrel qualities of the original. Criminally Insane part 2 was just a completely different brand of bad. Shot on Video, zero score, zero entertainment value, 1/3 consists of flashbacks of the original, and on top of all that, crazy, fat Ethel has lost a portion of her girth. I mean, honestly, is this some kind of sick joke?!? Thank\\'s a lot, Nick Milliard. 1/1'"
            ]
          },
          "metadata": {
            "tags": []
          },
          "execution_count": 8
        }
      ]
    },
    {
      "cell_type": "code",
      "metadata": {
        "colab": {
          "base_uri": "https://localhost:8080/"
        },
        "id": "BDg5baKprqAs",
        "outputId": "0d1e334f-8438-46e6-aa7b-4845fa31ee11"
      },
      "source": [
        "nltk.tokenize.sent_tokenize(s)"
      ],
      "execution_count": 9,
      "outputs": [
        {
          "output_type": "execute_result",
          "data": {
            "text/plain": [
              "['I should have listened.',\n",
              " 'I was warned, and still, I paid money for this, after reading all the reviews, after knowing the original is \"so bad it\\'s good\", and that part 2 does not fit into that category at all, still, even then, I couldn\\'t resist.',\n",
              " 'Exactly what happened here?',\n",
              " \"Part one was Hilarious, it had so much politically incorrectness, and other Crazy, Fat Entertainment, and this one, there just couldn't possibly be a worse sequel on God's green earth, not Basket Case 2, hell, not even Troll 2.\",\n",
              " \"This is truly the worst sequel in history and that's really saying something considering the groundbreaking, bottom of the barrel qualities of the original.\",\n",
              " 'Criminally Insane part 2 was just a completely different brand of bad.',\n",
              " 'Shot on Video, zero score, zero entertainment value, 1/3 consists of flashbacks of the original, and on top of all that, crazy, fat Ethel has lost a portion of her girth.',\n",
              " 'I mean, honestly, is this some kind of sick joke?!?',\n",
              " \"Thank's a lot, Nick Milliard.\",\n",
              " '1/1']"
            ]
          },
          "metadata": {
            "tags": []
          },
          "execution_count": 9
        }
      ]
    },
    {
      "cell_type": "markdown",
      "metadata": {
        "id": "sSwDhTzUJhVB"
      },
      "source": [
        "## Words tokenization\n"
      ]
    },
    {
      "cell_type": "code",
      "metadata": {
        "colab": {
          "base_uri": "https://localhost:8080/"
        },
        "id": "0iHN0GF9JdcY",
        "outputId": "82c21a33-f52d-488d-b726-625b87e5c4d2"
      },
      "source": [
        "from nltk import word_tokenize\n",
        "word_tokenize(s)"
      ],
      "execution_count": 10,
      "outputs": [
        {
          "output_type": "execute_result",
          "data": {
            "text/plain": [
              "['I',\n",
              " 'should',\n",
              " 'have',\n",
              " 'listened',\n",
              " '.',\n",
              " 'I',\n",
              " 'was',\n",
              " 'warned',\n",
              " ',',\n",
              " 'and',\n",
              " 'still',\n",
              " ',',\n",
              " 'I',\n",
              " 'paid',\n",
              " 'money',\n",
              " 'for',\n",
              " 'this',\n",
              " ',',\n",
              " 'after',\n",
              " 'reading',\n",
              " 'all',\n",
              " 'the',\n",
              " 'reviews',\n",
              " ',',\n",
              " 'after',\n",
              " 'knowing',\n",
              " 'the',\n",
              " 'original',\n",
              " 'is',\n",
              " '``',\n",
              " 'so',\n",
              " 'bad',\n",
              " 'it',\n",
              " \"'s\",\n",
              " 'good',\n",
              " \"''\",\n",
              " ',',\n",
              " 'and',\n",
              " 'that',\n",
              " 'part',\n",
              " '2',\n",
              " 'does',\n",
              " 'not',\n",
              " 'fit',\n",
              " 'into',\n",
              " 'that',\n",
              " 'category',\n",
              " 'at',\n",
              " 'all',\n",
              " ',',\n",
              " 'still',\n",
              " ',',\n",
              " 'even',\n",
              " 'then',\n",
              " ',',\n",
              " 'I',\n",
              " 'could',\n",
              " \"n't\",\n",
              " 'resist',\n",
              " '.',\n",
              " 'Exactly',\n",
              " 'what',\n",
              " 'happened',\n",
              " 'here',\n",
              " '?',\n",
              " 'Part',\n",
              " 'one',\n",
              " 'was',\n",
              " 'Hilarious',\n",
              " ',',\n",
              " 'it',\n",
              " 'had',\n",
              " 'so',\n",
              " 'much',\n",
              " 'politically',\n",
              " 'incorrectness',\n",
              " ',',\n",
              " 'and',\n",
              " 'other',\n",
              " 'Crazy',\n",
              " ',',\n",
              " 'Fat',\n",
              " 'Entertainment',\n",
              " ',',\n",
              " 'and',\n",
              " 'this',\n",
              " 'one',\n",
              " ',',\n",
              " 'there',\n",
              " 'just',\n",
              " 'could',\n",
              " \"n't\",\n",
              " 'possibly',\n",
              " 'be',\n",
              " 'a',\n",
              " 'worse',\n",
              " 'sequel',\n",
              " 'on',\n",
              " 'God',\n",
              " \"'s\",\n",
              " 'green',\n",
              " 'earth',\n",
              " ',',\n",
              " 'not',\n",
              " 'Basket',\n",
              " 'Case',\n",
              " '2',\n",
              " ',',\n",
              " 'hell',\n",
              " ',',\n",
              " 'not',\n",
              " 'even',\n",
              " 'Troll',\n",
              " '2',\n",
              " '.',\n",
              " 'This',\n",
              " 'is',\n",
              " 'truly',\n",
              " 'the',\n",
              " 'worst',\n",
              " 'sequel',\n",
              " 'in',\n",
              " 'history',\n",
              " 'and',\n",
              " 'that',\n",
              " \"'s\",\n",
              " 'really',\n",
              " 'saying',\n",
              " 'something',\n",
              " 'considering',\n",
              " 'the',\n",
              " 'groundbreaking',\n",
              " ',',\n",
              " 'bottom',\n",
              " 'of',\n",
              " 'the',\n",
              " 'barrel',\n",
              " 'qualities',\n",
              " 'of',\n",
              " 'the',\n",
              " 'original',\n",
              " '.',\n",
              " 'Criminally',\n",
              " 'Insane',\n",
              " 'part',\n",
              " '2',\n",
              " 'was',\n",
              " 'just',\n",
              " 'a',\n",
              " 'completely',\n",
              " 'different',\n",
              " 'brand',\n",
              " 'of',\n",
              " 'bad',\n",
              " '.',\n",
              " 'Shot',\n",
              " 'on',\n",
              " 'Video',\n",
              " ',',\n",
              " 'zero',\n",
              " 'score',\n",
              " ',',\n",
              " 'zero',\n",
              " 'entertainment',\n",
              " 'value',\n",
              " ',',\n",
              " '1/3',\n",
              " 'consists',\n",
              " 'of',\n",
              " 'flashbacks',\n",
              " 'of',\n",
              " 'the',\n",
              " 'original',\n",
              " ',',\n",
              " 'and',\n",
              " 'on',\n",
              " 'top',\n",
              " 'of',\n",
              " 'all',\n",
              " 'that',\n",
              " ',',\n",
              " 'crazy',\n",
              " ',',\n",
              " 'fat',\n",
              " 'Ethel',\n",
              " 'has',\n",
              " 'lost',\n",
              " 'a',\n",
              " 'portion',\n",
              " 'of',\n",
              " 'her',\n",
              " 'girth',\n",
              " '.',\n",
              " 'I',\n",
              " 'mean',\n",
              " ',',\n",
              " 'honestly',\n",
              " ',',\n",
              " 'is',\n",
              " 'this',\n",
              " 'some',\n",
              " 'kind',\n",
              " 'of',\n",
              " 'sick',\n",
              " 'joke',\n",
              " '?',\n",
              " '!',\n",
              " '?',\n",
              " 'Thank',\n",
              " \"'s\",\n",
              " 'a',\n",
              " 'lot',\n",
              " ',',\n",
              " 'Nick',\n",
              " 'Milliard',\n",
              " '.',\n",
              " '1/1']"
            ]
          },
          "metadata": {
            "tags": []
          },
          "execution_count": 10
        }
      ]
    },
    {
      "cell_type": "markdown",
      "metadata": {
        "id": "ALSXSVycKb7Y"
      },
      "source": [
        "## Stop words\n",
        "\n",
        "Not every word contribute to the semantics or meaning. Some words like 'the', 'to', 'on', 'we',...etc are not important for many tasks, specially classification tasks.\n",
        "\n",
        "Such words are called stop words\n"
      ]
    },
    {
      "cell_type": "code",
      "metadata": {
        "colab": {
          "base_uri": "https://localhost:8080/"
        },
        "id": "DyqLPfGqKdqf",
        "outputId": "ac588a05-1026-43f8-b086-4e0d6cee42e8"
      },
      "source": [
        "from nltk.corpus import stopwords\n",
        "nltk.download('stopwords')\n",
        "stop_words=stopwords.words('english')"
      ],
      "execution_count": 11,
      "outputs": [
        {
          "output_type": "stream",
          "text": [
            "[nltk_data] Downloading package stopwords to /root/nltk_data...\n",
            "[nltk_data]   Package stopwords is already up-to-date!\n"
          ],
          "name": "stdout"
        }
      ]
    },
    {
      "cell_type": "markdown",
      "metadata": {
        "id": "VEJDiMuwOoGP"
      },
      "source": [
        "### Putting all the pipeline together:"
      ]
    },
    {
      "cell_type": "code",
      "metadata": {
        "id": "ldnS_hsHK7Me"
      },
      "source": [
        "def remove_special_chars(text):\n",
        "    re1 = re.compile(r'  +')\n",
        "    x1 = text.lower().replace('#39;', \"'\").replace('amp;', '&').replace('#146;', \"'\").replace(\n",
        "        'nbsp;', ' ').replace('#36;', '$').replace('\\\\n', \"\\n\").replace('quot;', \"'\").replace(\n",
        "        '<br />', \"\\n\").replace('\\\\\"', '\"').replace('<unk>', 'u_n').replace(' @.@ ', '.').replace(\n",
        "        ' @-@ ', '-').replace('\\\\', ' \\\\ ')\n",
        "    return re1.sub(' ', html.unescape(x1))\n",
        "\n",
        "\n",
        "def remove_non_ascii(text):\n",
        "    \"\"\"Remove non-ASCII characters from list of tokenized words\"\"\"\n",
        "    return unicodedata.normalize('NFKD', text).encode('ascii', 'ignore').decode('utf-8', 'ignore')\n",
        "  \n",
        "def to_lowercase(text):\n",
        "  return text.lower()\n",
        "\n",
        "def remove_punctuation(text):\n",
        "  #This translation mapping is then used for replacing a character to its mapped character when used in translate() method.\n",
        "  translator=str.maketrans('','',string.punctuation)\n",
        "  return text.translate(translator)\n",
        "\n",
        "def replace_numbers(text):\n",
        "  \"\"\"Replace all interger occurrences in list of tokenized words with textual representation\"\"\"\n",
        "  return re.sub(r'\\d+','',text)\n",
        "\n",
        "def remove_whitespace(text):\n",
        "  return text.strip()\n",
        "\n",
        "def text2words(text):\n",
        "  return word_tokenize(text)\n",
        "\n",
        "def remove_stopwords(words,stop_words):\n",
        "  return [word for word in words if word not in stop_words]\n",
        "\n",
        "def stem_words(words):\n",
        "  stemmer=PorterStemmer()\n",
        "  return ' '.join([stemmer.stem(word) for word in words])\n",
        "\n",
        "def lemmatize_words(words):\n",
        "    \"\"\"Lemmatize words in text\"\"\"\n",
        "\n",
        "    lemmatizer = WordNetLemmatizer()\n",
        "    return [lemmatizer.lemmatize(word) for word in words]\n",
        "\n",
        "def lemmatize_verbs(words):\n",
        "    \"\"\"Lemmatize verbs in text\"\"\"\n",
        "\n",
        "    lemmatizer = WordNetLemmatizer()\n",
        "    return  [lemmatizer.lemmatize(word, pos='v') for word in words]\n",
        "\n",
        "def normalize_text(text):\n",
        "    text = remove_special_chars(text)\n",
        "    text = remove_non_ascii(text)\n",
        "    text = remove_punctuation(text)\n",
        "    text = to_lowercase(text)\n",
        "    text = replace_numbers(text)\n",
        "    words = text2words(text)\n",
        "    words = remove_stopwords(words, stop_words)\n",
        "    #words = stem_words(words)# Either stem ovocar lemmatize\n",
        "    words = lemmatize_words(words)\n",
        "    words = lemmatize_verbs(words)\n",
        "\n",
        "    return ' '.join(words)\n"
      ],
      "execution_count": 12,
      "outputs": []
    },
    {
      "cell_type": "code",
      "metadata": {
        "colab": {
          "base_uri": "https://localhost:8080/",
          "height": 85
        },
        "id": "Mm6TunZHQ1CO",
        "outputId": "63f518d4-e0ad-49ab-84a6-55f9e4b70b8f"
      },
      "source": [
        "normalize_text(train_text[0])"
      ],
      "execution_count": 13,
      "outputs": [
        {
          "output_type": "execute_result",
          "data": {
            "application/vnd.google.colaboratory.intrinsic+json": {
              "type": "string"
            },
            "text/plain": [
              "'listen warn still pay money read review know original bad good part fit category still even couldnt resist exactly happen part one hilarious much politically incorrectness crazy fat entertainment one couldnt possibly worse sequel god green earth basket case hell even troll truly worst sequel history thats really say something consider groundbreaking bottom barrel quality original criminally insane part completely different brand bad shoot video zero score zero entertainment value consist flashback original top crazy fat ethel lose portion girth mean honestly kind sick joke thank lot nick milliard'"
            ]
          },
          "metadata": {
            "tags": []
          },
          "execution_count": 13
        }
      ]
    },
    {
      "cell_type": "markdown",
      "metadata": {
        "id": "V3dv0UeWymQc"
      },
      "source": [
        "Now let's apply this on the whole corpus:d"
      ]
    },
    {
      "cell_type": "code",
      "metadata": {
        "id": "OtcG1vbeQ1y_"
      },
      "source": [
        "def normalize_corpus(corpus):\n",
        "  return [normalize_text(t) for t in corpus]"
      ],
      "execution_count": 14,
      "outputs": []
    },
    {
      "cell_type": "code",
      "metadata": {
        "id": "O6sRFWGhQ5p9"
      },
      "source": [
        "train_data=normalize_corpus(train_text)\n",
        "test_data=normalize_corpus(test_text)"
      ],
      "execution_count": 15,
      "outputs": []
    },
    {
      "cell_type": "code",
      "metadata": {
        "colab": {
          "base_uri": "https://localhost:8080/",
          "height": 52
        },
        "id": "xea44rJpQ7Q9",
        "outputId": "2f4683cc-b977-4d35-8fd8-948f91b41c07"
      },
      "source": [
        "train_data[1]"
      ],
      "execution_count": 16,
      "outputs": [
        {
          "output_type": "execute_result",
          "data": {
            "application/vnd.google.colaboratory.intrinsic+json": {
              "type": "string"
            },
            "text/plain": [
              "'film feature two favorite guilty pleasure sure effect laughable story confuse watch hasselhoff knight rider day always fun especially like old hotel use shoot add little suspense muster give'"
            ]
          },
          "metadata": {
            "tags": []
          },
          "execution_count": 16
        }
      ]
    },
    {
      "cell_type": "markdown",
      "metadata": {
        "id": "aq5-93IU0YLX"
      },
      "source": [
        "### Text preparation\n",
        "The preparation phase includes transforming text into binary/integer/digital format\n",
        "\n",
        "For that we need a vocabulary vector:"
      ]
    },
    {
      "cell_type": "markdown",
      "metadata": {
        "id": "rVf7IABX0bND"
      },
      "source": [
        "## Vocab and inverse vocab\n",
        "Vocabulary is a mapping (dict) from words to indices (integers). It represents ALL the words in a language. But it's hard to get ALL words, so we count only what we have in a dataset/corpus.\n",
        "\n",
        "Since we don't account for all words, we might encounter Out-Of-Vocab words which we dont know a mapping for. So we usually reserve a special token index for UNKnown words."
      ]
    },
    {
      "cell_type": "markdown",
      "metadata": {
        "id": "eK2X3iJX1pm-"
      },
      "source": [
        "#Manual"
      ]
    },
    {
      "cell_type": "code",
      "metadata": {
        "id": "7doJvjI2z3cc"
      },
      "source": [
        "texts=train_data+test_data\n",
        "# for text in texts && for word in text.split()\n",
        "words=[word for text in texts for word in text.split()]\n",
        "corp=sorted(list(set(words)))\n"
      ],
      "execution_count": 17,
      "outputs": []
    },
    {
      "cell_type": "markdown",
      "metadata": {
        "id": "osD6v1qi8BXV"
      },
      "source": [
        "### build vocabulary manual"
      ]
    },
    {
      "cell_type": "code",
      "metadata": {
        "colab": {
          "base_uri": "https://localhost:8080/"
        },
        "id": "_tW18V8t3Y56",
        "outputId": "5a145bd1-9afa-4d19-d1ed-08ec9f81c8b3"
      },
      "source": [
        "str2idx={w:i for i,w in enumerate(corp)}\n",
        "idx2str={i:w for i,w in enumerate(corp)}\n",
        "len(str2idx)"
      ],
      "execution_count": 18,
      "outputs": [
        {
          "output_type": "execute_result",
          "data": {
            "text/plain": [
              "140832"
            ]
          },
          "metadata": {
            "tags": []
          },
          "execution_count": 18
        }
      ]
    },
    {
      "cell_type": "markdown",
      "metadata": {
        "id": "dKKVlSba7nri"
      },
      "source": [
        "If we want word_counts and ordered dict str2idx (same in keras Tokenizer)"
      ]
    },
    {
      "cell_type": "code",
      "metadata": {
        "id": "wzYiCcTC2hEe"
      },
      "source": [
        "from collections import Counter\n",
        "word_counts=Counter(words)\n",
        "v_s=sorted(word_counts.items() , key=lambda x:x[1] , reverse=True)\n",
        "str2idx={key:val for key,val in v_s}\n",
        "idx2str={val:key for key,val in v_s}\n"
      ],
      "execution_count": 19,
      "outputs": []
    },
    {
      "cell_type": "markdown",
      "metadata": {
        "id": "Jxge5UOOCx0A"
      },
      "source": [
        "# Binarization/vecotrization\n",
        "We can use any given vocab dict to binarize text and come back. This maps exactly to keras texts_to_sequences"
      ]
    },
    {
      "cell_type": "code",
      "metadata": {
        "colab": {
          "base_uri": "https://localhost:8080/"
        },
        "id": "DrpQvGy_2xyN",
        "outputId": "5ae7f417-1245-4d5d-a4ab-f7945ecb731b"
      },
      "source": [
        "docs = ['cartoon movie show', 'hello world']\n",
        "l = [[str2idx[w] for w in s.split()] for s in docs]\n",
        "l"
      ],
      "execution_count": 20,
      "outputs": [
        {
          "output_type": "execute_result",
          "data": {
            "text/plain": [
              "[[1483, 100955, 21680], [153, 7484]]"
            ]
          },
          "metadata": {
            "tags": []
          },
          "execution_count": 20
        }
      ]
    },
    {
      "cell_type": "markdown",
      "metadata": {
        "id": "AiE3XV15DSxv"
      },
      "source": [
        "### Keras Tokenizer\n",
        "The keras tokenizer can be used to convert a sequence of words into integers.\n",
        "\n",
        "It builds an internal vocab, called word_index.\n",
        "\n",
        "To use a tokenizer, you must first fit it to the texts. It learns some stats about the text this way.\n",
        "\n",
        "**It's advised to fit the tokenizer on all the data (train+test) to avoid OOV**\n",
        "\n",
        "This is not \"cheating\" and not leading to overfitting, as we don't use the test labels, but only the raw text features (unsupervised)"
      ]
    },
    {
      "cell_type": "code",
      "metadata": {
        "colab": {
          "base_uri": "https://localhost:8080/"
        },
        "id": "o3IEtazfDUl0",
        "outputId": "b8b2293b-aaa8-4a43-e90e-3085d156af37"
      },
      "source": [
        "from keras.preprocessing.text import Tokenizer\n",
        "\n",
        "texts = train_data + test_data # This must be list of strings: \n",
        "texts[:10]"
      ],
      "execution_count": 21,
      "outputs": [
        {
          "output_type": "execute_result",
          "data": {
            "text/plain": [
              "['listen warn still pay money read review know original bad good part fit category still even couldnt resist exactly happen part one hilarious much politically incorrectness crazy fat entertainment one couldnt possibly worse sequel god green earth basket case hell even troll truly worst sequel history thats really say something consider groundbreaking bottom barrel quality original criminally insane part completely different brand bad shoot video zero score zero entertainment value consist flashback original top crazy fat ethel lose portion girth mean honestly kind sick joke thank lot nick milliard',\n",
              " 'film feature two favorite guilty pleasure sure effect laughable story confuse watch hasselhoff knight rider day always fun especially like old hotel use shoot add little suspense muster give',\n",
              " 'wish could give movie zero even lower sadly thats deserve honestly never walk movie one dreadfully awful couldnt stand another minute pleaseplease please sake mankind skip movie want hot lesbian movie really delve isnt unattractive unappealing lead choppy structure ridiculous dialog absolutely unconvincing every imaginable way absolutely basic level fail entertain everything mango kiss stagey worse student film see werent enough entire movie rely constant mean constant voice narration script writer may well write novel insist tell everything instead show suppose assume lou sassafras best friend special connection even though character development illustrate also film continue introduce new character first five minute natural way freezeframe character name write screen introduction development character dont really get know amateur movie ever see gay woman watch film roommate another gay woman find movie depress representation queer cinema begin think lesbian gay movie lot like christian rock doesnt matter atrocious people still flock champion matter poor quality please dont rent instead let encourage production quality gay lesbian movie rent im cheerleader fire heavenly creature instead swallow whatever mindless tripe aim gay community ie queer folk',\n",
              " 'watch movie two hour absolutely idea somebody get murder maybe didnt maybe somebody maybe didnt bring back memory good old day bad old day cbc canadian movie stinker lately stinker exception confuse hodge podge trendy feminism mind reel flash back mumble dialogue make lose time ive never find margaret atwoods book easy read movie continue fine canadian tradition isnt easy watch maybe trendy folk chi chi toronto cocktail party pretend like u folk boonies little le pretentious',\n",
              " 'word fail film extremely difficult watch hindsight really wish hadnt do although attempt sit end credit admit couldnt last hour opinion could unfair however film would require impressive final third history filmmaking order give review anything vicious please watch part film',\n",
              " 'im incorrigible skeptic agnostic thus expect enjoy film watch however honestly believe could make better documentary argument appear four spurious source despite list credit imdb didnt see richard dawkins anywhere edit together crudely laughably amateurish computer effect doesnt make even slightest attempt appear impartial narration pervade throughout sneer almost adolescent antichristian sentiment ruin possibility film might actually change someone mind oppose preach choir ie though interest discussion historicity jesus movie hit unbearable snag begin dwell heavily christian school director attend child institution apparently scar badly psychologically ob day though tgwwt obviously low budget still opportunity make intelligent commentary highly questionable root christianity there certainly dearth skepticallyminded religious documentary market film could help fill void instead director choose insult intelligence piece garbage end appear sort therapeutic exercise bad christian upbringing traumatize neednt subject audience cop mechanism',\n",
              " 'elizabeth ward gracen probably remember one bill clinton bimbo eruption pill probably weakest element show really continue tire formula highlander series hero immortal encounter another immortal flashback last time meet conflict sword fight end cheap special effect sequence character nick wolf basically typical unshaven hero typical sexual tension storyline seriously hollywood type think sexual tension interest sex joint canadianfrench production half series take place vancouver imitate new york half paris like highlander',\n",
              " 'analyze film worse become first motivational speaker part stupid mean would megalomaniac try control world rely motivational speaker alexander stone really disorganize first cant decide want control world look bible idea many idea might add really reliabilityfor example part house ishmael isaac shall scream terror could already happen could synagogue burn krystalnacht mosque could well mosque blow baghdad something gillen lane family part except provide family value platfrom dab eye water might add since casper van diengillen lane twentiesor thats impression hadand ten year child child high school yeah go tbns family value also film damn propagandalike ill repeat earlier reviewer say indiana jones flick use christian mythology plot dvice manipulate well intoxicate film doesnt beginnig start well michael ironside play priest murder scholar sort steal dead guy omega code confront two men obviously afraid two prophet tell tell master dominicironsides reply already know point small surveillance camera part send chill spine go like one scene would love film ill give michael york credit fine job act character michael ironside good guy horrible ive already go lane family im act ill get plot obviously baptist film since beloved pope vatican portray oaf world domination plot like find plausible subtle action sequence also thrill welldone also another diatribe vatican leader see dogmatically mind since gillen explain pope end world begin new one also vatican israelissays go secede world union aince use omega code control world whoever wouldnt secede theyd send commando kill equivalent america know kgb go kill president simply say go talk come enjoy scene see bomber head towards israel see monitor mediocre short',\n",
              " 'waste time completely unnecessary remake great film nothing new original add perry backflashes marginal interest lack documentary feel first film raw urgency make effective also painfully miss sharp quincy jones soundtrack add much original film cant understand high rat quite bad anyone waste time money make crap like waste time watch',\n",
              " 'post contain spoiler im big fan chuck norris actor worship way also fan web site chuck norris fact really entertain movie look like someone joke audience put fact one movie really dont remember waste time action dont know whats worst movie offer unoriginal thousandtimesmade plot terrorist try nuke u smuggle nuke u soil perhaps great dialog chuck word wisdom life everything else someone may find worst terrorist actually speak english everyday life never end list crap mention huge amount archive footage use film kinda annoy chief terrorist send comrade message medium capture guy smart enough see treat chuck norris course one else america smart enough see whole action capture chief ridiculous one man send walk whole terrorist camp unarm im lie knife escape stalker jet pack para glide hundred maybe even thousand kilometer nearest shore afganistan border km far away nearest shore rescue submarine hop least fight scene good thats even funny plot didnt know terrorist master martial art chuck co beat sht kill easily kick throw away single move bad guy fly meter like doll may ask watch movie end want see two super hero defuse nuclear bomb hundred megaton size microwave realize fool course chuck movie singlehandedly defuse nuke tweezer twice could write book stupid thing movie would spend life spawn maker movie make another chuck norris fact add web site chuck norris defuse nuclear bomb yes twice']"
            ]
          },
          "metadata": {
            "tags": []
          },
          "execution_count": 21
        }
      ]
    },
    {
      "cell_type": "code",
      "metadata": {
        "id": "BNieoyNEJj0t"
      },
      "source": [
        "tok = Tokenizer()\n",
        "tok.fit_on_texts(texts)#build the vocabulary from my dataset"
      ],
      "execution_count": 22,
      "outputs": []
    },
    {
      "cell_type": "code",
      "metadata": {
        "colab": {
          "base_uri": "https://localhost:8080/"
        },
        "id": "VC4fPB6gJygL",
        "outputId": "3fa60ff6-5874-4347-cfe5-2f6c3443bf7f"
      },
      "source": [
        "#to show the vocabulary\n",
        "tok.word_index"
      ],
      "execution_count": 23,
      "outputs": [
        {
          "output_type": "execute_result",
          "data": {
            "text/plain": [
              "{'movie': 1,\n",
              " 'film': 2,\n",
              " 'one': 3,\n",
              " 'make': 4,\n",
              " 'like': 5,\n",
              " 'see': 6,\n",
              " 'get': 7,\n",
              " 'time': 8,\n",
              " 'good': 9,\n",
              " 'character': 10,\n",
              " 'watch': 11,\n",
              " 'go': 12,\n",
              " 'even': 13,\n",
              " 'story': 14,\n",
              " 'think': 15,\n",
              " 'would': 16,\n",
              " 'really': 17,\n",
              " 'show': 18,\n",
              " 'scene': 19,\n",
              " 'well': 20,\n",
              " 'look': 21,\n",
              " 'say': 22,\n",
              " 'much': 23,\n",
              " 'know': 24,\n",
              " 'end': 25,\n",
              " 'people': 26,\n",
              " 'great': 27,\n",
              " 'bad': 28,\n",
              " 'also': 29,\n",
              " 'give': 30,\n",
              " 'first': 31,\n",
              " 'take': 32,\n",
              " 'act': 33,\n",
              " 'play': 34,\n",
              " 'love': 35,\n",
              " 'way': 36,\n",
              " 'dont': 37,\n",
              " 'come': 38,\n",
              " 'thing': 39,\n",
              " 'find': 40,\n",
              " 'could': 41,\n",
              " 'life': 42,\n",
              " 'seem': 43,\n",
              " 'work': 44,\n",
              " 'many': 45,\n",
              " 'plot': 46,\n",
              " 'actor': 47,\n",
              " 'want': 48,\n",
              " 'two': 49,\n",
              " 'never': 50,\n",
              " 'year': 51,\n",
              " 'try': 52,\n",
              " 'best': 53,\n",
              " 'little': 54,\n",
              " 'ever': 55,\n",
              " 'better': 56,\n",
              " 'man': 57,\n",
              " 'still': 58,\n",
              " 'feel': 59,\n",
              " 'part': 60,\n",
              " 'something': 61,\n",
              " 'lot': 62,\n",
              " 'back': 63,\n",
              " 'interest': 64,\n",
              " 'im': 65,\n",
              " 'director': 66,\n",
              " 'real': 67,\n",
              " 'guy': 68,\n",
              " 'performance': 69,\n",
              " 'doesnt': 70,\n",
              " 'use': 71,\n",
              " 'didnt': 72,\n",
              " 'woman': 73,\n",
              " 'though': 74,\n",
              " 'funny': 75,\n",
              " 'cast': 76,\n",
              " 'another': 77,\n",
              " 'actually': 78,\n",
              " 'nothing': 79,\n",
              " 'role': 80,\n",
              " 'tell': 81,\n",
              " 'u': 82,\n",
              " 'start': 83,\n",
              " 'star': 84,\n",
              " 'new': 85,\n",
              " 'every': 86,\n",
              " 'shoot': 87,\n",
              " 'old': 88,\n",
              " 'write': 89,\n",
              " 'point': 90,\n",
              " 'set': 91,\n",
              " 'girl': 92,\n",
              " 'become': 93,\n",
              " 'cant': 94,\n",
              " 'world': 95,\n",
              " 'turn': 96,\n",
              " 'day': 97,\n",
              " 'thats': 98,\n",
              " 'minute': 99,\n",
              " 'kill': 100,\n",
              " 'fact': 101,\n",
              " 'quite': 102,\n",
              " 'pretty': 103,\n",
              " 'leave': 104,\n",
              " 'happen': 105,\n",
              " 'comedy': 106,\n",
              " 'around': 107,\n",
              " 'bite': 108,\n",
              " 'young': 109,\n",
              " 'horror': 110,\n",
              " 'mean': 111,\n",
              " 'however': 112,\n",
              " 'enough': 113,\n",
              " 'right': 114,\n",
              " 'big': 115,\n",
              " 'action': 116,\n",
              " 'ive': 117,\n",
              " 'fan': 118,\n",
              " 'may': 119,\n",
              " 'long': 120,\n",
              " 'keep': 121,\n",
              " 'need': 122,\n",
              " 'line': 123,\n",
              " 'enjoy': 124,\n",
              " 'friend': 125,\n",
              " 'script': 126,\n",
              " 'without': 127,\n",
              " 'original': 128,\n",
              " 'saw': 129,\n",
              " 'music': 130,\n",
              " 'isnt': 131,\n",
              " 'begin': 132,\n",
              " 'always': 133,\n",
              " 'series': 134,\n",
              " 'family': 135,\n",
              " 'almost': 136,\n",
              " 'put': 137,\n",
              " 'must': 138,\n",
              " 'kid': 139,\n",
              " 'there': 140,\n",
              " 'whole': 141,\n",
              " 'least': 142,\n",
              " 'last': 143,\n",
              " 'do': 144,\n",
              " 'lead': 145,\n",
              " 'laugh': 146,\n",
              " 'place': 147,\n",
              " 'kind': 148,\n",
              " 'far': 149,\n",
              " 'reason': 150,\n",
              " 'might': 151,\n",
              " 'anything': 152,\n",
              " 'he': 153,\n",
              " 'effect': 154,\n",
              " 'since': 155,\n",
              " 'live': 156,\n",
              " 'believe': 157,\n",
              " 'let': 158,\n",
              " 'probably': 159,\n",
              " 'run': 160,\n",
              " 'book': 161,\n",
              " 'name': 162,\n",
              " 'tv': 163,\n",
              " 'call': 164,\n",
              " 'away': 165,\n",
              " 'help': 166,\n",
              " 'moment': 167,\n",
              " 'yet': 168,\n",
              " 'worst': 169,\n",
              " 'fun': 170,\n",
              " 'rather': 171,\n",
              " 'read': 172,\n",
              " 'sure': 173,\n",
              " 'anyone': 174,\n",
              " 'screen': 175,\n",
              " 'audience': 176,\n",
              " 'idea': 177,\n",
              " 'expect': 178,\n",
              " 'bore': 179,\n",
              " 'child': 180,\n",
              " 'dvd': 181,\n",
              " 'although': 182,\n",
              " 'episode': 183,\n",
              " 'course': 184,\n",
              " 'american': 185,\n",
              " 'especially': 186,\n",
              " 'bring': 187,\n",
              " 'hard': 188,\n",
              " 'job': 189,\n",
              " 'war': 190,\n",
              " 'everything': 191,\n",
              " 'move': 192,\n",
              " 'worth': 193,\n",
              " 'different': 194,\n",
              " 'someone': 195,\n",
              " 'maybe': 196,\n",
              " 'main': 197,\n",
              " 'sense': 198,\n",
              " 'sound': 199,\n",
              " 'problem': 200,\n",
              " 'wasnt': 201,\n",
              " 'three': 202,\n",
              " 'version': 203,\n",
              " 'recommend': 204,\n",
              " 'money': 205,\n",
              " 'true': 206,\n",
              " 'lose': 207,\n",
              " 'together': 208,\n",
              " 'understand': 209,\n",
              " 'night': 210,\n",
              " 'waste': 211,\n",
              " 'second': 212,\n",
              " 'follow': 213,\n",
              " 'direct': 214,\n",
              " 'view': 215,\n",
              " 'instead': 216,\n",
              " 'boy': 217,\n",
              " 'everyone': 218,\n",
              " 'face': 219,\n",
              " 'later': 220,\n",
              " 'special': 221,\n",
              " 'hear': 222,\n",
              " 'mind': 223,\n",
              " 'death': 224,\n",
              " 'john': 225,\n",
              " 'beautiful': 226,\n",
              " 'fall': 227,\n",
              " 'talk': 228,\n",
              " 'miss': 229,\n",
              " 'black': 230,\n",
              " 'house': 231,\n",
              " 'wife': 232,\n",
              " 'hour': 233,\n",
              " 'excellent': 234,\n",
              " 'le': 235,\n",
              " 'open': 236,\n",
              " 'short': 237,\n",
              " 'classic': 238,\n",
              " 'remember': 239,\n",
              " 'fight': 240,\n",
              " 'surprise': 241,\n",
              " 'change': 242,\n",
              " 'viewer': 243,\n",
              " 'head': 244,\n",
              " 'include': 245,\n",
              " 'high': 246,\n",
              " 'father': 247,\n",
              " 'piece': 248,\n",
              " 'simply': 249,\n",
              " 'appear': 250,\n",
              " 'eye': 251,\n",
              " 'else': 252,\n",
              " 'youre': 253,\n",
              " 'completely': 254,\n",
              " 'production': 255,\n",
              " 'nice': 256,\n",
              " 'attempt': 257,\n",
              " 'poor': 258,\n",
              " 'couple': 259,\n",
              " 'picture': 260,\n",
              " 'release': 261,\n",
              " 'entertain': 262,\n",
              " 'home': 263,\n",
              " 'care': 264,\n",
              " 'along': 265,\n",
              " 'men': 266,\n",
              " 'involve': 267,\n",
              " 'meet': 268,\n",
              " 'suppose': 269,\n",
              " 'feature': 270,\n",
              " 'human': 271,\n",
              " 'song': 272,\n",
              " 'lack': 273,\n",
              " 'either': 274,\n",
              " 'word': 275,\n",
              " 'add': 276,\n",
              " 'wrong': 277,\n",
              " 'hollywood': 278,\n",
              " 'hand': 279,\n",
              " 'rest': 280,\n",
              " 'half': 281,\n",
              " 'camera': 282,\n",
              " 'title': 283,\n",
              " 'decide': 284,\n",
              " 'school': 285,\n",
              " 'truly': 286,\n",
              " 'dead': 287,\n",
              " 'next': 288,\n",
              " 'stupid': 289,\n",
              " 'video': 290,\n",
              " 'hope': 291,\n",
              " 'save': 292,\n",
              " 'game': 293,\n",
              " 'murder': 294,\n",
              " 'person': 295,\n",
              " 'review': 296,\n",
              " 'others': 297,\n",
              " 'awful': 298,\n",
              " 'top': 299,\n",
              " 'sort': 300,\n",
              " 'terrible': 301,\n",
              " 'full': 302,\n",
              " 'mr': 303,\n",
              " 'sex': 304,\n",
              " 'case': 305,\n",
              " 'budget': 306,\n",
              " 'dialogue': 307,\n",
              " 'wonder': 308,\n",
              " 'perhaps': 309,\n",
              " 'create': 310,\n",
              " 'joke': 311,\n",
              " 'die': 312,\n",
              " 'wonderful': 313,\n",
              " 'mother': 314,\n",
              " 'flick': 315,\n",
              " 'guess': 316,\n",
              " 'rat': 317,\n",
              " 'base': 318,\n",
              " 'perfect': 319,\n",
              " 'style': 320,\n",
              " 'comment': 321,\n",
              " 'experience': 322,\n",
              " 'sequence': 323,\n",
              " 'definitely': 324,\n",
              " 'sit': 325,\n",
              " 'often': 326,\n",
              " 'small': 327,\n",
              " 'couldnt': 328,\n",
              " 'early': 329,\n",
              " 'consider': 330,\n",
              " 'example': 331,\n",
              " 'mention': 332,\n",
              " 'force': 333,\n",
              " 'absolutely': 334,\n",
              " 'finally': 335,\n",
              " 'brother': 336,\n",
              " 'cinema': 337,\n",
              " 'killer': 338,\n",
              " 'certainly': 339,\n",
              " 'light': 340,\n",
              " 'amaze': 341,\n",
              " 'quality': 342,\n",
              " 'drama': 343,\n",
              " 'worse': 344,\n",
              " 'ask': 345,\n",
              " 'actress': 346,\n",
              " 'yes': 347,\n",
              " 'car': 348,\n",
              " 'disappoint': 349,\n",
              " 'buy': 350,\n",
              " 'stop': 351,\n",
              " 'felt': 352,\n",
              " 'fail': 353,\n",
              " 'entire': 354,\n",
              " 'deal': 355,\n",
              " 'overall': 356,\n",
              " 'matter': 357,\n",
              " 'age': 358,\n",
              " 'art': 359,\n",
              " 'several': 360,\n",
              " 'spend': 361,\n",
              " 'stand': 362,\n",
              " 'direction': 363,\n",
              " 'writer': 364,\n",
              " 'side': 365,\n",
              " 'cut': 366,\n",
              " 'break': 367,\n",
              " 'learn': 368,\n",
              " 'favorite': 369,\n",
              " 'son': 370,\n",
              " 'oh': 371,\n",
              " 'totally': 372,\n",
              " 'close': 373,\n",
              " 'shes': 374,\n",
              " 'hold': 375,\n",
              " 'dark': 376,\n",
              " 'humor': 377,\n",
              " 'wait': 378,\n",
              " 'id': 379,\n",
              " 'forget': 380,\n",
              " 'evil': 381,\n",
              " 'white': 382,\n",
              " 'final': 383,\n",
              " 'throughout': 384,\n",
              " 'hit': 385,\n",
              " 'despite': 386,\n",
              " 'already': 387,\n",
              " 'speak': 388,\n",
              " 'wont': 389,\n",
              " 'low': 390,\n",
              " 'youll': 391,\n",
              " 'relationship': 392,\n",
              " 'manage': 393,\n",
              " 'walk': 394,\n",
              " 'voice': 395,\n",
              " 'unfortunately': 396,\n",
              " 'type': 397,\n",
              " 'support': 398,\n",
              " 'able': 399,\n",
              " 'hero': 400,\n",
              " 'number': 401,\n",
              " 'history': 402,\n",
              " 'today': 403,\n",
              " 'heart': 404,\n",
              " 'dance': 405,\n",
              " 'michael': 406,\n",
              " 'throw': 407,\n",
              " 'portray': 408,\n",
              " 'wish': 409,\n",
              " 'fine': 410,\n",
              " 'stuff': 411,\n",
              " 'credit': 412,\n",
              " 'rent': 413,\n",
              " 'genre': 414,\n",
              " 'horrible': 415,\n",
              " 'group': 416,\n",
              " 'town': 417,\n",
              " 'twist': 418,\n",
              " 'daughter': 419,\n",
              " 'present': 420,\n",
              " 'theyre': 421,\n",
              " 'pay': 422,\n",
              " 'city': 423,\n",
              " 'score': 424,\n",
              " 'stay': 425,\n",
              " 'power': 426,\n",
              " 'question': 427,\n",
              " 'past': 428,\n",
              " 'deserve': 429,\n",
              " 'touch': 430,\n",
              " 'realize': 431,\n",
              " 'talent': 432,\n",
              " 'theme': 433,\n",
              " 'event': 434,\n",
              " 'brilliant': 435,\n",
              " 'robert': 436,\n",
              " 'god': 437,\n",
              " 'situation': 438,\n",
              " 'behind': 439,\n",
              " 'please': 440,\n",
              " 'chance': 441,\n",
              " 'catch': 442,\n",
              " 'obviously': 443,\n",
              " 'order': 444,\n",
              " 'annoy': 445,\n",
              " 'return': 446,\n",
              " 'body': 447,\n",
              " 'sometimes': 448,\n",
              " 'soon': 449,\n",
              " 'level': 450,\n",
              " 'etc': 451,\n",
              " 'complete': 452,\n",
              " 'hell': 453,\n",
              " 'late': 454,\n",
              " 'ill': 455,\n",
              " 'build': 456,\n",
              " 'decent': 457,\n",
              " 'highly': 458,\n",
              " 'figure': 459,\n",
              " 'element': 460,\n",
              " 'except': 461,\n",
              " 'blood': 462,\n",
              " 'grow': 463,\n",
              " 'anyway': 464,\n",
              " 'edit': 465,\n",
              " 'jam': 466,\n",
              " 'career': 467,\n",
              " 'country': 468,\n",
              " 'novel': 469,\n",
              " 'extremely': 470,\n",
              " 'pick': 471,\n",
              " 'monster': 472,\n",
              " 'police': 473,\n",
              " 'wouldnt': 474,\n",
              " 'drive': 475,\n",
              " 'documentary': 476,\n",
              " 'offer': 477,\n",
              " 'effort': 478,\n",
              " 'cause': 479,\n",
              " 'hilarious': 480,\n",
              " 'reality': 481,\n",
              " 'ok': 482,\n",
              " 'strong': 483,\n",
              " 'pace': 484,\n",
              " 'slow': 485,\n",
              " 'violence': 486,\n",
              " 'deliver': 487,\n",
              " 'state': 488,\n",
              " 'david': 489,\n",
              " 'particularly': 490,\n",
              " 'opinion': 491,\n",
              " 'husband': 492,\n",
              " 'result': 493,\n",
              " 'obvious': 494,\n",
              " 'dream': 495,\n",
              " 'cool': 496,\n",
              " 'serious': 497,\n",
              " 'simple': 498,\n",
              " 'provide': 499,\n",
              " 'musical': 500,\n",
              " 'theater': 501,\n",
              " 'sequel': 502,\n",
              " 'explain': 503,\n",
              " 'crap': 504,\n",
              " 'lady': 505,\n",
              " 'ago': 506,\n",
              " 'sister': 507,\n",
              " 'allow': 508,\n",
              " 'female': 509,\n",
              " 'value': 510,\n",
              " 'sing': 511,\n",
              " 'across': 512,\n",
              " 'exactly': 513,\n",
              " 'room': 514,\n",
              " 'seriously': 515,\n",
              " 'compare': 516,\n",
              " 'check': 517,\n",
              " 'possible': 518,\n",
              " 'cop': 519,\n",
              " 'usually': 520,\n",
              " 'alone': 521,\n",
              " 'draw': 522,\n",
              " 'none': 523,\n",
              " 'note': 524,\n",
              " 'sad': 525,\n",
              " 'dialog': 526,\n",
              " 'dog': 527,\n",
              " 'english': 528,\n",
              " 'huge': 529,\n",
              " 'spoiler': 530,\n",
              " 'cinematography': 531,\n",
              " 'zombie': 532,\n",
              " 'convince': 533,\n",
              " 'gore': 534,\n",
              " 'filmmaker': 535,\n",
              " 'stick': 536,\n",
              " 'shock': 537,\n",
              " 'major': 538,\n",
              " 'subject': 539,\n",
              " 'focus': 540,\n",
              " 'team': 541,\n",
              " 'whose': 542,\n",
              " 'local': 543,\n",
              " 'avoid': 544,\n",
              " 'ridiculous': 545,\n",
              " 'season': 546,\n",
              " 'steal': 547,\n",
              " 'message': 548,\n",
              " 'pull': 549,\n",
              " 'cover': 550,\n",
              " 'usual': 551,\n",
              " 'beyond': 552,\n",
              " 'mostly': 553,\n",
              " 'important': 554,\n",
              " 'somewhat': 555,\n",
              " 'rock': 556,\n",
              " 'silly': 557,\n",
              " 'thriller': 558,\n",
              " 'jack': 559,\n",
              " 'form': 560,\n",
              " 'tale': 561,\n",
              " 'attention': 562,\n",
              " 'scary': 563,\n",
              " 'apparently': 564,\n",
              " 'comic': 565,\n",
              " 'detail': 566,\n",
              " 'parent': 567,\n",
              " 'due': 568,\n",
              " 'basically': 569,\n",
              " 'strange': 570,\n",
              " 'hate': 571,\n",
              " 'four': 572,\n",
              " 'king': 573,\n",
              " 'escape': 574,\n",
              " 'image': 575,\n",
              " 'television': 576,\n",
              " 'happy': 577,\n",
              " 'produce': 578,\n",
              " 'single': 579,\n",
              " 'street': 580,\n",
              " 'upon': 581,\n",
              " 'charm': 582,\n",
              " 'train': 583,\n",
              " 'producer': 584,\n",
              " 'member': 585,\n",
              " 'clearly': 586,\n",
              " 'remain': 587,\n",
              " 'win': 588,\n",
              " 'cheap': 589,\n",
              " 'thank': 590,\n",
              " 'imagine': 591,\n",
              " 'whats': 592,\n",
              " 'george': 593,\n",
              " 'arent': 594,\n",
              " 'fit': 595,\n",
              " 'discover': 596,\n",
              " 'doubt': 597,\n",
              " 'marry': 598,\n",
              " 'plan': 599,\n",
              " 'british': 600,\n",
              " 'fill': 601,\n",
              " 'capture': 602,\n",
              " 'soundtrack': 603,\n",
              " 'space': 604,\n",
              " 'modern': 605,\n",
              " 'earth': 606,\n",
              " 'wear': 607,\n",
              " 'ten': 608,\n",
              " 'crime': 609,\n",
              " 'whether': 610,\n",
              " 'drug': 611,\n",
              " 'entertainment': 612,\n",
              " 'predictable': 613,\n",
              " 'class': 614,\n",
              " 'remind': 615,\n",
              " 'future': 616,\n",
              " 'western': 617,\n",
              " 'gun': 618,\n",
              " 'french': 619,\n",
              " 'fire': 620,\n",
              " 'clear': 621,\n",
              " 'easily': 622,\n",
              " 'peter': 623,\n",
              " 'villain': 624,\n",
              " 'storyline': 625,\n",
              " 'havent': 626,\n",
              " 'date': 627,\n",
              " 'enjoyable': 628,\n",
              " 'mystery': 629,\n",
              " 'mark': 630,\n",
              " 'carry': 631,\n",
              " 'aspect': 632,\n",
              " 'similar': 633,\n",
              " 'develop': 634,\n",
              " 'romantic': 635,\n",
              " 'air': 636,\n",
              " 'send': 637,\n",
              " 'bunch': 638,\n",
              " 'copy': 639,\n",
              " 'confuse': 640,\n",
              " 'battle': 641,\n",
              " 'within': 642,\n",
              " 'adult': 643,\n",
              " 'five': 644,\n",
              " 'soldier': 645,\n",
              " 'chase': 646,\n",
              " 'certain': 647,\n",
              " 'agree': 648,\n",
              " 'dull': 649,\n",
              " 'middle': 650,\n",
              " 'emotion': 651,\n",
              " 'cliche': 652,\n",
              " 'oscar': 653,\n",
              " 'attack': 654,\n",
              " 'doctor': 655,\n",
              " 'among': 656,\n",
              " 'sorry': 657,\n",
              " 'near': 658,\n",
              " 'choose': 659,\n",
              " 'easy': 660,\n",
              " 'suck': 661,\n",
              " 'general': 662,\n",
              " 'typical': 663,\n",
              " 'victim': 664,\n",
              " 'period': 665,\n",
              " 'box': 666,\n",
              " 'bill': 667,\n",
              " 'material': 668,\n",
              " 'remake': 669,\n",
              " 'standard': 670,\n",
              " 'reveal': 671,\n",
              " 'finish': 672,\n",
              " 'mess': 673,\n",
              " 'student': 674,\n",
              " 'greatest': 675,\n",
              " 'match': 676,\n",
              " 'nearly': 677,\n",
              " 'trouble': 678,\n",
              " 'suspense': 679,\n",
              " 'notice': 680,\n",
              " 'fantastic': 681,\n",
              " 'issue': 682,\n",
              " 'actual': 683,\n",
              " 'continue': 684,\n",
              " 'bear': 685,\n",
              " 'cartoon': 686,\n",
              " 'water': 687,\n",
              " 'dr': 688,\n",
              " 'animation': 689,\n",
              " 'straight': 690,\n",
              " 'richard': 691,\n",
              " 'cry': 692,\n",
              " 'realistic': 693,\n",
              " 'premise': 694,\n",
              " 'famous': 695,\n",
              " 'contain': 696,\n",
              " 'okay': 697,\n",
              " 'suffer': 698,\n",
              " 'describe': 699,\n",
              " 'youve': 700,\n",
              " 'list': 701,\n",
              " 'hide': 702,\n",
              " 'paul': 703,\n",
              " 'th': 704,\n",
              " 'somehow': 705,\n",
              " 'believable': 706,\n",
              " 'excite': 707,\n",
              " 'truth': 708,\n",
              " 'romance': 709,\n",
              " 'tom': 710,\n",
              " 'america': 711,\n",
              " 'bother': 712,\n",
              " 'alien': 713,\n",
              " 'masterpiece': 714,\n",
              " 'fly': 715,\n",
              " 'eat': 716,\n",
              " 'appreciate': 717,\n",
              " 'beat': 718,\n",
              " 'background': 719,\n",
              " 'blow': 720,\n",
              " 'mix': 721,\n",
              " 'atmosphere': 722,\n",
              " 'york': 723,\n",
              " 'eventually': 724,\n",
              " 'admit': 725,\n",
              " 'vampire': 726,\n",
              " 'particular': 727,\n",
              " 'weak': 728,\n",
              " 'society': 729,\n",
              " 'who': 730,\n",
              " 'red': 731,\n",
              " 'party': 732,\n",
              " 'treat': 733,\n",
              " 'leaf': 734,\n",
              " 'indeed': 735,\n",
              " 'fast': 736,\n",
              " 'shame': 737,\n",
              " 'warn': 738,\n",
              " 'male': 739,\n",
              " 'crew': 740,\n",
              " 'german': 741,\n",
              " 'lie': 742,\n",
              " 'choice': 743,\n",
              " 'average': 744,\n",
              " 'mistake': 745,\n",
              " 'appeal': 746,\n",
              " 'studio': 747,\n",
              " 'baby': 748,\n",
              " 'deep': 749,\n",
              " 'lame': 750,\n",
              " 'difficult': 751,\n",
              " 'secret': 752,\n",
              " 'stage': 753,\n",
              " 'whatever': 754,\n",
              " 'b': 755,\n",
              " 'drink': 756,\n",
              " 'accent': 757,\n",
              " 'beauty': 758,\n",
              " 'gay': 759,\n",
              " 'screenplay': 760,\n",
              " 'footage': 761,\n",
              " 'fear': 762,\n",
              " 'poorly': 763,\n",
              " 'third': 764,\n",
              " 'island': 765,\n",
              " 'possibly': 766,\n",
              " 'emotional': 767,\n",
              " 'de': 768,\n",
              " 'wood': 769,\n",
              " 'lee': 770,\n",
              " 'memorable': 771,\n",
              " 'free': 772,\n",
              " 'struggle': 773,\n",
              " 'suggest': 774,\n",
              " 'rise': 775,\n",
              " 'flaw': 776,\n",
              " 'nature': 777,\n",
              " 'scifi': 778,\n",
              " 'otherwise': 779,\n",
              " 'unless': 780,\n",
              " 'week': 781,\n",
              " 'project': 782,\n",
              " 'spirit': 783,\n",
              " 'sexual': 784,\n",
              " 'imdb': 785,\n",
              " 'superb': 786,\n",
              " 'la': 787,\n",
              " 'location': 788,\n",
              " 'costume': 789,\n",
              " 'inside': 790,\n",
              " 'previous': 791,\n",
              " 'plus': 792,\n",
              " 'cheesy': 793,\n",
              " 'hot': 794,\n",
              " 'perfectly': 795,\n",
              " 'total': 796,\n",
              " 'animal': 797,\n",
              " 'personal': 798,\n",
              " 'control': 799,\n",
              " 'award': 800,\n",
              " 'scream': 801,\n",
              " 'forward': 802,\n",
              " 'development': 803,\n",
              " 'adventure': 804,\n",
              " 'quickly': 805,\n",
              " 'towards': 806,\n",
              " 'weird': 807,\n",
              " 'girlfriend': 808,\n",
              " 'crazy': 809,\n",
              " 'incredibly': 810,\n",
              " 'master': 811,\n",
              " 'lover': 812,\n",
              " 'japanese': 813,\n",
              " 'earlier': 814,\n",
              " 'company': 815,\n",
              " 'badly': 816,\n",
              " 'land': 817,\n",
              " 'amount': 818,\n",
              " 'front': 819,\n",
              " 'respect': 820,\n",
              " 'unique': 821,\n",
              " 'disney': 822,\n",
              " 'business': 823,\n",
              " 'promise': 824,\n",
              " 'answer': 825,\n",
              " 'older': 826,\n",
              " 'various': 827,\n",
              " 'term': 828,\n",
              " 'rich': 829,\n",
              " 'track': 830,\n",
              " 'success': 831,\n",
              " 'plenty': 832,\n",
              " 'powerful': 833,\n",
              " 'amuse': 834,\n",
              " 'fantasy': 835,\n",
              " 'jump': 836,\n",
              " 'color': 837,\n",
              " 'fairly': 838,\n",
              " 'memory': 839,\n",
              " 'disturb': 840,\n",
              " 'joe': 841,\n",
              " 'apart': 842,\n",
              " 'creepy': 843,\n",
              " 'tear': 844,\n",
              " 'band': 845,\n",
              " 'dumb': 846,\n",
              " 'rate': 847,\n",
              " 'dramatic': 848,\n",
              " 'concern': 849,\n",
              " 'outside': 850,\n",
              " 'store': 851,\n",
              " 'hop': 852,\n",
              " 'accept': 853,\n",
              " 'portrayal': 854,\n",
              " 'roll': 855,\n",
              " 'cat': 856,\n",
              " 'dress': 857,\n",
              " 'channel': 858,\n",
              " 'prove': 859,\n",
              " 'plain': 860,\n",
              " 'brain': 861,\n",
              " 'exist': 862,\n",
              " 'perform': 863,\n",
              " 'hat': 864,\n",
              " 'political': 865,\n",
              " 'sell': 866,\n",
              " 'italian': 867,\n",
              " 'ability': 868,\n",
              " 'sleep': 869,\n",
              " 'appearance': 870,\n",
              " 'recently': 871,\n",
              " 'william': 872,\n",
              " 'concept': 873,\n",
              " 'era': 874,\n",
              " 'listen': 875,\n",
              " 'creature': 876,\n",
              " 'hardly': 877,\n",
              " 'record': 878,\n",
              " 'unlike': 879,\n",
              " 'wind': 880,\n",
              " 'destroy': 881,\n",
              " 'design': 882,\n",
              " 'share': 883,\n",
              " 'clever': 884,\n",
              " 'large': 885,\n",
              " 'cute': 886,\n",
              " 'public': 887,\n",
              " 'ghost': 888,\n",
              " 'potential': 889,\n",
              " 'odd': 890,\n",
              " 'teen': 891,\n",
              " 'player': 892,\n",
              " 'century': 893,\n",
              " 'talented': 894,\n",
              " 'language': 895,\n",
              " 'tension': 896,\n",
              " 'blue': 897,\n",
              " 'introduce': 898,\n",
              " 'kick': 899,\n",
              " 'travel': 900,\n",
              " 'pure': 901,\n",
              " 'park': 902,\n",
              " 'claim': 903,\n",
              " 'depth': 904,\n",
              " 'camp': 905,\n",
              " 'burn': 906,\n",
              " 'indian': 907,\n",
              " 'soul': 908,\n",
              " 'reach': 909,\n",
              " 'ride': 910,\n",
              " 'door': 911,\n",
              " 'us': 912,\n",
              " 'search': 913,\n",
              " 'van': 914,\n",
              " 'hole': 915,\n",
              " 'nudity': 916,\n",
              " 'office': 917,\n",
              " 'incredible': 918,\n",
              " 'drag': 919,\n",
              " 'culture': 920,\n",
              " 'visual': 921,\n",
              " 'fake': 922,\n",
              " 'intrigue': 923,\n",
              " 'inspire': 924,\n",
              " 'slightly': 925,\n",
              " 'approach': 926,\n",
              " 'scott': 927,\n",
              " 'sadly': 928,\n",
              " 'ruin': 929,\n",
              " 'flat': 930,\n",
              " 'spot': 931,\n",
              " 'familiar': 932,\n",
              " 'taste': 933,\n",
              " 'extra': 934,\n",
              " 'judge': 935,\n",
              " 'tone': 936,\n",
              " 'purpose': 937,\n",
              " 'race': 938,\n",
              " 'count': 939,\n",
              " 'entirely': 940,\n",
              " 'popular': 941,\n",
              " 'step': 942,\n",
              " 'engage': 943,\n",
              " 'neither': 944,\n",
              " 'gang': 945,\n",
              " 'survive': 946,\n",
              " 'positive': 947,\n",
              " 'critic': 948,\n",
              " 'ring': 949,\n",
              " 'basic': 950,\n",
              " 'maker': 951,\n",
              " 'sweet': 952,\n",
              " 'million': 953,\n",
              " 'trip': 954,\n",
              " 'receive': 955,\n",
              " 'former': 956,\n",
              " 'college': 957,\n",
              " 'suddenly': 958,\n",
              " 'hang': 959,\n",
              " 'biggest': 960,\n",
              " 'younger': 961,\n",
              " 'adaptation': 962,\n",
              " 'science': 963,\n",
              " 'intelligent': 964,\n",
              " 'common': 965,\n",
              " 'trash': 966,\n",
              " 'hurt': 967,\n",
              " 'torture': 968,\n",
              " 'hair': 969,\n",
              " 'belief': 970,\n",
              " 'genius': 971,\n",
              " 'ship': 972,\n",
              " 'alive': 973,\n",
              " 'suspect': 974,\n",
              " 'relate': 975,\n",
              " 'strike': 976,\n",
              " 'successful': 977,\n",
              " 'violent': 978,\n",
              " 'conclusion': 979,\n",
              " 'impress': 980,\n",
              " 'pop': 981,\n",
              " 'social': 982,\n",
              " 'longer': 983,\n",
              " 'paint': 984,\n",
              " 'christmas': 985,\n",
              " 'intend': 986,\n",
              " 'cold': 987,\n",
              " 'aside': 988,\n",
              " 'pass': 989,\n",
              " 'mad': 990,\n",
              " 'handle': 991,\n",
              " 'suit': 992,\n",
              " 'pointless': 993,\n",
              " 'ultimately': 994,\n",
              " 'teenager': 995,\n",
              " 'pathetic': 996,\n",
              " 'bizarre': 997,\n",
              " 'bond': 998,\n",
              " 'recent': 999,\n",
              " 'sick': 1000,\n",
              " ...}"
            ]
          },
          "metadata": {
            "tags": []
          },
          "execution_count": 23
        }
      ]
    },
    {
      "cell_type": "markdown",
      "metadata": {
        "id": "tocqowQBLkc9"
      },
      "source": [
        "We could fit the tokenizer with an OOV token, which will be added to word_index and given"
      ]
    },
    {
      "cell_type": "code",
      "metadata": {
        "id": "fFvprDvGLNJM"
      },
      "source": [
        "tok=Tokenizer(oov_token='UNK')\n",
        "tok.fit_on_texts(texts)"
      ],
      "execution_count": 24,
      "outputs": []
    },
    {
      "cell_type": "code",
      "metadata": {
        "colab": {
          "base_uri": "https://localhost:8080/"
        },
        "id": "PULaR6VnLtLF",
        "outputId": "e84bb9f4-1f8e-4dcf-8dfd-95e3802937f1"
      },
      "source": [
        "tok.word_index['UNK']"
      ],
      "execution_count": 25,
      "outputs": [
        {
          "output_type": "execute_result",
          "data": {
            "text/plain": [
              "1"
            ]
          },
          "metadata": {
            "tags": []
          },
          "execution_count": 25
        }
      ]
    },
    {
      "cell_type": "code",
      "metadata": {
        "id": "LJeM-iibLu6b"
      },
      "source": [
        "#To specify the number of words on from vocabulary\n",
        "tok=Tokenizer(num_words=1000)\n",
        "tok.fit_on_texts(texts)"
      ],
      "execution_count": 26,
      "outputs": []
    },
    {
      "cell_type": "code",
      "metadata": {
        "colab": {
          "base_uri": "https://localhost:8080/"
        },
        "id": "TxV858HQJrLX",
        "outputId": "efd186d3-5f57-4455-9607-7552a2cc5993"
      },
      "source": [
        "docs = ['cartoon movie show', 'hello world']\n",
        "docs = [s.split() for s in docs]\n",
        "l = tok.texts_to_sequences(docs)\n",
        "l"
      ],
      "execution_count": 27,
      "outputs": [
        {
          "output_type": "execute_result",
          "data": {
            "text/plain": [
              "[[686, 1, 18], [95]]"
            ]
          },
          "metadata": {
            "tags": []
          },
          "execution_count": 27
        }
      ]
    },
    {
      "cell_type": "code",
      "metadata": {
        "id": "qQBehIevKMMx"
      },
      "source": [
        "from keras.preprocessing.sequence import pad_sequences\n",
        "maxlen=max([len(t) for t in texts])\n",
        "l=np.array(pad_sequences(l,maxlen=maxlen,padding='post',truncating='post'))"
      ],
      "execution_count": 28,
      "outputs": []
    },
    {
      "cell_type": "code",
      "metadata": {
        "colab": {
          "base_uri": "https://localhost:8080/"
        },
        "id": "qwh-nqr3KoQh",
        "outputId": "2ce4fde3-bb4f-4dfb-e7f0-e980905c7b8a"
      },
      "source": [
        "l.shape"
      ],
      "execution_count": 29,
      "outputs": [
        {
          "output_type": "execute_result",
          "data": {
            "text/plain": [
              "(2, 8696)"
            ]
          },
          "metadata": {
            "tags": []
          },
          "execution_count": 29
        }
      ]
    },
    {
      "cell_type": "markdown",
      "metadata": {
        "id": "mOujNpSnfMxQ"
      },
      "source": [
        "#BoW with keras Tokenizer\n",
        "We can use keras tokenizer to build a simple BoW.\n",
        "\n",
        "The rows = number of sentences/documents\n",
        "\n",
        "The #columns = number of words in the vocab\n",
        "\n",
        "Each entry can encode different modes:\n",
        "\n",
        "binary: Whether or not each word is present in the document. This is the default.\n",
        "\n",
        "count: The count of each word in the document.\n",
        "\n",
        "tfidf: The Text Frequency-Inverse DocumentFrequency (TF-IDF) scoring for each word in the document (more on that later).\n",
        "\n",
        "freq: The frequency of each word as a ratio of words within each document."
      ]
    },
    {
      "cell_type": "code",
      "metadata": {
        "colab": {
          "base_uri": "https://localhost:8080/"
        },
        "id": "ElK2t_XrLrmS",
        "outputId": "6b1657e9-c6de-4504-c00d-d076876e87d7"
      },
      "source": [
        "tok=Tokenizer(oov_token='UNK')\n",
        "tok.fit_on_texts(texts)\n",
        "bow=tok.texts_to_matrix(texts[:10],mode='count')\n",
        "bow.shape"
      ],
      "execution_count": 30,
      "outputs": [
        {
          "output_type": "execute_result",
          "data": {
            "text/plain": [
              "(10, 140834)"
            ]
          },
          "metadata": {
            "tags": []
          },
          "execution_count": 30
        }
      ]
    },
    {
      "cell_type": "code",
      "metadata": {
        "colab": {
          "base_uri": "https://localhost:8080/"
        },
        "id": "fs4kw7qPf1vV",
        "outputId": "dbf8fc0b-e8b3-4b59-c52c-91ebbb775576"
      },
      "source": [
        "bow"
      ],
      "execution_count": 31,
      "outputs": [
        {
          "output_type": "execute_result",
          "data": {
            "text/plain": [
              "array([[0., 0., 0., ..., 0., 0., 0.],\n",
              "       [0., 0., 0., ..., 0., 0., 0.],\n",
              "       [0., 0., 9., ..., 0., 0., 0.],\n",
              "       ...,\n",
              "       [0., 0., 0., ..., 0., 0., 0.],\n",
              "       [0., 0., 0., ..., 0., 0., 0.],\n",
              "       [0., 0., 7., ..., 0., 0., 0.]])"
            ]
          },
          "metadata": {
            "tags": []
          },
          "execution_count": 31
        }
      ]
    },
    {
      "cell_type": "markdown",
      "metadata": {
        "id": "zPyex-aygNwV"
      },
      "source": [
        "## BoW with sklearn\n",
        "The BoW model above can be also produced using sklearn"
      ]
    },
    {
      "cell_type": "code",
      "metadata": {
        "colab": {
          "base_uri": "https://localhost:8080/"
        },
        "id": "DhJZfHAAf_j9",
        "outputId": "f4b10a98-234e-4848-ba07-c354507ff5bf"
      },
      "source": [
        "from sklearn.feature_extraction.text import CountVectorizer\n",
        "vectorizer=CountVectorizer()\n",
        "vectorizer.fit(texts)#build vocab\n",
        "bow=vectorizer.transform(texts[:10])\n",
        "bow.shape\n"
      ],
      "execution_count": 32,
      "outputs": [
        {
          "output_type": "execute_result",
          "data": {
            "text/plain": [
              "(10, 140805)"
            ]
          },
          "metadata": {
            "tags": []
          },
          "execution_count": 32
        }
      ]
    },
    {
      "cell_type": "code",
      "metadata": {
        "id": "M3hR4bDHgXxU"
      },
      "source": [
        "#show the vocabulary\n",
        "#vectorizer.vocabulary_  "
      ],
      "execution_count": 33,
      "outputs": []
    },
    {
      "cell_type": "code",
      "metadata": {
        "colab": {
          "base_uri": "https://localhost:8080/"
        },
        "id": "A4Yq-8nZg6Yc",
        "outputId": "34151b5d-87d8-4f65-e49c-0eba6a058cef"
      },
      "source": [
        "bow"
      ],
      "execution_count": 34,
      "outputs": [
        {
          "output_type": "execute_result",
          "data": {
            "text/plain": [
              "<10x140805 sparse matrix of type '<class 'numpy.int64'>'\n",
              "\twith 925 stored elements in Compressed Sparse Row format>"
            ]
          },
          "metadata": {
            "tags": []
          },
          "execution_count": 34
        }
      ]
    },
    {
      "cell_type": "code",
      "metadata": {
        "colab": {
          "base_uri": "https://localhost:8080/"
        },
        "id": "ud2eBnR6hTD9",
        "outputId": "1ce86c40-b5d5-41d5-d5db-627ebc89cbd3"
      },
      "source": [
        "bow = bow.toarray()\n",
        "print(bow.shape)\n",
        "print(bow)"
      ],
      "execution_count": 35,
      "outputs": [
        {
          "output_type": "stream",
          "text": [
            "(10, 140805)\n",
            "[[0 0 0 ... 0 0 0]\n",
            " [0 0 0 ... 0 0 0]\n",
            " [0 0 0 ... 0 0 0]\n",
            " ...\n",
            " [0 0 0 ... 0 0 0]\n",
            " [0 0 0 ... 0 0 0]\n",
            " [0 0 0 ... 0 0 0]]\n"
          ],
          "name": "stdout"
        }
      ]
    },
    {
      "cell_type": "markdown",
      "metadata": {
        "id": "tCro0yzVhcnK"
      },
      "source": [
        "Notes:\n",
        "\n",
        "We don't have control on the vocab size unlike keras\n",
        "\n",
        "The matrix is (CSR) (Compressed Sparse Row), which is more compact representation for matrices with many zeros. The BoW is very sparse, it's a good way to represent it. You can easily recover the array when needed using toarray()\n",
        "\n",
        "Vocab is all lower case, and punctuation is ignored. All those are configurable from sklearn\n",
        "\n"
      ]
    },
    {
      "cell_type": "markdown",
      "metadata": {
        "id": "jquu3iQIhfiV"
      },
      "source": [
        "# TF-IDF"
      ]
    },
    {
      "cell_type": "markdown",
      "metadata": {
        "id": "OoywxOwzhqQS"
      },
      "source": [
        "TFIDF (Term Frequency - Inverse Document) is a way to adjust those counts:\n",
        "\n",
        "TF: #mentions within a document\n",
        "IDF: #mentions across all docs (same as the counts before)"
      ]
    },
    {
      "cell_type": "code",
      "metadata": {
        "colab": {
          "base_uri": "https://localhost:8080/"
        },
        "id": "9SP1mbk5hr2x",
        "outputId": "ed781f81-772c-4c44-f6bf-13a10626de2f"
      },
      "source": [
        "from sklearn.feature_extraction.text import TfidfVectorizer\n",
        "\n",
        "vectorizer = TfidfVectorizer()\n",
        "vectorizer.fit(texts)\n",
        "bow = vectorizer.transform(texts[:10])\n",
        "bow.shape"
      ],
      "execution_count": 36,
      "outputs": [
        {
          "output_type": "execute_result",
          "data": {
            "text/plain": [
              "(10, 140805)"
            ]
          },
          "metadata": {
            "tags": []
          },
          "execution_count": 36
        }
      ]
    },
    {
      "cell_type": "code",
      "metadata": {
        "colab": {
          "base_uri": "https://localhost:8080/"
        },
        "id": "onxIojLJhrxE",
        "outputId": "67808c3e-a945-4c32-8dbf-91ddadff6cfa"
      },
      "source": [
        "bow.toarray()"
      ],
      "execution_count": 37,
      "outputs": [
        {
          "output_type": "execute_result",
          "data": {
            "text/plain": [
              "array([[0., 0., 0., ..., 0., 0., 0.],\n",
              "       [0., 0., 0., ..., 0., 0., 0.],\n",
              "       [0., 0., 0., ..., 0., 0., 0.],\n",
              "       ...,\n",
              "       [0., 0., 0., ..., 0., 0., 0.],\n",
              "       [0., 0., 0., ..., 0., 0., 0.],\n",
              "       [0., 0., 0., ..., 0., 0., 0.]])"
            ]
          },
          "metadata": {
            "tags": []
          },
          "execution_count": 37
        }
      ]
    },
    {
      "cell_type": "markdown",
      "metadata": {
        "id": "L7Pq5LtLikGt"
      },
      "source": [
        "# get dataset"
      ]
    },
    {
      "cell_type": "code",
      "metadata": {
        "id": "wDORfc7WiBsc"
      },
      "source": [
        "trn_texts,trn_labels = get_text(PATH/'train')\n",
        "tst_texts,tst_labels = get_text(PATH/'test')"
      ],
      "execution_count": 38,
      "outputs": []
    },
    {
      "cell_type": "code",
      "metadata": {
        "id": "g3yyNzZDi0ip"
      },
      "source": [
        "trn_texts = normalize_corpus(trn_texts)\n",
        "tst_texts = normalize_corpus(tst_texts)"
      ],
      "execution_count": 39,
      "outputs": []
    },
    {
      "cell_type": "markdown",
      "metadata": {
        "id": "gqWfE-Nzi5gJ"
      },
      "source": [
        "# BoW\n",
        "Binary features\n",
        "\n",
        "We will use the tokenizer of keras"
      ]
    },
    {
      "cell_type": "code",
      "metadata": {
        "id": "EOffoVZ0i0dd"
      },
      "source": [
        "from keras.preprocessing.text import Tokenizer\n",
        "vocab_size=10000\n",
        "epochs=20\n",
        "batch_size=512\n",
        "tok=Tokenizer(num_words=vocab_size,oov_token='UNK')\n",
        "tok.fit_on_texts(texts)\n",
        "\n",
        "x_train=tok.texts_to_matrix(train_data,mode='count')\n",
        "x_test=tok.texts_to_matrix(test_data,mode='count')"
      ],
      "execution_count": 40,
      "outputs": []
    },
    {
      "cell_type": "code",
      "metadata": {
        "id": "a_WMH5iK3amr"
      },
      "source": [
        "y_train=np.array(train_labels)\n",
        "y_test=np.array(test_labels)"
      ],
      "execution_count": 41,
      "outputs": []
    },
    {
      "cell_type": "markdown",
      "metadata": {
        "id": "vhHVAmB7449h"
      },
      "source": [
        "#model"
      ]
    },
    {
      "cell_type": "code",
      "metadata": {
        "colab": {
          "base_uri": "https://localhost:8080/"
        },
        "id": "DbtbCBQC6esq",
        "outputId": "eeb1a1ae-32af-476d-debf-5baaccacb60f"
      },
      "source": [
        "from keras import models\n",
        "from keras import layers\n",
        "\n",
        "model = models.Sequential()\n",
        "model.add(layers.Dense(16, activation='relu', input_shape=(vocab_size,)))\n",
        "model.add(layers.Dense(16, activation='relu'))\n",
        "model.add(layers.Dense(1, activation='sigmoid'))\n",
        "model.summary()"
      ],
      "execution_count": 42,
      "outputs": [
        {
          "output_type": "stream",
          "text": [
            "Model: \"sequential\"\n",
            "_________________________________________________________________\n",
            "Layer (type)                 Output Shape              Param #   \n",
            "=================================================================\n",
            "dense (Dense)                (None, 16)                160016    \n",
            "_________________________________________________________________\n",
            "dense_1 (Dense)              (None, 16)                272       \n",
            "_________________________________________________________________\n",
            "dense_2 (Dense)              (None, 1)                 17        \n",
            "=================================================================\n",
            "Total params: 160,305\n",
            "Trainable params: 160,305\n",
            "Non-trainable params: 0\n",
            "_________________________________________________________________\n"
          ],
          "name": "stdout"
        }
      ]
    },
    {
      "cell_type": "code",
      "metadata": {
        "id": "dzo6zEQe3bhm"
      },
      "source": [
        "model.compile(optimizer='rmsprop',\n",
        "             loss='binary_crossentropy',\n",
        "             metrics='accuracy')"
      ],
      "execution_count": 43,
      "outputs": []
    },
    {
      "cell_type": "code",
      "metadata": {
        "id": "ilRi8eee3jjs"
      },
      "source": [
        "partial_x_train=x_train[:15000]\n",
        "x_val=x_train[15000:]\n",
        "\n",
        "partial_y_train=y_train[:15000]\n",
        "y_val=y_train[15000:]"
      ],
      "execution_count": 44,
      "outputs": []
    },
    {
      "cell_type": "code",
      "metadata": {
        "colab": {
          "base_uri": "https://localhost:8080/"
        },
        "id": "hJa3hJLX8vuz",
        "outputId": "7ddc22d6-be4a-4e34-bc3b-59536a35f325"
      },
      "source": [
        "history=model.fit(partial_x_train,\n",
        "          partial_y_train,\n",
        "          epochs=epochs,\n",
        "          batch_size=batch_size,\n",
        "          validation_data=(x_val,y_val))"
      ],
      "execution_count": 45,
      "outputs": [
        {
          "output_type": "stream",
          "text": [
            "Epoch 1/20\n",
            "30/30 [==============================] - 17s 59ms/step - loss: 0.5707 - accuracy: 0.7406 - val_loss: 1.2991 - val_accuracy: 0.0125\n",
            "Epoch 2/20\n",
            "30/30 [==============================] - 2s 54ms/step - loss: 0.3353 - accuracy: 0.8662 - val_loss: 0.9734 - val_accuracy: 0.4137\n",
            "Epoch 3/20\n",
            "30/30 [==============================] - 1s 39ms/step - loss: 0.2214 - accuracy: 0.9252 - val_loss: 0.7920 - val_accuracy: 0.6056\n",
            "Epoch 4/20\n",
            "30/30 [==============================] - 1s 41ms/step - loss: 0.1580 - accuracy: 0.9515 - val_loss: 0.6690 - val_accuracy: 0.7053\n",
            "Epoch 5/20\n",
            "30/30 [==============================] - 1s 35ms/step - loss: 0.1205 - accuracy: 0.9624 - val_loss: 0.9568 - val_accuracy: 0.6217\n",
            "Epoch 6/20\n",
            "30/30 [==============================] - 1s 36ms/step - loss: 0.0952 - accuracy: 0.9719 - val_loss: 0.9220 - val_accuracy: 0.6616\n",
            "Epoch 7/20\n",
            "30/30 [==============================] - 1s 35ms/step - loss: 0.0700 - accuracy: 0.9805 - val_loss: 0.9329 - val_accuracy: 0.6847\n",
            "Epoch 8/20\n",
            "30/30 [==============================] - 1s 35ms/step - loss: 0.0559 - accuracy: 0.9864 - val_loss: 1.3563 - val_accuracy: 0.6120\n",
            "Epoch 9/20\n",
            "30/30 [==============================] - 1s 35ms/step - loss: 0.0431 - accuracy: 0.9903 - val_loss: 1.0502 - val_accuracy: 0.6992\n",
            "Epoch 10/20\n",
            "30/30 [==============================] - 1s 43ms/step - loss: 0.0339 - accuracy: 0.9930 - val_loss: 1.5639 - val_accuracy: 0.6191\n",
            "Epoch 11/20\n",
            "30/30 [==============================] - 1s 36ms/step - loss: 0.0264 - accuracy: 0.9953 - val_loss: 1.4285 - val_accuracy: 0.6613\n",
            "Epoch 12/20\n",
            "30/30 [==============================] - 1s 35ms/step - loss: 0.0188 - accuracy: 0.9971 - val_loss: 1.6061 - val_accuracy: 0.6572\n",
            "Epoch 13/20\n",
            "30/30 [==============================] - 1s 35ms/step - loss: 0.0153 - accuracy: 0.9981 - val_loss: 1.6281 - val_accuracy: 0.6727\n",
            "Epoch 14/20\n",
            "30/30 [==============================] - 1s 34ms/step - loss: 0.0099 - accuracy: 0.9989 - val_loss: 1.7095 - val_accuracy: 0.6795\n",
            "Epoch 15/20\n",
            "30/30 [==============================] - 1s 36ms/step - loss: 0.0076 - accuracy: 0.9991 - val_loss: 2.0461 - val_accuracy: 0.6516\n",
            "Epoch 16/20\n",
            "30/30 [==============================] - 1s 35ms/step - loss: 0.0069 - accuracy: 0.9990 - val_loss: 1.7196 - val_accuracy: 0.7080\n",
            "Epoch 17/20\n",
            "30/30 [==============================] - 1s 36ms/step - loss: 0.0043 - accuracy: 0.9995 - val_loss: 2.4449 - val_accuracy: 0.6409\n",
            "Epoch 18/20\n",
            "30/30 [==============================] - 1s 38ms/step - loss: 0.0028 - accuracy: 0.9997 - val_loss: 3.0342 - val_accuracy: 0.5978\n",
            "Epoch 19/20\n",
            "30/30 [==============================] - 1s 39ms/step - loss: 0.0026 - accuracy: 0.9994 - val_loss: 2.7731 - val_accuracy: 0.6388\n",
            "Epoch 20/20\n",
            "30/30 [==============================] - 1s 39ms/step - loss: 0.0013 - accuracy: 0.9999 - val_loss: 3.3248 - val_accuracy: 0.6086\n"
          ],
          "name": "stdout"
        }
      ]
    },
    {
      "cell_type": "code",
      "metadata": {
        "colab": {
          "base_uri": "https://localhost:8080/"
        },
        "id": "2TLv-yU7-WXM",
        "outputId": "6b21a652-d02a-43b9-dff4-d59c6846f18a"
      },
      "source": [
        "history_dict = history.history\n",
        "history_dict.keys()"
      ],
      "execution_count": 46,
      "outputs": [
        {
          "output_type": "execute_result",
          "data": {
            "text/plain": [
              "dict_keys(['loss', 'accuracy', 'val_loss', 'val_accuracy'])"
            ]
          },
          "metadata": {
            "tags": []
          },
          "execution_count": 46
        }
      ]
    },
    {
      "cell_type": "code",
      "metadata": {
        "colab": {
          "base_uri": "https://localhost:8080/",
          "height": 295
        },
        "id": "0M1WnEq39r8p",
        "outputId": "119587b3-ffcc-4d1a-a9d2-fcce834b50c1"
      },
      "source": [
        "history_dict = history.history\n",
        "history_dict.keys()\n",
        "\n",
        "\n",
        "acc = history.history['accuracy']\n",
        "val_acc = history.history['val_accuracy']\n",
        "loss = history.history['loss']\n",
        "val_loss = history.history['val_loss']\n",
        "\n",
        "epochs = range(1, len(acc) + 1)\n",
        "\n",
        "# \"bo\" is for \"blue dot\"\n",
        "plt.plot(epochs, loss, 'bo', label='Training loss')\n",
        "# b is for \"solid blue line\"\n",
        "plt.plot(epochs, val_loss, 'b', label='Validation loss')\n",
        "plt.title('Training and validation loss')\n",
        "plt.xlabel('Epochs')\n",
        "plt.ylabel('Loss')\n",
        "plt.legend()\n",
        "\n",
        "plt.show()"
      ],
      "execution_count": 47,
      "outputs": [
        {
          "output_type": "display_data",
          "data": {
            "image/png": "[encoded data removed]",
            "text/plain": [
              "<Figure size 432x288 with 1 Axes>"
            ]
          },
          "metadata": {
            "tags": [],
            "needs_background": "light"
          }
        }
      ]
    },
    {
      "cell_type": "code",
      "metadata": {
        "colab": {
          "base_uri": "https://localhost:8080/",
          "height": 295
        },
        "id": "E4A3LlxE-P6r",
        "outputId": "bff7898f-bc0f-4507-a96f-54956c8f78ed"
      },
      "source": [
        "plt.clf()   # clear figure\n",
        "acc_values = history_dict['accuracy']\n",
        "val_acc_values = history_dict['val_accuracy']\n",
        "\n",
        "plt.plot(epochs, acc, 'bo', label='Training acc')\n",
        "plt.plot(epochs, val_acc, 'b', label='Validation acc')\n",
        "plt.title('Training and validation accuracy')\n",
        "plt.xlabel('Epochs')\n",
        "plt.ylabel('acc')\n",
        "plt.legend()\n",
        "\n",
        "plt.show()"
      ],
      "execution_count": 48,
      "outputs": [
        {
          "output_type": "display_data",
          "data": {
            "image/png": "[encoded data removed]",
            "text/plain": [
              "<Figure size 432x288 with 1 Axes>"
            ]
          },
          "metadata": {
            "tags": [],
            "needs_background": "light"
          }
        }
      ]
    },
    {
      "cell_type": "markdown",
      "metadata": {
        "id": "t3sZq7Rd_WFk"
      },
      "source": [
        "##Let's compare to the Keras dataset:\n",
        "NOtice that, we could directly use the function sequences_to_matrix to obtain the BoW from binarized corpus:"
      ]
    },
    {
      "cell_type": "code",
      "metadata": {
        "colab": {
          "base_uri": "https://localhost:8080/"
        },
        "id": "iCdIawgn-nya",
        "outputId": "b5d94299-617b-4681-b60d-34ce37ae5b8d"
      },
      "source": [
        "from keras.datasets import imdb\n",
        "\n",
        "(train_data, train_labels), (test_data, test_labels) = imdb.load_data(num_words=10000)\n",
        "\n",
        "vocab_sz = 10000\n",
        "tok = Tokenizer(num_words=vocab_sz, oov_token='UNK')\n",
        "tok.fit_on_texts(trn_texts + tst_texts)\n",
        "#vocab_sz = len(tok.word_index)\n",
        "\n",
        "# Extract binary BoW features\n",
        "x_train = tok.sequences_to_matrix(train_data, mode='binary')\n",
        "x_test = tok.sequences_to_matrix(test_data, mode='binary')\n",
        "y_train = np.asarray(train_labels).astype('float32')\n",
        "y_test = np.asarray(test_labels).astype('float32')\n",
        "\n",
        "x_val = x_train[:10000]\n",
        "partial_x_train = x_train[10000:]\n",
        "\n",
        "y_val = y_train[:10000]\n",
        "partial_y_train = y_train[10000:]\n",
        "\n",
        "model = models.Sequential()\n",
        "model.add(layers.Dense(16, activation='relu', input_shape=(10000,)))\n",
        "model.add(layers.Dense(16, activation='relu'))\n",
        "model.add(layers.Dense(1, activation='sigmoid'))\n",
        "\n",
        "model.compile(optimizer='rmsprop',\n",
        "             loss='binary_crossentropy',\n",
        "             metrics='accuracy')\n",
        "\t\t\t  \n",
        "history = model.fit(partial_x_train,\n",
        "                    partial_y_train,\n",
        "                    epochs=20,\n",
        "                    batch_size=512,\n",
        "                    validation_data=(x_val, y_val))\n",
        "\n",
        "history_dict = history.history\n",
        "history_dict.keys()\n"
      ],
      "execution_count": 49,
      "outputs": [
        {
          "output_type": "stream",
          "text": [
            "<string>:6: VisibleDeprecationWarning: Creating an ndarray from ragged nested sequences (which is a list-or-tuple of lists-or-tuples-or ndarrays with different lengths or shapes) is deprecated. If you meant to do this, you must specify 'dtype=object' when creating the ndarray\n",
            "/usr/local/lib/python3.7/dist-packages/keras/datasets/imdb.py:155: VisibleDeprecationWarning: Creating an ndarray from ragged nested sequences (which is a list-or-tuple of lists-or-tuples-or ndarrays with different lengths or shapes) is deprecated. If you meant to do this, you must specify 'dtype=object' when creating the ndarray\n",
            "  x_train, y_train = np.array(xs[:idx]), np.array(labels[:idx])\n"
          ],
          "name": "stderr"
        },
        {
          "output_type": "stream",
          "text": [
            "Epoch 1/20\n",
            "30/30 [==============================] - 2s 55ms/step - loss: 0.5826 - accuracy: 0.7045 - val_loss: 0.4054 - val_accuracy: 0.8387\n",
            "Epoch 2/20\n",
            "30/30 [==============================] - 1s 39ms/step - loss: 0.3159 - accuracy: 0.8986 - val_loss: 0.3000 - val_accuracy: 0.8888\n",
            "Epoch 3/20\n",
            "30/30 [==============================] - 1s 44ms/step - loss: 0.2259 - accuracy: 0.9309 - val_loss: 0.2769 - val_accuracy: 0.8924\n",
            "Epoch 4/20\n",
            "30/30 [==============================] - 1s 36ms/step - loss: 0.1678 - accuracy: 0.9521 - val_loss: 0.3123 - val_accuracy: 0.8714\n",
            "Epoch 5/20\n",
            "30/30 [==============================] - 1s 44ms/step - loss: 0.1473 - accuracy: 0.9545 - val_loss: 0.3019 - val_accuracy: 0.8805\n",
            "Epoch 6/20\n",
            "30/30 [==============================] - 1s 41ms/step - loss: 0.1180 - accuracy: 0.9651 - val_loss: 0.2916 - val_accuracy: 0.8860\n",
            "Epoch 7/20\n",
            "30/30 [==============================] - 1s 39ms/step - loss: 0.0930 - accuracy: 0.9743 - val_loss: 0.3339 - val_accuracy: 0.8780\n",
            "Epoch 8/20\n",
            "30/30 [==============================] - 1s 38ms/step - loss: 0.0772 - accuracy: 0.9813 - val_loss: 0.3481 - val_accuracy: 0.8769\n",
            "Epoch 9/20\n",
            "30/30 [==============================] - 1s 34ms/step - loss: 0.0598 - accuracy: 0.9866 - val_loss: 0.3533 - val_accuracy: 0.8784\n",
            "Epoch 10/20\n",
            "30/30 [==============================] - 1s 33ms/step - loss: 0.0507 - accuracy: 0.9900 - val_loss: 0.4439 - val_accuracy: 0.8606\n",
            "Epoch 11/20\n",
            "30/30 [==============================] - 1s 38ms/step - loss: 0.0435 - accuracy: 0.9906 - val_loss: 0.4346 - val_accuracy: 0.8690\n",
            "Epoch 12/20\n",
            "30/30 [==============================] - 1s 37ms/step - loss: 0.0321 - accuracy: 0.9942 - val_loss: 0.4360 - val_accuracy: 0.8727\n",
            "Epoch 13/20\n",
            "30/30 [==============================] - 1s 34ms/step - loss: 0.0250 - accuracy: 0.9966 - val_loss: 0.4707 - val_accuracy: 0.8722\n",
            "Epoch 14/20\n",
            "30/30 [==============================] - 1s 42ms/step - loss: 0.0191 - accuracy: 0.9978 - val_loss: 0.4919 - val_accuracy: 0.8713\n",
            "Epoch 15/20\n",
            "30/30 [==============================] - 1s 36ms/step - loss: 0.0151 - accuracy: 0.9987 - val_loss: 0.5572 - val_accuracy: 0.8663\n",
            "Epoch 16/20\n",
            "30/30 [==============================] - 1s 34ms/step - loss: 0.0127 - accuracy: 0.9993 - val_loss: 0.5721 - val_accuracy: 0.8693\n",
            "Epoch 17/20\n",
            "30/30 [==============================] - 1s 33ms/step - loss: 0.0110 - accuracy: 0.9986 - val_loss: 0.5900 - val_accuracy: 0.8675\n",
            "Epoch 18/20\n",
            "30/30 [==============================] - 1s 41ms/step - loss: 0.0070 - accuracy: 0.9994 - val_loss: 0.6191 - val_accuracy: 0.8687\n",
            "Epoch 19/20\n",
            "30/30 [==============================] - 1s 35ms/step - loss: 0.0052 - accuracy: 0.9997 - val_loss: 0.6508 - val_accuracy: 0.8661\n",
            "Epoch 20/20\n",
            "30/30 [==============================] - 1s 33ms/step - loss: 0.0051 - accuracy: 0.9995 - val_loss: 0.6847 - val_accuracy: 0.8671\n"
          ],
          "name": "stdout"
        },
        {
          "output_type": "stream",
          "text": [
            "/usr/local/lib/python3.7/dist-packages/keras/datasets/imdb.py:156: VisibleDeprecationWarning: Creating an ndarray from ragged nested sequences (which is a list-or-tuple of lists-or-tuples-or ndarrays with different lengths or shapes) is deprecated. If you meant to do this, you must specify 'dtype=object' when creating the ndarray\n",
            "  x_test, y_test = np.array(xs[idx:]), np.array(labels[idx:])\n"
          ],
          "name": "stderr"
        },
        {
          "output_type": "execute_result",
          "data": {
            "text/plain": [
              "dict_keys(['loss', 'accuracy', 'val_loss', 'val_accuracy'])"
            ]
          },
          "metadata": {
            "tags": []
          },
          "execution_count": 49
        }
      ]
    },
    {
      "cell_type": "code",
      "metadata": {
        "colab": {
          "base_uri": "https://localhost:8080/",
          "height": 295
        },
        "id": "enjBetHg_fOY",
        "outputId": "7d01595d-2fe0-4895-e03d-9c66207a7916"
      },
      "source": [
        "\n",
        "acc = history.history['accuracy']\n",
        "val_acc = history.history['val_accuracy']\n",
        "loss = history.history['loss']\n",
        "val_loss = history.history['val_loss']\n",
        "\n",
        "epochs = range(1, len(acc) + 1)\n",
        "\n",
        "# \"bo\" is for \"blue dot\"\n",
        "plt.plot(epochs, loss, 'bo', label='Training loss')\n",
        "# b is for \"solid blue line\"\n",
        "plt.plot(epochs, val_loss, 'b', label='Validation loss')\n",
        "plt.title('Training and validation loss')\n",
        "plt.xlabel('Epochs')\n",
        "plt.ylabel('Loss')\n",
        "plt.legend()\n",
        "\n",
        "plt.show()"
      ],
      "execution_count": 50,
      "outputs": [
        {
          "output_type": "display_data",
          "data": {
            "image/png": "[encoded data removed]",
            "text/plain": [
              "<Figure size 432x288 with 1 Axes>"
            ]
          },
          "metadata": {
            "tags": [],
            "needs_background": "light"
          }
        }
      ]
    },
    {
      "cell_type": "code",
      "metadata": {
        "colab": {
          "base_uri": "https://localhost:8080/",
          "height": 295
        },
        "id": "drQpQ9pE_jui",
        "outputId": "399a8bd3-7abf-41ee-ddb1-c61b9bd064fa"
      },
      "source": [
        "plt.clf()   # clear figure\n",
        "acc_values = history_dict['accuracy']\n",
        "val_acc_values = history_dict['val_accuracy']\n",
        "\n",
        "plt.plot(epochs, acc, 'bo', label='Training acc')\n",
        "plt.plot(epochs, val_acc, 'b', label='Validation acc')\n",
        "plt.title('Training and validation accuracy')\n",
        "plt.xlabel('Epochs')\n",
        "plt.ylabel('acc')\n",
        "plt.legend()\n",
        "\n",
        "plt.show()"
      ],
      "execution_count": 51,
      "outputs": [
        {
          "output_type": "display_data",
          "data": {
            "image/png": "[encoded data removed]",
            "text/plain": [
              "<Figure size 432x288 with 1 Axes>"
            ]
          },
          "metadata": {
            "tags": [],
            "needs_background": "light"
          }
        }
      ]
    },
    {
      "cell_type": "markdown",
      "metadata": {
        "id": "YBgOHpJTABdR"
      },
      "source": [
        "#So what happened?\n",
        "As you can see, the val loss curves with Keras data has much higher (~87%) accuracy than the one we used.\n",
        "\n",
        "The reason is that we assumed the data is shuffled!\n",
        "\n",
        "If you revise the get_texts function we implemented, it takes all the class data in sequence.\n",
        "\n",
        "Our train/val split did not contain any shuffling.\n",
        "\n",
        "To fix this, we could manually shuffle:"
      ]
    },
    {
      "cell_type": "markdown",
      "metadata": {
        "id": "fplk7fvJAVZH"
      },
      "source": [
        " we could use sklearn train_test_split function:"
      ]
    },
    {
      "cell_type": "code",
      "metadata": {
        "id": "1_Z1tY8t_yBi"
      },
      "source": [
        "trn_texts,trn_labels = get_text(PATH/'train')\n",
        "tst_texts,tst_labels = get_text(PATH/'test')\n",
        "\n",
        "trn_texts = normalize_corpus(trn_texts)\n",
        "tst_texts = normalize_corpus(tst_texts)\n",
        "\n"
      ],
      "execution_count": 52,
      "outputs": []
    },
    {
      "cell_type": "code",
      "metadata": {
        "id": "Le62N0r1FSS-"
      },
      "source": [
        "from sklearn.model_selection import train_test_split\n",
        "vocab_sz = 10000\n",
        "tok = Tokenizer(num_words=vocab_sz, oov_token='UNK')\n",
        "tok.fit_on_texts(trn_texts + tst_texts)\n",
        "#vocab_sz = len(tok.word_index)\n",
        "# Extract binary BoW features\n",
        "x_train = tok.sequences_to_matrix(train_data, mode='binary')\n",
        "x_test = tok.sequences_to_matrix(test_data, mode='binary')\n",
        "y_train = np.asarray(train_labels).astype('float32')\n",
        "y_test = np.asarray(test_labels).astype('float32')\n",
        "\n",
        "x_train, x_val, y_train, y_val = train_test_split(x_train, y_train, test_size=0.4, random_state=42)"
      ],
      "execution_count": 53,
      "outputs": []
    },
    {
      "cell_type": "code",
      "metadata": {
        "id": "zaUx8V9xAaOI",
        "colab": {
          "base_uri": "https://localhost:8080/"
        },
        "outputId": "87c64cbf-b733-4ad0-e9ff-203fc75ac824"
      },
      "source": [
        "model = models.Sequential()\n",
        "model.add(layers.Dense(16, activation='relu', input_shape=(vocab_size,)))\n",
        "model.add(layers.Dense(16, activation='relu'))\n",
        "model.add(layers.Dense(1, activation='sigmoid'))\n",
        "\n",
        "model.compile(optimizer='rmsprop',\n",
        "             loss='binary_crossentropy',\n",
        "             metrics='accuracy')\n",
        "\t\t\t  \n",
        "history = model.fit(x_train,\n",
        "                    y_train,\n",
        "                    epochs=20,\n",
        "                    batch_size=512,\n",
        "                    validation_data=(x_val, y_val))\n",
        "\n",
        "history_dict = history.history\n",
        "history_dict.keys()"
      ],
      "execution_count": 54,
      "outputs": [
        {
          "output_type": "stream",
          "text": [
            "Epoch 1/20\n",
            "30/30 [==============================] - 3s 51ms/step - loss: 0.6091 - accuracy: 0.6915 - val_loss: 0.4078 - val_accuracy: 0.8690\n",
            "Epoch 2/20\n",
            "30/30 [==============================] - 1s 42ms/step - loss: 0.3455 - accuracy: 0.9025 - val_loss: 0.3344 - val_accuracy: 0.8719\n",
            "Epoch 3/20\n",
            "30/30 [==============================] - 1s 38ms/step - loss: 0.2408 - accuracy: 0.9275 - val_loss: 0.3274 - val_accuracy: 0.8678\n",
            "Epoch 4/20\n",
            "30/30 [==============================] - 1s 36ms/step - loss: 0.1963 - accuracy: 0.9377 - val_loss: 0.2855 - val_accuracy: 0.8845\n",
            "Epoch 5/20\n",
            "30/30 [==============================] - 1s 43ms/step - loss: 0.1500 - accuracy: 0.9537 - val_loss: 0.2936 - val_accuracy: 0.8801\n",
            "Epoch 6/20\n",
            "30/30 [==============================] - 1s 37ms/step - loss: 0.1233 - accuracy: 0.9624 - val_loss: 0.2982 - val_accuracy: 0.8832\n",
            "Epoch 7/20\n",
            "30/30 [==============================] - 1s 35ms/step - loss: 0.1036 - accuracy: 0.9700 - val_loss: 0.3146 - val_accuracy: 0.8814\n",
            "Epoch 8/20\n",
            "30/30 [==============================] - 1s 35ms/step - loss: 0.0803 - accuracy: 0.9799 - val_loss: 0.3351 - val_accuracy: 0.8785\n",
            "Epoch 9/20\n",
            "30/30 [==============================] - 1s 37ms/step - loss: 0.0714 - accuracy: 0.9815 - val_loss: 0.3762 - val_accuracy: 0.8703\n",
            "Epoch 10/20\n",
            "30/30 [==============================] - 1s 36ms/step - loss: 0.0584 - accuracy: 0.9853 - val_loss: 0.3877 - val_accuracy: 0.8742\n",
            "Epoch 11/20\n",
            "30/30 [==============================] - 1s 42ms/step - loss: 0.0485 - accuracy: 0.9890 - val_loss: 0.4223 - val_accuracy: 0.8707\n",
            "Epoch 12/20\n",
            "30/30 [==============================] - 1s 47ms/step - loss: 0.0413 - accuracy: 0.9914 - val_loss: 0.4930 - val_accuracy: 0.8616\n",
            "Epoch 13/20\n",
            "30/30 [==============================] - 1s 37ms/step - loss: 0.0348 - accuracy: 0.9921 - val_loss: 0.4836 - val_accuracy: 0.8682\n",
            "Epoch 14/20\n",
            "30/30 [==============================] - 1s 36ms/step - loss: 0.0262 - accuracy: 0.9955 - val_loss: 0.5251 - val_accuracy: 0.8660\n",
            "Epoch 15/20\n",
            "30/30 [==============================] - 1s 37ms/step - loss: 0.0209 - accuracy: 0.9968 - val_loss: 0.5502 - val_accuracy: 0.8659\n",
            "Epoch 16/20\n",
            "30/30 [==============================] - 1s 36ms/step - loss: 0.0168 - accuracy: 0.9976 - val_loss: 0.5859 - val_accuracy: 0.8664\n",
            "Epoch 17/20\n",
            "30/30 [==============================] - 1s 36ms/step - loss: 0.0128 - accuracy: 0.9989 - val_loss: 0.6301 - val_accuracy: 0.8642\n",
            "Epoch 18/20\n",
            "30/30 [==============================] - 1s 36ms/step - loss: 0.0103 - accuracy: 0.9992 - val_loss: 0.6592 - val_accuracy: 0.8633\n",
            "Epoch 19/20\n",
            "30/30 [==============================] - 1s 36ms/step - loss: 0.0085 - accuracy: 0.9993 - val_loss: 0.7191 - val_accuracy: 0.8574\n",
            "Epoch 20/20\n",
            "30/30 [==============================] - 2s 51ms/step - loss: 0.0066 - accuracy: 0.9997 - val_loss: 0.7384 - val_accuracy: 0.8593\n"
          ],
          "name": "stdout"
        },
        {
          "output_type": "execute_result",
          "data": {
            "text/plain": [
              "dict_keys(['loss', 'accuracy', 'val_loss', 'val_accuracy'])"
            ]
          },
          "metadata": {
            "tags": []
          },
          "execution_count": 54
        }
      ]
    },
    {
      "cell_type": "code",
      "metadata": {
        "id": "W-kOR6XZA3wV",
        "colab": {
          "base_uri": "https://localhost:8080/",
          "height": 295
        },
        "outputId": "bd9ec5b8-124c-4290-ece7-9c5aac10c524"
      },
      "source": [
        "acc = history.history['accuracy']\n",
        "val_acc = history.history['val_accuracy']\n",
        "loss = history.history['loss']\n",
        "val_loss = history.history['val_loss']\n",
        "\n",
        "epochs = range(1, len(acc) + 1)\n",
        "\n",
        "# \"bo\" is for \"blue dot\"\n",
        "plt.plot(epochs, loss, 'bo', label='Training loss')\n",
        "# b is for \"solid blue line\"\n",
        "plt.plot(epochs, val_loss, 'b', label='Validation loss')\n",
        "plt.title('Training and validation loss')\n",
        "plt.xlabel('Epochs')\n",
        "plt.ylabel('Loss')\n",
        "plt.legend()\n",
        "\n",
        "plt.show()"
      ],
      "execution_count": 55,
      "outputs": [
        {
          "output_type": "display_data",
          "data": {
            "image/png": "[encoded data removed]",
            "text/plain": [
              "<Figure size 432x288 with 1 Axes>"
            ]
          },
          "metadata": {
            "tags": [],
            "needs_background": "light"
          }
        }
      ]
    },
    {
      "cell_type": "code",
      "metadata": {
        "id": "0yNQNgMJA819",
        "colab": {
          "base_uri": "https://localhost:8080/",
          "height": 295
        },
        "outputId": "3dc971a7-ec65-4ff8-e2f7-258759f7e889"
      },
      "source": [
        "plt.clf()   # clear figure\n",
        "acc_values = history_dict['accuracy']\n",
        "val_acc_values = history_dict['val_accuracy']\n",
        "\n",
        "plt.plot(epochs, acc, 'bo', label='Training acc')\n",
        "plt.plot(epochs, val_acc, 'b', label='Validation acc')\n",
        "plt.title('Training and validation accuracy')\n",
        "plt.xlabel('Epochs')\n",
        "plt.ylabel('acc')\n",
        "plt.legend()\n",
        "\n",
        "plt.show()"
      ],
      "execution_count": 56,
      "outputs": [
        {
          "output_type": "display_data",
          "data": {
            "image/png": "[encoded data removed]",
            "text/plain": [
              "<Figure size 432x288 with 1 Axes>"
            ]
          },
          "metadata": {
            "tags": [],
            "needs_background": "light"
          }
        }
      ]
    },
    {
      "cell_type": "markdown",
      "metadata": {
        "id": "Pvt7pAB-BCbi"
      },
      "source": [
        "#Freq features\n",
        "\n",
        "\n",
        "\n"
      ]
    },
    {
      "cell_type": "code",
      "metadata": {
        "id": "7hrkxc7PBtTL"
      },
      "source": [
        "'''\n",
        "trn_texts,trn_labels = get_texts(PATH/'train')\n",
        "tst_texts,tst_labels = get_texts(PATH/'test')\n",
        "\n",
        "trn_texts = normalize_corpus(trn_texts)\n",
        "tst_texts = normalize_corpus(tst_texts)\n",
        "\n",
        "vocab_sz = 10000\n",
        "tok = Tokenizer(num_words=vocab_sz, oov_token='UNK')\n",
        "tok.fit_on_texts(trn_texts + tst_texts)\n",
        "#vocab_sz = len(tok.word_index)\n",
        "'''\n",
        "# Extract binary BoW features\n",
        "x_train = tok.texts_to_matrix(trn_texts, mode='freq')\n",
        "x_test = tok.texts_to_matrix(tst_texts, mode='freq')\n",
        "y_train = np.asarray(trn_labels).astype('float32')\n",
        "y_test = np.asarray(tst_labels).astype('float32')\n",
        "\n",
        "x_train, x_val, y_train, y_val = train_test_split(x_train, y_train, test_size=0.4, random_state=42)"
      ],
      "execution_count": 57,
      "outputs": []
    },
    {
      "cell_type": "code",
      "metadata": {
        "id": "THXO2OMfCPRJ",
        "colab": {
          "base_uri": "https://localhost:8080/"
        },
        "outputId": "386449bc-3c69-4ef3-b49d-764b919c2add"
      },
      "source": [
        "x_train"
      ],
      "execution_count": 58,
      "outputs": [
        {
          "output_type": "execute_result",
          "data": {
            "text/plain": [
              "array([[0.        , 0.1125    , 0.05      , ..., 0.        , 0.        ,\n",
              "        0.        ],\n",
              "       [0.        , 0.05714286, 0.01428571, ..., 0.        , 0.        ,\n",
              "        0.        ],\n",
              "       [0.        , 0.11009174, 0.00917431, ..., 0.        , 0.        ,\n",
              "        0.        ],\n",
              "       ...,\n",
              "       [0.        , 0.02777778, 0.01388889, ..., 0.        , 0.        ,\n",
              "        0.        ],\n",
              "       [0.        , 0.03333333, 0.        , ..., 0.        , 0.        ,\n",
              "        0.        ],\n",
              "       [0.        , 0.04      , 0.08      , ..., 0.        , 0.        ,\n",
              "        0.        ]])"
            ]
          },
          "metadata": {
            "tags": []
          },
          "execution_count": 58
        }
      ]
    },
    {
      "cell_type": "code",
      "metadata": {
        "id": "SO4HyP-GCUoX",
        "colab": {
          "base_uri": "https://localhost:8080/"
        },
        "outputId": "a8d2e1b5-2f6c-404e-c611-c7f80ccfe7ec"
      },
      "source": [
        "model = models.Sequential()\n",
        "model.add(layers.Dense(16, activation='relu', input_shape=(vocab_size,)))\n",
        "model.add(layers.Dense(16, activation='relu'))\n",
        "model.add(layers.Dense(1, activation='sigmoid'))\n",
        "\n",
        "model.compile(optimizer='rmsprop',\n",
        "             loss='binary_crossentropy',\n",
        "             metrics='accuracy')\n",
        "\t\t\t  \n",
        "history = model.fit(x_train,\n",
        "                    y_train,\n",
        "                    epochs=20,\n",
        "                    batch_size=512,\n",
        "                    validation_data=(x_val, y_val))\n",
        "\n",
        "history_dict = history.history\n",
        "history_dict.keys()"
      ],
      "execution_count": 59,
      "outputs": [
        {
          "output_type": "stream",
          "text": [
            "Epoch 1/20\n",
            "30/30 [==============================] - 3s 61ms/step - loss: 0.6906 - accuracy: 0.5719 - val_loss: 0.6811 - val_accuracy: 0.8044\n",
            "Epoch 2/20\n",
            "30/30 [==============================] - 1s 36ms/step - loss: 0.6760 - accuracy: 0.8063 - val_loss: 0.6632 - val_accuracy: 0.8031\n",
            "Epoch 3/20\n",
            "30/30 [==============================] - 1s 36ms/step - loss: 0.6556 - accuracy: 0.8264 - val_loss: 0.6388 - val_accuracy: 0.8185\n",
            "Epoch 4/20\n",
            "30/30 [==============================] - 1s 35ms/step - loss: 0.6271 - accuracy: 0.8372 - val_loss: 0.6089 - val_accuracy: 0.8226\n",
            "Epoch 5/20\n",
            "30/30 [==============================] - 1s 36ms/step - loss: 0.5934 - accuracy: 0.8421 - val_loss: 0.5750 - val_accuracy: 0.8275\n",
            "Epoch 6/20\n",
            "30/30 [==============================] - 1s 36ms/step - loss: 0.5548 - accuracy: 0.8569 - val_loss: 0.5384 - val_accuracy: 0.8339\n",
            "Epoch 7/20\n",
            "30/30 [==============================] - 1s 44ms/step - loss: 0.5155 - accuracy: 0.8621 - val_loss: 0.5015 - val_accuracy: 0.8405\n",
            "Epoch 8/20\n",
            "30/30 [==============================] - 1s 37ms/step - loss: 0.4705 - accuracy: 0.8731 - val_loss: 0.4656 - val_accuracy: 0.8482\n",
            "Epoch 9/20\n",
            "30/30 [==============================] - 1s 37ms/step - loss: 0.4382 - accuracy: 0.8747 - val_loss: 0.4336 - val_accuracy: 0.8534\n",
            "Epoch 10/20\n",
            "30/30 [==============================] - 1s 42ms/step - loss: 0.3986 - accuracy: 0.8834 - val_loss: 0.4040 - val_accuracy: 0.8602\n",
            "Epoch 11/20\n",
            "30/30 [==============================] - 1s 37ms/step - loss: 0.3688 - accuracy: 0.8871 - val_loss: 0.3781 - val_accuracy: 0.8660\n",
            "Epoch 12/20\n",
            "30/30 [==============================] - 1s 41ms/step - loss: 0.3389 - accuracy: 0.8964 - val_loss: 0.3566 - val_accuracy: 0.8714\n",
            "Epoch 13/20\n",
            "30/30 [==============================] - 1s 39ms/step - loss: 0.3184 - accuracy: 0.9000 - val_loss: 0.3389 - val_accuracy: 0.8734\n",
            "Epoch 14/20\n",
            "30/30 [==============================] - 2s 56ms/step - loss: 0.2937 - accuracy: 0.9021 - val_loss: 0.3249 - val_accuracy: 0.8745\n",
            "Epoch 15/20\n",
            "30/30 [==============================] - 1s 41ms/step - loss: 0.2738 - accuracy: 0.9100 - val_loss: 0.3124 - val_accuracy: 0.8774\n",
            "Epoch 16/20\n",
            "30/30 [==============================] - 1s 36ms/step - loss: 0.2604 - accuracy: 0.9097 - val_loss: 0.3024 - val_accuracy: 0.8787\n",
            "Epoch 17/20\n",
            "30/30 [==============================] - 1s 35ms/step - loss: 0.2453 - accuracy: 0.9167 - val_loss: 0.2946 - val_accuracy: 0.8795\n",
            "Epoch 18/20\n",
            "30/30 [==============================] - 1s 35ms/step - loss: 0.2307 - accuracy: 0.9212 - val_loss: 0.2901 - val_accuracy: 0.8797\n",
            "Epoch 19/20\n",
            "30/30 [==============================] - 1s 35ms/step - loss: 0.2246 - accuracy: 0.9228 - val_loss: 0.2863 - val_accuracy: 0.8812\n",
            "Epoch 20/20\n",
            "30/30 [==============================] - 1s 35ms/step - loss: 0.2086 - accuracy: 0.9284 - val_loss: 0.2815 - val_accuracy: 0.8832\n"
          ],
          "name": "stdout"
        },
        {
          "output_type": "execute_result",
          "data": {
            "text/plain": [
              "dict_keys(['loss', 'accuracy', 'val_loss', 'val_accuracy'])"
            ]
          },
          "metadata": {
            "tags": []
          },
          "execution_count": 59
        }
      ]
    },
    {
      "cell_type": "code",
      "metadata": {
        "id": "l12DdVmtCYxr",
        "colab": {
          "base_uri": "https://localhost:8080/",
          "height": 295
        },
        "outputId": "40b207e3-68eb-4831-d1f4-cbd3c631a335"
      },
      "source": [
        "\n",
        "acc = history.history['accuracy']\n",
        "val_acc = history.history['val_accuracy']\n",
        "loss = history.history['loss']\n",
        "val_loss = history.history['val_loss']\n",
        "\n",
        "epochs = range(1, len(acc) + 1)\n",
        "\n",
        "# \"bo\" is for \"blue dot\"\n",
        "plt.plot(epochs, loss, 'bo', label='Training loss')\n",
        "# b is for \"solid blue line\"\n",
        "plt.plot(epochs, val_loss, 'b', label='Validation loss')\n",
        "plt.title('Training and validation loss')\n",
        "plt.xlabel('Epochs')\n",
        "plt.ylabel('Loss')\n",
        "plt.legend()\n",
        "\n",
        "plt.show()"
      ],
      "execution_count": 60,
      "outputs": [
        {
          "output_type": "display_data",
          "data": {
            "image/png": "[encoded data removed]",
            "text/plain": [
              "<Figure size 432x288 with 1 Axes>"
            ]
          },
          "metadata": {
            "tags": [],
            "needs_background": "light"
          }
        }
      ]
    },
    {
      "cell_type": "code",
      "metadata": {
        "id": "r3xneG91CiFY",
        "colab": {
          "base_uri": "https://localhost:8080/",
          "height": 295
        },
        "outputId": "73744ccf-e36e-4f48-d455-33cc5a7eb75c"
      },
      "source": [
        "plt.clf()   # clear figure\n",
        "acc_values = history_dict['accuracy']\n",
        "val_acc_values = history_dict['val_accuracy']\n",
        "\n",
        "plt.plot(epochs, acc, 'bo', label='Training acc')\n",
        "plt.plot(epochs, val_acc, 'b', label='Validation acc')\n",
        "plt.title('Training and validation accuracy')\n",
        "plt.xlabel('Epochs')\n",
        "plt.ylabel('acc')\n",
        "plt.legend()\n",
        "\n",
        "plt.show()"
      ],
      "execution_count": 61,
      "outputs": [
        {
          "output_type": "display_data",
          "data": {
            "image/png": "[encoded data removed]",
            "text/plain": [
              "<Figure size 432x288 with 1 Axes>"
            ]
          },
          "metadata": {
            "tags": [],
            "needs_background": "light"
          }
        }
      ]
    }
  ]
}